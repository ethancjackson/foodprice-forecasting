{
 "cells": [
  {
   "cell_type": "markdown",
   "id": "4191bf19-dfac-40e5-b5e0-322d29fa3398",
   "metadata": {},
   "source": [
    "## Generate retrospective forecasts using NeuralProphet\n",
    "\n",
    "Use NeuralProphet to generate retrospective forecasts."
   ]
  },
  {
   "cell_type": "code",
   "execution_count": 1,
   "id": "constant-slope",
   "metadata": {
    "executionInfo": {
     "elapsed": 278,
     "status": "ok",
     "timestamp": 1634587049355,
     "user": {
      "displayName": "Ethan Jackson",
      "photoUrl": "https://lh3.googleusercontent.com/a-/AOh14Gj0sN-qIkLWaD3gNaMMx-oLuegd5o3MGlU94qG9IQ=s64",
      "userId": "16234263294244605206"
     },
     "user_tz": 240
    },
    "id": "be47811d-c45c-4945-94b3-4ce5e981ead4"
   },
   "outputs": [],
   "source": [
    "import pandas as pd\n",
    "pd.set_option('precision', 3)\n",
    "\n",
    "import matplotlib.pyplot as plt\n",
    "import matplotlib.patches as mpatches\n",
    "from matplotlib.lines import Line2D\n",
    "from matplotlib.patches import Patch\n",
    "\n",
    "import numpy as np\n",
    "from sklearn.metrics import r2_score, mean_absolute_error, mean_squared_error, mean_absolute_percentage_error\n",
    "\n",
    "import os\n",
    "\n",
    "from neuralprophet import NeuralProphet\n",
    "from sklearn.model_selection import ParameterGrid\n"
   ]
  },
  {
   "cell_type": "code",
   "execution_count": 2,
   "id": "indie-development",
   "metadata": {
    "executionInfo": {
     "elapsed": 172,
     "status": "ok",
     "timestamp": 1634576168321,
     "user": {
      "displayName": "Ethan Jackson",
      "photoUrl": "https://lh3.googleusercontent.com/a-/AOh14Gj0sN-qIkLWaD3gNaMMx-oLuegd5o3MGlU94qG9IQ=s64",
      "userId": "16234263294244605206"
     },
     "user_tz": 240
    },
    "id": "a3fd51aa-3046-46a9-af80-7d95c28dd3a3"
   },
   "outputs": [],
   "source": [
    "\"\"\"\n",
    "Set sample rate. In this notebook, all data will be resampled at the chosen frequency.\n",
    "'MS' : Monthly (Month Start)\n",
    "'W' : Weekly\n",
    "'D' : Daily\n",
    "\"\"\"\n",
    "\n",
    "year_period = {'MS': 12, 'W': 52, 'D': 365}\n",
    "frequency = 'MS'\n",
    "one_year = year_period[frequency]"
   ]
  },
  {
   "cell_type": "markdown",
   "id": "furnished-spelling",
   "metadata": {
    "id": "1611d765-10f6-42c1-a137-8ff7f3d0fbed"
   },
   "source": [
    "## Load Data From Files\n",
    "Be sure to run `load_data.ipynb` to produce the data file `all_data.csv`"
   ]
  },
  {
   "cell_type": "code",
   "execution_count": 3,
   "id": "contained-bhutan",
   "metadata": {},
   "outputs": [
    {
     "data": {
      "text/html": [
       "<div>\n",
       "<style scoped>\n",
       "    .dataframe tbody tr th:only-of-type {\n",
       "        vertical-align: middle;\n",
       "    }\n",
       "\n",
       "    .dataframe tbody tr th {\n",
       "        vertical-align: top;\n",
       "    }\n",
       "\n",
       "    .dataframe thead th {\n",
       "        text-align: right;\n",
       "    }\n",
       "</style>\n",
       "<table border=\"1\" class=\"dataframe\">\n",
       "  <thead>\n",
       "    <tr style=\"text-align: right;\">\n",
       "      <th></th>\n",
       "      <th>Bakery and cereal products (excluding baby food)</th>\n",
       "      <th>Dairy products and eggs</th>\n",
       "      <th>Fish, seafood and other marine products</th>\n",
       "      <th>Food purchased from restaurants</th>\n",
       "      <th>Food</th>\n",
       "      <th>Fruit, fruit preparations and nuts</th>\n",
       "      <th>Meat</th>\n",
       "      <th>Other food products and non-alcoholic beverages</th>\n",
       "      <th>Vegetables and vegetable preparations</th>\n",
       "      <th>DEXCAUS</th>\n",
       "      <th>...</th>\n",
       "      <th>XTIMVA01CAM657S</th>\n",
       "      <th>XTIMVA01CAM659S</th>\n",
       "      <th>XTIMVA01CAM664N</th>\n",
       "      <th>XTIMVA01CAM664S</th>\n",
       "      <th>XTIMVA01CAM667S</th>\n",
       "      <th>XTNTVA01CAM664N</th>\n",
       "      <th>XTNTVA01CAM664S</th>\n",
       "      <th>XTNTVA01CAM667S</th>\n",
       "      <th>TOTALNS</th>\n",
       "      <th>TOTALSL</th>\n",
       "    </tr>\n",
       "  </thead>\n",
       "  <tbody>\n",
       "    <tr>\n",
       "      <th>1986-01-01</th>\n",
       "      <td>69.3</td>\n",
       "      <td>70.9</td>\n",
       "      <td>60.6</td>\n",
       "      <td>59.1</td>\n",
       "      <td>67.3</td>\n",
       "      <td>76.0</td>\n",
       "      <td>65.1</td>\n",
       "      <td>77.5</td>\n",
       "      <td>76.0</td>\n",
       "      <td>1.392</td>\n",
       "      <td>...</td>\n",
       "      <td>3.644</td>\n",
       "      <td>12.051</td>\n",
       "      <td>9.368e+09</td>\n",
       "      <td>9.496e+09</td>\n",
       "      <td>6.749e+09</td>\n",
       "      <td>6.906e+08</td>\n",
       "      <td>1.052e+09</td>\n",
       "      <td>7.479e+08</td>\n",
       "      <td>607.369</td>\n",
       "      <td>605.703</td>\n",
       "    </tr>\n",
       "    <tr>\n",
       "      <th>1986-02-01</th>\n",
       "      <td>70.3</td>\n",
       "      <td>70.8</td>\n",
       "      <td>61.3</td>\n",
       "      <td>59.1</td>\n",
       "      <td>66.9</td>\n",
       "      <td>77.6</td>\n",
       "      <td>64.2</td>\n",
       "      <td>78.1</td>\n",
       "      <td>68.4</td>\n",
       "      <td>1.392</td>\n",
       "      <td>...</td>\n",
       "      <td>1.965</td>\n",
       "      <td>16.745</td>\n",
       "      <td>9.495e+09</td>\n",
       "      <td>9.632e+09</td>\n",
       "      <td>6.881e+09</td>\n",
       "      <td>-9.880e+07</td>\n",
       "      <td>1.539e+08</td>\n",
       "      <td>1.099e+08</td>\n",
       "      <td>605.807</td>\n",
       "      <td>610.678</td>\n",
       "    </tr>\n",
       "    <tr>\n",
       "      <th>1986-03-01</th>\n",
       "      <td>70.6</td>\n",
       "      <td>71.1</td>\n",
       "      <td>61.3</td>\n",
       "      <td>59.3</td>\n",
       "      <td>67.0</td>\n",
       "      <td>79.2</td>\n",
       "      <td>64.2</td>\n",
       "      <td>78.6</td>\n",
       "      <td>66.2</td>\n",
       "      <td>1.392</td>\n",
       "      <td>...</td>\n",
       "      <td>-11.565</td>\n",
       "      <td>1.655</td>\n",
       "      <td>8.803e+09</td>\n",
       "      <td>8.529e+09</td>\n",
       "      <td>6.085e+09</td>\n",
       "      <td>9.138e+08</td>\n",
       "      <td>9.079e+08</td>\n",
       "      <td>6.478e+08</td>\n",
       "      <td>606.799</td>\n",
       "      <td>613.377</td>\n",
       "    </tr>\n",
       "    <tr>\n",
       "      <th>1986-04-01</th>\n",
       "      <td>71.3</td>\n",
       "      <td>71.0</td>\n",
       "      <td>61.4</td>\n",
       "      <td>59.7</td>\n",
       "      <td>67.7</td>\n",
       "      <td>82.2</td>\n",
       "      <td>63.6</td>\n",
       "      <td>79.5</td>\n",
       "      <td>71.1</td>\n",
       "      <td>1.392</td>\n",
       "      <td>...</td>\n",
       "      <td>13.334</td>\n",
       "      <td>10.821</td>\n",
       "      <td>1.034e+10</td>\n",
       "      <td>9.569e+09</td>\n",
       "      <td>6.897e+09</td>\n",
       "      <td>3.470e+08</td>\n",
       "      <td>6.563e+08</td>\n",
       "      <td>4.730e+08</td>\n",
       "      <td>614.367</td>\n",
       "      <td>619.658</td>\n",
       "    </tr>\n",
       "    <tr>\n",
       "      <th>1986-05-01</th>\n",
       "      <td>71.2</td>\n",
       "      <td>71.4</td>\n",
       "      <td>61.9</td>\n",
       "      <td>59.9</td>\n",
       "      <td>68.2</td>\n",
       "      <td>83.5</td>\n",
       "      <td>64.0</td>\n",
       "      <td>79.8</td>\n",
       "      <td>75.3</td>\n",
       "      <td>1.377</td>\n",
       "      <td>...</td>\n",
       "      <td>-4.236</td>\n",
       "      <td>6.160</td>\n",
       "      <td>9.598e+09</td>\n",
       "      <td>9.091e+09</td>\n",
       "      <td>6.605e+09</td>\n",
       "      <td>7.013e+08</td>\n",
       "      <td>6.893e+08</td>\n",
       "      <td>5.008e+08</td>\n",
       "      <td>621.915</td>\n",
       "      <td>625.820</td>\n",
       "    </tr>\n",
       "    <tr>\n",
       "      <th>...</th>\n",
       "      <td>...</td>\n",
       "      <td>...</td>\n",
       "      <td>...</td>\n",
       "      <td>...</td>\n",
       "      <td>...</td>\n",
       "      <td>...</td>\n",
       "      <td>...</td>\n",
       "      <td>...</td>\n",
       "      <td>...</td>\n",
       "      <td>...</td>\n",
       "      <td>...</td>\n",
       "      <td>...</td>\n",
       "      <td>...</td>\n",
       "      <td>...</td>\n",
       "      <td>...</td>\n",
       "      <td>...</td>\n",
       "      <td>...</td>\n",
       "      <td>...</td>\n",
       "      <td>...</td>\n",
       "      <td>...</td>\n",
       "      <td>...</td>\n",
       "    </tr>\n",
       "    <tr>\n",
       "      <th>2021-06-01</th>\n",
       "      <td>157.7</td>\n",
       "      <td>145.3</td>\n",
       "      <td>146.2</td>\n",
       "      <td>163.9</td>\n",
       "      <td>156.8</td>\n",
       "      <td>144.5</td>\n",
       "      <td>176.7</td>\n",
       "      <td>142.2</td>\n",
       "      <td>153.4</td>\n",
       "      <td>1.203</td>\n",
       "      <td>...</td>\n",
       "      <td>-1.087</td>\n",
       "      <td>31.561</td>\n",
       "      <td>5.159e+10</td>\n",
       "      <td>4.979e+10</td>\n",
       "      <td>4.075e+10</td>\n",
       "      <td>3.661e+09</td>\n",
       "      <td>3.111e+09</td>\n",
       "      <td>2.546e+09</td>\n",
       "      <td>4259.604</td>\n",
       "      <td>4307.137</td>\n",
       "    </tr>\n",
       "    <tr>\n",
       "      <th>2021-07-01</th>\n",
       "      <td>157.9</td>\n",
       "      <td>146.4</td>\n",
       "      <td>146.6</td>\n",
       "      <td>165.2</td>\n",
       "      <td>157.6</td>\n",
       "      <td>141.7</td>\n",
       "      <td>180.9</td>\n",
       "      <td>141.9</td>\n",
       "      <td>154.8</td>\n",
       "      <td>1.240</td>\n",
       "      <td>...</td>\n",
       "      <td>1.990</td>\n",
       "      <td>18.580</td>\n",
       "      <td>5.106e+10</td>\n",
       "      <td>5.205e+10</td>\n",
       "      <td>4.156e+10</td>\n",
       "      <td>3.780e+08</td>\n",
       "      <td>1.129e+09</td>\n",
       "      <td>9.018e+08</td>\n",
       "      <td>4276.202</td>\n",
       "      <td>4323.730</td>\n",
       "    </tr>\n",
       "    <tr>\n",
       "      <th>2021-08-01</th>\n",
       "      <td>158.5</td>\n",
       "      <td>148.3</td>\n",
       "      <td>146.8</td>\n",
       "      <td>165.9</td>\n",
       "      <td>158.0</td>\n",
       "      <td>142.5</td>\n",
       "      <td>182.1</td>\n",
       "      <td>141.7</td>\n",
       "      <td>152.2</td>\n",
       "      <td>1.251</td>\n",
       "      <td>...</td>\n",
       "      <td>-2.312</td>\n",
       "      <td>14.723</td>\n",
       "      <td>5.245e+10</td>\n",
       "      <td>5.115e+10</td>\n",
       "      <td>4.060e+10</td>\n",
       "      <td>1.300e+09</td>\n",
       "      <td>2.674e+09</td>\n",
       "      <td>2.123e+09</td>\n",
       "      <td>4316.303</td>\n",
       "      <td>4337.489</td>\n",
       "    </tr>\n",
       "    <tr>\n",
       "      <th>2021-09-01</th>\n",
       "      <td>158.1</td>\n",
       "      <td>148.0</td>\n",
       "      <td>147.1</td>\n",
       "      <td>165.9</td>\n",
       "      <td>158.5</td>\n",
       "      <td>141.5</td>\n",
       "      <td>184.8</td>\n",
       "      <td>144.3</td>\n",
       "      <td>150.0</td>\n",
       "      <td>1.262</td>\n",
       "      <td>...</td>\n",
       "      <td>-3.461</td>\n",
       "      <td>8.557</td>\n",
       "      <td>5.080e+10</td>\n",
       "      <td>4.965e+10</td>\n",
       "      <td>3.920e+10</td>\n",
       "      <td>1.561e+09</td>\n",
       "      <td>2.277e+09</td>\n",
       "      <td>1.798e+09</td>\n",
       "      <td>4346.662</td>\n",
       "      <td>4367.402</td>\n",
       "    </tr>\n",
       "    <tr>\n",
       "      <th>2021-10-01</th>\n",
       "      <td>159.3</td>\n",
       "      <td>146.6</td>\n",
       "      <td>149.3</td>\n",
       "      <td>167.1</td>\n",
       "      <td>159.2</td>\n",
       "      <td>141.7</td>\n",
       "      <td>187.1</td>\n",
       "      <td>144.4</td>\n",
       "      <td>149.4</td>\n",
       "      <td>1.266</td>\n",
       "      <td>...</td>\n",
       "      <td>-3.461</td>\n",
       "      <td>8.557</td>\n",
       "      <td>5.080e+10</td>\n",
       "      <td>4.965e+10</td>\n",
       "      <td>3.920e+10</td>\n",
       "      <td>1.561e+09</td>\n",
       "      <td>2.277e+09</td>\n",
       "      <td>1.798e+09</td>\n",
       "      <td>4346.662</td>\n",
       "      <td>4367.402</td>\n",
       "    </tr>\n",
       "  </tbody>\n",
       "</table>\n",
       "<p>430 rows × 332 columns</p>\n",
       "</div>"
      ],
      "text/plain": [
       "            Bakery and cereal products (excluding baby food)  \\\n",
       "1986-01-01                                              69.3   \n",
       "1986-02-01                                              70.3   \n",
       "1986-03-01                                              70.6   \n",
       "1986-04-01                                              71.3   \n",
       "1986-05-01                                              71.2   \n",
       "...                                                      ...   \n",
       "2021-06-01                                             157.7   \n",
       "2021-07-01                                             157.9   \n",
       "2021-08-01                                             158.5   \n",
       "2021-09-01                                             158.1   \n",
       "2021-10-01                                             159.3   \n",
       "\n",
       "            Dairy products and eggs  Fish, seafood and other marine products  \\\n",
       "1986-01-01                     70.9                                     60.6   \n",
       "1986-02-01                     70.8                                     61.3   \n",
       "1986-03-01                     71.1                                     61.3   \n",
       "1986-04-01                     71.0                                     61.4   \n",
       "1986-05-01                     71.4                                     61.9   \n",
       "...                             ...                                      ...   \n",
       "2021-06-01                    145.3                                    146.2   \n",
       "2021-07-01                    146.4                                    146.6   \n",
       "2021-08-01                    148.3                                    146.8   \n",
       "2021-09-01                    148.0                                    147.1   \n",
       "2021-10-01                    146.6                                    149.3   \n",
       "\n",
       "            Food purchased from restaurants   Food  \\\n",
       "1986-01-01                             59.1   67.3   \n",
       "1986-02-01                             59.1   66.9   \n",
       "1986-03-01                             59.3   67.0   \n",
       "1986-04-01                             59.7   67.7   \n",
       "1986-05-01                             59.9   68.2   \n",
       "...                                     ...    ...   \n",
       "2021-06-01                            163.9  156.8   \n",
       "2021-07-01                            165.2  157.6   \n",
       "2021-08-01                            165.9  158.0   \n",
       "2021-09-01                            165.9  158.5   \n",
       "2021-10-01                            167.1  159.2   \n",
       "\n",
       "            Fruit, fruit preparations and nuts   Meat  \\\n",
       "1986-01-01                                76.0   65.1   \n",
       "1986-02-01                                77.6   64.2   \n",
       "1986-03-01                                79.2   64.2   \n",
       "1986-04-01                                82.2   63.6   \n",
       "1986-05-01                                83.5   64.0   \n",
       "...                                        ...    ...   \n",
       "2021-06-01                               144.5  176.7   \n",
       "2021-07-01                               141.7  180.9   \n",
       "2021-08-01                               142.5  182.1   \n",
       "2021-09-01                               141.5  184.8   \n",
       "2021-10-01                               141.7  187.1   \n",
       "\n",
       "            Other food products and non-alcoholic beverages  \\\n",
       "1986-01-01                                             77.5   \n",
       "1986-02-01                                             78.1   \n",
       "1986-03-01                                             78.6   \n",
       "1986-04-01                                             79.5   \n",
       "1986-05-01                                             79.8   \n",
       "...                                                     ...   \n",
       "2021-06-01                                            142.2   \n",
       "2021-07-01                                            141.9   \n",
       "2021-08-01                                            141.7   \n",
       "2021-09-01                                            144.3   \n",
       "2021-10-01                                            144.4   \n",
       "\n",
       "            Vegetables and vegetable preparations  DEXCAUS  ...  \\\n",
       "1986-01-01                                   76.0    1.392  ...   \n",
       "1986-02-01                                   68.4    1.392  ...   \n",
       "1986-03-01                                   66.2    1.392  ...   \n",
       "1986-04-01                                   71.1    1.392  ...   \n",
       "1986-05-01                                   75.3    1.377  ...   \n",
       "...                                           ...      ...  ...   \n",
       "2021-06-01                                  153.4    1.203  ...   \n",
       "2021-07-01                                  154.8    1.240  ...   \n",
       "2021-08-01                                  152.2    1.251  ...   \n",
       "2021-09-01                                  150.0    1.262  ...   \n",
       "2021-10-01                                  149.4    1.266  ...   \n",
       "\n",
       "            XTIMVA01CAM657S  XTIMVA01CAM659S  XTIMVA01CAM664N  \\\n",
       "1986-01-01            3.644           12.051        9.368e+09   \n",
       "1986-02-01            1.965           16.745        9.495e+09   \n",
       "1986-03-01          -11.565            1.655        8.803e+09   \n",
       "1986-04-01           13.334           10.821        1.034e+10   \n",
       "1986-05-01           -4.236            6.160        9.598e+09   \n",
       "...                     ...              ...              ...   \n",
       "2021-06-01           -1.087           31.561        5.159e+10   \n",
       "2021-07-01            1.990           18.580        5.106e+10   \n",
       "2021-08-01           -2.312           14.723        5.245e+10   \n",
       "2021-09-01           -3.461            8.557        5.080e+10   \n",
       "2021-10-01           -3.461            8.557        5.080e+10   \n",
       "\n",
       "            XTIMVA01CAM664S  XTIMVA01CAM667S  XTNTVA01CAM664N  \\\n",
       "1986-01-01        9.496e+09        6.749e+09        6.906e+08   \n",
       "1986-02-01        9.632e+09        6.881e+09       -9.880e+07   \n",
       "1986-03-01        8.529e+09        6.085e+09        9.138e+08   \n",
       "1986-04-01        9.569e+09        6.897e+09        3.470e+08   \n",
       "1986-05-01        9.091e+09        6.605e+09        7.013e+08   \n",
       "...                     ...              ...              ...   \n",
       "2021-06-01        4.979e+10        4.075e+10        3.661e+09   \n",
       "2021-07-01        5.205e+10        4.156e+10        3.780e+08   \n",
       "2021-08-01        5.115e+10        4.060e+10        1.300e+09   \n",
       "2021-09-01        4.965e+10        3.920e+10        1.561e+09   \n",
       "2021-10-01        4.965e+10        3.920e+10        1.561e+09   \n",
       "\n",
       "            XTNTVA01CAM664S  XTNTVA01CAM667S   TOTALNS   TOTALSL  \n",
       "1986-01-01        1.052e+09        7.479e+08   607.369   605.703  \n",
       "1986-02-01        1.539e+08        1.099e+08   605.807   610.678  \n",
       "1986-03-01        9.079e+08        6.478e+08   606.799   613.377  \n",
       "1986-04-01        6.563e+08        4.730e+08   614.367   619.658  \n",
       "1986-05-01        6.893e+08        5.008e+08   621.915   625.820  \n",
       "...                     ...              ...       ...       ...  \n",
       "2021-06-01        3.111e+09        2.546e+09  4259.604  4307.137  \n",
       "2021-07-01        1.129e+09        9.018e+08  4276.202  4323.730  \n",
       "2021-08-01        2.674e+09        2.123e+09  4316.303  4337.489  \n",
       "2021-09-01        2.277e+09        1.798e+09  4346.662  4367.402  \n",
       "2021-10-01        2.277e+09        1.798e+09  4346.662  4367.402  \n",
       "\n",
       "[430 rows x 332 columns]"
      ]
     },
     "execution_count": 3,
     "metadata": {},
     "output_type": "execute_result"
    }
   ],
   "source": [
    "foodprice_categories = pd.read_csv(\"./foodprice_categories.txt\", sep='\\n', header=None)[0].to_list()\n",
    "foodprice_df = pd.read_csv(\"./all_data.csv.bak\", index_col=0)\n",
    "foodprice_df = foodprice_df.set_index(pd.DatetimeIndex(foodprice_df.index))\n",
    "foodprice_df"
   ]
  },
  {
   "cell_type": "markdown",
   "id": "refined-category",
   "metadata": {
    "id": "a736153c-3cbe-4aa9-a5fd-9128f8e64328"
   },
   "source": [
    "## Experiment Setup"
   ]
  },
  {
   "cell_type": "code",
   "execution_count": 4,
   "id": "impressed-timothy",
   "metadata": {
    "executionInfo": {
     "elapsed": 7,
     "status": "ok",
     "timestamp": 1634576186291,
     "user": {
      "displayName": "Ethan Jackson",
      "photoUrl": "https://lh3.googleusercontent.com/a-/AOh14Gj0sN-qIkLWaD3gNaMMx-oLuegd5o3MGlU94qG9IQ=s64",
      "userId": "16234263294244605206"
     },
     "user_tz": 240
    },
    "id": "2Bhnlqfti1L4"
   },
   "outputs": [
    {
     "data": {
      "text/plain": [
       "['2015-07-01',\n",
       " '2016-07-01',\n",
       " '2017-07-01',\n",
       " '2018-07-01',\n",
       " '2019-07-01',\n",
       " '2020-07-01']"
      ]
     },
     "execution_count": 4,
     "metadata": {},
     "output_type": "execute_result"
    }
   ],
   "source": [
    "report_sim_dates = pd.read_csv(\"./reportsimdates.txt\", sep='\\n', header=None)[0].to_list()\n",
    "report_sim_dates"
   ]
  },
  {
   "cell_type": "code",
   "execution_count": 5,
   "id": "mechanical-party",
   "metadata": {
    "executionInfo": {
     "elapsed": 6,
     "status": "ok",
     "timestamp": 1634576186292,
     "user": {
      "displayName": "Ethan Jackson",
      "photoUrl": "https://lh3.googleusercontent.com/a-/AOh14Gj0sN-qIkLWaD3gNaMMx-oLuegd5o3MGlU94qG9IQ=s64",
      "userId": "16234263294244605206"
     },
     "user_tz": 240
    },
    "id": "392debaa-e8b0-4eb8-ad2a-b5e35dd700ec"
   },
   "outputs": [],
   "source": [
    "sim_train_dates = {}\n",
    "sim_valid_dates = {}\n",
    "\n",
    "for date in report_sim_dates:\n",
    "    sim_train_dates[date] = foodprice_df.index[foodprice_df.index <= date]\n",
    "    sim_valid_dates[date] = foodprice_df.index[(foodprice_df.index > date) & (foodprice_df.index <= (pd.to_datetime(date) + pd.DateOffset(months=18)))]"
   ]
  },
  {
   "cell_type": "code",
   "execution_count": 6,
   "id": "cognitive-skiing",
   "metadata": {
    "colab": {
     "base_uri": "https://localhost:8080/",
     "height": 763
    },
    "executionInfo": {
     "elapsed": 235,
     "status": "ok",
     "timestamp": 1634582516688,
     "user": {
      "displayName": "Ethan Jackson",
      "photoUrl": "https://lh3.googleusercontent.com/a-/AOh14Gj0sN-qIkLWaD3gNaMMx-oLuegd5o3MGlU94qG9IQ=s64",
      "userId": "16234263294244605206"
     },
     "user_tz": 240
    },
    "id": "rnXtQCgEs2H3",
    "outputId": "1feeb6df-76e5-4c1d-ff6f-da615ab3a158"
   },
   "outputs": [
    {
     "data": {
      "text/html": [
       "<div>\n",
       "<style scoped>\n",
       "    .dataframe tbody tr th:only-of-type {\n",
       "        vertical-align: middle;\n",
       "    }\n",
       "\n",
       "    .dataframe tbody tr th {\n",
       "        vertical-align: top;\n",
       "    }\n",
       "\n",
       "    .dataframe thead th {\n",
       "        text-align: right;\n",
       "    }\n",
       "</style>\n",
       "<table border=\"1\" class=\"dataframe\">\n",
       "  <thead>\n",
       "    <tr style=\"text-align: right;\">\n",
       "      <th></th>\n",
       "      <th>1986-01-01</th>\n",
       "      <th>1986-02-01</th>\n",
       "      <th>1986-03-01</th>\n",
       "      <th>1986-04-01</th>\n",
       "      <th>1986-05-01</th>\n",
       "      <th>1986-06-01</th>\n",
       "      <th>1986-07-01</th>\n",
       "      <th>1986-08-01</th>\n",
       "      <th>1986-09-01</th>\n",
       "      <th>1986-10-01</th>\n",
       "      <th>...</th>\n",
       "      <th>2021-01-01</th>\n",
       "      <th>2021-02-01</th>\n",
       "      <th>2021-03-01</th>\n",
       "      <th>2021-04-01</th>\n",
       "      <th>2021-05-01</th>\n",
       "      <th>2021-06-01</th>\n",
       "      <th>2021-07-01</th>\n",
       "      <th>2021-08-01</th>\n",
       "      <th>2021-09-01</th>\n",
       "      <th>2021-10-01</th>\n",
       "    </tr>\n",
       "  </thead>\n",
       "  <tbody>\n",
       "    <tr>\n",
       "      <th>Bakery and cereal products (excluding baby food)</th>\n",
       "      <td>69.3</td>\n",
       "      <td>70.3</td>\n",
       "      <td>70.6</td>\n",
       "      <td>71.3</td>\n",
       "      <td>71.2</td>\n",
       "      <td>71.1</td>\n",
       "      <td>71.7</td>\n",
       "      <td>71.9</td>\n",
       "      <td>71.7</td>\n",
       "      <td>71.1</td>\n",
       "      <td>...</td>\n",
       "      <td>154.2</td>\n",
       "      <td>157.1</td>\n",
       "      <td>156.8</td>\n",
       "      <td>156.2</td>\n",
       "      <td>157.8</td>\n",
       "      <td>157.7</td>\n",
       "      <td>157.9</td>\n",
       "      <td>158.5</td>\n",
       "      <td>158.1</td>\n",
       "      <td>159.3</td>\n",
       "    </tr>\n",
       "    <tr>\n",
       "      <th>Dairy products and eggs</th>\n",
       "      <td>70.9</td>\n",
       "      <td>70.8</td>\n",
       "      <td>71.1</td>\n",
       "      <td>71.0</td>\n",
       "      <td>71.4</td>\n",
       "      <td>71.1</td>\n",
       "      <td>71.3</td>\n",
       "      <td>71.5</td>\n",
       "      <td>71.8</td>\n",
       "      <td>71.8</td>\n",
       "      <td>...</td>\n",
       "      <td>141.6</td>\n",
       "      <td>143.1</td>\n",
       "      <td>144.9</td>\n",
       "      <td>146.1</td>\n",
       "      <td>146.6</td>\n",
       "      <td>145.3</td>\n",
       "      <td>146.4</td>\n",
       "      <td>148.3</td>\n",
       "      <td>148.0</td>\n",
       "      <td>146.6</td>\n",
       "    </tr>\n",
       "    <tr>\n",
       "      <th>Fish, seafood and other marine products</th>\n",
       "      <td>60.6</td>\n",
       "      <td>61.3</td>\n",
       "      <td>61.3</td>\n",
       "      <td>61.4</td>\n",
       "      <td>61.9</td>\n",
       "      <td>62.0</td>\n",
       "      <td>62.2</td>\n",
       "      <td>62.7</td>\n",
       "      <td>63.1</td>\n",
       "      <td>63.6</td>\n",
       "      <td>...</td>\n",
       "      <td>143.4</td>\n",
       "      <td>143.9</td>\n",
       "      <td>144.9</td>\n",
       "      <td>145.1</td>\n",
       "      <td>147.6</td>\n",
       "      <td>146.2</td>\n",
       "      <td>146.6</td>\n",
       "      <td>146.8</td>\n",
       "      <td>147.1</td>\n",
       "      <td>149.3</td>\n",
       "    </tr>\n",
       "    <tr>\n",
       "      <th>Food purchased from restaurants</th>\n",
       "      <td>59.1</td>\n",
       "      <td>59.1</td>\n",
       "      <td>59.3</td>\n",
       "      <td>59.7</td>\n",
       "      <td>59.9</td>\n",
       "      <td>60.0</td>\n",
       "      <td>60.6</td>\n",
       "      <td>60.9</td>\n",
       "      <td>60.9</td>\n",
       "      <td>61.3</td>\n",
       "      <td>...</td>\n",
       "      <td>162.6</td>\n",
       "      <td>162.9</td>\n",
       "      <td>162.6</td>\n",
       "      <td>163.2</td>\n",
       "      <td>163.5</td>\n",
       "      <td>163.9</td>\n",
       "      <td>165.2</td>\n",
       "      <td>165.9</td>\n",
       "      <td>165.9</td>\n",
       "      <td>167.1</td>\n",
       "    </tr>\n",
       "    <tr>\n",
       "      <th>Food</th>\n",
       "      <td>67.3</td>\n",
       "      <td>66.9</td>\n",
       "      <td>67.0</td>\n",
       "      <td>67.7</td>\n",
       "      <td>68.2</td>\n",
       "      <td>68.4</td>\n",
       "      <td>69.2</td>\n",
       "      <td>69.5</td>\n",
       "      <td>69.9</td>\n",
       "      <td>70.2</td>\n",
       "      <td>...</td>\n",
       "      <td>155.0</td>\n",
       "      <td>155.6</td>\n",
       "      <td>155.5</td>\n",
       "      <td>155.4</td>\n",
       "      <td>156.6</td>\n",
       "      <td>156.8</td>\n",
       "      <td>157.6</td>\n",
       "      <td>158.0</td>\n",
       "      <td>158.5</td>\n",
       "      <td>159.2</td>\n",
       "    </tr>\n",
       "    <tr>\n",
       "      <th>Fruit, fruit preparations and nuts</th>\n",
       "      <td>76.0</td>\n",
       "      <td>77.6</td>\n",
       "      <td>79.2</td>\n",
       "      <td>82.2</td>\n",
       "      <td>83.5</td>\n",
       "      <td>83.1</td>\n",
       "      <td>84.8</td>\n",
       "      <td>86.7</td>\n",
       "      <td>83.8</td>\n",
       "      <td>82.9</td>\n",
       "      <td>...</td>\n",
       "      <td>140.9</td>\n",
       "      <td>143.4</td>\n",
       "      <td>142.4</td>\n",
       "      <td>141.9</td>\n",
       "      <td>143.9</td>\n",
       "      <td>144.5</td>\n",
       "      <td>141.7</td>\n",
       "      <td>142.5</td>\n",
       "      <td>141.5</td>\n",
       "      <td>141.7</td>\n",
       "    </tr>\n",
       "    <tr>\n",
       "      <th>Meat</th>\n",
       "      <td>65.1</td>\n",
       "      <td>64.2</td>\n",
       "      <td>64.2</td>\n",
       "      <td>63.6</td>\n",
       "      <td>64.0</td>\n",
       "      <td>64.9</td>\n",
       "      <td>66.5</td>\n",
       "      <td>67.8</td>\n",
       "      <td>71.3</td>\n",
       "      <td>71.5</td>\n",
       "      <td>...</td>\n",
       "      <td>171.9</td>\n",
       "      <td>169.5</td>\n",
       "      <td>170.2</td>\n",
       "      <td>173.5</td>\n",
       "      <td>175.4</td>\n",
       "      <td>176.7</td>\n",
       "      <td>180.9</td>\n",
       "      <td>182.1</td>\n",
       "      <td>184.8</td>\n",
       "      <td>187.1</td>\n",
       "    </tr>\n",
       "    <tr>\n",
       "      <th>Other food products and non-alcoholic beverages</th>\n",
       "      <td>77.5</td>\n",
       "      <td>78.1</td>\n",
       "      <td>78.6</td>\n",
       "      <td>79.5</td>\n",
       "      <td>79.8</td>\n",
       "      <td>79.9</td>\n",
       "      <td>80.2</td>\n",
       "      <td>80.2</td>\n",
       "      <td>80.8</td>\n",
       "      <td>81.0</td>\n",
       "      <td>...</td>\n",
       "      <td>139.0</td>\n",
       "      <td>139.5</td>\n",
       "      <td>141.5</td>\n",
       "      <td>140.5</td>\n",
       "      <td>141.6</td>\n",
       "      <td>142.2</td>\n",
       "      <td>141.9</td>\n",
       "      <td>141.7</td>\n",
       "      <td>144.3</td>\n",
       "      <td>144.4</td>\n",
       "    </tr>\n",
       "    <tr>\n",
       "      <th>Vegetables and vegetable preparations</th>\n",
       "      <td>76.0</td>\n",
       "      <td>68.4</td>\n",
       "      <td>66.2</td>\n",
       "      <td>71.1</td>\n",
       "      <td>75.3</td>\n",
       "      <td>74.1</td>\n",
       "      <td>75.7</td>\n",
       "      <td>71.9</td>\n",
       "      <td>66.6</td>\n",
       "      <td>70.7</td>\n",
       "      <td>...</td>\n",
       "      <td>162.5</td>\n",
       "      <td>163.8</td>\n",
       "      <td>157.4</td>\n",
       "      <td>151.1</td>\n",
       "      <td>153.8</td>\n",
       "      <td>153.4</td>\n",
       "      <td>154.8</td>\n",
       "      <td>152.2</td>\n",
       "      <td>150.0</td>\n",
       "      <td>149.4</td>\n",
       "    </tr>\n",
       "  </tbody>\n",
       "</table>\n",
       "<p>9 rows × 430 columns</p>\n",
       "</div>"
      ],
      "text/plain": [
       "                                                  1986-01-01  1986-02-01  \\\n",
       "Bakery and cereal products (excluding baby food)        69.3        70.3   \n",
       "Dairy products and eggs                                 70.9        70.8   \n",
       "Fish, seafood and other marine products                 60.6        61.3   \n",
       "Food purchased from restaurants                         59.1        59.1   \n",
       "Food                                                    67.3        66.9   \n",
       "Fruit, fruit preparations and nuts                      76.0        77.6   \n",
       "Meat                                                    65.1        64.2   \n",
       "Other food products and non-alcoholic beverages         77.5        78.1   \n",
       "Vegetables and vegetable preparations                   76.0        68.4   \n",
       "\n",
       "                                                  1986-03-01  1986-04-01  \\\n",
       "Bakery and cereal products (excluding baby food)        70.6        71.3   \n",
       "Dairy products and eggs                                 71.1        71.0   \n",
       "Fish, seafood and other marine products                 61.3        61.4   \n",
       "Food purchased from restaurants                         59.3        59.7   \n",
       "Food                                                    67.0        67.7   \n",
       "Fruit, fruit preparations and nuts                      79.2        82.2   \n",
       "Meat                                                    64.2        63.6   \n",
       "Other food products and non-alcoholic beverages         78.6        79.5   \n",
       "Vegetables and vegetable preparations                   66.2        71.1   \n",
       "\n",
       "                                                  1986-05-01  1986-06-01  \\\n",
       "Bakery and cereal products (excluding baby food)        71.2        71.1   \n",
       "Dairy products and eggs                                 71.4        71.1   \n",
       "Fish, seafood and other marine products                 61.9        62.0   \n",
       "Food purchased from restaurants                         59.9        60.0   \n",
       "Food                                                    68.2        68.4   \n",
       "Fruit, fruit preparations and nuts                      83.5        83.1   \n",
       "Meat                                                    64.0        64.9   \n",
       "Other food products and non-alcoholic beverages         79.8        79.9   \n",
       "Vegetables and vegetable preparations                   75.3        74.1   \n",
       "\n",
       "                                                  1986-07-01  1986-08-01  \\\n",
       "Bakery and cereal products (excluding baby food)        71.7        71.9   \n",
       "Dairy products and eggs                                 71.3        71.5   \n",
       "Fish, seafood and other marine products                 62.2        62.7   \n",
       "Food purchased from restaurants                         60.6        60.9   \n",
       "Food                                                    69.2        69.5   \n",
       "Fruit, fruit preparations and nuts                      84.8        86.7   \n",
       "Meat                                                    66.5        67.8   \n",
       "Other food products and non-alcoholic beverages         80.2        80.2   \n",
       "Vegetables and vegetable preparations                   75.7        71.9   \n",
       "\n",
       "                                                  1986-09-01  1986-10-01  ...  \\\n",
       "Bakery and cereal products (excluding baby food)        71.7        71.1  ...   \n",
       "Dairy products and eggs                                 71.8        71.8  ...   \n",
       "Fish, seafood and other marine products                 63.1        63.6  ...   \n",
       "Food purchased from restaurants                         60.9        61.3  ...   \n",
       "Food                                                    69.9        70.2  ...   \n",
       "Fruit, fruit preparations and nuts                      83.8        82.9  ...   \n",
       "Meat                                                    71.3        71.5  ...   \n",
       "Other food products and non-alcoholic beverages         80.8        81.0  ...   \n",
       "Vegetables and vegetable preparations                   66.6        70.7  ...   \n",
       "\n",
       "                                                  2021-01-01  2021-02-01  \\\n",
       "Bakery and cereal products (excluding baby food)       154.2       157.1   \n",
       "Dairy products and eggs                                141.6       143.1   \n",
       "Fish, seafood and other marine products                143.4       143.9   \n",
       "Food purchased from restaurants                        162.6       162.9   \n",
       "Food                                                   155.0       155.6   \n",
       "Fruit, fruit preparations and nuts                     140.9       143.4   \n",
       "Meat                                                   171.9       169.5   \n",
       "Other food products and non-alcoholic beverages        139.0       139.5   \n",
       "Vegetables and vegetable preparations                  162.5       163.8   \n",
       "\n",
       "                                                  2021-03-01  2021-04-01  \\\n",
       "Bakery and cereal products (excluding baby food)       156.8       156.2   \n",
       "Dairy products and eggs                                144.9       146.1   \n",
       "Fish, seafood and other marine products                144.9       145.1   \n",
       "Food purchased from restaurants                        162.6       163.2   \n",
       "Food                                                   155.5       155.4   \n",
       "Fruit, fruit preparations and nuts                     142.4       141.9   \n",
       "Meat                                                   170.2       173.5   \n",
       "Other food products and non-alcoholic beverages        141.5       140.5   \n",
       "Vegetables and vegetable preparations                  157.4       151.1   \n",
       "\n",
       "                                                  2021-05-01  2021-06-01  \\\n",
       "Bakery and cereal products (excluding baby food)       157.8       157.7   \n",
       "Dairy products and eggs                                146.6       145.3   \n",
       "Fish, seafood and other marine products                147.6       146.2   \n",
       "Food purchased from restaurants                        163.5       163.9   \n",
       "Food                                                   156.6       156.8   \n",
       "Fruit, fruit preparations and nuts                     143.9       144.5   \n",
       "Meat                                                   175.4       176.7   \n",
       "Other food products and non-alcoholic beverages        141.6       142.2   \n",
       "Vegetables and vegetable preparations                  153.8       153.4   \n",
       "\n",
       "                                                  2021-07-01  2021-08-01  \\\n",
       "Bakery and cereal products (excluding baby food)       157.9       158.5   \n",
       "Dairy products and eggs                                146.4       148.3   \n",
       "Fish, seafood and other marine products                146.6       146.8   \n",
       "Food purchased from restaurants                        165.2       165.9   \n",
       "Food                                                   157.6       158.0   \n",
       "Fruit, fruit preparations and nuts                     141.7       142.5   \n",
       "Meat                                                   180.9       182.1   \n",
       "Other food products and non-alcoholic beverages        141.9       141.7   \n",
       "Vegetables and vegetable preparations                  154.8       152.2   \n",
       "\n",
       "                                                  2021-09-01  2021-10-01  \n",
       "Bakery and cereal products (excluding baby food)       158.1       159.3  \n",
       "Dairy products and eggs                                148.0       146.6  \n",
       "Fish, seafood and other marine products                147.1       149.3  \n",
       "Food purchased from restaurants                        165.9       167.1  \n",
       "Food                                                   158.5       159.2  \n",
       "Fruit, fruit preparations and nuts                     141.5       141.7  \n",
       "Meat                                                   184.8       187.1  \n",
       "Other food products and non-alcoholic beverages        144.3       144.4  \n",
       "Vegetables and vegetable preparations                  150.0       149.4  \n",
       "\n",
       "[9 rows x 430 columns]"
      ]
     },
     "execution_count": 6,
     "metadata": {},
     "output_type": "execute_result"
    }
   ],
   "source": [
    "dataset_df = foodprice_df[foodprice_categories].T\n",
    "dataset_df"
   ]
  },
  {
   "cell_type": "code",
   "execution_count": 7,
   "id": "32a8d3e3-5f6e-4871-a021-bb52cbc7d9d9",
   "metadata": {},
   "outputs": [],
   "source": [
    "def get_neuralprophet_df(foodprice_df, food_category, dates, lagged_regressor):\n",
    "    prophet_df = pd.DataFrame({'ds': foodprice_df[food_category][dates].index, \n",
    "                           'y':foodprice_df[food_category].loc[foodprice_df.index][dates], \n",
    "                           lagged_regressor: foodprice_df[lagged_regressor].loc[foodprice_df.index][dates],\n",
    "                          })\n",
    "    prophet_df.reset_index(drop=True, inplace=True)\n",
    "\n",
    "    return prophet_df\n",
    "    "
   ]
  },
  {
   "cell_type": "code",
   "execution_count": 8,
   "id": "d7cd1411-351f-4a77-b669-3c12527820cd",
   "metadata": {},
   "outputs": [],
   "source": [
    "data_sources = [\"DEXCAUS\",\n",
    "                \"DCOILWTICO\",\n",
    "                \"WILL5000IND\",\n",
    "                \"VXOCLS\",\n",
    "                \"CUSR0000SAF112\",\n",
    "                \"CUSR0000SAF113\",\n",
    "                \"CPIFABSL\",\n",
    "                \"UNRATE\",\n",
    "                \"FEDFUNDS\",\n",
    "                \"IRLTLT01CAM156N\",\n",
    "                \"LRUNTTTTCAM156S\",\n",
    "                \"CPALCY01CAM661N\",\n",
    "                \"CPGRLE01CAM657N\",\n",
    "                \"QCAR368BIS\"\n",
    "               ]"
   ]
  },
  {
   "cell_type": "code",
   "execution_count": 9,
   "id": "ordinary-pipeline",
   "metadata": {
    "executionInfo": {
     "elapsed": 143,
     "status": "ok",
     "timestamp": 1634584340558,
     "user": {
      "displayName": "Ethan Jackson",
      "photoUrl": "https://lh3.googleusercontent.com/a-/AOh14Gj0sN-qIkLWaD3gNaMMx-oLuegd5o3MGlU94qG9IQ=s64",
      "userId": "16234263294244605206"
     },
     "user_tz": 240
    },
    "id": "AVVQph3qP-d7"
   },
   "outputs": [],
   "source": [
    "def rmse(y_true, y_pred):\n",
    "    return np.sqrt(mean_squared_error(y_true, y_pred))\n",
    "\n",
    "metrics = {\n",
    "    'r2_score': r2_score,\n",
    "    'mae': mean_absolute_error,\n",
    "    'mape': mean_absolute_percentage_error,\n",
    "    'mse': mean_squared_error,\n",
    "    'rmse': rmse\n",
    "}\n",
    "\n"
   ]
  },
  {
   "cell_type": "markdown",
   "id": "hidden-spouse",
   "metadata": {},
   "source": [
    "## Fit Models and Evaluate Models for All CPI Categories\n",
    "\n",
    "Fit a model using data up to the `report_sim_date` and use it to produce forecasts for the following 18 months. Collect evaluation metrics for comparison and save the forecasts for use in the ensembling experiments."
   ]
  },
  {
   "cell_type": "markdown",
   "id": "fa133791-f18e-400d-b649-55373341b531",
   "metadata": {},
   "source": [
    "Use ParameterGrid for Hyperparameter tuning."
   ]
  },
  {
   "cell_type": "code",
   "execution_count": 11,
   "id": "9dcd9a70-f33e-4d95-ab5c-dc3b21ac6661",
   "metadata": {},
   "outputs": [
    {
     "name": "stdout",
     "output_type": "stream",
     "text": [
      "Total Possible Models 1\n"
     ]
    }
   ],
   "source": [
    "params_grid = {'n_forecasts':[18],\n",
    "              'n_lags':[24, 36, 48, 60]}\n",
    "\n",
    "# TESTING WITH REDUCED PARAMS\n",
    "params_grid = {'n_forecasts':[18],\n",
    "              'n_lags':[24]}\n",
    "data_sources = ['DEXCAUS']\n",
    "\n",
    "grid = ParameterGrid(params_grid)\n",
    "cnt = 0\n",
    "for p in grid:\n",
    "    cnt = cnt+1\n",
    "print('Total Possible Models',cnt)"
   ]
  },
  {
   "cell_type": "code",
   "execution_count": 12,
   "id": "international-latex",
   "metadata": {
    "colab": {
     "base_uri": "https://localhost:8080/",
     "height": 1000
    },
    "executionInfo": {
     "elapsed": 9960613,
     "status": "ok",
     "timestamp": 1634600449715,
     "user": {
      "displayName": "Ethan Jackson",
      "photoUrl": "https://lh3.googleusercontent.com/a-/AOh14Gj0sN-qIkLWaD3gNaMMx-oLuegd5o3MGlU94qG9IQ=s64",
      "userId": "16234263294244605206"
     },
     "user_tz": 240
    },
    "id": "HPi4At6gT26Q",
    "outputId": "3d99832f-f9e2-4b1f-d6c0-1499c8468464",
    "tags": []
   },
   "outputs": [
    {
     "name": "stderr",
     "output_type": "stream",
     "text": [
      "INFO - (NP.utils.set_auto_seasonalities) - Disabling weekly seasonality. Run NeuralProphet with weekly_seasonality=True to override this.\n",
      "INFO - (NP.utils.set_auto_seasonalities) - Disabling daily seasonality. Run NeuralProphet with daily_seasonality=True to override this.\n",
      "INFO - (NP.config.set_auto_batch_epoch) - Auto-set batch_size to 16\n",
      "INFO - (NP.config.set_auto_batch_epoch) - Auto-set epochs to 233\n"
     ]
    },
    {
     "data": {
      "application/vnd.jupyter.widget-view+json": {
       "model_id": "",
       "version_major": 2,
       "version_minor": 0
      },
      "text/plain": [
       "  0%|          | 0/225 [00:00<?, ?it/s]"
      ]
     },
     "metadata": {},
     "output_type": "display_data"
    },
    {
     "name": "stdout",
     "output_type": "stream",
     "text": [
      "new directory created:  ./output/neuralprophet_TEST_DEXCAUS_nlags_24\n"
     ]
    },
    {
     "name": "stderr",
     "output_type": "stream",
     "text": [
      "INFO - (NP.utils_torch.lr_range_test) - lr-range-test results: steep: 4.63E-02, min: 4.26E-01\n"
     ]
    },
    {
     "data": {
      "application/vnd.jupyter.widget-view+json": {
       "model_id": "",
       "version_major": 2,
       "version_minor": 0
      },
      "text/plain": [
       "  0%|          | 0/225 [00:00<?, ?it/s]"
      ]
     },
     "metadata": {},
     "output_type": "display_data"
    },
    {
     "name": "stderr",
     "output_type": "stream",
     "text": [
      "INFO - (NP.utils_torch.lr_range_test) - lr-range-test results: steep: 5.07E-02, min: 4.67E-01\n"
     ]
    },
    {
     "data": {
      "application/vnd.jupyter.widget-view+json": {
       "model_id": "",
       "version_major": 2,
       "version_minor": 0
      },
      "text/plain": [
       "  0%|          | 0/225 [00:00<?, ?it/s]"
      ]
     },
     "metadata": {},
     "output_type": "display_data"
    },
    {
     "name": "stderr",
     "output_type": "stream",
     "text": [
      "INFO - (NP.utils_torch.lr_range_test) - lr-range-test results: steep: 4.63E-02, min: 4.67E-01\n",
      "INFO - (NP.forecaster._init_train_loader) - lr-range-test selected learning rate: 4.77E-02\n",
      "Epoch[233/233]: 100%|██████████| 233/233 [00:14<00:00, 15.72it/s, SmoothL1Loss=0.000187, MAE=1.2, RMSE=1.57, RegLoss=0] \n",
      "INFO - (NP.utils.set_auto_seasonalities) - Disabling weekly seasonality. Run NeuralProphet with weekly_seasonality=True to override this.\n",
      "INFO - (NP.utils.set_auto_seasonalities) - Disabling daily seasonality. Run NeuralProphet with daily_seasonality=True to override this.\n",
      "INFO - (NP.config.set_auto_batch_epoch) - Auto-set batch_size to 16\n",
      "INFO - (NP.config.set_auto_batch_epoch) - Auto-set epochs to 231\n"
     ]
    },
    {
     "data": {
      "application/vnd.jupyter.widget-view+json": {
       "model_id": "",
       "version_major": 2,
       "version_minor": 0
      },
      "text/plain": [
       "  0%|          | 0/226 [00:00<?, ?it/s]"
      ]
     },
     "metadata": {},
     "output_type": "display_data"
    },
    {
     "name": "stderr",
     "output_type": "stream",
     "text": [
      "INFO - (NP.utils_torch.lr_range_test) - lr-range-test results: steep: 1.91E-01, min: 3.98E-01\n"
     ]
    },
    {
     "data": {
      "application/vnd.jupyter.widget-view+json": {
       "model_id": "",
       "version_major": 2,
       "version_minor": 0
      },
      "text/plain": [
       "  0%|          | 0/226 [00:00<?, ?it/s]"
      ]
     },
     "metadata": {},
     "output_type": "display_data"
    },
    {
     "name": "stderr",
     "output_type": "stream",
     "text": [
      "INFO - (NP.utils_torch.lr_range_test) - lr-range-test results: steep: 2.09E-01, min: 3.98E-01\n"
     ]
    },
    {
     "data": {
      "application/vnd.jupyter.widget-view+json": {
       "model_id": "",
       "version_major": 2,
       "version_minor": 0
      },
      "text/plain": [
       "  0%|          | 0/226 [00:00<?, ?it/s]"
      ]
     },
     "metadata": {},
     "output_type": "display_data"
    },
    {
     "name": "stderr",
     "output_type": "stream",
     "text": [
      "INFO - (NP.utils_torch.lr_range_test) - lr-range-test results: steep: 1.91E-01, min: 3.63E-01\n",
      "INFO - (NP.forecaster._init_train_loader) - lr-range-test selected learning rate: 1.96E-01\n",
      "Epoch[231/231]: 100%|██████████| 231/231 [00:14<00:00, 15.70it/s, SmoothL1Loss=0.000142, MAE=1.01, RMSE=1.38, RegLoss=0]\n",
      "INFO - (NP.utils.set_auto_seasonalities) - Disabling weekly seasonality. Run NeuralProphet with weekly_seasonality=True to override this.\n",
      "INFO - (NP.utils.set_auto_seasonalities) - Disabling daily seasonality. Run NeuralProphet with daily_seasonality=True to override this.\n",
      "INFO - (NP.config.set_auto_batch_epoch) - Auto-set batch_size to 16\n",
      "INFO - (NP.config.set_auto_batch_epoch) - Auto-set epochs to 230\n"
     ]
    },
    {
     "data": {
      "application/vnd.jupyter.widget-view+json": {
       "model_id": "",
       "version_major": 2,
       "version_minor": 0
      },
      "text/plain": [
       "  0%|          | 0/227 [00:00<?, ?it/s]"
      ]
     },
     "metadata": {},
     "output_type": "display_data"
    },
    {
     "name": "stderr",
     "output_type": "stream",
     "text": [
      "INFO - (NP.utils_torch.lr_range_test) - lr-range-test results: steep: 4.12E-02, min: 4.47E-01\n"
     ]
    },
    {
     "data": {
      "application/vnd.jupyter.widget-view+json": {
       "model_id": "",
       "version_major": 2,
       "version_minor": 0
      },
      "text/plain": [
       "  0%|          | 0/227 [00:00<?, ?it/s]"
      ]
     },
     "metadata": {},
     "output_type": "display_data"
    },
    {
     "name": "stderr",
     "output_type": "stream",
     "text": [
      "INFO - (NP.utils_torch.lr_range_test) - lr-range-test results: steep: 4.12E-02, min: 5.89E-01\n"
     ]
    },
    {
     "data": {
      "application/vnd.jupyter.widget-view+json": {
       "model_id": "",
       "version_major": 2,
       "version_minor": 0
      },
      "text/plain": [
       "  0%|          | 0/227 [00:00<?, ?it/s]"
      ]
     },
     "metadata": {},
     "output_type": "display_data"
    },
    {
     "name": "stderr",
     "output_type": "stream",
     "text": [
      "INFO - (NP.utils_torch.lr_range_test) - lr-range-test results: steep: 5.95E-02, min: 4.47E-01\n",
      "INFO - (NP.forecaster._init_train_loader) - lr-range-test selected learning rate: 4.66E-02\n",
      "Epoch[230/230]: 100%|██████████| 230/230 [00:15<00:00, 14.69it/s, SmoothL1Loss=0.000149, MAE=1.09, RMSE=1.43, RegLoss=0]\n",
      "INFO - (NP.utils.set_auto_seasonalities) - Disabling weekly seasonality. Run NeuralProphet with weekly_seasonality=True to override this.\n",
      "INFO - (NP.utils.set_auto_seasonalities) - Disabling daily seasonality. Run NeuralProphet with daily_seasonality=True to override this.\n",
      "INFO - (NP.config.set_auto_batch_epoch) - Auto-set batch_size to 16\n",
      "INFO - (NP.config.set_auto_batch_epoch) - Auto-set epochs to 228\n"
     ]
    },
    {
     "data": {
      "application/vnd.jupyter.widget-view+json": {
       "model_id": "",
       "version_major": 2,
       "version_minor": 0
      },
      "text/plain": [
       "  0%|          | 0/227 [00:00<?, ?it/s]"
      ]
     },
     "metadata": {},
     "output_type": "display_data"
    },
    {
     "name": "stderr",
     "output_type": "stream",
     "text": [
      "INFO - (NP.utils_torch.lr_range_test) - lr-range-test results: steep: 3.13E-02, min: 4.47E-01\n"
     ]
    },
    {
     "data": {
      "application/vnd.jupyter.widget-view+json": {
       "model_id": "",
       "version_major": 2,
       "version_minor": 0
      },
      "text/plain": [
       "  0%|          | 0/227 [00:00<?, ?it/s]"
      ]
     },
     "metadata": {},
     "output_type": "display_data"
    },
    {
     "name": "stderr",
     "output_type": "stream",
     "text": [
      "INFO - (NP.utils_torch.lr_range_test) - lr-range-test results: steep: 3.43E-02, min: 4.90E-01\n"
     ]
    },
    {
     "data": {
      "application/vnd.jupyter.widget-view+json": {
       "model_id": "",
       "version_major": 2,
       "version_minor": 0
      },
      "text/plain": [
       "  0%|          | 0/227 [00:00<?, ?it/s]"
      ]
     },
     "metadata": {},
     "output_type": "display_data"
    },
    {
     "name": "stderr",
     "output_type": "stream",
     "text": [
      "INFO - (NP.utils_torch.lr_range_test) - lr-range-test results: steep: 3.43E-02, min: 4.90E-01\n",
      "INFO - (NP.forecaster._init_train_loader) - lr-range-test selected learning rate: 3.33E-02\n",
      "Epoch[228/228]: 100%|██████████| 228/228 [00:18<00:00, 12.28it/s, SmoothL1Loss=0.000233, MAE=1.36, RMSE=1.78, RegLoss=0]\n",
      "INFO - (NP.utils.set_auto_seasonalities) - Disabling weekly seasonality. Run NeuralProphet with weekly_seasonality=True to override this.\n",
      "INFO - (NP.utils.set_auto_seasonalities) - Disabling daily seasonality. Run NeuralProphet with daily_seasonality=True to override this.\n",
      "INFO - (NP.config.set_auto_batch_epoch) - Auto-set batch_size to 16\n",
      "INFO - (NP.config.set_auto_batch_epoch) - Auto-set epochs to 226\n"
     ]
    },
    {
     "data": {
      "application/vnd.jupyter.widget-view+json": {
       "model_id": "",
       "version_major": 2,
       "version_minor": 0
      },
      "text/plain": [
       "  0%|          | 0/228 [00:00<?, ?it/s]"
      ]
     },
     "metadata": {},
     "output_type": "display_data"
    },
    {
     "name": "stderr",
     "output_type": "stream",
     "text": [
      "INFO - (NP.utils_torch.lr_range_test) - lr-range-test results: steep: 2.05E-02, min: 3.18E-01\n"
     ]
    },
    {
     "data": {
      "application/vnd.jupyter.widget-view+json": {
       "model_id": "",
       "version_major": 2,
       "version_minor": 0
      },
      "text/plain": [
       "  0%|          | 0/228 [00:00<?, ?it/s]"
      ]
     },
     "metadata": {},
     "output_type": "display_data"
    },
    {
     "name": "stderr",
     "output_type": "stream",
     "text": [
      "INFO - (NP.utils_torch.lr_range_test) - lr-range-test results: steep: 2.05E-02, min: 2.90E-01\n"
     ]
    },
    {
     "data": {
      "application/vnd.jupyter.widget-view+json": {
       "model_id": "",
       "version_major": 2,
       "version_minor": 0
      },
      "text/plain": [
       "  0%|          | 0/228 [00:00<?, ?it/s]"
      ]
     },
     "metadata": {},
     "output_type": "display_data"
    },
    {
     "name": "stderr",
     "output_type": "stream",
     "text": [
      "INFO - (NP.utils_torch.lr_range_test) - lr-range-test results: steep: 2.05E-02, min: 2.90E-01\n",
      "INFO - (NP.forecaster._init_train_loader) - lr-range-test selected learning rate: 2.05E-02\n",
      "Epoch[226/226]: 100%|██████████| 226/226 [00:15<00:00, 14.33it/s, SmoothL1Loss=0.000308, MAE=1.57, RMSE=2.08, RegLoss=0]\n",
      "INFO - (NP.utils.set_auto_seasonalities) - Disabling weekly seasonality. Run NeuralProphet with weekly_seasonality=True to override this.\n",
      "INFO - (NP.utils.set_auto_seasonalities) - Disabling daily seasonality. Run NeuralProphet with daily_seasonality=True to override this.\n",
      "INFO - (NP.config.set_auto_batch_epoch) - Auto-set batch_size to 16\n",
      "INFO - (NP.config.set_auto_batch_epoch) - Auto-set epochs to 225\n"
     ]
    },
    {
     "data": {
      "application/vnd.jupyter.widget-view+json": {
       "model_id": "",
       "version_major": 2,
       "version_minor": 0
      },
      "text/plain": [
       "  0%|          | 0/229 [00:00<?, ?it/s]"
      ]
     },
     "metadata": {},
     "output_type": "display_data"
    },
    {
     "name": "stderr",
     "output_type": "stream",
     "text": [
      "INFO - (NP.utils_torch.lr_range_test) - lr-range-test results: steep: 1.78E-02, min: 3.91E-01\n"
     ]
    },
    {
     "data": {
      "application/vnd.jupyter.widget-view+json": {
       "model_id": "",
       "version_major": 2,
       "version_minor": 0
      },
      "text/plain": [
       "  0%|          | 0/229 [00:00<?, ?it/s]"
      ]
     },
     "metadata": {},
     "output_type": "display_data"
    },
    {
     "name": "stderr",
     "output_type": "stream",
     "text": [
      "INFO - (NP.utils_torch.lr_range_test) - lr-range-test results: steep: 1.78E-02, min: 4.28E-01\n"
     ]
    },
    {
     "data": {
      "application/vnd.jupyter.widget-view+json": {
       "model_id": "",
       "version_major": 2,
       "version_minor": 0
      },
      "text/plain": [
       "  0%|          | 0/229 [00:00<?, ?it/s]"
      ]
     },
     "metadata": {},
     "output_type": "display_data"
    },
    {
     "name": "stderr",
     "output_type": "stream",
     "text": [
      "INFO - (NP.utils_torch.lr_range_test) - lr-range-test results: steep: 1.95E-02, min: 3.26E-01\n",
      "INFO - (NP.forecaster._init_train_loader) - lr-range-test selected learning rate: 1.83E-02\n",
      "Epoch[225/225]: 100%|██████████| 225/225 [00:16<00:00, 13.80it/s, SmoothL1Loss=0.000337, MAE=1.71, RMSE=2.22, RegLoss=0]\n",
      "INFO - (NP.utils.set_auto_seasonalities) - Disabling weekly seasonality. Run NeuralProphet with weekly_seasonality=True to override this.\n",
      "INFO - (NP.utils.set_auto_seasonalities) - Disabling daily seasonality. Run NeuralProphet with daily_seasonality=True to override this.\n",
      "INFO - (NP.config.set_auto_batch_epoch) - Auto-set batch_size to 16\n",
      "INFO - (NP.config.set_auto_batch_epoch) - Auto-set epochs to 233\n"
     ]
    },
    {
     "data": {
      "application/vnd.jupyter.widget-view+json": {
       "model_id": "",
       "version_major": 2,
       "version_minor": 0
      },
      "text/plain": [
       "  0%|          | 0/225 [00:00<?, ?it/s]"
      ]
     },
     "metadata": {},
     "output_type": "display_data"
    },
    {
     "name": "stderr",
     "output_type": "stream",
     "text": [
      "INFO - (NP.utils_torch.lr_range_test) - lr-range-test results: steep: 7.27E-03, min: 5.13E-01\n"
     ]
    },
    {
     "data": {
      "application/vnd.jupyter.widget-view+json": {
       "model_id": "",
       "version_major": 2,
       "version_minor": 0
      },
      "text/plain": [
       "  0%|          | 0/225 [00:00<?, ?it/s]"
      ]
     },
     "metadata": {},
     "output_type": "display_data"
    },
    {
     "name": "stderr",
     "output_type": "stream",
     "text": [
      "INFO - (NP.utils_torch.lr_range_test) - lr-range-test results: steep: 3.84E-02, min: 4.26E-01\n"
     ]
    },
    {
     "data": {
      "application/vnd.jupyter.widget-view+json": {
       "model_id": "",
       "version_major": 2,
       "version_minor": 0
      },
      "text/plain": [
       "  0%|          | 0/225 [00:00<?, ?it/s]"
      ]
     },
     "metadata": {},
     "output_type": "display_data"
    },
    {
     "name": "stderr",
     "output_type": "stream",
     "text": [
      "INFO - (NP.utils_torch.lr_range_test) - lr-range-test results: steep: 5.57E-02, min: 5.62E-01\n",
      "INFO - (NP.forecaster._init_train_loader) - lr-range-test selected learning rate: 2.50E-02\n",
      "Epoch[233/233]: 100%|██████████| 233/233 [00:13<00:00, 16.72it/s, SmoothL1Loss=0.000188, MAE=0.985, RMSE=1.26, RegLoss=0]\n",
      "INFO - (NP.utils.set_auto_seasonalities) - Disabling weekly seasonality. Run NeuralProphet with weekly_seasonality=True to override this.\n",
      "INFO - (NP.utils.set_auto_seasonalities) - Disabling daily seasonality. Run NeuralProphet with daily_seasonality=True to override this.\n",
      "INFO - (NP.config.set_auto_batch_epoch) - Auto-set batch_size to 16\n",
      "INFO - (NP.config.set_auto_batch_epoch) - Auto-set epochs to 231\n"
     ]
    },
    {
     "data": {
      "application/vnd.jupyter.widget-view+json": {
       "model_id": "",
       "version_major": 2,
       "version_minor": 0
      },
      "text/plain": [
       "  0%|          | 0/226 [00:00<?, ?it/s]"
      ]
     },
     "metadata": {},
     "output_type": "display_data"
    },
    {
     "name": "stderr",
     "output_type": "stream",
     "text": [
      "INFO - (NP.utils_torch.lr_range_test) - lr-range-test results: steep: 4.37E-02, min: 4.37E-01\n"
     ]
    },
    {
     "data": {
      "application/vnd.jupyter.widget-view+json": {
       "model_id": "",
       "version_major": 2,
       "version_minor": 0
      },
      "text/plain": [
       "  0%|          | 0/226 [00:00<?, ?it/s]"
      ]
     },
     "metadata": {},
     "output_type": "display_data"
    },
    {
     "name": "stderr",
     "output_type": "stream",
     "text": [
      "INFO - (NP.utils_torch.lr_range_test) - lr-range-test results: steep: 3.31E-02, min: 4.37E-01\n"
     ]
    },
    {
     "data": {
      "application/vnd.jupyter.widget-view+json": {
       "model_id": "",
       "version_major": 2,
       "version_minor": 0
      },
      "text/plain": [
       "  0%|          | 0/226 [00:00<?, ?it/s]"
      ]
     },
     "metadata": {},
     "output_type": "display_data"
    },
    {
     "name": "stderr",
     "output_type": "stream",
     "text": [
      "INFO - (NP.utils_torch.lr_range_test) - lr-range-test results: steep: 3.31E-02, min: 4.37E-01\n",
      "INFO - (NP.forecaster._init_train_loader) - lr-range-test selected learning rate: 3.63E-02\n",
      "Epoch[231/231]: 100%|██████████| 231/231 [00:18<00:00, 12.70it/s, SmoothL1Loss=0.000104, MAE=0.736, RMSE=0.946, RegLoss=0]\n",
      "INFO - (NP.utils.set_auto_seasonalities) - Disabling weekly seasonality. Run NeuralProphet with weekly_seasonality=True to override this.\n",
      "INFO - (NP.utils.set_auto_seasonalities) - Disabling daily seasonality. Run NeuralProphet with daily_seasonality=True to override this.\n",
      "INFO - (NP.config.set_auto_batch_epoch) - Auto-set batch_size to 16\n",
      "INFO - (NP.config.set_auto_batch_epoch) - Auto-set epochs to 230\n"
     ]
    },
    {
     "data": {
      "application/vnd.jupyter.widget-view+json": {
       "model_id": "",
       "version_major": 2,
       "version_minor": 0
      },
      "text/plain": [
       "  0%|          | 0/227 [00:00<?, ?it/s]"
      ]
     },
     "metadata": {},
     "output_type": "display_data"
    },
    {
     "name": "stderr",
     "output_type": "stream",
     "text": [
      "INFO - (NP.utils_torch.lr_range_test) - lr-range-test results: steep: 4.52E-02, min: 4.90E-01\n"
     ]
    },
    {
     "data": {
      "application/vnd.jupyter.widget-view+json": {
       "model_id": "",
       "version_major": 2,
       "version_minor": 0
      },
      "text/plain": [
       "  0%|          | 0/227 [00:00<?, ?it/s]"
      ]
     },
     "metadata": {},
     "output_type": "display_data"
    },
    {
     "name": "stderr",
     "output_type": "stream",
     "text": [
      "INFO - (NP.utils_torch.lr_range_test) - lr-range-test results: steep: 4.12E-02, min: 6.45E-01\n"
     ]
    },
    {
     "data": {
      "application/vnd.jupyter.widget-view+json": {
       "model_id": "",
       "version_major": 2,
       "version_minor": 0
      },
      "text/plain": [
       "  0%|          | 0/227 [00:00<?, ?it/s]"
      ]
     },
     "metadata": {},
     "output_type": "display_data"
    },
    {
     "name": "stderr",
     "output_type": "stream",
     "text": [
      "INFO - (NP.utils_torch.lr_range_test) - lr-range-test results: steep: 4.12E-02, min: 5.37E-01\n",
      "INFO - (NP.forecaster._init_train_loader) - lr-range-test selected learning rate: 4.25E-02\n",
      "Epoch[230/230]: 100%|██████████| 230/230 [00:15<00:00, 15.32it/s, SmoothL1Loss=0.000117, MAE=0.788, RMSE=1, RegLoss=0]    \n",
      "INFO - (NP.utils.set_auto_seasonalities) - Disabling weekly seasonality. Run NeuralProphet with weekly_seasonality=True to override this.\n",
      "INFO - (NP.utils.set_auto_seasonalities) - Disabling daily seasonality. Run NeuralProphet with daily_seasonality=True to override this.\n",
      "INFO - (NP.config.set_auto_batch_epoch) - Auto-set batch_size to 16\n",
      "INFO - (NP.config.set_auto_batch_epoch) - Auto-set epochs to 228\n"
     ]
    },
    {
     "data": {
      "application/vnd.jupyter.widget-view+json": {
       "model_id": "",
       "version_major": 2,
       "version_minor": 0
      },
      "text/plain": [
       "  0%|          | 0/227 [00:00<?, ?it/s]"
      ]
     },
     "metadata": {},
     "output_type": "display_data"
    },
    {
     "name": "stderr",
     "output_type": "stream",
     "text": [
      "INFO - (NP.utils_torch.lr_range_test) - lr-range-test results: steep: 4.52E-02, min: 3.40E-01\n"
     ]
    },
    {
     "data": {
      "application/vnd.jupyter.widget-view+json": {
       "model_id": "",
       "version_major": 2,
       "version_minor": 0
      },
      "text/plain": [
       "  0%|          | 0/227 [00:00<?, ?it/s]"
      ]
     },
     "metadata": {},
     "output_type": "display_data"
    },
    {
     "name": "stderr",
     "output_type": "stream",
     "text": [
      "INFO - (NP.utils_torch.lr_range_test) - lr-range-test results: steep: 3.76E-02, min: 3.72E-01\n"
     ]
    },
    {
     "data": {
      "application/vnd.jupyter.widget-view+json": {
       "model_id": "",
       "version_major": 2,
       "version_minor": 0
      },
      "text/plain": [
       "  0%|          | 0/227 [00:00<?, ?it/s]"
      ]
     },
     "metadata": {},
     "output_type": "display_data"
    },
    {
     "name": "stderr",
     "output_type": "stream",
     "text": [
      "INFO - (NP.utils_torch.lr_range_test) - lr-range-test results: steep: 3.76E-02, min: 3.40E-01\n",
      "INFO - (NP.forecaster._init_train_loader) - lr-range-test selected learning rate: 4.00E-02\n",
      "Epoch[228/228]: 100%|██████████| 228/228 [00:18<00:00, 12.18it/s, SmoothL1Loss=0.000103, MAE=0.734, RMSE=0.936, RegLoss=0]\n",
      "INFO - (NP.utils.set_auto_seasonalities) - Disabling weekly seasonality. Run NeuralProphet with weekly_seasonality=True to override this.\n",
      "INFO - (NP.utils.set_auto_seasonalities) - Disabling daily seasonality. Run NeuralProphet with daily_seasonality=True to override this.\n",
      "INFO - (NP.config.set_auto_batch_epoch) - Auto-set batch_size to 16\n",
      "INFO - (NP.config.set_auto_batch_epoch) - Auto-set epochs to 226\n"
     ]
    },
    {
     "data": {
      "application/vnd.jupyter.widget-view+json": {
       "model_id": "",
       "version_major": 2,
       "version_minor": 0
      },
      "text/plain": [
       "  0%|          | 0/228 [00:00<?, ?it/s]"
      ]
     },
     "metadata": {},
     "output_type": "display_data"
    },
    {
     "name": "stderr",
     "output_type": "stream",
     "text": [
      "INFO - (NP.utils_torch.lr_range_test) - lr-range-test results: steep: 9.04E-03, min: 4.58E-01\n"
     ]
    },
    {
     "data": {
      "application/vnd.jupyter.widget-view+json": {
       "model_id": "",
       "version_major": 2,
       "version_minor": 0
      },
      "text/plain": [
       "  0%|          | 0/228 [00:00<?, ?it/s]"
      ]
     },
     "metadata": {},
     "output_type": "display_data"
    },
    {
     "name": "stderr",
     "output_type": "stream",
     "text": [
      "INFO - (NP.utils_torch.lr_range_test) - lr-range-test results: steep: 2.96E-02, min: 4.18E-01\n"
     ]
    },
    {
     "data": {
      "application/vnd.jupyter.widget-view+json": {
       "model_id": "",
       "version_major": 2,
       "version_minor": 0
      },
      "text/plain": [
       "  0%|          | 0/228 [00:00<?, ?it/s]"
      ]
     },
     "metadata": {},
     "output_type": "display_data"
    },
    {
     "name": "stderr",
     "output_type": "stream",
     "text": [
      "INFO - (NP.utils_torch.lr_range_test) - lr-range-test results: steep: 9.90E-03, min: 4.58E-01\n",
      "INFO - (NP.forecaster._init_train_loader) - lr-range-test selected learning rate: 1.38E-02\n",
      "Epoch[226/226]: 100%|██████████| 226/226 [00:19<00:00, 11.64it/s, SmoothL1Loss=0.0003, MAE=1.26, RMSE=1.61, RegLoss=0]  \n",
      "INFO - (NP.utils.set_auto_seasonalities) - Disabling weekly seasonality. Run NeuralProphet with weekly_seasonality=True to override this.\n",
      "INFO - (NP.utils.set_auto_seasonalities) - Disabling daily seasonality. Run NeuralProphet with daily_seasonality=True to override this.\n",
      "INFO - (NP.config.set_auto_batch_epoch) - Auto-set batch_size to 16\n",
      "INFO - (NP.config.set_auto_batch_epoch) - Auto-set epochs to 225\n"
     ]
    },
    {
     "data": {
      "application/vnd.jupyter.widget-view+json": {
       "model_id": "",
       "version_major": 2,
       "version_minor": 0
      },
      "text/plain": [
       "  0%|          | 0/229 [00:00<?, ?it/s]"
      ]
     },
     "metadata": {},
     "output_type": "display_data"
    },
    {
     "name": "stderr",
     "output_type": "stream",
     "text": [
      "INFO - (NP.utils_torch.lr_range_test) - lr-range-test results: steep: 4.41E-02, min: 4.28E-01\n"
     ]
    },
    {
     "data": {
      "application/vnd.jupyter.widget-view+json": {
       "model_id": "",
       "version_major": 2,
       "version_minor": 0
      },
      "text/plain": [
       "  0%|          | 0/229 [00:00<?, ?it/s]"
      ]
     },
     "metadata": {},
     "output_type": "display_data"
    },
    {
     "name": "stderr",
     "output_type": "stream",
     "text": [
      "INFO - (NP.utils_torch.lr_range_test) - lr-range-test results: steep: 2.80E-02, min: 3.57E-01\n"
     ]
    },
    {
     "data": {
      "application/vnd.jupyter.widget-view+json": {
       "model_id": "",
       "version_major": 2,
       "version_minor": 0
      },
      "text/plain": [
       "  0%|          | 0/229 [00:00<?, ?it/s]"
      ]
     },
     "metadata": {},
     "output_type": "display_data"
    },
    {
     "name": "stderr",
     "output_type": "stream",
     "text": [
      "INFO - (NP.utils_torch.lr_range_test) - lr-range-test results: steep: 3.07E-02, min: 3.91E-01\n",
      "INFO - (NP.forecaster._init_train_loader) - lr-range-test selected learning rate: 3.36E-02\n",
      "Epoch[225/225]: 100%|██████████| 225/225 [00:19<00:00, 11.42it/s, SmoothL1Loss=0.000142, MAE=0.881, RMSE=1.11, RegLoss=0]\n",
      "INFO - (NP.utils.set_auto_seasonalities) - Disabling weekly seasonality. Run NeuralProphet with weekly_seasonality=True to override this.\n",
      "INFO - (NP.utils.set_auto_seasonalities) - Disabling daily seasonality. Run NeuralProphet with daily_seasonality=True to override this.\n",
      "INFO - (NP.config.set_auto_batch_epoch) - Auto-set batch_size to 16\n",
      "INFO - (NP.config.set_auto_batch_epoch) - Auto-set epochs to 233\n"
     ]
    },
    {
     "data": {
      "application/vnd.jupyter.widget-view+json": {
       "model_id": "",
       "version_major": 2,
       "version_minor": 0
      },
      "text/plain": [
       "  0%|          | 0/225 [00:00<?, ?it/s]"
      ]
     },
     "metadata": {},
     "output_type": "display_data"
    },
    {
     "name": "stderr",
     "output_type": "stream",
     "text": [
      "INFO - (NP.utils_torch.lr_range_test) - lr-range-test results: steep: 4.63E-02, min: 3.23E-01\n"
     ]
    },
    {
     "data": {
      "application/vnd.jupyter.widget-view+json": {
       "model_id": "",
       "version_major": 2,
       "version_minor": 0
      },
      "text/plain": [
       "  0%|          | 0/225 [00:00<?, ?it/s]"
      ]
     },
     "metadata": {},
     "output_type": "display_data"
    },
    {
     "name": "stderr",
     "output_type": "stream",
     "text": [
      "INFO - (NP.utils_torch.lr_range_test) - lr-range-test results: steep: 4.63E-02, min: 3.23E-01\n"
     ]
    },
    {
     "data": {
      "application/vnd.jupyter.widget-view+json": {
       "model_id": "",
       "version_major": 2,
       "version_minor": 0
      },
      "text/plain": [
       "  0%|          | 0/225 [00:00<?, ?it/s]"
      ]
     },
     "metadata": {},
     "output_type": "display_data"
    },
    {
     "name": "stderr",
     "output_type": "stream",
     "text": [
      "INFO - (NP.utils_torch.lr_range_test) - lr-range-test results: steep: 4.63E-02, min: 3.88E-01\n",
      "INFO - (NP.forecaster._init_train_loader) - lr-range-test selected learning rate: 4.63E-02\n",
      "Epoch[233/233]: 100%|██████████| 233/233 [00:17<00:00, 13.35it/s, SmoothL1Loss=0.000292, MAE=1.06, RMSE=1.44, RegLoss=0]\n",
      "INFO - (NP.utils.set_auto_seasonalities) - Disabling weekly seasonality. Run NeuralProphet with weekly_seasonality=True to override this.\n",
      "INFO - (NP.utils.set_auto_seasonalities) - Disabling daily seasonality. Run NeuralProphet with daily_seasonality=True to override this.\n",
      "INFO - (NP.config.set_auto_batch_epoch) - Auto-set batch_size to 16\n",
      "INFO - (NP.config.set_auto_batch_epoch) - Auto-set epochs to 231\n"
     ]
    },
    {
     "data": {
      "application/vnd.jupyter.widget-view+json": {
       "model_id": "",
       "version_major": 2,
       "version_minor": 0
      },
      "text/plain": [
       "  0%|          | 0/226 [00:00<?, ?it/s]"
      ]
     },
     "metadata": {},
     "output_type": "display_data"
    },
    {
     "name": "stderr",
     "output_type": "stream",
     "text": [
      "INFO - (NP.utils_torch.lr_range_test) - lr-range-test results: steep: 5.75E-02, min: 4.37E-01\n"
     ]
    },
    {
     "data": {
      "application/vnd.jupyter.widget-view+json": {
       "model_id": "",
       "version_major": 2,
       "version_minor": 0
      },
      "text/plain": [
       "  0%|          | 0/226 [00:00<?, ?it/s]"
      ]
     },
     "metadata": {},
     "output_type": "display_data"
    },
    {
     "name": "stderr",
     "output_type": "stream",
     "text": [
      "INFO - (NP.utils_torch.lr_range_test) - lr-range-test results: steep: 5.75E-02, min: 4.79E-01\n"
     ]
    },
    {
     "data": {
      "application/vnd.jupyter.widget-view+json": {
       "model_id": "",
       "version_major": 2,
       "version_minor": 0
      },
      "text/plain": [
       "  0%|          | 0/226 [00:00<?, ?it/s]"
      ]
     },
     "metadata": {},
     "output_type": "display_data"
    },
    {
     "name": "stderr",
     "output_type": "stream",
     "text": [
      "INFO - (NP.utils_torch.lr_range_test) - lr-range-test results: steep: 5.25E-02, min: 4.37E-01\n",
      "INFO - (NP.forecaster._init_train_loader) - lr-range-test selected learning rate: 5.58E-02\n",
      "Epoch[231/231]: 100%|██████████| 231/231 [00:18<00:00, 12.61it/s, SmoothL1Loss=0.00027, MAE=1.13, RMSE=1.47, RegLoss=0] \n",
      "INFO - (NP.utils.set_auto_seasonalities) - Disabling weekly seasonality. Run NeuralProphet with weekly_seasonality=True to override this.\n",
      "INFO - (NP.utils.set_auto_seasonalities) - Disabling daily seasonality. Run NeuralProphet with daily_seasonality=True to override this.\n",
      "INFO - (NP.config.set_auto_batch_epoch) - Auto-set batch_size to 16\n",
      "INFO - (NP.config.set_auto_batch_epoch) - Auto-set epochs to 230\n"
     ]
    },
    {
     "data": {
      "application/vnd.jupyter.widget-view+json": {
       "model_id": "",
       "version_major": 2,
       "version_minor": 0
      },
      "text/plain": [
       "  0%|          | 0/227 [00:00<?, ?it/s]"
      ]
     },
     "metadata": {},
     "output_type": "display_data"
    },
    {
     "name": "stderr",
     "output_type": "stream",
     "text": [
      "INFO - (NP.utils_torch.lr_range_test) - lr-range-test results: steep: 4.52E-02, min: 3.72E-01\n"
     ]
    },
    {
     "data": {
      "application/vnd.jupyter.widget-view+json": {
       "model_id": "",
       "version_major": 2,
       "version_minor": 0
      },
      "text/plain": [
       "  0%|          | 0/227 [00:00<?, ?it/s]"
      ]
     },
     "metadata": {},
     "output_type": "display_data"
    },
    {
     "name": "stderr",
     "output_type": "stream",
     "text": [
      "INFO - (NP.utils_torch.lr_range_test) - lr-range-test results: steep: 4.95E-02, min: 3.72E-01\n"
     ]
    },
    {
     "data": {
      "application/vnd.jupyter.widget-view+json": {
       "model_id": "",
       "version_major": 2,
       "version_minor": 0
      },
      "text/plain": [
       "  0%|          | 0/227 [00:00<?, ?it/s]"
      ]
     },
     "metadata": {},
     "output_type": "display_data"
    },
    {
     "name": "stderr",
     "output_type": "stream",
     "text": [
      "INFO - (NP.utils_torch.lr_range_test) - lr-range-test results: steep: 4.95E-02, min: 4.47E-01\n",
      "INFO - (NP.forecaster._init_train_loader) - lr-range-test selected learning rate: 4.80E-02\n",
      "Epoch[230/230]: 100%|██████████| 230/230 [00:15<00:00, 14.70it/s, SmoothL1Loss=0.000232, MAE=1.12, RMSE=1.43, RegLoss=0]\n",
      "INFO - (NP.utils.set_auto_seasonalities) - Disabling weekly seasonality. Run NeuralProphet with weekly_seasonality=True to override this.\n",
      "INFO - (NP.utils.set_auto_seasonalities) - Disabling daily seasonality. Run NeuralProphet with daily_seasonality=True to override this.\n",
      "INFO - (NP.config.set_auto_batch_epoch) - Auto-set batch_size to 16\n",
      "INFO - (NP.config.set_auto_batch_epoch) - Auto-set epochs to 228\n"
     ]
    },
    {
     "data": {
      "application/vnd.jupyter.widget-view+json": {
       "model_id": "",
       "version_major": 2,
       "version_minor": 0
      },
      "text/plain": [
       "  0%|          | 0/227 [00:00<?, ?it/s]"
      ]
     },
     "metadata": {},
     "output_type": "display_data"
    },
    {
     "name": "stderr",
     "output_type": "stream",
     "text": [
      "INFO - (NP.utils_torch.lr_range_test) - lr-range-test results: steep: 1.04E-02, min: 8.50E-01\n"
     ]
    },
    {
     "data": {
      "application/vnd.jupyter.widget-view+json": {
       "model_id": "",
       "version_major": 2,
       "version_minor": 0
      },
      "text/plain": [
       "  0%|          | 0/227 [00:00<?, ?it/s]"
      ]
     },
     "metadata": {},
     "output_type": "display_data"
    },
    {
     "name": "stderr",
     "output_type": "stream",
     "text": [
      "INFO - (NP.utils_torch.lr_range_test) - lr-range-test results: steep: 1.04E-02, min: 1.12E+00\n"
     ]
    },
    {
     "data": {
      "application/vnd.jupyter.widget-view+json": {
       "model_id": "",
       "version_major": 2,
       "version_minor": 0
      },
      "text/plain": [
       "  0%|          | 0/227 [00:00<?, ?it/s]"
      ]
     },
     "metadata": {},
     "output_type": "display_data"
    },
    {
     "name": "stderr",
     "output_type": "stream",
     "text": [
      "INFO - (NP.utils_torch.lr_range_test) - lr-range-test results: steep: 1.04E-02, min: 9.31E-01\n",
      "INFO - (NP.forecaster._init_train_loader) - lr-range-test selected learning rate: 1.04E-02\n",
      "Epoch[228/228]: 100%|██████████| 228/228 [00:15<00:00, 15.18it/s, SmoothL1Loss=0.00155, MAE=3.13, RMSE=3.99, RegLoss=0]\n",
      "INFO - (NP.utils.set_auto_seasonalities) - Disabling weekly seasonality. Run NeuralProphet with weekly_seasonality=True to override this.\n",
      "INFO - (NP.utils.set_auto_seasonalities) - Disabling daily seasonality. Run NeuralProphet with daily_seasonality=True to override this.\n",
      "INFO - (NP.config.set_auto_batch_epoch) - Auto-set batch_size to 16\n",
      "INFO - (NP.config.set_auto_batch_epoch) - Auto-set epochs to 226\n"
     ]
    },
    {
     "data": {
      "application/vnd.jupyter.widget-view+json": {
       "model_id": "",
       "version_major": 2,
       "version_minor": 0
      },
      "text/plain": [
       "  0%|          | 0/228 [00:00<?, ?it/s]"
      ]
     },
     "metadata": {},
     "output_type": "display_data"
    },
    {
     "name": "stderr",
     "output_type": "stream",
     "text": [
      "INFO - (NP.utils_torch.lr_range_test) - lr-range-test results: steep: 2.96E-02, min: 3.82E-01\n"
     ]
    },
    {
     "data": {
      "application/vnd.jupyter.widget-view+json": {
       "model_id": "",
       "version_major": 2,
       "version_minor": 0
      },
      "text/plain": [
       "  0%|          | 0/228 [00:00<?, ?it/s]"
      ]
     },
     "metadata": {},
     "output_type": "display_data"
    },
    {
     "name": "stderr",
     "output_type": "stream",
     "text": [
      "INFO - (NP.utils_torch.lr_range_test) - lr-range-test results: steep: 2.47E-02, min: 3.18E-01\n"
     ]
    },
    {
     "data": {
      "application/vnd.jupyter.widget-view+json": {
       "model_id": "",
       "version_major": 2,
       "version_minor": 0
      },
      "text/plain": [
       "  0%|          | 0/228 [00:00<?, ?it/s]"
      ]
     },
     "metadata": {},
     "output_type": "display_data"
    },
    {
     "name": "stderr",
     "output_type": "stream",
     "text": [
      "INFO - (NP.utils_torch.lr_range_test) - lr-range-test results: steep: 2.70E-02, min: 3.48E-01\n",
      "INFO - (NP.forecaster._init_train_loader) - lr-range-test selected learning rate: 2.70E-02\n",
      "Epoch[226/226]: 100%|██████████| 226/226 [00:15<00:00, 14.25it/s, SmoothL1Loss=0.000196, MAE=1.17, RMSE=1.49, RegLoss=0]\n",
      "INFO - (NP.utils.set_auto_seasonalities) - Disabling weekly seasonality. Run NeuralProphet with weekly_seasonality=True to override this.\n",
      "INFO - (NP.utils.set_auto_seasonalities) - Disabling daily seasonality. Run NeuralProphet with daily_seasonality=True to override this.\n",
      "INFO - (NP.config.set_auto_batch_epoch) - Auto-set batch_size to 16\n",
      "INFO - (NP.config.set_auto_batch_epoch) - Auto-set epochs to 225\n"
     ]
    },
    {
     "data": {
      "application/vnd.jupyter.widget-view+json": {
       "model_id": "",
       "version_major": 2,
       "version_minor": 0
      },
      "text/plain": [
       "  0%|          | 0/229 [00:00<?, ?it/s]"
      ]
     },
     "metadata": {},
     "output_type": "display_data"
    },
    {
     "name": "stderr",
     "output_type": "stream",
     "text": [
      "INFO - (NP.utils_torch.lr_range_test) - lr-range-test results: steep: 1.24E-02, min: 5.62E-01\n"
     ]
    },
    {
     "data": {
      "application/vnd.jupyter.widget-view+json": {
       "model_id": "",
       "version_major": 2,
       "version_minor": 0
      },
      "text/plain": [
       "  0%|          | 0/229 [00:00<?, ?it/s]"
      ]
     },
     "metadata": {},
     "output_type": "display_data"
    },
    {
     "name": "stderr",
     "output_type": "stream",
     "text": [
      "INFO - (NP.utils_torch.lr_range_test) - lr-range-test results: steep: 1.24E-02, min: 6.74E-01\n"
     ]
    },
    {
     "data": {
      "application/vnd.jupyter.widget-view+json": {
       "model_id": "",
       "version_major": 2,
       "version_minor": 0
      },
      "text/plain": [
       "  0%|          | 0/229 [00:00<?, ?it/s]"
      ]
     },
     "metadata": {},
     "output_type": "display_data"
    },
    {
     "name": "stderr",
     "output_type": "stream",
     "text": [
      "INFO - (NP.utils_torch.lr_range_test) - lr-range-test results: steep: 1.24E-02, min: 8.09E-01\n",
      "INFO - (NP.forecaster._init_train_loader) - lr-range-test selected learning rate: 1.24E-02\n",
      "Epoch[225/225]: 100%|██████████| 225/225 [00:16<00:00, 13.89it/s, SmoothL1Loss=0.000811, MAE=2.43, RMSE=3.1, RegLoss=0] \n",
      "INFO - (NP.utils.set_auto_seasonalities) - Disabling weekly seasonality. Run NeuralProphet with weekly_seasonality=True to override this.\n",
      "INFO - (NP.utils.set_auto_seasonalities) - Disabling daily seasonality. Run NeuralProphet with daily_seasonality=True to override this.\n",
      "INFO - (NP.config.set_auto_batch_epoch) - Auto-set batch_size to 16\n",
      "INFO - (NP.config.set_auto_batch_epoch) - Auto-set epochs to 233\n"
     ]
    },
    {
     "data": {
      "application/vnd.jupyter.widget-view+json": {
       "model_id": "",
       "version_major": 2,
       "version_minor": 0
      },
      "text/plain": [
       "  0%|          | 0/225 [00:00<?, ?it/s]"
      ]
     },
     "metadata": {},
     "output_type": "display_data"
    },
    {
     "name": "stderr",
     "output_type": "stream",
     "text": [
      "INFO - (NP.utils_torch.lr_range_test) - lr-range-test results: steep: 1.05E-02, min: 9.80E-01\n"
     ]
    },
    {
     "data": {
      "application/vnd.jupyter.widget-view+json": {
       "model_id": "",
       "version_major": 2,
       "version_minor": 0
      },
      "text/plain": [
       "  0%|          | 0/225 [00:00<?, ?it/s]"
      ]
     },
     "metadata": {},
     "output_type": "display_data"
    },
    {
     "name": "stderr",
     "output_type": "stream",
     "text": [
      "INFO - (NP.utils_torch.lr_range_test) - lr-range-test results: steep: 1.15E-02, min: 8.14E-01\n"
     ]
    },
    {
     "data": {
      "application/vnd.jupyter.widget-view+json": {
       "model_id": "",
       "version_major": 2,
       "version_minor": 0
      },
      "text/plain": [
       "  0%|          | 0/225 [00:00<?, ?it/s]"
      ]
     },
     "metadata": {},
     "output_type": "display_data"
    },
    {
     "name": "stderr",
     "output_type": "stream",
     "text": [
      "INFO - (NP.utils_torch.lr_range_test) - lr-range-test results: steep: 1.05E-02, min: 8.14E-01\n",
      "INFO - (NP.forecaster._init_train_loader) - lr-range-test selected learning rate: 1.09E-02\n",
      "Epoch[233/233]: 100%|██████████| 233/233 [00:14<00:00, 16.39it/s, SmoothL1Loss=0.000781, MAE=2.27, RMSE=2.94, RegLoss=0]\n",
      "INFO - (NP.utils.set_auto_seasonalities) - Disabling weekly seasonality. Run NeuralProphet with weekly_seasonality=True to override this.\n",
      "INFO - (NP.utils.set_auto_seasonalities) - Disabling daily seasonality. Run NeuralProphet with daily_seasonality=True to override this.\n",
      "INFO - (NP.config.set_auto_batch_epoch) - Auto-set batch_size to 16\n",
      "INFO - (NP.config.set_auto_batch_epoch) - Auto-set epochs to 231\n"
     ]
    },
    {
     "data": {
      "application/vnd.jupyter.widget-view+json": {
       "model_id": "",
       "version_major": 2,
       "version_minor": 0
      },
      "text/plain": [
       "  0%|          | 0/226 [00:00<?, ?it/s]"
      ]
     },
     "metadata": {},
     "output_type": "display_data"
    },
    {
     "name": "stderr",
     "output_type": "stream",
     "text": [
      "INFO - (NP.utils_torch.lr_range_test) - lr-range-test results: steep: 1.32E-02, min: 1.00E+00\n"
     ]
    },
    {
     "data": {
      "application/vnd.jupyter.widget-view+json": {
       "model_id": "",
       "version_major": 2,
       "version_minor": 0
      },
      "text/plain": [
       "  0%|          | 0/226 [00:00<?, ?it/s]"
      ]
     },
     "metadata": {},
     "output_type": "display_data"
    },
    {
     "name": "stderr",
     "output_type": "stream",
     "text": [
      "INFO - (NP.utils_torch.lr_range_test) - lr-range-test results: steep: 1.45E-02, min: 8.32E-01\n"
     ]
    },
    {
     "data": {
      "application/vnd.jupyter.widget-view+json": {
       "model_id": "",
       "version_major": 2,
       "version_minor": 0
      },
      "text/plain": [
       "  0%|          | 0/226 [00:00<?, ?it/s]"
      ]
     },
     "metadata": {},
     "output_type": "display_data"
    },
    {
     "name": "stderr",
     "output_type": "stream",
     "text": [
      "INFO - (NP.utils_torch.lr_range_test) - lr-range-test results: steep: 1.32E-02, min: 1.10E+00\n",
      "INFO - (NP.forecaster._init_train_loader) - lr-range-test selected learning rate: 1.36E-02\n",
      "Epoch[231/231]: 100%|██████████| 231/231 [00:14<00:00, 15.71it/s, SmoothL1Loss=0.000482, MAE=1.85, RMSE=2.39, RegLoss=0]\n",
      "INFO - (NP.utils.set_auto_seasonalities) - Disabling weekly seasonality. Run NeuralProphet with weekly_seasonality=True to override this.\n",
      "INFO - (NP.utils.set_auto_seasonalities) - Disabling daily seasonality. Run NeuralProphet with daily_seasonality=True to override this.\n",
      "INFO - (NP.config.set_auto_batch_epoch) - Auto-set batch_size to 16\n",
      "INFO - (NP.config.set_auto_batch_epoch) - Auto-set epochs to 230\n"
     ]
    },
    {
     "data": {
      "application/vnd.jupyter.widget-view+json": {
       "model_id": "",
       "version_major": 2,
       "version_minor": 0
      },
      "text/plain": [
       "  0%|          | 0/227 [00:00<?, ?it/s]"
      ]
     },
     "metadata": {},
     "output_type": "display_data"
    },
    {
     "name": "stderr",
     "output_type": "stream",
     "text": [
      "INFO - (NP.utils_torch.lr_range_test) - lr-range-test results: steep: 1.14E-02, min: 7.07E-01\n"
     ]
    },
    {
     "data": {
      "application/vnd.jupyter.widget-view+json": {
       "model_id": "",
       "version_major": 2,
       "version_minor": 0
      },
      "text/plain": [
       "  0%|          | 0/227 [00:00<?, ?it/s]"
      ]
     },
     "metadata": {},
     "output_type": "display_data"
    },
    {
     "name": "stderr",
     "output_type": "stream",
     "text": [
      "INFO - (NP.utils_torch.lr_range_test) - lr-range-test results: steep: 1.25E-02, min: 8.50E-01\n"
     ]
    },
    {
     "data": {
      "application/vnd.jupyter.widget-view+json": {
       "model_id": "",
       "version_major": 2,
       "version_minor": 0
      },
      "text/plain": [
       "  0%|          | 0/227 [00:00<?, ?it/s]"
      ]
     },
     "metadata": {},
     "output_type": "display_data"
    },
    {
     "name": "stderr",
     "output_type": "stream",
     "text": [
      "INFO - (NP.utils_torch.lr_range_test) - lr-range-test results: steep: 1.14E-02, min: 6.45E-01\n",
      "INFO - (NP.forecaster._init_train_loader) - lr-range-test selected learning rate: 1.18E-02\n",
      "Epoch[230/230]: 100%|██████████| 230/230 [00:15<00:00, 14.65it/s, SmoothL1Loss=0.000341, MAE=1.63, RMSE=2.13, RegLoss=0]\n",
      "INFO - (NP.utils.set_auto_seasonalities) - Disabling weekly seasonality. Run NeuralProphet with weekly_seasonality=True to override this.\n",
      "INFO - (NP.utils.set_auto_seasonalities) - Disabling daily seasonality. Run NeuralProphet with daily_seasonality=True to override this.\n",
      "INFO - (NP.config.set_auto_batch_epoch) - Auto-set batch_size to 16\n",
      "INFO - (NP.config.set_auto_batch_epoch) - Auto-set epochs to 228\n"
     ]
    },
    {
     "data": {
      "application/vnd.jupyter.widget-view+json": {
       "model_id": "",
       "version_major": 2,
       "version_minor": 0
      },
      "text/plain": [
       "  0%|          | 0/227 [00:00<?, ?it/s]"
      ]
     },
     "metadata": {},
     "output_type": "display_data"
    },
    {
     "name": "stderr",
     "output_type": "stream",
     "text": [
      "INFO - (NP.utils_torch.lr_range_test) - lr-range-test results: steep: 4.52E-02, min: 4.90E-01\n"
     ]
    },
    {
     "data": {
      "application/vnd.jupyter.widget-view+json": {
       "model_id": "",
       "version_major": 2,
       "version_minor": 0
      },
      "text/plain": [
       "  0%|          | 0/227 [00:00<?, ?it/s]"
      ]
     },
     "metadata": {},
     "output_type": "display_data"
    },
    {
     "name": "stderr",
     "output_type": "stream",
     "text": [
      "INFO - (NP.utils_torch.lr_range_test) - lr-range-test results: steep: 3.43E-02, min: 3.40E-01\n"
     ]
    },
    {
     "data": {
      "application/vnd.jupyter.widget-view+json": {
       "model_id": "",
       "version_major": 2,
       "version_minor": 0
      },
      "text/plain": [
       "  0%|          | 0/227 [00:00<?, ?it/s]"
      ]
     },
     "metadata": {},
     "output_type": "display_data"
    },
    {
     "name": "stderr",
     "output_type": "stream",
     "text": [
      "INFO - (NP.utils_torch.lr_range_test) - lr-range-test results: steep: 4.12E-02, min: 4.08E-01\n",
      "INFO - (NP.forecaster._init_train_loader) - lr-range-test selected learning rate: 4.00E-02\n",
      "Epoch[228/228]: 100%|██████████| 228/228 [00:18<00:00, 12.10it/s, SmoothL1Loss=5.36e-5, MAE=0.663, RMSE=0.872, RegLoss=0]\n",
      "INFO - (NP.utils.set_auto_seasonalities) - Disabling weekly seasonality. Run NeuralProphet with weekly_seasonality=True to override this.\n",
      "INFO - (NP.utils.set_auto_seasonalities) - Disabling daily seasonality. Run NeuralProphet with daily_seasonality=True to override this.\n",
      "INFO - (NP.config.set_auto_batch_epoch) - Auto-set batch_size to 16\n",
      "INFO - (NP.config.set_auto_batch_epoch) - Auto-set epochs to 226\n"
     ]
    },
    {
     "data": {
      "application/vnd.jupyter.widget-view+json": {
       "model_id": "",
       "version_major": 2,
       "version_minor": 0
      },
      "text/plain": [
       "  0%|          | 0/228 [00:00<?, ?it/s]"
      ]
     },
     "metadata": {},
     "output_type": "display_data"
    },
    {
     "name": "stderr",
     "output_type": "stream",
     "text": [
      "INFO - (NP.utils_torch.lr_range_test) - lr-range-test results: steep: 6.15E-02, min: 4.58E-01\n"
     ]
    },
    {
     "data": {
      "application/vnd.jupyter.widget-view+json": {
       "model_id": "",
       "version_major": 2,
       "version_minor": 0
      },
      "text/plain": [
       "  0%|          | 0/228 [00:00<?, ?it/s]"
      ]
     },
     "metadata": {},
     "output_type": "display_data"
    },
    {
     "name": "stderr",
     "output_type": "stream",
     "text": [
      "INFO - (NP.utils_torch.lr_range_test) - lr-range-test results: steep: 6.15E-02, min: 3.82E-01\n"
     ]
    },
    {
     "data": {
      "application/vnd.jupyter.widget-view+json": {
       "model_id": "",
       "version_major": 2,
       "version_minor": 0
      },
      "text/plain": [
       "  0%|          | 0/228 [00:00<?, ?it/s]"
      ]
     },
     "metadata": {},
     "output_type": "display_data"
    },
    {
     "name": "stderr",
     "output_type": "stream",
     "text": [
      "INFO - (NP.utils_torch.lr_range_test) - lr-range-test results: steep: 6.73E-02, min: 3.48E-01\n",
      "INFO - (NP.forecaster._init_train_loader) - lr-range-test selected learning rate: 6.34E-02\n",
      "Epoch[226/226]: 100%|██████████| 226/226 [00:15<00:00, 14.43it/s, SmoothL1Loss=4.65e-5, MAE=0.646, RMSE=0.852, RegLoss=0]\n",
      "INFO - (NP.utils.set_auto_seasonalities) - Disabling weekly seasonality. Run NeuralProphet with weekly_seasonality=True to override this.\n",
      "INFO - (NP.utils.set_auto_seasonalities) - Disabling daily seasonality. Run NeuralProphet with daily_seasonality=True to override this.\n",
      "INFO - (NP.config.set_auto_batch_epoch) - Auto-set batch_size to 16\n",
      "INFO - (NP.config.set_auto_batch_epoch) - Auto-set epochs to 225\n"
     ]
    },
    {
     "data": {
      "application/vnd.jupyter.widget-view+json": {
       "model_id": "",
       "version_major": 2,
       "version_minor": 0
      },
      "text/plain": [
       "  0%|          | 0/229 [00:00<?, ?it/s]"
      ]
     },
     "metadata": {},
     "output_type": "display_data"
    },
    {
     "name": "stderr",
     "output_type": "stream",
     "text": [
      "INFO - (NP.utils_torch.lr_range_test) - lr-range-test results: steep: 2.80E-02, min: 3.26E-01\n"
     ]
    },
    {
     "data": {
      "application/vnd.jupyter.widget-view+json": {
       "model_id": "",
       "version_major": 2,
       "version_minor": 0
      },
      "text/plain": [
       "  0%|          | 0/229 [00:00<?, ?it/s]"
      ]
     },
     "metadata": {},
     "output_type": "display_data"
    },
    {
     "name": "stderr",
     "output_type": "stream",
     "text": [
      "INFO - (NP.utils_torch.lr_range_test) - lr-range-test results: steep: 3.07E-02, min: 3.57E-01\n"
     ]
    },
    {
     "data": {
      "application/vnd.jupyter.widget-view+json": {
       "model_id": "",
       "version_major": 2,
       "version_minor": 0
      },
      "text/plain": [
       "  0%|          | 0/229 [00:00<?, ?it/s]"
      ]
     },
     "metadata": {},
     "output_type": "display_data"
    },
    {
     "name": "stderr",
     "output_type": "stream",
     "text": [
      "INFO - (NP.utils_torch.lr_range_test) - lr-range-test results: steep: 3.07E-02, min: 3.91E-01\n",
      "INFO - (NP.forecaster._init_train_loader) - lr-range-test selected learning rate: 2.98E-02\n",
      "Epoch[225/225]: 100%|██████████| 225/225 [00:15<00:00, 14.23it/s, SmoothL1Loss=4.34e-5, MAE=0.666, RMSE=0.877, RegLoss=0]\n",
      "INFO - (NP.utils.set_auto_seasonalities) - Disabling weekly seasonality. Run NeuralProphet with weekly_seasonality=True to override this.\n",
      "INFO - (NP.utils.set_auto_seasonalities) - Disabling daily seasonality. Run NeuralProphet with daily_seasonality=True to override this.\n",
      "INFO - (NP.config.set_auto_batch_epoch) - Auto-set batch_size to 16\n",
      "INFO - (NP.config.set_auto_batch_epoch) - Auto-set epochs to 233\n"
     ]
    },
    {
     "data": {
      "application/vnd.jupyter.widget-view+json": {
       "model_id": "",
       "version_major": 2,
       "version_minor": 0
      },
      "text/plain": [
       "  0%|          | 0/225 [00:00<?, ?it/s]"
      ]
     },
     "metadata": {},
     "output_type": "display_data"
    },
    {
     "name": "stderr",
     "output_type": "stream",
     "text": [
      "INFO - (NP.utils_torch.lr_range_test) - lr-range-test results: steep: 4.22E-02, min: 5.13E-01\n"
     ]
    },
    {
     "data": {
      "application/vnd.jupyter.widget-view+json": {
       "model_id": "",
       "version_major": 2,
       "version_minor": 0
      },
      "text/plain": [
       "  0%|          | 0/225 [00:00<?, ?it/s]"
      ]
     },
     "metadata": {},
     "output_type": "display_data"
    },
    {
     "name": "stderr",
     "output_type": "stream",
     "text": [
      "INFO - (NP.utils_torch.lr_range_test) - lr-range-test results: steep: 3.84E-02, min: 5.62E-01\n"
     ]
    },
    {
     "data": {
      "application/vnd.jupyter.widget-view+json": {
       "model_id": "",
       "version_major": 2,
       "version_minor": 0
      },
      "text/plain": [
       "  0%|          | 0/225 [00:00<?, ?it/s]"
      ]
     },
     "metadata": {},
     "output_type": "display_data"
    },
    {
     "name": "stderr",
     "output_type": "stream",
     "text": [
      "INFO - (NP.utils_torch.lr_range_test) - lr-range-test results: steep: 3.50E-02, min: 4.67E-01\n",
      "INFO - (NP.forecaster._init_train_loader) - lr-range-test selected learning rate: 3.84E-02\n",
      "Epoch[233/233]: 100%|██████████| 233/233 [00:13<00:00, 16.77it/s, SmoothL1Loss=0.000106, MAE=0.758, RMSE=0.978, RegLoss=0]\n",
      "INFO - (NP.utils.set_auto_seasonalities) - Disabling weekly seasonality. Run NeuralProphet with weekly_seasonality=True to override this.\n",
      "INFO - (NP.utils.set_auto_seasonalities) - Disabling daily seasonality. Run NeuralProphet with daily_seasonality=True to override this.\n",
      "INFO - (NP.config.set_auto_batch_epoch) - Auto-set batch_size to 16\n",
      "INFO - (NP.config.set_auto_batch_epoch) - Auto-set epochs to 231\n"
     ]
    },
    {
     "data": {
      "application/vnd.jupyter.widget-view+json": {
       "model_id": "",
       "version_major": 2,
       "version_minor": 0
      },
      "text/plain": [
       "  0%|          | 0/226 [00:00<?, ?it/s]"
      ]
     },
     "metadata": {},
     "output_type": "display_data"
    },
    {
     "name": "stderr",
     "output_type": "stream",
     "text": [
      "INFO - (NP.utils_torch.lr_range_test) - lr-range-test results: steep: 2.29E-02, min: 4.79E-01\n"
     ]
    },
    {
     "data": {
      "application/vnd.jupyter.widget-view+json": {
       "model_id": "",
       "version_major": 2,
       "version_minor": 0
      },
      "text/plain": [
       "  0%|          | 0/226 [00:00<?, ?it/s]"
      ]
     },
     "metadata": {},
     "output_type": "display_data"
    },
    {
     "name": "stderr",
     "output_type": "stream",
     "text": [
      "INFO - (NP.utils_torch.lr_range_test) - lr-range-test results: steep: 1.74E-02, min: 4.37E-01\n"
     ]
    },
    {
     "data": {
      "application/vnd.jupyter.widget-view+json": {
       "model_id": "",
       "version_major": 2,
       "version_minor": 0
      },
      "text/plain": [
       "  0%|          | 0/226 [00:00<?, ?it/s]"
      ]
     },
     "metadata": {},
     "output_type": "display_data"
    },
    {
     "name": "stderr",
     "output_type": "stream",
     "text": [
      "INFO - (NP.utils_torch.lr_range_test) - lr-range-test results: steep: 1.32E-02, min: 4.79E-01\n",
      "INFO - (NP.forecaster._init_train_loader) - lr-range-test selected learning rate: 1.74E-02\n",
      "Epoch[231/231]: 100%|██████████| 231/231 [00:18<00:00, 12.71it/s, SmoothL1Loss=0.000336, MAE=1.47, RMSE=1.87, RegLoss=0]\n",
      "INFO - (NP.utils.set_auto_seasonalities) - Disabling weekly seasonality. Run NeuralProphet with weekly_seasonality=True to override this.\n",
      "INFO - (NP.utils.set_auto_seasonalities) - Disabling daily seasonality. Run NeuralProphet with daily_seasonality=True to override this.\n",
      "INFO - (NP.config.set_auto_batch_epoch) - Auto-set batch_size to 16\n",
      "INFO - (NP.config.set_auto_batch_epoch) - Auto-set epochs to 230\n"
     ]
    },
    {
     "data": {
      "application/vnd.jupyter.widget-view+json": {
       "model_id": "",
       "version_major": 2,
       "version_minor": 0
      },
      "text/plain": [
       "  0%|          | 0/227 [00:00<?, ?it/s]"
      ]
     },
     "metadata": {},
     "output_type": "display_data"
    },
    {
     "name": "stderr",
     "output_type": "stream",
     "text": [
      "INFO - (NP.utils_torch.lr_range_test) - lr-range-test results: steep: 1.50E-02, min: 3.10E-01\n"
     ]
    },
    {
     "data": {
      "application/vnd.jupyter.widget-view+json": {
       "model_id": "",
       "version_major": 2,
       "version_minor": 0
      },
      "text/plain": [
       "  0%|          | 0/227 [00:00<?, ?it/s]"
      ]
     },
     "metadata": {},
     "output_type": "display_data"
    },
    {
     "name": "stderr",
     "output_type": "stream",
     "text": [
      "INFO - (NP.utils_torch.lr_range_test) - lr-range-test results: steep: 1.50E-02, min: 3.40E-01\n"
     ]
    },
    {
     "data": {
      "application/vnd.jupyter.widget-view+json": {
       "model_id": "",
       "version_major": 2,
       "version_minor": 0
      },
      "text/plain": [
       "  0%|          | 0/227 [00:00<?, ?it/s]"
      ]
     },
     "metadata": {},
     "output_type": "display_data"
    },
    {
     "name": "stderr",
     "output_type": "stream",
     "text": [
      "INFO - (NP.utils_torch.lr_range_test) - lr-range-test results: steep: 1.37E-02, min: 3.72E-01\n",
      "INFO - (NP.forecaster._init_train_loader) - lr-range-test selected learning rate: 1.46E-02\n",
      "Epoch[230/230]: 100%|██████████| 230/230 [00:15<00:00, 14.65it/s, SmoothL1Loss=0.000206, MAE=1.18, RMSE=1.5, RegLoss=0] \n",
      "INFO - (NP.utils.set_auto_seasonalities) - Disabling weekly seasonality. Run NeuralProphet with weekly_seasonality=True to override this.\n",
      "INFO - (NP.utils.set_auto_seasonalities) - Disabling daily seasonality. Run NeuralProphet with daily_seasonality=True to override this.\n",
      "INFO - (NP.config.set_auto_batch_epoch) - Auto-set batch_size to 16\n",
      "INFO - (NP.config.set_auto_batch_epoch) - Auto-set epochs to 228\n"
     ]
    },
    {
     "data": {
      "application/vnd.jupyter.widget-view+json": {
       "model_id": "",
       "version_major": 2,
       "version_minor": 0
      },
      "text/plain": [
       "  0%|          | 0/227 [00:00<?, ?it/s]"
      ]
     },
     "metadata": {},
     "output_type": "display_data"
    },
    {
     "name": "stderr",
     "output_type": "stream",
     "text": [
      "INFO - (NP.utils_torch.lr_range_test) - lr-range-test results: steep: 1.81E-02, min: 4.08E-01\n"
     ]
    },
    {
     "data": {
      "application/vnd.jupyter.widget-view+json": {
       "model_id": "",
       "version_major": 2,
       "version_minor": 0
      },
      "text/plain": [
       "  0%|          | 0/227 [00:00<?, ?it/s]"
      ]
     },
     "metadata": {},
     "output_type": "display_data"
    },
    {
     "name": "stderr",
     "output_type": "stream",
     "text": [
      "INFO - (NP.utils_torch.lr_range_test) - lr-range-test results: steep: 1.04E-02, min: 4.47E-01\n"
     ]
    },
    {
     "data": {
      "application/vnd.jupyter.widget-view+json": {
       "model_id": "",
       "version_major": 2,
       "version_minor": 0
      },
      "text/plain": [
       "  0%|          | 0/227 [00:00<?, ?it/s]"
      ]
     },
     "metadata": {},
     "output_type": "display_data"
    },
    {
     "name": "stderr",
     "output_type": "stream",
     "text": [
      "INFO - (NP.utils_torch.lr_range_test) - lr-range-test results: steep: 6.59E-03, min: 4.08E-01\n",
      "INFO - (NP.forecaster._init_train_loader) - lr-range-test selected learning rate: 1.07E-02\n",
      "Epoch[228/228]: 100%|██████████| 228/228 [00:18<00:00, 12.04it/s, SmoothL1Loss=0.000402, MAE=1.67, RMSE=2.14, RegLoss=0]\n",
      "INFO - (NP.utils.set_auto_seasonalities) - Disabling weekly seasonality. Run NeuralProphet with weekly_seasonality=True to override this.\n",
      "INFO - (NP.utils.set_auto_seasonalities) - Disabling daily seasonality. Run NeuralProphet with daily_seasonality=True to override this.\n",
      "INFO - (NP.config.set_auto_batch_epoch) - Auto-set batch_size to 16\n",
      "INFO - (NP.config.set_auto_batch_epoch) - Auto-set epochs to 226\n"
     ]
    },
    {
     "data": {
      "application/vnd.jupyter.widget-view+json": {
       "model_id": "",
       "version_major": 2,
       "version_minor": 0
      },
      "text/plain": [
       "  0%|          | 0/228 [00:00<?, ?it/s]"
      ]
     },
     "metadata": {},
     "output_type": "display_data"
    },
    {
     "name": "stderr",
     "output_type": "stream",
     "text": [
      "INFO - (NP.utils_torch.lr_range_test) - lr-range-test results: steep: 3.55E-02, min: 3.82E-01\n"
     ]
    },
    {
     "data": {
      "application/vnd.jupyter.widget-view+json": {
       "model_id": "",
       "version_major": 2,
       "version_minor": 0
      },
      "text/plain": [
       "  0%|          | 0/228 [00:00<?, ?it/s]"
      ]
     },
     "metadata": {},
     "output_type": "display_data"
    },
    {
     "name": "stderr",
     "output_type": "stream",
     "text": [
      "INFO - (NP.utils_torch.lr_range_test) - lr-range-test results: steep: 3.89E-02, min: 3.82E-01\n"
     ]
    },
    {
     "data": {
      "application/vnd.jupyter.widget-view+json": {
       "model_id": "",
       "version_major": 2,
       "version_minor": 0
      },
      "text/plain": [
       "  0%|          | 0/228 [00:00<?, ?it/s]"
      ]
     },
     "metadata": {},
     "output_type": "display_data"
    },
    {
     "name": "stderr",
     "output_type": "stream",
     "text": [
      "INFO - (NP.utils_torch.lr_range_test) - lr-range-test results: steep: 3.89E-02, min: 4.58E-01\n",
      "INFO - (NP.forecaster._init_train_loader) - lr-range-test selected learning rate: 3.78E-02\n",
      "Epoch[226/226]: 100%|██████████| 226/226 [00:18<00:00, 12.05it/s, SmoothL1Loss=0.000101, MAE=0.855, RMSE=1.1, RegLoss=0] \n",
      "INFO - (NP.utils.set_auto_seasonalities) - Disabling weekly seasonality. Run NeuralProphet with weekly_seasonality=True to override this.\n",
      "INFO - (NP.utils.set_auto_seasonalities) - Disabling daily seasonality. Run NeuralProphet with daily_seasonality=True to override this.\n",
      "INFO - (NP.config.set_auto_batch_epoch) - Auto-set batch_size to 16\n",
      "INFO - (NP.config.set_auto_batch_epoch) - Auto-set epochs to 225\n"
     ]
    },
    {
     "data": {
      "application/vnd.jupyter.widget-view+json": {
       "model_id": "",
       "version_major": 2,
       "version_minor": 0
      },
      "text/plain": [
       "  0%|          | 0/229 [00:00<?, ?it/s]"
      ]
     },
     "metadata": {},
     "output_type": "display_data"
    },
    {
     "name": "stderr",
     "output_type": "stream",
     "text": [
      "INFO - (NP.utils_torch.lr_range_test) - lr-range-test results: steep: 4.03E-02, min: 4.28E-01\n"
     ]
    },
    {
     "data": {
      "application/vnd.jupyter.widget-view+json": {
       "model_id": "",
       "version_major": 2,
       "version_minor": 0
      },
      "text/plain": [
       "  0%|          | 0/229 [00:00<?, ?it/s]"
      ]
     },
     "metadata": {},
     "output_type": "display_data"
    },
    {
     "name": "stderr",
     "output_type": "stream",
     "text": [
      "INFO - (NP.utils_torch.lr_range_test) - lr-range-test results: steep: 2.56E-02, min: 3.26E-01\n"
     ]
    },
    {
     "data": {
      "application/vnd.jupyter.widget-view+json": {
       "model_id": "",
       "version_major": 2,
       "version_minor": 0
      },
      "text/plain": [
       "  0%|          | 0/229 [00:00<?, ?it/s]"
      ]
     },
     "metadata": {},
     "output_type": "display_data"
    },
    {
     "name": "stderr",
     "output_type": "stream",
     "text": [
      "INFO - (NP.utils_torch.lr_range_test) - lr-range-test results: steep: 2.80E-02, min: 4.69E-01\n",
      "INFO - (NP.forecaster._init_train_loader) - lr-range-test selected learning rate: 3.07E-02\n",
      "Epoch[225/225]: 100%|██████████| 225/225 [00:15<00:00, 14.13it/s, SmoothL1Loss=0.000123, MAE=0.965, RMSE=1.24, RegLoss=0]\n",
      "INFO - (NP.utils.set_auto_seasonalities) - Disabling weekly seasonality. Run NeuralProphet with weekly_seasonality=True to override this.\n",
      "INFO - (NP.utils.set_auto_seasonalities) - Disabling daily seasonality. Run NeuralProphet with daily_seasonality=True to override this.\n",
      "INFO - (NP.config.set_auto_batch_epoch) - Auto-set batch_size to 16\n",
      "INFO - (NP.config.set_auto_batch_epoch) - Auto-set epochs to 233\n"
     ]
    },
    {
     "data": {
      "application/vnd.jupyter.widget-view+json": {
       "model_id": "",
       "version_major": 2,
       "version_minor": 0
      },
      "text/plain": [
       "  0%|          | 0/225 [00:00<?, ?it/s]"
      ]
     },
     "metadata": {},
     "output_type": "display_data"
    },
    {
     "name": "stderr",
     "output_type": "stream",
     "text": [
      "INFO - (NP.utils_torch.lr_range_test) - lr-range-test results: steep: 5.57E-02, min: 5.62E-01\n"
     ]
    },
    {
     "data": {
      "application/vnd.jupyter.widget-view+json": {
       "model_id": "",
       "version_major": 2,
       "version_minor": 0
      },
      "text/plain": [
       "  0%|          | 0/225 [00:00<?, ?it/s]"
      ]
     },
     "metadata": {},
     "output_type": "display_data"
    },
    {
     "name": "stderr",
     "output_type": "stream",
     "text": [
      "INFO - (NP.utils_torch.lr_range_test) - lr-range-test results: steep: 1.06E-01, min: 6.77E-01\n"
     ]
    },
    {
     "data": {
      "application/vnd.jupyter.widget-view+json": {
       "model_id": "",
       "version_major": 2,
       "version_minor": 0
      },
      "text/plain": [
       "  0%|          | 0/225 [00:00<?, ?it/s]"
      ]
     },
     "metadata": {},
     "output_type": "display_data"
    },
    {
     "name": "stderr",
     "output_type": "stream",
     "text": [
      "INFO - (NP.utils_torch.lr_range_test) - lr-range-test results: steep: 5.57E-02, min: 5.13E-01\n",
      "INFO - (NP.forecaster._init_train_loader) - lr-range-test selected learning rate: 6.91E-02\n",
      "Epoch[233/233]: 100%|██████████| 233/233 [00:17<00:00, 13.13it/s, SmoothL1Loss=0.00127, MAE=1.87, RMSE=2.38, RegLoss=0]\n",
      "INFO - (NP.utils.set_auto_seasonalities) - Disabling weekly seasonality. Run NeuralProphet with weekly_seasonality=True to override this.\n",
      "INFO - (NP.utils.set_auto_seasonalities) - Disabling daily seasonality. Run NeuralProphet with daily_seasonality=True to override this.\n",
      "INFO - (NP.config.set_auto_batch_epoch) - Auto-set batch_size to 16\n",
      "INFO - (NP.config.set_auto_batch_epoch) - Auto-set epochs to 231\n"
     ]
    },
    {
     "data": {
      "application/vnd.jupyter.widget-view+json": {
       "model_id": "",
       "version_major": 2,
       "version_minor": 0
      },
      "text/plain": [
       "  0%|          | 0/226 [00:00<?, ?it/s]"
      ]
     },
     "metadata": {},
     "output_type": "display_data"
    },
    {
     "name": "stderr",
     "output_type": "stream",
     "text": [
      "INFO - (NP.utils_torch.lr_range_test) - lr-range-test results: steep: 4.79E-02, min: 3.63E-01\n"
     ]
    },
    {
     "data": {
      "application/vnd.jupyter.widget-view+json": {
       "model_id": "",
       "version_major": 2,
       "version_minor": 0
      },
      "text/plain": [
       "  0%|          | 0/226 [00:00<?, ?it/s]"
      ]
     },
     "metadata": {},
     "output_type": "display_data"
    },
    {
     "name": "stderr",
     "output_type": "stream",
     "text": [
      "INFO - (NP.utils_torch.lr_range_test) - lr-range-test results: steep: 5.25E-02, min: 3.02E-01\n"
     ]
    },
    {
     "data": {
      "application/vnd.jupyter.widget-view+json": {
       "model_id": "",
       "version_major": 2,
       "version_minor": 0
      },
      "text/plain": [
       "  0%|          | 0/226 [00:00<?, ?it/s]"
      ]
     },
     "metadata": {},
     "output_type": "display_data"
    },
    {
     "name": "stderr",
     "output_type": "stream",
     "text": [
      "INFO - (NP.utils_torch.lr_range_test) - lr-range-test results: steep: 5.75E-02, min: 3.02E-01\n",
      "INFO - (NP.forecaster._init_train_loader) - lr-range-test selected learning rate: 5.25E-02\n",
      "Epoch[231/231]: 100%|██████████| 231/231 [00:18<00:00, 12.46it/s, SmoothL1Loss=0.00116, MAE=1.96, RMSE=2.5, RegLoss=0] \n",
      "INFO - (NP.utils.set_auto_seasonalities) - Disabling weekly seasonality. Run NeuralProphet with weekly_seasonality=True to override this.\n",
      "INFO - (NP.utils.set_auto_seasonalities) - Disabling daily seasonality. Run NeuralProphet with daily_seasonality=True to override this.\n",
      "INFO - (NP.config.set_auto_batch_epoch) - Auto-set batch_size to 16\n",
      "INFO - (NP.config.set_auto_batch_epoch) - Auto-set epochs to 230\n"
     ]
    },
    {
     "data": {
      "application/vnd.jupyter.widget-view+json": {
       "model_id": "",
       "version_major": 2,
       "version_minor": 0
      },
      "text/plain": [
       "  0%|          | 0/227 [00:00<?, ?it/s]"
      ]
     },
     "metadata": {},
     "output_type": "display_data"
    },
    {
     "name": "stderr",
     "output_type": "stream",
     "text": [
      "INFO - (NP.utils_torch.lr_range_test) - lr-range-test results: steep: 1.14E-02, min: 7.75E-01\n"
     ]
    },
    {
     "data": {
      "application/vnd.jupyter.widget-view+json": {
       "model_id": "",
       "version_major": 2,
       "version_minor": 0
      },
      "text/plain": [
       "  0%|          | 0/227 [00:00<?, ?it/s]"
      ]
     },
     "metadata": {},
     "output_type": "display_data"
    },
    {
     "name": "stderr",
     "output_type": "stream",
     "text": [
      "INFO - (NP.utils_torch.lr_range_test) - lr-range-test results: steep: 1.04E-02, min: 6.45E-01\n"
     ]
    },
    {
     "data": {
      "application/vnd.jupyter.widget-view+json": {
       "model_id": "",
       "version_major": 2,
       "version_minor": 0
      },
      "text/plain": [
       "  0%|          | 0/227 [00:00<?, ?it/s]"
      ]
     },
     "metadata": {},
     "output_type": "display_data"
    },
    {
     "name": "stderr",
     "output_type": "stream",
     "text": [
      "INFO - (NP.utils_torch.lr_range_test) - lr-range-test results: steep: 1.14E-02, min: 6.45E-01\n",
      "INFO - (NP.forecaster._init_train_loader) - lr-range-test selected learning rate: 1.11E-02\n",
      "Epoch[230/230]: 100%|██████████| 230/230 [00:15<00:00, 14.78it/s, SmoothL1Loss=0.00187, MAE=2.64, RMSE=3.41, RegLoss=0]\n",
      "INFO - (NP.utils.set_auto_seasonalities) - Disabling weekly seasonality. Run NeuralProphet with weekly_seasonality=True to override this.\n",
      "INFO - (NP.utils.set_auto_seasonalities) - Disabling daily seasonality. Run NeuralProphet with daily_seasonality=True to override this.\n",
      "INFO - (NP.config.set_auto_batch_epoch) - Auto-set batch_size to 16\n",
      "INFO - (NP.config.set_auto_batch_epoch) - Auto-set epochs to 228\n"
     ]
    },
    {
     "data": {
      "application/vnd.jupyter.widget-view+json": {
       "model_id": "",
       "version_major": 2,
       "version_minor": 0
      },
      "text/plain": [
       "  0%|          | 0/227 [00:00<?, ?it/s]"
      ]
     },
     "metadata": {},
     "output_type": "display_data"
    },
    {
     "name": "stderr",
     "output_type": "stream",
     "text": [
      "INFO - (NP.utils_torch.lr_range_test) - lr-range-test results: steep: 1.65E-02, min: 3.72E-01\n"
     ]
    },
    {
     "data": {
      "application/vnd.jupyter.widget-view+json": {
       "model_id": "",
       "version_major": 2,
       "version_minor": 0
      },
      "text/plain": [
       "  0%|          | 0/227 [00:00<?, ?it/s]"
      ]
     },
     "metadata": {},
     "output_type": "display_data"
    },
    {
     "name": "stderr",
     "output_type": "stream",
     "text": [
      "INFO - (NP.utils_torch.lr_range_test) - lr-range-test results: steep: 2.61E-02, min: 3.72E-01\n"
     ]
    },
    {
     "data": {
      "application/vnd.jupyter.widget-view+json": {
       "model_id": "",
       "version_major": 2,
       "version_minor": 0
      },
      "text/plain": [
       "  0%|          | 0/227 [00:00<?, ?it/s]"
      ]
     },
     "metadata": {},
     "output_type": "display_data"
    },
    {
     "name": "stderr",
     "output_type": "stream",
     "text": [
      "INFO - (NP.utils_torch.lr_range_test) - lr-range-test results: steep: 4.95E-02, min: 4.08E-01\n",
      "INFO - (NP.forecaster._init_train_loader) - lr-range-test selected learning rate: 2.77E-02\n",
      "Epoch[228/228]: 100%|██████████| 228/228 [00:19<00:00, 11.93it/s, SmoothL1Loss=0.0012, MAE=2.19, RMSE=2.78, RegLoss=0] \n",
      "INFO - (NP.utils.set_auto_seasonalities) - Disabling weekly seasonality. Run NeuralProphet with weekly_seasonality=True to override this.\n",
      "INFO - (NP.utils.set_auto_seasonalities) - Disabling daily seasonality. Run NeuralProphet with daily_seasonality=True to override this.\n",
      "INFO - (NP.config.set_auto_batch_epoch) - Auto-set batch_size to 16\n",
      "INFO - (NP.config.set_auto_batch_epoch) - Auto-set epochs to 226\n"
     ]
    },
    {
     "data": {
      "application/vnd.jupyter.widget-view+json": {
       "model_id": "",
       "version_major": 2,
       "version_minor": 0
      },
      "text/plain": [
       "  0%|          | 0/228 [00:00<?, ?it/s]"
      ]
     },
     "metadata": {},
     "output_type": "display_data"
    },
    {
     "name": "stderr",
     "output_type": "stream",
     "text": [
      "INFO - (NP.utils_torch.lr_range_test) - lr-range-test results: steep: 1.43E-02, min: 7.92E-01\n"
     ]
    },
    {
     "data": {
      "application/vnd.jupyter.widget-view+json": {
       "model_id": "",
       "version_major": 2,
       "version_minor": 0
      },
      "text/plain": [
       "  0%|          | 0/228 [00:00<?, ?it/s]"
      ]
     },
     "metadata": {},
     "output_type": "display_data"
    },
    {
     "name": "stderr",
     "output_type": "stream",
     "text": [
      "INFO - (NP.utils_torch.lr_range_test) - lr-range-test results: steep: 1.30E-02, min: 9.51E-01\n"
     ]
    },
    {
     "data": {
      "application/vnd.jupyter.widget-view+json": {
       "model_id": "",
       "version_major": 2,
       "version_minor": 0
      },
      "text/plain": [
       "  0%|          | 0/228 [00:00<?, ?it/s]"
      ]
     },
     "metadata": {},
     "output_type": "display_data"
    },
    {
     "name": "stderr",
     "output_type": "stream",
     "text": [
      "INFO - (NP.utils_torch.lr_range_test) - lr-range-test results: steep: 1.19E-02, min: 8.68E-01\n",
      "INFO - (NP.forecaster._init_train_loader) - lr-range-test selected learning rate: 1.30E-02\n",
      "Epoch[226/226]: 100%|██████████| 226/226 [00:18<00:00, 12.02it/s, SmoothL1Loss=0.00203, MAE=2.89, RMSE=3.79, RegLoss=0]\n",
      "INFO - (NP.utils.set_auto_seasonalities) - Disabling weekly seasonality. Run NeuralProphet with weekly_seasonality=True to override this.\n",
      "INFO - (NP.utils.set_auto_seasonalities) - Disabling daily seasonality. Run NeuralProphet with daily_seasonality=True to override this.\n",
      "INFO - (NP.config.set_auto_batch_epoch) - Auto-set batch_size to 16\n",
      "INFO - (NP.config.set_auto_batch_epoch) - Auto-set epochs to 225\n"
     ]
    },
    {
     "data": {
      "application/vnd.jupyter.widget-view+json": {
       "model_id": "",
       "version_major": 2,
       "version_minor": 0
      },
      "text/plain": [
       "  0%|          | 0/229 [00:00<?, ?it/s]"
      ]
     },
     "metadata": {},
     "output_type": "display_data"
    },
    {
     "name": "stderr",
     "output_type": "stream",
     "text": [
      "INFO - (NP.utils_torch.lr_range_test) - lr-range-test results: steep: 4.03E-02, min: 5.13E-01\n"
     ]
    },
    {
     "data": {
      "application/vnd.jupyter.widget-view+json": {
       "model_id": "",
       "version_major": 2,
       "version_minor": 0
      },
      "text/plain": [
       "  0%|          | 0/229 [00:00<?, ?it/s]"
      ]
     },
     "metadata": {},
     "output_type": "display_data"
    },
    {
     "name": "stderr",
     "output_type": "stream",
     "text": [
      "INFO - (NP.utils_torch.lr_range_test) - lr-range-test results: steep: 4.41E-02, min: 6.74E-01\n"
     ]
    },
    {
     "data": {
      "application/vnd.jupyter.widget-view+json": {
       "model_id": "",
       "version_major": 2,
       "version_minor": 0
      },
      "text/plain": [
       "  0%|          | 0/229 [00:00<?, ?it/s]"
      ]
     },
     "metadata": {},
     "output_type": "display_data"
    },
    {
     "name": "stderr",
     "output_type": "stream",
     "text": [
      "INFO - (NP.utils_torch.lr_range_test) - lr-range-test results: steep: 4.41E-02, min: 5.13E-01\n",
      "INFO - (NP.forecaster._init_train_loader) - lr-range-test selected learning rate: 4.28E-02\n",
      "Epoch[225/225]: 100%|██████████| 225/225 [00:19<00:00, 11.52it/s, SmoothL1Loss=0.000985, MAE=2.06, RMSE=2.67, RegLoss=0]\n",
      "INFO - (NP.utils.set_auto_seasonalities) - Disabling weekly seasonality. Run NeuralProphet with weekly_seasonality=True to override this.\n",
      "INFO - (NP.utils.set_auto_seasonalities) - Disabling daily seasonality. Run NeuralProphet with daily_seasonality=True to override this.\n",
      "INFO - (NP.config.set_auto_batch_epoch) - Auto-set batch_size to 16\n",
      "INFO - (NP.config.set_auto_batch_epoch) - Auto-set epochs to 233\n"
     ]
    },
    {
     "data": {
      "application/vnd.jupyter.widget-view+json": {
       "model_id": "",
       "version_major": 2,
       "version_minor": 0
      },
      "text/plain": [
       "  0%|          | 0/225 [00:00<?, ?it/s]"
      ]
     },
     "metadata": {},
     "output_type": "display_data"
    },
    {
     "name": "stderr",
     "output_type": "stream",
     "text": [
      "INFO - (NP.utils_torch.lr_range_test) - lr-range-test results: steep: 7.35E-02, min: 4.67E-01\n"
     ]
    },
    {
     "data": {
      "application/vnd.jupyter.widget-view+json": {
       "model_id": "",
       "version_major": 2,
       "version_minor": 0
      },
      "text/plain": [
       "  0%|          | 0/225 [00:00<?, ?it/s]"
      ]
     },
     "metadata": {},
     "output_type": "display_data"
    },
    {
     "name": "stderr",
     "output_type": "stream",
     "text": [
      "INFO - (NP.utils_torch.lr_range_test) - lr-range-test results: steep: 6.70E-02, min: 5.62E-01\n"
     ]
    },
    {
     "data": {
      "application/vnd.jupyter.widget-view+json": {
       "model_id": "",
       "version_major": 2,
       "version_minor": 0
      },
      "text/plain": [
       "  0%|          | 0/225 [00:00<?, ?it/s]"
      ]
     },
     "metadata": {},
     "output_type": "display_data"
    },
    {
     "name": "stderr",
     "output_type": "stream",
     "text": [
      "INFO - (NP.utils_torch.lr_range_test) - lr-range-test results: steep: 6.11E-02, min: 5.62E-01\n",
      "INFO - (NP.forecaster._init_train_loader) - lr-range-test selected learning rate: 6.70E-02\n",
      "Epoch[233/233]: 100%|██████████| 233/233 [00:17<00:00, 13.30it/s, SmoothL1Loss=0.000274, MAE=1.31, RMSE=1.7, RegLoss=0] \n",
      "INFO - (NP.utils.set_auto_seasonalities) - Disabling weekly seasonality. Run NeuralProphet with weekly_seasonality=True to override this.\n",
      "INFO - (NP.utils.set_auto_seasonalities) - Disabling daily seasonality. Run NeuralProphet with daily_seasonality=True to override this.\n",
      "INFO - (NP.config.set_auto_batch_epoch) - Auto-set batch_size to 16\n",
      "INFO - (NP.config.set_auto_batch_epoch) - Auto-set epochs to 231\n"
     ]
    },
    {
     "data": {
      "application/vnd.jupyter.widget-view+json": {
       "model_id": "",
       "version_major": 2,
       "version_minor": 0
      },
      "text/plain": [
       "  0%|          | 0/226 [00:00<?, ?it/s]"
      ]
     },
     "metadata": {},
     "output_type": "display_data"
    },
    {
     "name": "stderr",
     "output_type": "stream",
     "text": [
      "INFO - (NP.utils_torch.lr_range_test) - lr-range-test results: steep: 4.79E-02, min: 4.37E-01\n"
     ]
    },
    {
     "data": {
      "application/vnd.jupyter.widget-view+json": {
       "model_id": "",
       "version_major": 2,
       "version_minor": 0
      },
      "text/plain": [
       "  0%|          | 0/226 [00:00<?, ?it/s]"
      ]
     },
     "metadata": {},
     "output_type": "display_data"
    },
    {
     "name": "stderr",
     "output_type": "stream",
     "text": [
      "INFO - (NP.utils_torch.lr_range_test) - lr-range-test results: steep: 4.37E-02, min: 3.98E-01\n"
     ]
    },
    {
     "data": {
      "application/vnd.jupyter.widget-view+json": {
       "model_id": "",
       "version_major": 2,
       "version_minor": 0
      },
      "text/plain": [
       "  0%|          | 0/226 [00:00<?, ?it/s]"
      ]
     },
     "metadata": {},
     "output_type": "display_data"
    },
    {
     "name": "stderr",
     "output_type": "stream",
     "text": [
      "INFO - (NP.utils_torch.lr_range_test) - lr-range-test results: steep: 4.79E-02, min: 3.98E-01\n",
      "INFO - (NP.forecaster._init_train_loader) - lr-range-test selected learning rate: 4.64E-02\n",
      "Epoch[231/231]: 100%|██████████| 231/231 [00:18<00:00, 12.36it/s, SmoothL1Loss=0.000198, MAE=1.39, RMSE=1.78, RegLoss=0]\n",
      "INFO - (NP.utils.set_auto_seasonalities) - Disabling weekly seasonality. Run NeuralProphet with weekly_seasonality=True to override this.\n",
      "INFO - (NP.utils.set_auto_seasonalities) - Disabling daily seasonality. Run NeuralProphet with daily_seasonality=True to override this.\n",
      "INFO - (NP.config.set_auto_batch_epoch) - Auto-set batch_size to 16\n",
      "INFO - (NP.config.set_auto_batch_epoch) - Auto-set epochs to 230\n"
     ]
    },
    {
     "data": {
      "application/vnd.jupyter.widget-view+json": {
       "model_id": "",
       "version_major": 2,
       "version_minor": 0
      },
      "text/plain": [
       "  0%|          | 0/227 [00:00<?, ?it/s]"
      ]
     },
     "metadata": {},
     "output_type": "display_data"
    },
    {
     "name": "stderr",
     "output_type": "stream",
     "text": [
      "INFO - (NP.utils_torch.lr_range_test) - lr-range-test results: steep: 1.25E-02, min: 6.45E-01\n"
     ]
    },
    {
     "data": {
      "application/vnd.jupyter.widget-view+json": {
       "model_id": "",
       "version_major": 2,
       "version_minor": 0
      },
      "text/plain": [
       "  0%|          | 0/227 [00:00<?, ?it/s]"
      ]
     },
     "metadata": {},
     "output_type": "display_data"
    },
    {
     "name": "stderr",
     "output_type": "stream",
     "text": [
      "INFO - (NP.utils_torch.lr_range_test) - lr-range-test results: steep: 1.25E-02, min: 7.07E-01\n"
     ]
    },
    {
     "data": {
      "application/vnd.jupyter.widget-view+json": {
       "model_id": "",
       "version_major": 2,
       "version_minor": 0
      },
      "text/plain": [
       "  0%|          | 0/227 [00:00<?, ?it/s]"
      ]
     },
     "metadata": {},
     "output_type": "display_data"
    },
    {
     "name": "stderr",
     "output_type": "stream",
     "text": [
      "INFO - (NP.utils_torch.lr_range_test) - lr-range-test results: steep: 1.14E-02, min: 7.07E-01\n",
      "INFO - (NP.forecaster._init_train_loader) - lr-range-test selected learning rate: 1.21E-02\n",
      "Epoch[230/230]: 100%|██████████| 230/230 [00:14<00:00, 15.39it/s, SmoothL1Loss=0.000503, MAE=2.21, RMSE=2.92, RegLoss=0]\n",
      "INFO - (NP.utils.set_auto_seasonalities) - Disabling weekly seasonality. Run NeuralProphet with weekly_seasonality=True to override this.\n",
      "INFO - (NP.utils.set_auto_seasonalities) - Disabling daily seasonality. Run NeuralProphet with daily_seasonality=True to override this.\n",
      "INFO - (NP.config.set_auto_batch_epoch) - Auto-set batch_size to 16\n",
      "INFO - (NP.config.set_auto_batch_epoch) - Auto-set epochs to 228\n"
     ]
    },
    {
     "data": {
      "application/vnd.jupyter.widget-view+json": {
       "model_id": "",
       "version_major": 2,
       "version_minor": 0
      },
      "text/plain": [
       "  0%|          | 0/227 [00:00<?, ?it/s]"
      ]
     },
     "metadata": {},
     "output_type": "display_data"
    },
    {
     "name": "stderr",
     "output_type": "stream",
     "text": [
      "INFO - (NP.utils_torch.lr_range_test) - lr-range-test results: steep: 3.76E-02, min: 4.47E-01\n"
     ]
    },
    {
     "data": {
      "application/vnd.jupyter.widget-view+json": {
       "model_id": "",
       "version_major": 2,
       "version_minor": 0
      },
      "text/plain": [
       "  0%|          | 0/227 [00:00<?, ?it/s]"
      ]
     },
     "metadata": {},
     "output_type": "display_data"
    },
    {
     "name": "stderr",
     "output_type": "stream",
     "text": [
      "INFO - (NP.utils_torch.lr_range_test) - lr-range-test results: steep: 8.67E-03, min: 4.08E-01\n"
     ]
    },
    {
     "data": {
      "application/vnd.jupyter.widget-view+json": {
       "model_id": "",
       "version_major": 2,
       "version_minor": 0
      },
      "text/plain": [
       "  0%|          | 0/227 [00:00<?, ?it/s]"
      ]
     },
     "metadata": {},
     "output_type": "display_data"
    },
    {
     "name": "stderr",
     "output_type": "stream",
     "text": [
      "INFO - (NP.utils_torch.lr_range_test) - lr-range-test results: steep: 3.43E-02, min: 4.08E-01\n",
      "INFO - (NP.forecaster._init_train_loader) - lr-range-test selected learning rate: 2.24E-02\n",
      "Epoch[228/228]: 100%|██████████| 228/228 [00:14<00:00, 15.38it/s, SmoothL1Loss=0.000317, MAE=1.77, RMSE=2.32, RegLoss=0]\n",
      "INFO - (NP.utils.set_auto_seasonalities) - Disabling weekly seasonality. Run NeuralProphet with weekly_seasonality=True to override this.\n",
      "INFO - (NP.utils.set_auto_seasonalities) - Disabling daily seasonality. Run NeuralProphet with daily_seasonality=True to override this.\n",
      "INFO - (NP.config.set_auto_batch_epoch) - Auto-set batch_size to 16\n",
      "INFO - (NP.config.set_auto_batch_epoch) - Auto-set epochs to 226\n"
     ]
    },
    {
     "data": {
      "application/vnd.jupyter.widget-view+json": {
       "model_id": "",
       "version_major": 2,
       "version_minor": 0
      },
      "text/plain": [
       "  0%|          | 0/228 [00:00<?, ?it/s]"
      ]
     },
     "metadata": {},
     "output_type": "display_data"
    },
    {
     "name": "stderr",
     "output_type": "stream",
     "text": [
      "INFO - (NP.utils_torch.lr_range_test) - lr-range-test results: steep: 3.55E-02, min: 4.18E-01\n"
     ]
    },
    {
     "data": {
      "application/vnd.jupyter.widget-view+json": {
       "model_id": "",
       "version_major": 2,
       "version_minor": 0
      },
      "text/plain": [
       "  0%|          | 0/228 [00:00<?, ?it/s]"
      ]
     },
     "metadata": {},
     "output_type": "display_data"
    },
    {
     "name": "stderr",
     "output_type": "stream",
     "text": [
      "INFO - (NP.utils_torch.lr_range_test) - lr-range-test results: steep: 4.27E-02, min: 3.48E-01\n"
     ]
    },
    {
     "data": {
      "application/vnd.jupyter.widget-view+json": {
       "model_id": "",
       "version_major": 2,
       "version_minor": 0
      },
      "text/plain": [
       "  0%|          | 0/228 [00:00<?, ?it/s]"
      ]
     },
     "metadata": {},
     "output_type": "display_data"
    },
    {
     "name": "stderr",
     "output_type": "stream",
     "text": [
      "INFO - (NP.utils_torch.lr_range_test) - lr-range-test results: steep: 5.12E-02, min: 4.18E-01\n",
      "INFO - (NP.forecaster._init_train_loader) - lr-range-test selected learning rate: 4.27E-02\n",
      "Epoch[226/226]: 100%|██████████| 226/226 [00:19<00:00, 11.51it/s, SmoothL1Loss=0.000278, MAE=1.66, RMSE=2.2, RegLoss=0] \n",
      "INFO - (NP.utils.set_auto_seasonalities) - Disabling weekly seasonality. Run NeuralProphet with weekly_seasonality=True to override this.\n",
      "INFO - (NP.utils.set_auto_seasonalities) - Disabling daily seasonality. Run NeuralProphet with daily_seasonality=True to override this.\n",
      "INFO - (NP.config.set_auto_batch_epoch) - Auto-set batch_size to 16\n",
      "INFO - (NP.config.set_auto_batch_epoch) - Auto-set epochs to 225\n"
     ]
    },
    {
     "data": {
      "application/vnd.jupyter.widget-view+json": {
       "model_id": "",
       "version_major": 2,
       "version_minor": 0
      },
      "text/plain": [
       "  0%|          | 0/229 [00:00<?, ?it/s]"
      ]
     },
     "metadata": {},
     "output_type": "display_data"
    },
    {
     "name": "stderr",
     "output_type": "stream",
     "text": [
      "INFO - (NP.utils_torch.lr_range_test) - lr-range-test results: steep: 1.24E-02, min: 6.16E-01\n"
     ]
    },
    {
     "data": {
      "application/vnd.jupyter.widget-view+json": {
       "model_id": "",
       "version_major": 2,
       "version_minor": 0
      },
      "text/plain": [
       "  0%|          | 0/229 [00:00<?, ?it/s]"
      ]
     },
     "metadata": {},
     "output_type": "display_data"
    },
    {
     "name": "stderr",
     "output_type": "stream",
     "text": [
      "INFO - (NP.utils_torch.lr_range_test) - lr-range-test results: steep: 1.13E-02, min: 8.09E-01\n"
     ]
    },
    {
     "data": {
      "application/vnd.jupyter.widget-view+json": {
       "model_id": "",
       "version_major": 2,
       "version_minor": 0
      },
      "text/plain": [
       "  0%|          | 0/229 [00:00<?, ?it/s]"
      ]
     },
     "metadata": {},
     "output_type": "display_data"
    },
    {
     "name": "stderr",
     "output_type": "stream",
     "text": [
      "INFO - (NP.utils_torch.lr_range_test) - lr-range-test results: steep: 1.24E-02, min: 5.62E-01\n",
      "INFO - (NP.forecaster._init_train_loader) - lr-range-test selected learning rate: 1.20E-02\n",
      "Epoch[225/225]: 100%|██████████| 225/225 [00:16<00:00, 13.91it/s, SmoothL1Loss=0.000782, MAE=2.9, RMSE=3.74, RegLoss=0] \n",
      "INFO - (NP.utils.set_auto_seasonalities) - Disabling weekly seasonality. Run NeuralProphet with weekly_seasonality=True to override this.\n",
      "INFO - (NP.utils.set_auto_seasonalities) - Disabling daily seasonality. Run NeuralProphet with daily_seasonality=True to override this.\n",
      "INFO - (NP.config.set_auto_batch_epoch) - Auto-set batch_size to 16\n",
      "INFO - (NP.config.set_auto_batch_epoch) - Auto-set epochs to 233\n"
     ]
    },
    {
     "data": {
      "application/vnd.jupyter.widget-view+json": {
       "model_id": "",
       "version_major": 2,
       "version_minor": 0
      },
      "text/plain": [
       "  0%|          | 0/225 [00:00<?, ?it/s]"
      ]
     },
     "metadata": {},
     "output_type": "display_data"
    },
    {
     "name": "stderr",
     "output_type": "stream",
     "text": [
      "INFO - (NP.utils_torch.lr_range_test) - lr-range-test results: steep: 3.84E-02, min: 3.23E-01\n"
     ]
    },
    {
     "data": {
      "application/vnd.jupyter.widget-view+json": {
       "model_id": "",
       "version_major": 2,
       "version_minor": 0
      },
      "text/plain": [
       "  0%|          | 0/225 [00:00<?, ?it/s]"
      ]
     },
     "metadata": {},
     "output_type": "display_data"
    },
    {
     "name": "stderr",
     "output_type": "stream",
     "text": [
      "INFO - (NP.utils_torch.lr_range_test) - lr-range-test results: steep: 3.50E-02, min: 2.94E-01\n"
     ]
    },
    {
     "data": {
      "application/vnd.jupyter.widget-view+json": {
       "model_id": "",
       "version_major": 2,
       "version_minor": 0
      },
      "text/plain": [
       "  0%|          | 0/225 [00:00<?, ?it/s]"
      ]
     },
     "metadata": {},
     "output_type": "display_data"
    },
    {
     "name": "stderr",
     "output_type": "stream",
     "text": [
      "INFO - (NP.utils_torch.lr_range_test) - lr-range-test results: steep: 3.19E-02, min: 3.23E-01\n",
      "INFO - (NP.forecaster._init_train_loader) - lr-range-test selected learning rate: 3.50E-02\n",
      "Epoch[233/233]: 100%|██████████| 233/233 [00:17<00:00, 13.41it/s, SmoothL1Loss=0.000246, MAE=0.926, RMSE=1.17, RegLoss=0]\n",
      "INFO - (NP.utils.set_auto_seasonalities) - Disabling weekly seasonality. Run NeuralProphet with weekly_seasonality=True to override this.\n",
      "INFO - (NP.utils.set_auto_seasonalities) - Disabling daily seasonality. Run NeuralProphet with daily_seasonality=True to override this.\n",
      "INFO - (NP.config.set_auto_batch_epoch) - Auto-set batch_size to 16\n",
      "INFO - (NP.config.set_auto_batch_epoch) - Auto-set epochs to 231\n"
     ]
    },
    {
     "data": {
      "application/vnd.jupyter.widget-view+json": {
       "model_id": "",
       "version_major": 2,
       "version_minor": 0
      },
      "text/plain": [
       "  0%|          | 0/226 [00:00<?, ?it/s]"
      ]
     },
     "metadata": {},
     "output_type": "display_data"
    },
    {
     "name": "stderr",
     "output_type": "stream",
     "text": [
      "INFO - (NP.utils_torch.lr_range_test) - lr-range-test results: steep: 4.37E-02, min: 3.63E-01\n"
     ]
    },
    {
     "data": {
      "application/vnd.jupyter.widget-view+json": {
       "model_id": "",
       "version_major": 2,
       "version_minor": 0
      },
      "text/plain": [
       "  0%|          | 0/226 [00:00<?, ?it/s]"
      ]
     },
     "metadata": {},
     "output_type": "display_data"
    },
    {
     "name": "stderr",
     "output_type": "stream",
     "text": [
      "INFO - (NP.utils_torch.lr_range_test) - lr-range-test results: steep: 4.37E-02, min: 3.63E-01\n"
     ]
    },
    {
     "data": {
      "application/vnd.jupyter.widget-view+json": {
       "model_id": "",
       "version_major": 2,
       "version_minor": 0
      },
      "text/plain": [
       "  0%|          | 0/226 [00:00<?, ?it/s]"
      ]
     },
     "metadata": {},
     "output_type": "display_data"
    },
    {
     "name": "stderr",
     "output_type": "stream",
     "text": [
      "INFO - (NP.utils_torch.lr_range_test) - lr-range-test results: steep: 3.98E-02, min: 3.98E-01\n",
      "INFO - (NP.forecaster._init_train_loader) - lr-range-test selected learning rate: 4.23E-02\n",
      "Epoch[231/231]: 100%|██████████| 231/231 [00:15<00:00, 14.93it/s, SmoothL1Loss=0.000197, MAE=0.837, RMSE=1.08, RegLoss=0]\n",
      "INFO - (NP.utils.set_auto_seasonalities) - Disabling weekly seasonality. Run NeuralProphet with weekly_seasonality=True to override this.\n",
      "INFO - (NP.utils.set_auto_seasonalities) - Disabling daily seasonality. Run NeuralProphet with daily_seasonality=True to override this.\n",
      "INFO - (NP.config.set_auto_batch_epoch) - Auto-set batch_size to 16\n",
      "INFO - (NP.config.set_auto_batch_epoch) - Auto-set epochs to 230\n"
     ]
    },
    {
     "data": {
      "application/vnd.jupyter.widget-view+json": {
       "model_id": "",
       "version_major": 2,
       "version_minor": 0
      },
      "text/plain": [
       "  0%|          | 0/227 [00:00<?, ?it/s]"
      ]
     },
     "metadata": {},
     "output_type": "display_data"
    },
    {
     "name": "stderr",
     "output_type": "stream",
     "text": [
      "INFO - (NP.utils_torch.lr_range_test) - lr-range-test results: steep: 3.43E-02, min: 5.37E-01\n"
     ]
    },
    {
     "data": {
      "application/vnd.jupyter.widget-view+json": {
       "model_id": "",
       "version_major": 2,
       "version_minor": 0
      },
      "text/plain": [
       "  0%|          | 0/227 [00:00<?, ?it/s]"
      ]
     },
     "metadata": {},
     "output_type": "display_data"
    },
    {
     "name": "stderr",
     "output_type": "stream",
     "text": [
      "INFO - (NP.utils_torch.lr_range_test) - lr-range-test results: steep: 4.12E-02, min: 3.40E-01\n"
     ]
    },
    {
     "data": {
      "application/vnd.jupyter.widget-view+json": {
       "model_id": "",
       "version_major": 2,
       "version_minor": 0
      },
      "text/plain": [
       "  0%|          | 0/227 [00:00<?, ?it/s]"
      ]
     },
     "metadata": {},
     "output_type": "display_data"
    },
    {
     "name": "stderr",
     "output_type": "stream",
     "text": [
      "INFO - (NP.utils_torch.lr_range_test) - lr-range-test results: steep: 4.95E-02, min: 4.08E-01\n",
      "INFO - (NP.forecaster._init_train_loader) - lr-range-test selected learning rate: 4.12E-02\n",
      "Epoch[230/230]: 100%|██████████| 230/230 [00:15<00:00, 15.03it/s, SmoothL1Loss=0.000241, MAE=0.964, RMSE=1.23, RegLoss=0]\n",
      "INFO - (NP.utils.set_auto_seasonalities) - Disabling weekly seasonality. Run NeuralProphet with weekly_seasonality=True to override this.\n",
      "INFO - (NP.utils.set_auto_seasonalities) - Disabling daily seasonality. Run NeuralProphet with daily_seasonality=True to override this.\n",
      "INFO - (NP.config.set_auto_batch_epoch) - Auto-set batch_size to 16\n",
      "INFO - (NP.config.set_auto_batch_epoch) - Auto-set epochs to 228\n"
     ]
    },
    {
     "data": {
      "application/vnd.jupyter.widget-view+json": {
       "model_id": "",
       "version_major": 2,
       "version_minor": 0
      },
      "text/plain": [
       "  0%|          | 0/227 [00:00<?, ?it/s]"
      ]
     },
     "metadata": {},
     "output_type": "display_data"
    },
    {
     "name": "stderr",
     "output_type": "stream",
     "text": [
      "INFO - (NP.utils_torch.lr_range_test) - lr-range-test results: steep: 3.43E-02, min: 4.90E-01\n"
     ]
    },
    {
     "data": {
      "application/vnd.jupyter.widget-view+json": {
       "model_id": "",
       "version_major": 2,
       "version_minor": 0
      },
      "text/plain": [
       "  0%|          | 0/227 [00:00<?, ?it/s]"
      ]
     },
     "metadata": {},
     "output_type": "display_data"
    },
    {
     "name": "stderr",
     "output_type": "stream",
     "text": [
      "INFO - (NP.utils_torch.lr_range_test) - lr-range-test results: steep: 3.43E-02, min: 3.72E-01\n"
     ]
    },
    {
     "data": {
      "application/vnd.jupyter.widget-view+json": {
       "model_id": "",
       "version_major": 2,
       "version_minor": 0
      },
      "text/plain": [
       "  0%|          | 0/227 [00:00<?, ?it/s]"
      ]
     },
     "metadata": {},
     "output_type": "display_data"
    },
    {
     "name": "stderr",
     "output_type": "stream",
     "text": [
      "INFO - (NP.utils_torch.lr_range_test) - lr-range-test results: steep: 3.76E-02, min: 4.47E-01\n",
      "INFO - (NP.forecaster._init_train_loader) - lr-range-test selected learning rate: 3.54E-02\n",
      "Epoch[228/228]: 100%|██████████| 228/228 [00:19<00:00, 11.96it/s, SmoothL1Loss=0.000264, MAE=1.02, RMSE=1.3, RegLoss=0] \n",
      "INFO - (NP.utils.set_auto_seasonalities) - Disabling weekly seasonality. Run NeuralProphet with weekly_seasonality=True to override this.\n",
      "INFO - (NP.utils.set_auto_seasonalities) - Disabling daily seasonality. Run NeuralProphet with daily_seasonality=True to override this.\n",
      "INFO - (NP.config.set_auto_batch_epoch) - Auto-set batch_size to 16\n",
      "INFO - (NP.config.set_auto_batch_epoch) - Auto-set epochs to 226\n"
     ]
    },
    {
     "data": {
      "application/vnd.jupyter.widget-view+json": {
       "model_id": "",
       "version_major": 2,
       "version_minor": 0
      },
      "text/plain": [
       "  0%|          | 0/228 [00:00<?, ?it/s]"
      ]
     },
     "metadata": {},
     "output_type": "display_data"
    },
    {
     "name": "stderr",
     "output_type": "stream",
     "text": [
      "INFO - (NP.utils_torch.lr_range_test) - lr-range-test results: steep: 2.70E-02, min: 4.18E-01\n"
     ]
    },
    {
     "data": {
      "application/vnd.jupyter.widget-view+json": {
       "model_id": "",
       "version_major": 2,
       "version_minor": 0
      },
      "text/plain": [
       "  0%|          | 0/228 [00:00<?, ?it/s]"
      ]
     },
     "metadata": {},
     "output_type": "display_data"
    },
    {
     "name": "stderr",
     "output_type": "stream",
     "text": [
      "INFO - (NP.utils_torch.lr_range_test) - lr-range-test results: steep: 2.70E-02, min: 3.48E-01\n"
     ]
    },
    {
     "data": {
      "application/vnd.jupyter.widget-view+json": {
       "model_id": "",
       "version_major": 2,
       "version_minor": 0
      },
      "text/plain": [
       "  0%|          | 0/228 [00:00<?, ?it/s]"
      ]
     },
     "metadata": {},
     "output_type": "display_data"
    },
    {
     "name": "stderr",
     "output_type": "stream",
     "text": [
      "INFO - (NP.utils_torch.lr_range_test) - lr-range-test results: steep: 2.96E-02, min: 3.48E-01\n",
      "INFO - (NP.forecaster._init_train_loader) - lr-range-test selected learning rate: 2.79E-02\n",
      "Epoch[226/226]: 100%|██████████| 226/226 [00:19<00:00, 11.63it/s, SmoothL1Loss=0.000323, MAE=1.13, RMSE=1.44, RegLoss=0]\n",
      "INFO - (NP.utils.set_auto_seasonalities) - Disabling weekly seasonality. Run NeuralProphet with weekly_seasonality=True to override this.\n",
      "INFO - (NP.utils.set_auto_seasonalities) - Disabling daily seasonality. Run NeuralProphet with daily_seasonality=True to override this.\n",
      "INFO - (NP.config.set_auto_batch_epoch) - Auto-set batch_size to 16\n",
      "INFO - (NP.config.set_auto_batch_epoch) - Auto-set epochs to 225\n"
     ]
    },
    {
     "data": {
      "application/vnd.jupyter.widget-view+json": {
       "model_id": "",
       "version_major": 2,
       "version_minor": 0
      },
      "text/plain": [
       "  0%|          | 0/229 [00:00<?, ?it/s]"
      ]
     },
     "metadata": {},
     "output_type": "display_data"
    },
    {
     "name": "stderr",
     "output_type": "stream",
     "text": [
      "INFO - (NP.utils_torch.lr_range_test) - lr-range-test results: steep: 3.36E-02, min: 2.98E-01\n"
     ]
    },
    {
     "data": {
      "application/vnd.jupyter.widget-view+json": {
       "model_id": "",
       "version_major": 2,
       "version_minor": 0
      },
      "text/plain": [
       "  0%|          | 0/229 [00:00<?, ?it/s]"
      ]
     },
     "metadata": {},
     "output_type": "display_data"
    },
    {
     "name": "stderr",
     "output_type": "stream",
     "text": [
      "INFO - (NP.utils_torch.lr_range_test) - lr-range-test results: steep: 2.34E-02, min: 3.57E-01\n"
     ]
    },
    {
     "data": {
      "application/vnd.jupyter.widget-view+json": {
       "model_id": "",
       "version_major": 2,
       "version_minor": 0
      },
      "text/plain": [
       "  0%|          | 0/229 [00:00<?, ?it/s]"
      ]
     },
     "metadata": {},
     "output_type": "display_data"
    },
    {
     "name": "stderr",
     "output_type": "stream",
     "text": [
      "INFO - (NP.utils_torch.lr_range_test) - lr-range-test results: steep: 2.34E-02, min: 3.26E-01\n",
      "INFO - (NP.forecaster._init_train_loader) - lr-range-test selected learning rate: 2.64E-02\n",
      "Epoch[225/225]: 100%|██████████| 225/225 [00:15<00:00, 14.16it/s, SmoothL1Loss=0.000239, MAE=0.99, RMSE=1.27, RegLoss=0] \n",
      "INFO - (NP.utils.set_auto_seasonalities) - Disabling weekly seasonality. Run NeuralProphet with weekly_seasonality=True to override this.\n",
      "INFO - (NP.utils.set_auto_seasonalities) - Disabling daily seasonality. Run NeuralProphet with daily_seasonality=True to override this.\n",
      "INFO - (NP.config.set_auto_batch_epoch) - Auto-set batch_size to 16\n",
      "INFO - (NP.config.set_auto_batch_epoch) - Auto-set epochs to 233\n"
     ]
    },
    {
     "data": {
      "application/vnd.jupyter.widget-view+json": {
       "model_id": "",
       "version_major": 2,
       "version_minor": 0
      },
      "text/plain": [
       "  0%|          | 0/225 [00:00<?, ?it/s]"
      ]
     },
     "metadata": {},
     "output_type": "display_data"
    },
    {
     "name": "stderr",
     "output_type": "stream",
     "text": [
      "INFO - (NP.utils_torch.lr_range_test) - lr-range-test results: steep: 2.21E-02, min: 3.88E-01\n"
     ]
    },
    {
     "data": {
      "application/vnd.jupyter.widget-view+json": {
       "model_id": "",
       "version_major": 2,
       "version_minor": 0
      },
      "text/plain": [
       "  0%|          | 0/225 [00:00<?, ?it/s]"
      ]
     },
     "metadata": {},
     "output_type": "display_data"
    },
    {
     "name": "stderr",
     "output_type": "stream",
     "text": [
      "INFO - (NP.utils_torch.lr_range_test) - lr-range-test results: steep: 6.04E-03, min: 5.13E-01\n"
     ]
    },
    {
     "data": {
      "application/vnd.jupyter.widget-view+json": {
       "model_id": "",
       "version_major": 2,
       "version_minor": 0
      },
      "text/plain": [
       "  0%|          | 0/225 [00:00<?, ?it/s]"
      ]
     },
     "metadata": {},
     "output_type": "display_data"
    },
    {
     "name": "stderr",
     "output_type": "stream",
     "text": [
      "INFO - (NP.utils_torch.lr_range_test) - lr-range-test results: steep: 6.11E-02, min: 6.77E-01\n",
      "INFO - (NP.forecaster._init_train_loader) - lr-range-test selected learning rate: 2.01E-02\n",
      "Epoch[233/233]: 100%|██████████| 233/233 [00:14<00:00, 16.28it/s, SmoothL1Loss=0.00294, MAE=3.3, RMSE=4.23, RegLoss=0] \n",
      "INFO - (NP.utils.set_auto_seasonalities) - Disabling weekly seasonality. Run NeuralProphet with weekly_seasonality=True to override this.\n",
      "INFO - (NP.utils.set_auto_seasonalities) - Disabling daily seasonality. Run NeuralProphet with daily_seasonality=True to override this.\n",
      "INFO - (NP.config.set_auto_batch_epoch) - Auto-set batch_size to 16\n",
      "INFO - (NP.config.set_auto_batch_epoch) - Auto-set epochs to 231\n"
     ]
    },
    {
     "data": {
      "application/vnd.jupyter.widget-view+json": {
       "model_id": "",
       "version_major": 2,
       "version_minor": 0
      },
      "text/plain": [
       "  0%|          | 0/226 [00:00<?, ?it/s]"
      ]
     },
     "metadata": {},
     "output_type": "display_data"
    },
    {
     "name": "stderr",
     "output_type": "stream",
     "text": [
      "INFO - (NP.utils_torch.lr_range_test) - lr-range-test results: steep: 3.31E-02, min: 4.79E-01\n"
     ]
    },
    {
     "data": {
      "application/vnd.jupyter.widget-view+json": {
       "model_id": "",
       "version_major": 2,
       "version_minor": 0
      },
      "text/plain": [
       "  0%|          | 0/226 [00:00<?, ?it/s]"
      ]
     },
     "metadata": {},
     "output_type": "display_data"
    },
    {
     "name": "stderr",
     "output_type": "stream",
     "text": [
      "INFO - (NP.utils_torch.lr_range_test) - lr-range-test results: steep: 3.31E-02, min: 4.37E-01\n"
     ]
    },
    {
     "data": {
      "application/vnd.jupyter.widget-view+json": {
       "model_id": "",
       "version_major": 2,
       "version_minor": 0
      },
      "text/plain": [
       "  0%|          | 0/226 [00:00<?, ?it/s]"
      ]
     },
     "metadata": {},
     "output_type": "display_data"
    },
    {
     "name": "stderr",
     "output_type": "stream",
     "text": [
      "INFO - (NP.utils_torch.lr_range_test) - lr-range-test results: steep: 3.63E-02, min: 4.37E-01\n",
      "INFO - (NP.forecaster._init_train_loader) - lr-range-test selected learning rate: 3.41E-02\n",
      "Epoch[231/231]: 100%|██████████| 231/231 [00:18<00:00, 12.41it/s, SmoothL1Loss=0.00258, MAE=3.37, RMSE=4.35, RegLoss=0]\n",
      "INFO - (NP.utils.set_auto_seasonalities) - Disabling weekly seasonality. Run NeuralProphet with weekly_seasonality=True to override this.\n",
      "INFO - (NP.utils.set_auto_seasonalities) - Disabling daily seasonality. Run NeuralProphet with daily_seasonality=True to override this.\n",
      "INFO - (NP.config.set_auto_batch_epoch) - Auto-set batch_size to 16\n",
      "INFO - (NP.config.set_auto_batch_epoch) - Auto-set epochs to 230\n"
     ]
    },
    {
     "data": {
      "application/vnd.jupyter.widget-view+json": {
       "model_id": "",
       "version_major": 2,
       "version_minor": 0
      },
      "text/plain": [
       "  0%|          | 0/227 [00:00<?, ?it/s]"
      ]
     },
     "metadata": {},
     "output_type": "display_data"
    },
    {
     "name": "stderr",
     "output_type": "stream",
     "text": [
      "INFO - (NP.utils_torch.lr_range_test) - lr-range-test results: steep: 1.04E-02, min: 4.47E-01\n"
     ]
    },
    {
     "data": {
      "application/vnd.jupyter.widget-view+json": {
       "model_id": "",
       "version_major": 2,
       "version_minor": 0
      },
      "text/plain": [
       "  0%|          | 0/227 [00:00<?, ?it/s]"
      ]
     },
     "metadata": {},
     "output_type": "display_data"
    },
    {
     "name": "stderr",
     "output_type": "stream",
     "text": [
      "INFO - (NP.utils_torch.lr_range_test) - lr-range-test results: steep: 9.50E-03, min: 7.07E-01\n"
     ]
    },
    {
     "data": {
      "application/vnd.jupyter.widget-view+json": {
       "model_id": "",
       "version_major": 2,
       "version_minor": 0
      },
      "text/plain": [
       "  0%|          | 0/227 [00:00<?, ?it/s]"
      ]
     },
     "metadata": {},
     "output_type": "display_data"
    },
    {
     "name": "stderr",
     "output_type": "stream",
     "text": [
      "INFO - (NP.utils_torch.lr_range_test) - lr-range-test results: steep: 9.50E-03, min: 5.37E-01\n",
      "INFO - (NP.forecaster._init_train_loader) - lr-range-test selected learning rate: 9.80E-03\n",
      "Epoch[230/230]: 100%|██████████| 230/230 [00:18<00:00, 12.24it/s, SmoothL1Loss=0.00358, MAE=4.41, RMSE=5.57, RegLoss=0]\n",
      "INFO - (NP.utils.set_auto_seasonalities) - Disabling weekly seasonality. Run NeuralProphet with weekly_seasonality=True to override this.\n",
      "INFO - (NP.utils.set_auto_seasonalities) - Disabling daily seasonality. Run NeuralProphet with daily_seasonality=True to override this.\n",
      "INFO - (NP.config.set_auto_batch_epoch) - Auto-set batch_size to 16\n",
      "INFO - (NP.config.set_auto_batch_epoch) - Auto-set epochs to 228\n"
     ]
    },
    {
     "data": {
      "application/vnd.jupyter.widget-view+json": {
       "model_id": "",
       "version_major": 2,
       "version_minor": 0
      },
      "text/plain": [
       "  0%|          | 0/227 [00:00<?, ?it/s]"
      ]
     },
     "metadata": {},
     "output_type": "display_data"
    },
    {
     "name": "stderr",
     "output_type": "stream",
     "text": [
      "INFO - (NP.utils_torch.lr_range_test) - lr-range-test results: steep: 4.12E-02, min: 4.47E-01\n"
     ]
    },
    {
     "data": {
      "application/vnd.jupyter.widget-view+json": {
       "model_id": "",
       "version_major": 2,
       "version_minor": 0
      },
      "text/plain": [
       "  0%|          | 0/227 [00:00<?, ?it/s]"
      ]
     },
     "metadata": {},
     "output_type": "display_data"
    },
    {
     "name": "stderr",
     "output_type": "stream",
     "text": [
      "INFO - (NP.utils_torch.lr_range_test) - lr-range-test results: steep: 4.12E-02, min: 5.89E-01\n"
     ]
    },
    {
     "data": {
      "application/vnd.jupyter.widget-view+json": {
       "model_id": "",
       "version_major": 2,
       "version_minor": 0
      },
      "text/plain": [
       "  0%|          | 0/227 [00:00<?, ?it/s]"
      ]
     },
     "metadata": {},
     "output_type": "display_data"
    },
    {
     "name": "stderr",
     "output_type": "stream",
     "text": [
      "INFO - (NP.utils_torch.lr_range_test) - lr-range-test results: steep: 3.76E-02, min: 4.08E-01\n",
      "INFO - (NP.forecaster._init_train_loader) - lr-range-test selected learning rate: 4.00E-02\n",
      "Epoch[228/228]: 100%|██████████| 228/228 [00:16<00:00, 13.74it/s, SmoothL1Loss=0.00201, MAE=3.33, RMSE=4.28, RegLoss=0]\n",
      "INFO - (NP.utils.set_auto_seasonalities) - Disabling weekly seasonality. Run NeuralProphet with weekly_seasonality=True to override this.\n",
      "INFO - (NP.utils.set_auto_seasonalities) - Disabling daily seasonality. Run NeuralProphet with daily_seasonality=True to override this.\n",
      "INFO - (NP.config.set_auto_batch_epoch) - Auto-set batch_size to 16\n",
      "INFO - (NP.config.set_auto_batch_epoch) - Auto-set epochs to 226\n"
     ]
    },
    {
     "data": {
      "application/vnd.jupyter.widget-view+json": {
       "model_id": "",
       "version_major": 2,
       "version_minor": 0
      },
      "text/plain": [
       "  0%|          | 0/228 [00:00<?, ?it/s]"
      ]
     },
     "metadata": {},
     "output_type": "display_data"
    },
    {
     "name": "stderr",
     "output_type": "stream",
     "text": [
      "INFO - (NP.utils_torch.lr_range_test) - lr-range-test results: steep: 9.90E-03, min: 1.04E+00\n"
     ]
    },
    {
     "data": {
      "application/vnd.jupyter.widget-view+json": {
       "model_id": "",
       "version_major": 2,
       "version_minor": 0
      },
      "text/plain": [
       "  0%|          | 0/228 [00:00<?, ?it/s]"
      ]
     },
     "metadata": {},
     "output_type": "display_data"
    },
    {
     "name": "stderr",
     "output_type": "stream",
     "text": [
      "INFO - (NP.utils_torch.lr_range_test) - lr-range-test results: steep: 1.08E-02, min: 7.92E-01\n"
     ]
    },
    {
     "data": {
      "application/vnd.jupyter.widget-view+json": {
       "model_id": "",
       "version_major": 2,
       "version_minor": 0
      },
      "text/plain": [
       "  0%|          | 0/228 [00:00<?, ?it/s]"
      ]
     },
     "metadata": {},
     "output_type": "display_data"
    },
    {
     "name": "stderr",
     "output_type": "stream",
     "text": [
      "INFO - (NP.utils_torch.lr_range_test) - lr-range-test results: steep: 9.90E-03, min: 9.51E-01\n",
      "INFO - (NP.forecaster._init_train_loader) - lr-range-test selected learning rate: 1.02E-02\n",
      "Epoch[226/226]: 100%|██████████| 226/226 [00:15<00:00, 14.46it/s, SmoothL1Loss=0.00343, MAE=4.66, RMSE=5.89, RegLoss=0]\n",
      "INFO - (NP.utils.set_auto_seasonalities) - Disabling weekly seasonality. Run NeuralProphet with weekly_seasonality=True to override this.\n",
      "INFO - (NP.utils.set_auto_seasonalities) - Disabling daily seasonality. Run NeuralProphet with daily_seasonality=True to override this.\n",
      "INFO - (NP.config.set_auto_batch_epoch) - Auto-set batch_size to 16\n",
      "INFO - (NP.config.set_auto_batch_epoch) - Auto-set epochs to 225\n"
     ]
    },
    {
     "data": {
      "application/vnd.jupyter.widget-view+json": {
       "model_id": "",
       "version_major": 2,
       "version_minor": 0
      },
      "text/plain": [
       "  0%|          | 0/229 [00:00<?, ?it/s]"
      ]
     },
     "metadata": {},
     "output_type": "display_data"
    },
    {
     "name": "stderr",
     "output_type": "stream",
     "text": [
      "INFO - (NP.utils_torch.lr_range_test) - lr-range-test results: steep: 4.83E-02, min: 3.91E-01\n"
     ]
    },
    {
     "data": {
      "application/vnd.jupyter.widget-view+json": {
       "model_id": "",
       "version_major": 2,
       "version_minor": 0
      },
      "text/plain": [
       "  0%|          | 0/229 [00:00<?, ?it/s]"
      ]
     },
     "metadata": {},
     "output_type": "display_data"
    },
    {
     "name": "stderr",
     "output_type": "stream",
     "text": [
      "INFO - (NP.utils_torch.lr_range_test) - lr-range-test results: steep: 5.29E-02, min: 4.28E-01\n"
     ]
    },
    {
     "data": {
      "application/vnd.jupyter.widget-view+json": {
       "model_id": "",
       "version_major": 2,
       "version_minor": 0
      },
      "text/plain": [
       "  0%|          | 0/229 [00:00<?, ?it/s]"
      ]
     },
     "metadata": {},
     "output_type": "display_data"
    },
    {
     "name": "stderr",
     "output_type": "stream",
     "text": [
      "INFO - (NP.utils_torch.lr_range_test) - lr-range-test results: steep: 4.41E-02, min: 4.28E-01\n",
      "INFO - (NP.forecaster._init_train_loader) - lr-range-test selected learning rate: 4.83E-02\n",
      "Epoch[225/225]: 100%|██████████| 225/225 [00:16<00:00, 13.84it/s, SmoothL1Loss=0.00124, MAE=3.11, RMSE=4.06, RegLoss=0]\n"
     ]
    }
   ],
   "source": [
    "all_output_paths = []\n",
    "all_valid_metrics = {}\n",
    "all_forecasts = {}\n",
    "for var in data_sources:\n",
    "    for p in grid:\n",
    "        details = str(var) + '_nlags_' + str(p['n_lags'])\n",
    "        output_path = './output/neuralprophet_TEST_' + details\n",
    "        if not os.path.exists(output_path):\n",
    "            print(\"new directory created: \", output_path)\n",
    "            os.mkdir(output_path)\n",
    "        else:\n",
    "            print(\"directory already exists, skipping\")\n",
    "            continue\n",
    "        all_output_paths.append(output_path)\n",
    "        \n",
    "        \n",
    "        for food_category in foodprice_df.columns[:9]:\n",
    "            \n",
    "            annual_valid_metrics = {}\n",
    "            annual_forecasts = {}\n",
    "                        \n",
    "            for date in report_sim_dates:\n",
    "                \n",
    "                train_dates = sim_train_dates[date]\n",
    "                valid_dates = sim_valid_dates[date]\n",
    "                \n",
    "                \n",
    "                train_model =NeuralProphet(n_forecasts = p['n_forecasts'],                          #initialize model\n",
    "                                           n_lags = p['n_lags'])\n",
    "                train_df = get_neuralprophet_df(foodprice_df, food_category, train_dates, str(var)) #select data\n",
    "                train_model = train_model.add_lagged_regressor(names=[str(var)])                   #lagged regressor to model\n",
    "                train_model.fit(train_df, freq='MS')                                              #fit the model\n",
    "                \n",
    "                \n",
    "                future = train_model.make_future_dataframe(train_df, periods=18)                #create the future period\n",
    "                forecast = train_model.predict(future)                                        #produce the future period forecast\n",
    "                \n",
    "                \n",
    "                all_yhats = []\n",
    "                for yhat in [\"yhat\" + str(i) for i in range(1,19)]:\n",
    "                    all_yhats.append((forecast.loc[forecast[yhat].first_valid_index()][yhat]))  #get all yhats from forecast\n",
    "\n",
    "                \n",
    "                valid_df = get_neuralprophet_df(foodprice_df, food_category, valid_dates, str(var))\n",
    "                \n",
    "                ##special case for 2020 forecast\n",
    "                if len(valid_df) == 14:\n",
    "                    all_yhats = all_yhats[:-4]\n",
    "                    \n",
    "                ##special case\n",
    "                if len(valid_df) == 15:\n",
    "                    all_yhats = all_yhats[:-3]\n",
    "                \n",
    "                ## compute valid metrics\n",
    "                valid_metrics = {metric_name: metric_fn(y_true=valid_df.y, y_pred=all_yhats) for metric_name, metric_fn in metrics.items()}\n",
    "                valid_metrics_series = pd.Series(valid_metrics)\n",
    "                \n",
    "                annual_valid_metrics[date] = pd.DataFrame(valid_metrics_series).mean(axis=1)\n",
    "                annual_forecasts[date] = pd.Series(all_yhats)\n",
    "                            \n",
    "            \n",
    "                # break ### loop for dates \n",
    "                \n",
    "            all_valid_metrics[(output_path, food_category)] = annual_valid_metrics\n",
    "            all_forecasts[(output_path, food_category)] = annual_forecasts\n",
    "                \n",
    "            mean_valid_metrics = {}\n",
    "            for (output_path,food_category), valid_scores in all_valid_metrics.items():\n",
    "                mean_valid_metrics[food_category] = pd.DataFrame(valid_scores).mean(axis=1)\n",
    "\n",
    "            mean_valid_metrics_df = pd.DataFrame(mean_valid_metrics).T\n",
    "            mean_valid_metrics_df.to_csv(f\"{output_path}/mean_fc_valid_metrics.csv\")\n",
    "        \n",
    "            # break ## loop for food category\n",
    "        \n",
    "        # break ## loop for n_lags\n",
    "\n",
    "    # break ##loop for lagged regressors\n",
    "\n"
   ]
  },
  {
   "cell_type": "markdown",
   "id": "0a460b94-3a45-41ec-b4cd-ac2a955f2466",
   "metadata": {},
   "source": [
    "## Save Validation Forecasts to File (For Ensembling)\n"
   ]
  },
  {
   "cell_type": "code",
   "execution_count": 13,
   "id": "bc691936-111f-47de-abe2-cbb98cd1dee3",
   "metadata": {},
   "outputs": [],
   "source": [
    "date_forecasts = {}\n",
    "for date in report_sim_dates:\n",
    "    valid_dates = sim_valid_dates[date]\n",
    "    food_forecasts = {}\n",
    "    for my_output_path in all_output_paths:\n",
    "        for food_category in foodprice_categories:\n",
    "            food_forecasts[food_category] = all_forecasts[(my_output_path,food_category)][date]\n",
    "        date_forecasts[date] = pd.DataFrame(food_forecasts)\n",
    "        date_forecasts[date] = date_forecasts[date].set_index(pd.DatetimeIndex(valid_dates))\n",
    "        date_forecasts[date].to_csv(f\"{my_output_path}/forecasts_{date}.csv\")"
   ]
  },
  {
   "cell_type": "code",
   "execution_count": null,
   "id": "b6a40ec5",
   "metadata": {},
   "outputs": [],
   "source": []
  }
 ],
 "metadata": {
  "accelerator": "GPU",
  "colab": {
   "collapsed_sections": [],
   "name": "forecasting-nbeats.ipynb",
   "provenance": [
    {
     "file_id": "13Kkg9losPuncpwDUvLml777Pax3pP2FG",
     "timestamp": 1634321819792
    }
   ]
  },
  "interpreter": {
   "hash": "d7359b97dda1a7a8948a5a4d396848125c7f44b4c1a886dc629ec440a49e68ef"
  },
  "kernelspec": {
   "display_name": "Python 3 (ipykernel)",
   "language": "python",
   "name": "python3"
  },
  "language_info": {
   "codemirror_mode": {
    "name": "ipython",
    "version": 3
   },
   "file_extension": ".py",
   "mimetype": "text/x-python",
   "name": "python",
   "nbconvert_exporter": "python",
   "pygments_lexer": "ipython3",
   "version": "3.8.0"
  }
 },
 "nbformat": 4,
 "nbformat_minor": 5
}
