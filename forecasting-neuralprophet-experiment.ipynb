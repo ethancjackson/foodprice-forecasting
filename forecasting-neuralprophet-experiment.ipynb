{
 "cells": [
  {
   "cell_type": "code",
   "execution_count": 3,
   "id": "constant-slope",
   "metadata": {
    "executionInfo": {
     "elapsed": 278,
     "status": "ok",
     "timestamp": 1634587049355,
     "user": {
      "displayName": "Ethan Jackson",
      "photoUrl": "https://lh3.googleusercontent.com/a-/AOh14Gj0sN-qIkLWaD3gNaMMx-oLuegd5o3MGlU94qG9IQ=s64",
      "userId": "16234263294244605206"
     },
     "user_tz": 240
    },
    "id": "be47811d-c45c-4945-94b3-4ce5e981ead4"
   },
   "outputs": [],
   "source": [
    "import pandas as pd\n",
    "pd.set_option('precision', 3)\n",
    "\n",
    "import matplotlib.pyplot as plt\n",
    "import matplotlib.patches as mpatches\n",
    "from matplotlib.lines import Line2D\n",
    "from matplotlib.patches import Patch\n",
    "\n",
    "import numpy as np\n",
    "from sklearn.metrics import r2_score, mean_absolute_error, mean_squared_error, mean_absolute_percentage_error\n",
    "\n",
    "import os\n",
    "\n",
    "from neuralprophet import NeuralProphet"
   ]
  },
  {
   "cell_type": "code",
   "execution_count": 2,
   "id": "7fc966c1-f048-4d3f-9558-dba51c0033fb",
   "metadata": {
    "collapsed": true,
    "jupyter": {
     "outputs_hidden": true
    },
    "tags": []
   },
   "outputs": [
    {
     "name": "stdout",
     "output_type": "stream",
     "text": [
      "Collecting neuralprophet\n",
      "  Downloading neuralprophet-0.3.0-py3-none-any.whl (67 kB)\n",
      "Collecting convertdate>=2.1.2\n",
      "  Using cached convertdate-2.3.2-py3-none-any.whl (47 kB)\n",
      "Requirement already satisfied: matplotlib>=2.0.0 in c:\\users\\selsh\\anaconda3\\lib\\site-packages (from neuralprophet) (3.4.3)\n",
      "Requirement already satisfied: pandas>=1.0.4 in c:\\users\\selsh\\anaconda3\\lib\\site-packages (from neuralprophet) (1.3.4)\n",
      "Requirement already satisfied: numpy>=1.15.4 in c:\\users\\selsh\\anaconda3\\lib\\site-packages (from neuralprophet) (1.20.3)\n",
      "Requirement already satisfied: python-dateutil>=2.8.0 in c:\\users\\selsh\\anaconda3\\lib\\site-packages (from neuralprophet) (2.8.2)\n",
      "Collecting holidays>=0.11.3.1\n",
      "  Using cached holidays-0.11.3.1-py3-none-any.whl (155 kB)\n",
      "Requirement already satisfied: tqdm>=4.50.2 in c:\\users\\selsh\\anaconda3\\lib\\site-packages (from neuralprophet) (4.62.3)\n",
      "Collecting dataclasses>=0.6\n",
      "  Using cached dataclasses-0.6-py3-none-any.whl (14 kB)\n",
      "Collecting torch>=1.4.0\n",
      "  Downloading torch-1.10.0-cp39-cp39-win_amd64.whl (226.5 MB)\n",
      "Collecting LunarCalendar>=0.0.9\n",
      "  Using cached LunarCalendar-0.0.9-py2.py3-none-any.whl (18 kB)\n",
      "Collecting torch-lr-finder>=0.2.1\n",
      "  Using cached torch_lr_finder-0.2.1-py3-none-any.whl (11 kB)\n",
      "Requirement already satisfied: ipywidgets>=7.5.1 in c:\\users\\selsh\\anaconda3\\lib\\site-packages (from neuralprophet) (7.6.5)\n",
      "Requirement already satisfied: pytz>=2014.10 in c:\\users\\selsh\\anaconda3\\lib\\site-packages (from convertdate>=2.1.2->neuralprophet) (2021.3)\n",
      "Collecting pymeeus<=1,>=0.3.13\n",
      "  Using cached PyMeeus-0.5.11.tar.gz (5.4 MB)\n",
      "Collecting hijri-converter\n",
      "  Using cached hijri_converter-2.2.2-py3-none-any.whl (13 kB)\n",
      "Collecting korean-lunar-calendar\n",
      "  Using cached korean_lunar_calendar-0.2.1-py3-none-any.whl (8.0 kB)\n",
      "Requirement already satisfied: ipython-genutils~=0.2.0 in c:\\users\\selsh\\anaconda3\\lib\\site-packages (from ipywidgets>=7.5.1->neuralprophet) (0.2.0)\n",
      "Requirement already satisfied: traitlets>=4.3.1 in c:\\users\\selsh\\anaconda3\\lib\\site-packages (from ipywidgets>=7.5.1->neuralprophet) (5.1.0)\n",
      "Requirement already satisfied: ipykernel>=4.5.1 in c:\\users\\selsh\\anaconda3\\lib\\site-packages (from ipywidgets>=7.5.1->neuralprophet) (6.4.1)\n",
      "Requirement already satisfied: jupyterlab-widgets>=1.0.0 in c:\\users\\selsh\\anaconda3\\lib\\site-packages (from ipywidgets>=7.5.1->neuralprophet) (1.0.0)\n",
      "Requirement already satisfied: widgetsnbextension~=3.5.0 in c:\\users\\selsh\\anaconda3\\lib\\site-packages (from ipywidgets>=7.5.1->neuralprophet) (3.5.1)\n",
      "Requirement already satisfied: ipython>=4.0.0 in c:\\users\\selsh\\anaconda3\\lib\\site-packages (from ipywidgets>=7.5.1->neuralprophet) (7.29.0)\n",
      "Requirement already satisfied: nbformat>=4.2.0 in c:\\users\\selsh\\anaconda3\\lib\\site-packages (from ipywidgets>=7.5.1->neuralprophet) (5.1.3)\n",
      "Requirement already satisfied: tornado<7.0,>=4.2 in c:\\users\\selsh\\anaconda3\\lib\\site-packages (from ipykernel>=4.5.1->ipywidgets>=7.5.1->neuralprophet) (6.1)\n",
      "Requirement already satisfied: matplotlib-inline<0.2.0,>=0.1.0 in c:\\users\\selsh\\anaconda3\\lib\\site-packages (from ipykernel>=4.5.1->ipywidgets>=7.5.1->neuralprophet) (0.1.2)\n",
      "Requirement already satisfied: jupyter-client<8.0 in c:\\users\\selsh\\anaconda3\\lib\\site-packages (from ipykernel>=4.5.1->ipywidgets>=7.5.1->neuralprophet) (6.1.12)\n",
      "Requirement already satisfied: debugpy<2.0,>=1.0.0 in c:\\users\\selsh\\anaconda3\\lib\\site-packages (from ipykernel>=4.5.1->ipywidgets>=7.5.1->neuralprophet) (1.4.1)\n",
      "Requirement already satisfied: colorama in c:\\users\\selsh\\anaconda3\\lib\\site-packages (from ipython>=4.0.0->ipywidgets>=7.5.1->neuralprophet) (0.4.4)\n",
      "Requirement already satisfied: pickleshare in c:\\users\\selsh\\anaconda3\\lib\\site-packages (from ipython>=4.0.0->ipywidgets>=7.5.1->neuralprophet) (0.7.5)\n",
      "Requirement already satisfied: pygments in c:\\users\\selsh\\anaconda3\\lib\\site-packages (from ipython>=4.0.0->ipywidgets>=7.5.1->neuralprophet) (2.10.0)\n",
      "Requirement already satisfied: backcall in c:\\users\\selsh\\anaconda3\\lib\\site-packages (from ipython>=4.0.0->ipywidgets>=7.5.1->neuralprophet) (0.2.0)\n",
      "Requirement already satisfied: jedi>=0.16 in c:\\users\\selsh\\anaconda3\\lib\\site-packages (from ipython>=4.0.0->ipywidgets>=7.5.1->neuralprophet) (0.18.0)\n",
      "Requirement already satisfied: setuptools>=18.5 in c:\\users\\selsh\\anaconda3\\lib\\site-packages (from ipython>=4.0.0->ipywidgets>=7.5.1->neuralprophet) (58.0.4)\n",
      "Requirement already satisfied: decorator in c:\\users\\selsh\\anaconda3\\lib\\site-packages (from ipython>=4.0.0->ipywidgets>=7.5.1->neuralprophet) (5.1.0)\n",
      "Requirement already satisfied: prompt-toolkit!=3.0.0,!=3.0.1,<3.1.0,>=2.0.0 in c:\\users\\selsh\\anaconda3\\lib\\site-packages (from ipython>=4.0.0->ipywidgets>=7.5.1->neuralprophet) (3.0.20)\n",
      "Requirement already satisfied: parso<0.9.0,>=0.8.0 in c:\\users\\selsh\\anaconda3\\lib\\site-packages (from jedi>=0.16->ipython>=4.0.0->ipywidgets>=7.5.1->neuralprophet) (0.8.2)\n",
      "Requirement already satisfied: jupyter-core>=4.6.0 in c:\\users\\selsh\\anaconda3\\lib\\site-packages (from jupyter-client<8.0->ipykernel>=4.5.1->ipywidgets>=7.5.1->neuralprophet) (4.8.1)\n",
      "Requirement already satisfied: pyzmq>=13 in c:\\users\\selsh\\anaconda3\\lib\\site-packages (from jupyter-client<8.0->ipykernel>=4.5.1->ipywidgets>=7.5.1->neuralprophet) (22.2.1)\n",
      "Requirement already satisfied: pywin32>=1.0 in c:\\users\\selsh\\anaconda3\\lib\\site-packages (from jupyter-core>=4.6.0->jupyter-client<8.0->ipykernel>=4.5.1->ipywidgets>=7.5.1->neuralprophet) (228)\n",
      "Collecting ephem>=3.7.5.3\n",
      "  Downloading ephem-4.1.2-cp39-cp39-win_amd64.whl (1.4 MB)\n",
      "Requirement already satisfied: kiwisolver>=1.0.1 in c:\\users\\selsh\\anaconda3\\lib\\site-packages (from matplotlib>=2.0.0->neuralprophet) (1.3.1)\n",
      "Requirement already satisfied: pyparsing>=2.2.1 in c:\\users\\selsh\\anaconda3\\lib\\site-packages (from matplotlib>=2.0.0->neuralprophet) (3.0.4)\n",
      "Requirement already satisfied: cycler>=0.10 in c:\\users\\selsh\\anaconda3\\lib\\site-packages (from matplotlib>=2.0.0->neuralprophet) (0.10.0)\n",
      "Requirement already satisfied: pillow>=6.2.0 in c:\\users\\selsh\\anaconda3\\lib\\site-packages (from matplotlib>=2.0.0->neuralprophet) (8.4.0)\n",
      "Requirement already satisfied: six in c:\\users\\selsh\\anaconda3\\lib\\site-packages (from cycler>=0.10->matplotlib>=2.0.0->neuralprophet) (1.16.0)\n",
      "Requirement already satisfied: jsonschema!=2.5.0,>=2.4 in c:\\users\\selsh\\anaconda3\\lib\\site-packages (from nbformat>=4.2.0->ipywidgets>=7.5.1->neuralprophet) (3.2.0)\n",
      "Requirement already satisfied: attrs>=17.4.0 in c:\\users\\selsh\\anaconda3\\lib\\site-packages (from jsonschema!=2.5.0,>=2.4->nbformat>=4.2.0->ipywidgets>=7.5.1->neuralprophet) (21.2.0)\n",
      "Requirement already satisfied: pyrsistent>=0.14.0 in c:\\users\\selsh\\anaconda3\\lib\\site-packages (from jsonschema!=2.5.0,>=2.4->nbformat>=4.2.0->ipywidgets>=7.5.1->neuralprophet) (0.18.0)\n",
      "Requirement already satisfied: wcwidth in c:\\users\\selsh\\anaconda3\\lib\\site-packages (from prompt-toolkit!=3.0.0,!=3.0.1,<3.1.0,>=2.0.0->ipython>=4.0.0->ipywidgets>=7.5.1->neuralprophet) (0.2.5)\n",
      "Requirement already satisfied: typing-extensions in c:\\users\\selsh\\anaconda3\\lib\\site-packages (from torch>=1.4.0->neuralprophet) (3.10.0.2)\n",
      "Requirement already satisfied: packaging in c:\\users\\selsh\\anaconda3\\lib\\site-packages (from torch-lr-finder>=0.2.1->neuralprophet) (21.0)\n",
      "Requirement already satisfied: notebook>=4.4.1 in c:\\users\\selsh\\anaconda3\\lib\\site-packages (from widgetsnbextension~=3.5.0->ipywidgets>=7.5.1->neuralprophet) (6.4.5)\n",
      "Requirement already satisfied: nbconvert in c:\\users\\selsh\\anaconda3\\lib\\site-packages (from notebook>=4.4.1->widgetsnbextension~=3.5.0->ipywidgets>=7.5.1->neuralprophet) (6.1.0)\n",
      "Requirement already satisfied: Send2Trash>=1.5.0 in c:\\users\\selsh\\anaconda3\\lib\\site-packages (from notebook>=4.4.1->widgetsnbextension~=3.5.0->ipywidgets>=7.5.1->neuralprophet) (1.8.0)\n",
      "Requirement already satisfied: prometheus-client in c:\\users\\selsh\\anaconda3\\lib\\site-packages (from notebook>=4.4.1->widgetsnbextension~=3.5.0->ipywidgets>=7.5.1->neuralprophet) (0.11.0)\n",
      "Requirement already satisfied: jinja2 in c:\\users\\selsh\\anaconda3\\lib\\site-packages (from notebook>=4.4.1->widgetsnbextension~=3.5.0->ipywidgets>=7.5.1->neuralprophet) (2.11.3)\n",
      "Requirement already satisfied: argon2-cffi in c:\\users\\selsh\\anaconda3\\lib\\site-packages (from notebook>=4.4.1->widgetsnbextension~=3.5.0->ipywidgets>=7.5.1->neuralprophet) (20.1.0)\n",
      "Requirement already satisfied: terminado>=0.8.3 in c:\\users\\selsh\\anaconda3\\lib\\site-packages (from notebook>=4.4.1->widgetsnbextension~=3.5.0->ipywidgets>=7.5.1->neuralprophet) (0.9.4)\n",
      "Requirement already satisfied: pywinpty>=0.5 in c:\\users\\selsh\\anaconda3\\lib\\site-packages (from terminado>=0.8.3->notebook>=4.4.1->widgetsnbextension~=3.5.0->ipywidgets>=7.5.1->neuralprophet) (0.5.7)\n",
      "Requirement already satisfied: cffi>=1.0.0 in c:\\users\\selsh\\anaconda3\\lib\\site-packages (from argon2-cffi->notebook>=4.4.1->widgetsnbextension~=3.5.0->ipywidgets>=7.5.1->neuralprophet) (1.14.6)\n",
      "Requirement already satisfied: pycparser in c:\\users\\selsh\\anaconda3\\lib\\site-packages (from cffi>=1.0.0->argon2-cffi->notebook>=4.4.1->widgetsnbextension~=3.5.0->ipywidgets>=7.5.1->neuralprophet) (2.20)\n",
      "Requirement already satisfied: MarkupSafe>=0.23 in c:\\users\\selsh\\anaconda3\\lib\\site-packages (from jinja2->notebook>=4.4.1->widgetsnbextension~=3.5.0->ipywidgets>=7.5.1->neuralprophet) (1.1.1)\n",
      "Requirement already satisfied: testpath in c:\\users\\selsh\\anaconda3\\lib\\site-packages (from nbconvert->notebook>=4.4.1->widgetsnbextension~=3.5.0->ipywidgets>=7.5.1->neuralprophet) (0.5.0)\n",
      "Requirement already satisfied: entrypoints>=0.2.2 in c:\\users\\selsh\\anaconda3\\lib\\site-packages (from nbconvert->notebook>=4.4.1->widgetsnbextension~=3.5.0->ipywidgets>=7.5.1->neuralprophet) (0.3)\n",
      "Requirement already satisfied: pandocfilters>=1.4.1 in c:\\users\\selsh\\anaconda3\\lib\\site-packages (from nbconvert->notebook>=4.4.1->widgetsnbextension~=3.5.0->ipywidgets>=7.5.1->neuralprophet) (1.4.3)\n",
      "Requirement already satisfied: bleach in c:\\users\\selsh\\anaconda3\\lib\\site-packages (from nbconvert->notebook>=4.4.1->widgetsnbextension~=3.5.0->ipywidgets>=7.5.1->neuralprophet) (4.0.0)\n",
      "Requirement already satisfied: mistune<2,>=0.8.1 in c:\\users\\selsh\\anaconda3\\lib\\site-packages (from nbconvert->notebook>=4.4.1->widgetsnbextension~=3.5.0->ipywidgets>=7.5.1->neuralprophet) (0.8.4)\n",
      "Requirement already satisfied: nbclient<0.6.0,>=0.5.0 in c:\\users\\selsh\\anaconda3\\lib\\site-packages (from nbconvert->notebook>=4.4.1->widgetsnbextension~=3.5.0->ipywidgets>=7.5.1->neuralprophet) (0.5.3)\n",
      "Requirement already satisfied: jupyterlab-pygments in c:\\users\\selsh\\anaconda3\\lib\\site-packages (from nbconvert->notebook>=4.4.1->widgetsnbextension~=3.5.0->ipywidgets>=7.5.1->neuralprophet) (0.1.2)\n",
      "Requirement already satisfied: defusedxml in c:\\users\\selsh\\anaconda3\\lib\\site-packages (from nbconvert->notebook>=4.4.1->widgetsnbextension~=3.5.0->ipywidgets>=7.5.1->neuralprophet) (0.7.1)\n",
      "Requirement already satisfied: async-generator in c:\\users\\selsh\\anaconda3\\lib\\site-packages (from nbclient<0.6.0,>=0.5.0->nbconvert->notebook>=4.4.1->widgetsnbextension~=3.5.0->ipywidgets>=7.5.1->neuralprophet) (1.10)\n",
      "Requirement already satisfied: nest-asyncio in c:\\users\\selsh\\anaconda3\\lib\\site-packages (from nbclient<0.6.0,>=0.5.0->nbconvert->notebook>=4.4.1->widgetsnbextension~=3.5.0->ipywidgets>=7.5.1->neuralprophet) (1.5.1)\n",
      "Requirement already satisfied: webencodings in c:\\users\\selsh\\anaconda3\\lib\\site-packages (from bleach->nbconvert->notebook>=4.4.1->widgetsnbextension~=3.5.0->ipywidgets>=7.5.1->neuralprophet) (0.5.1)\n",
      "Building wheels for collected packages: pymeeus\n",
      "  Building wheel for pymeeus (setup.py): started\n",
      "  Building wheel for pymeeus (setup.py): finished with status 'done'\n",
      "  Created wheel for pymeeus: filename=PyMeeus-0.5.11-py3-none-any.whl size=730984 sha256=65fdd029a034d6d80ec0902544cdcf232113b66de9fa00fcdc60717746dde7b7\n",
      "  Stored in directory: c:\\users\\selsh\\appdata\\local\\pip\\cache\\wheels\\33\\3d\\82\\4579e9cca41ff991140b2e050bc6df3a38292f26e4fa06b15d\n",
      "Successfully built pymeeus\n",
      "Installing collected packages: pymeeus, torch, korean-lunar-calendar, hijri-converter, ephem, convertdate, torch-lr-finder, LunarCalendar, holidays, dataclasses, neuralprophet\n",
      "Successfully installed LunarCalendar-0.0.9 convertdate-2.3.2 dataclasses-0.6 ephem-4.1.2 hijri-converter-2.2.2 holidays-0.11.3.1 korean-lunar-calendar-0.2.1 neuralprophet-0.3.0 pymeeus-0.5.11 torch-1.10.0 torch-lr-finder-0.2.1\n"
     ]
    }
   ],
   "source": [
    "# !pip install neuralprophet"
   ]
  },
  {
   "cell_type": "code",
   "execution_count": 4,
   "id": "indie-development",
   "metadata": {
    "executionInfo": {
     "elapsed": 172,
     "status": "ok",
     "timestamp": 1634576168321,
     "user": {
      "displayName": "Ethan Jackson",
      "photoUrl": "https://lh3.googleusercontent.com/a-/AOh14Gj0sN-qIkLWaD3gNaMMx-oLuegd5o3MGlU94qG9IQ=s64",
      "userId": "16234263294244605206"
     },
     "user_tz": 240
    },
    "id": "a3fd51aa-3046-46a9-af80-7d95c28dd3a3"
   },
   "outputs": [],
   "source": [
    "\"\"\"\n",
    "Set sample rate. In this notebook, all data will be resampled at the chosen frequency.\n",
    "'MS' : Monthly (Month Start)\n",
    "'W' : Weekly\n",
    "'D' : Daily\n",
    "\"\"\"\n",
    "\n",
    "year_period = {'MS': 12, 'W': 52, 'D': 365}\n",
    "frequency = 'MS'\n",
    "one_year = year_period[frequency]"
   ]
  },
  {
   "cell_type": "markdown",
   "id": "furnished-spelling",
   "metadata": {
    "id": "1611d765-10f6-42c1-a137-8ff7f3d0fbed"
   },
   "source": [
    "## Load Data From File"
   ]
  },
  {
   "cell_type": "code",
   "execution_count": 7,
   "id": "f915ddf0-e451-4084-8f9d-7b9153d23585",
   "metadata": {},
   "outputs": [
    {
     "name": "stdout",
     "output_type": "stream",
     "text": [
      " Volume in drive C has no label.\n",
      " Volume Serial Number is A450-BD8B\n",
      "\n",
      " Directory of C:\\Users\\selsh\\repos\\foodprice-forecasting\n",
      "\n",
      "2021-12-07  01:28 PM    <DIR>          .\n",
      "2021-12-07  01:28 PM    <DIR>          ..\n",
      "2021-12-07  01:23 PM    <DIR>          .ipynb_checkpoints\n",
      "2021-10-28  07:47 AM           387,352 36_48myforecasts_file.csv\n",
      "2021-12-07  10:51 AM         1,606,969 all_data.csv.bak\n",
      "2021-10-28  04:16 PM    <DIR>          Bakery and cereal products (excluding baby food)_CUSR0000SAF112nlags_24\n",
      "2021-10-28  06:41 PM            11,580 compare_valid_results.ipynb\n",
      "2021-12-07  10:51 AM             6,953 data.py\n",
      "2021-12-07  10:51 AM    <DIR>          data_files\n",
      "2021-10-28  03:32 PM             1,319 ensemble_models.csv\n",
      "2021-12-07  10:51 AM               283 foodprice_categories.txt\n",
      "2021-12-07  10:51 AM         1,497,344 forecasting-ensemble-experiment.ipynb\n",
      "2021-12-07  10:51 AM           459,984 forecasting-ensemble-final.ipynb\n",
      "2021-12-07  01:23 PM         1,059,462 forecasting-nbeats-experiment.ipynb\n",
      "2021-12-07  10:51 AM           263,655 forecasting-nbeats-final.ipynb\n",
      "2021-12-07  11:03 AM            56,659 forecasting-nbeats-fredvars-experiment.ipynb\n",
      "2021-12-07  11:03 AM            74,980 forecasting-nbeats-fredvars-final.ipynb\n",
      "2021-12-07  01:28 PM         1,065,174 forecasting-neuralprophet-experiment.ipynb\n",
      "2021-10-27  09:05 PM            59,159 forecasting-neuralprophet-old.ipynb\n",
      "2021-12-07  10:51 AM         2,603,392 forecasting-prophet-experiment.ipynb\n",
      "2021-12-07  10:51 AM           692,823 forecasting-prophet-final.ipynb\n",
      "2021-10-28  01:20 PM         3,394,617 forecasting-prophet-old.ipynb\n",
      "2021-12-07  10:51 AM             4,545 FRED_series_names.csv\n",
      "2021-12-07  10:51 AM            52,849 load_data.ipynb\n",
      "2021-12-07  10:51 AM    <DIR>          output\n",
      "2021-10-27  09:02 PM             1,061 README.md\n",
      "2021-12-07  10:51 AM                70 reportsimdates.txt\n",
      "2021-10-28  04:09 PM             6,398 sample_finalforecast.csv\n",
      "2021-10-28  05:27 PM               194 test_ensemble_models.csv\n",
      "2021-12-07  11:03 AM        39,291,913 updated-forecasting-neuralprophet (4).ipynb\n",
      "2021-12-07  11:03 AM           632,218 updated-forecasting-neuralprophet-s.ipynb\n",
      "2021-12-07  10:51 AM    <DIR>          __pycache__\n",
      "              25 File(s)     53,230,953 bytes\n",
      "               7 Dir(s)  14,329,692,160 bytes free\n"
     ]
    }
   ],
   "source": [
    "!dir"
   ]
  },
  {
   "cell_type": "code",
   "execution_count": 8,
   "id": "contained-bhutan",
   "metadata": {},
   "outputs": [
    {
     "data": {
      "text/html": [
       "<div>\n",
       "<style scoped>\n",
       "    .dataframe tbody tr th:only-of-type {\n",
       "        vertical-align: middle;\n",
       "    }\n",
       "\n",
       "    .dataframe tbody tr th {\n",
       "        vertical-align: top;\n",
       "    }\n",
       "\n",
       "    .dataframe thead th {\n",
       "        text-align: right;\n",
       "    }\n",
       "</style>\n",
       "<table border=\"1\" class=\"dataframe\">\n",
       "  <thead>\n",
       "    <tr style=\"text-align: right;\">\n",
       "      <th></th>\n",
       "      <th>Bakery and cereal products (excluding baby food)</th>\n",
       "      <th>Dairy products and eggs</th>\n",
       "      <th>Fish, seafood and other marine products</th>\n",
       "      <th>Food purchased from restaurants</th>\n",
       "      <th>Food</th>\n",
       "      <th>Fruit, fruit preparations and nuts</th>\n",
       "      <th>Meat</th>\n",
       "      <th>Other food products and non-alcoholic beverages</th>\n",
       "      <th>Vegetables and vegetable preparations</th>\n",
       "      <th>DEXCAUS</th>\n",
       "      <th>...</th>\n",
       "      <th>XTIMVA01CAM657S</th>\n",
       "      <th>XTIMVA01CAM659S</th>\n",
       "      <th>XTIMVA01CAM664N</th>\n",
       "      <th>XTIMVA01CAM664S</th>\n",
       "      <th>XTIMVA01CAM667S</th>\n",
       "      <th>XTNTVA01CAM664N</th>\n",
       "      <th>XTNTVA01CAM664S</th>\n",
       "      <th>XTNTVA01CAM667S</th>\n",
       "      <th>TOTALNS</th>\n",
       "      <th>TOTALSL</th>\n",
       "    </tr>\n",
       "  </thead>\n",
       "  <tbody>\n",
       "    <tr>\n",
       "      <th>1986-01-01</th>\n",
       "      <td>69.3</td>\n",
       "      <td>70.9</td>\n",
       "      <td>60.6</td>\n",
       "      <td>59.1</td>\n",
       "      <td>67.3</td>\n",
       "      <td>76.0</td>\n",
       "      <td>65.1</td>\n",
       "      <td>77.5</td>\n",
       "      <td>76.0</td>\n",
       "      <td>1.392</td>\n",
       "      <td>...</td>\n",
       "      <td>3.644</td>\n",
       "      <td>12.051</td>\n",
       "      <td>9.368e+09</td>\n",
       "      <td>9.496e+09</td>\n",
       "      <td>6.749e+09</td>\n",
       "      <td>6.906e+08</td>\n",
       "      <td>1.052e+09</td>\n",
       "      <td>7.479e+08</td>\n",
       "      <td>607.369</td>\n",
       "      <td>605.703</td>\n",
       "    </tr>\n",
       "    <tr>\n",
       "      <th>1986-02-01</th>\n",
       "      <td>70.3</td>\n",
       "      <td>70.8</td>\n",
       "      <td>61.3</td>\n",
       "      <td>59.1</td>\n",
       "      <td>66.9</td>\n",
       "      <td>77.6</td>\n",
       "      <td>64.2</td>\n",
       "      <td>78.1</td>\n",
       "      <td>68.4</td>\n",
       "      <td>1.392</td>\n",
       "      <td>...</td>\n",
       "      <td>1.965</td>\n",
       "      <td>16.745</td>\n",
       "      <td>9.495e+09</td>\n",
       "      <td>9.632e+09</td>\n",
       "      <td>6.881e+09</td>\n",
       "      <td>-9.880e+07</td>\n",
       "      <td>1.539e+08</td>\n",
       "      <td>1.099e+08</td>\n",
       "      <td>605.807</td>\n",
       "      <td>610.678</td>\n",
       "    </tr>\n",
       "    <tr>\n",
       "      <th>1986-03-01</th>\n",
       "      <td>70.6</td>\n",
       "      <td>71.1</td>\n",
       "      <td>61.3</td>\n",
       "      <td>59.3</td>\n",
       "      <td>67.0</td>\n",
       "      <td>79.2</td>\n",
       "      <td>64.2</td>\n",
       "      <td>78.6</td>\n",
       "      <td>66.2</td>\n",
       "      <td>1.392</td>\n",
       "      <td>...</td>\n",
       "      <td>-11.565</td>\n",
       "      <td>1.655</td>\n",
       "      <td>8.803e+09</td>\n",
       "      <td>8.529e+09</td>\n",
       "      <td>6.085e+09</td>\n",
       "      <td>9.138e+08</td>\n",
       "      <td>9.079e+08</td>\n",
       "      <td>6.478e+08</td>\n",
       "      <td>606.799</td>\n",
       "      <td>613.377</td>\n",
       "    </tr>\n",
       "    <tr>\n",
       "      <th>1986-04-01</th>\n",
       "      <td>71.3</td>\n",
       "      <td>71.0</td>\n",
       "      <td>61.4</td>\n",
       "      <td>59.7</td>\n",
       "      <td>67.7</td>\n",
       "      <td>82.2</td>\n",
       "      <td>63.6</td>\n",
       "      <td>79.5</td>\n",
       "      <td>71.1</td>\n",
       "      <td>1.392</td>\n",
       "      <td>...</td>\n",
       "      <td>13.334</td>\n",
       "      <td>10.821</td>\n",
       "      <td>1.034e+10</td>\n",
       "      <td>9.569e+09</td>\n",
       "      <td>6.897e+09</td>\n",
       "      <td>3.470e+08</td>\n",
       "      <td>6.563e+08</td>\n",
       "      <td>4.730e+08</td>\n",
       "      <td>614.367</td>\n",
       "      <td>619.658</td>\n",
       "    </tr>\n",
       "    <tr>\n",
       "      <th>1986-05-01</th>\n",
       "      <td>71.2</td>\n",
       "      <td>71.4</td>\n",
       "      <td>61.9</td>\n",
       "      <td>59.9</td>\n",
       "      <td>68.2</td>\n",
       "      <td>83.5</td>\n",
       "      <td>64.0</td>\n",
       "      <td>79.8</td>\n",
       "      <td>75.3</td>\n",
       "      <td>1.377</td>\n",
       "      <td>...</td>\n",
       "      <td>-4.236</td>\n",
       "      <td>6.160</td>\n",
       "      <td>9.598e+09</td>\n",
       "      <td>9.091e+09</td>\n",
       "      <td>6.605e+09</td>\n",
       "      <td>7.013e+08</td>\n",
       "      <td>6.893e+08</td>\n",
       "      <td>5.008e+08</td>\n",
       "      <td>621.915</td>\n",
       "      <td>625.820</td>\n",
       "    </tr>\n",
       "    <tr>\n",
       "      <th>...</th>\n",
       "      <td>...</td>\n",
       "      <td>...</td>\n",
       "      <td>...</td>\n",
       "      <td>...</td>\n",
       "      <td>...</td>\n",
       "      <td>...</td>\n",
       "      <td>...</td>\n",
       "      <td>...</td>\n",
       "      <td>...</td>\n",
       "      <td>...</td>\n",
       "      <td>...</td>\n",
       "      <td>...</td>\n",
       "      <td>...</td>\n",
       "      <td>...</td>\n",
       "      <td>...</td>\n",
       "      <td>...</td>\n",
       "      <td>...</td>\n",
       "      <td>...</td>\n",
       "      <td>...</td>\n",
       "      <td>...</td>\n",
       "      <td>...</td>\n",
       "    </tr>\n",
       "    <tr>\n",
       "      <th>2021-06-01</th>\n",
       "      <td>157.7</td>\n",
       "      <td>145.3</td>\n",
       "      <td>146.2</td>\n",
       "      <td>163.9</td>\n",
       "      <td>156.8</td>\n",
       "      <td>144.5</td>\n",
       "      <td>176.7</td>\n",
       "      <td>142.2</td>\n",
       "      <td>153.4</td>\n",
       "      <td>1.203</td>\n",
       "      <td>...</td>\n",
       "      <td>-1.087</td>\n",
       "      <td>31.561</td>\n",
       "      <td>5.159e+10</td>\n",
       "      <td>4.979e+10</td>\n",
       "      <td>4.075e+10</td>\n",
       "      <td>3.661e+09</td>\n",
       "      <td>3.111e+09</td>\n",
       "      <td>2.546e+09</td>\n",
       "      <td>4259.604</td>\n",
       "      <td>4307.137</td>\n",
       "    </tr>\n",
       "    <tr>\n",
       "      <th>2021-07-01</th>\n",
       "      <td>157.9</td>\n",
       "      <td>146.4</td>\n",
       "      <td>146.6</td>\n",
       "      <td>165.2</td>\n",
       "      <td>157.6</td>\n",
       "      <td>141.7</td>\n",
       "      <td>180.9</td>\n",
       "      <td>141.9</td>\n",
       "      <td>154.8</td>\n",
       "      <td>1.240</td>\n",
       "      <td>...</td>\n",
       "      <td>1.990</td>\n",
       "      <td>18.580</td>\n",
       "      <td>5.106e+10</td>\n",
       "      <td>5.205e+10</td>\n",
       "      <td>4.156e+10</td>\n",
       "      <td>3.780e+08</td>\n",
       "      <td>1.129e+09</td>\n",
       "      <td>9.018e+08</td>\n",
       "      <td>4276.202</td>\n",
       "      <td>4323.730</td>\n",
       "    </tr>\n",
       "    <tr>\n",
       "      <th>2021-08-01</th>\n",
       "      <td>158.5</td>\n",
       "      <td>148.3</td>\n",
       "      <td>146.8</td>\n",
       "      <td>165.9</td>\n",
       "      <td>158.0</td>\n",
       "      <td>142.5</td>\n",
       "      <td>182.1</td>\n",
       "      <td>141.7</td>\n",
       "      <td>152.2</td>\n",
       "      <td>1.251</td>\n",
       "      <td>...</td>\n",
       "      <td>-2.312</td>\n",
       "      <td>14.723</td>\n",
       "      <td>5.245e+10</td>\n",
       "      <td>5.115e+10</td>\n",
       "      <td>4.060e+10</td>\n",
       "      <td>1.300e+09</td>\n",
       "      <td>2.674e+09</td>\n",
       "      <td>2.123e+09</td>\n",
       "      <td>4316.303</td>\n",
       "      <td>4337.489</td>\n",
       "    </tr>\n",
       "    <tr>\n",
       "      <th>2021-09-01</th>\n",
       "      <td>158.1</td>\n",
       "      <td>148.0</td>\n",
       "      <td>147.1</td>\n",
       "      <td>165.9</td>\n",
       "      <td>158.5</td>\n",
       "      <td>141.5</td>\n",
       "      <td>184.8</td>\n",
       "      <td>144.3</td>\n",
       "      <td>150.0</td>\n",
       "      <td>1.262</td>\n",
       "      <td>...</td>\n",
       "      <td>-3.461</td>\n",
       "      <td>8.557</td>\n",
       "      <td>5.080e+10</td>\n",
       "      <td>4.965e+10</td>\n",
       "      <td>3.920e+10</td>\n",
       "      <td>1.561e+09</td>\n",
       "      <td>2.277e+09</td>\n",
       "      <td>1.798e+09</td>\n",
       "      <td>4346.662</td>\n",
       "      <td>4367.402</td>\n",
       "    </tr>\n",
       "    <tr>\n",
       "      <th>2021-10-01</th>\n",
       "      <td>159.3</td>\n",
       "      <td>146.6</td>\n",
       "      <td>149.3</td>\n",
       "      <td>167.1</td>\n",
       "      <td>159.2</td>\n",
       "      <td>141.7</td>\n",
       "      <td>187.1</td>\n",
       "      <td>144.4</td>\n",
       "      <td>149.4</td>\n",
       "      <td>1.266</td>\n",
       "      <td>...</td>\n",
       "      <td>-3.461</td>\n",
       "      <td>8.557</td>\n",
       "      <td>5.080e+10</td>\n",
       "      <td>4.965e+10</td>\n",
       "      <td>3.920e+10</td>\n",
       "      <td>1.561e+09</td>\n",
       "      <td>2.277e+09</td>\n",
       "      <td>1.798e+09</td>\n",
       "      <td>4346.662</td>\n",
       "      <td>4367.402</td>\n",
       "    </tr>\n",
       "  </tbody>\n",
       "</table>\n",
       "<p>430 rows × 332 columns</p>\n",
       "</div>"
      ],
      "text/plain": [
       "            Bakery and cereal products (excluding baby food)  \\\n",
       "1986-01-01                                              69.3   \n",
       "1986-02-01                                              70.3   \n",
       "1986-03-01                                              70.6   \n",
       "1986-04-01                                              71.3   \n",
       "1986-05-01                                              71.2   \n",
       "...                                                      ...   \n",
       "2021-06-01                                             157.7   \n",
       "2021-07-01                                             157.9   \n",
       "2021-08-01                                             158.5   \n",
       "2021-09-01                                             158.1   \n",
       "2021-10-01                                             159.3   \n",
       "\n",
       "            Dairy products and eggs  Fish, seafood and other marine products  \\\n",
       "1986-01-01                     70.9                                     60.6   \n",
       "1986-02-01                     70.8                                     61.3   \n",
       "1986-03-01                     71.1                                     61.3   \n",
       "1986-04-01                     71.0                                     61.4   \n",
       "1986-05-01                     71.4                                     61.9   \n",
       "...                             ...                                      ...   \n",
       "2021-06-01                    145.3                                    146.2   \n",
       "2021-07-01                    146.4                                    146.6   \n",
       "2021-08-01                    148.3                                    146.8   \n",
       "2021-09-01                    148.0                                    147.1   \n",
       "2021-10-01                    146.6                                    149.3   \n",
       "\n",
       "            Food purchased from restaurants   Food  \\\n",
       "1986-01-01                             59.1   67.3   \n",
       "1986-02-01                             59.1   66.9   \n",
       "1986-03-01                             59.3   67.0   \n",
       "1986-04-01                             59.7   67.7   \n",
       "1986-05-01                             59.9   68.2   \n",
       "...                                     ...    ...   \n",
       "2021-06-01                            163.9  156.8   \n",
       "2021-07-01                            165.2  157.6   \n",
       "2021-08-01                            165.9  158.0   \n",
       "2021-09-01                            165.9  158.5   \n",
       "2021-10-01                            167.1  159.2   \n",
       "\n",
       "            Fruit, fruit preparations and nuts   Meat  \\\n",
       "1986-01-01                                76.0   65.1   \n",
       "1986-02-01                                77.6   64.2   \n",
       "1986-03-01                                79.2   64.2   \n",
       "1986-04-01                                82.2   63.6   \n",
       "1986-05-01                                83.5   64.0   \n",
       "...                                        ...    ...   \n",
       "2021-06-01                               144.5  176.7   \n",
       "2021-07-01                               141.7  180.9   \n",
       "2021-08-01                               142.5  182.1   \n",
       "2021-09-01                               141.5  184.8   \n",
       "2021-10-01                               141.7  187.1   \n",
       "\n",
       "            Other food products and non-alcoholic beverages  \\\n",
       "1986-01-01                                             77.5   \n",
       "1986-02-01                                             78.1   \n",
       "1986-03-01                                             78.6   \n",
       "1986-04-01                                             79.5   \n",
       "1986-05-01                                             79.8   \n",
       "...                                                     ...   \n",
       "2021-06-01                                            142.2   \n",
       "2021-07-01                                            141.9   \n",
       "2021-08-01                                            141.7   \n",
       "2021-09-01                                            144.3   \n",
       "2021-10-01                                            144.4   \n",
       "\n",
       "            Vegetables and vegetable preparations  DEXCAUS  ...  \\\n",
       "1986-01-01                                   76.0    1.392  ...   \n",
       "1986-02-01                                   68.4    1.392  ...   \n",
       "1986-03-01                                   66.2    1.392  ...   \n",
       "1986-04-01                                   71.1    1.392  ...   \n",
       "1986-05-01                                   75.3    1.377  ...   \n",
       "...                                           ...      ...  ...   \n",
       "2021-06-01                                  153.4    1.203  ...   \n",
       "2021-07-01                                  154.8    1.240  ...   \n",
       "2021-08-01                                  152.2    1.251  ...   \n",
       "2021-09-01                                  150.0    1.262  ...   \n",
       "2021-10-01                                  149.4    1.266  ...   \n",
       "\n",
       "            XTIMVA01CAM657S  XTIMVA01CAM659S  XTIMVA01CAM664N  \\\n",
       "1986-01-01            3.644           12.051        9.368e+09   \n",
       "1986-02-01            1.965           16.745        9.495e+09   \n",
       "1986-03-01          -11.565            1.655        8.803e+09   \n",
       "1986-04-01           13.334           10.821        1.034e+10   \n",
       "1986-05-01           -4.236            6.160        9.598e+09   \n",
       "...                     ...              ...              ...   \n",
       "2021-06-01           -1.087           31.561        5.159e+10   \n",
       "2021-07-01            1.990           18.580        5.106e+10   \n",
       "2021-08-01           -2.312           14.723        5.245e+10   \n",
       "2021-09-01           -3.461            8.557        5.080e+10   \n",
       "2021-10-01           -3.461            8.557        5.080e+10   \n",
       "\n",
       "            XTIMVA01CAM664S  XTIMVA01CAM667S  XTNTVA01CAM664N  \\\n",
       "1986-01-01        9.496e+09        6.749e+09        6.906e+08   \n",
       "1986-02-01        9.632e+09        6.881e+09       -9.880e+07   \n",
       "1986-03-01        8.529e+09        6.085e+09        9.138e+08   \n",
       "1986-04-01        9.569e+09        6.897e+09        3.470e+08   \n",
       "1986-05-01        9.091e+09        6.605e+09        7.013e+08   \n",
       "...                     ...              ...              ...   \n",
       "2021-06-01        4.979e+10        4.075e+10        3.661e+09   \n",
       "2021-07-01        5.205e+10        4.156e+10        3.780e+08   \n",
       "2021-08-01        5.115e+10        4.060e+10        1.300e+09   \n",
       "2021-09-01        4.965e+10        3.920e+10        1.561e+09   \n",
       "2021-10-01        4.965e+10        3.920e+10        1.561e+09   \n",
       "\n",
       "            XTNTVA01CAM664S  XTNTVA01CAM667S   TOTALNS   TOTALSL  \n",
       "1986-01-01        1.052e+09        7.479e+08   607.369   605.703  \n",
       "1986-02-01        1.539e+08        1.099e+08   605.807   610.678  \n",
       "1986-03-01        9.079e+08        6.478e+08   606.799   613.377  \n",
       "1986-04-01        6.563e+08        4.730e+08   614.367   619.658  \n",
       "1986-05-01        6.893e+08        5.008e+08   621.915   625.820  \n",
       "...                     ...              ...       ...       ...  \n",
       "2021-06-01        3.111e+09        2.546e+09  4259.604  4307.137  \n",
       "2021-07-01        1.129e+09        9.018e+08  4276.202  4323.730  \n",
       "2021-08-01        2.674e+09        2.123e+09  4316.303  4337.489  \n",
       "2021-09-01        2.277e+09        1.798e+09  4346.662  4367.402  \n",
       "2021-10-01        2.277e+09        1.798e+09  4346.662  4367.402  \n",
       "\n",
       "[430 rows x 332 columns]"
      ]
     },
     "execution_count": 8,
     "metadata": {},
     "output_type": "execute_result"
    }
   ],
   "source": [
    "foodprice_categories = pd.read_csv(\"./foodprice_categories.txt\", sep='\\n', header=None)[0].to_list()\n",
    "foodprice_df = pd.read_csv(\"./all_data.csv.bak\", index_col=0)\n",
    "foodprice_df = foodprice_df.set_index(pd.DatetimeIndex(foodprice_df.index))\n",
    "foodprice_df"
   ]
  },
  {
   "cell_type": "markdown",
   "id": "refined-category",
   "metadata": {
    "id": "a736153c-3cbe-4aa9-a5fd-9128f8e64328"
   },
   "source": [
    "## Experiment And Data Setup"
   ]
  },
  {
   "cell_type": "code",
   "execution_count": 9,
   "id": "impressed-timothy",
   "metadata": {
    "executionInfo": {
     "elapsed": 7,
     "status": "ok",
     "timestamp": 1634576186291,
     "user": {
      "displayName": "Ethan Jackson",
      "photoUrl": "https://lh3.googleusercontent.com/a-/AOh14Gj0sN-qIkLWaD3gNaMMx-oLuegd5o3MGlU94qG9IQ=s64",
      "userId": "16234263294244605206"
     },
     "user_tz": 240
    },
    "id": "2Bhnlqfti1L4"
   },
   "outputs": [
    {
     "data": {
      "text/plain": [
       "['2015-07-01',\n",
       " '2016-07-01',\n",
       " '2017-07-01',\n",
       " '2018-07-01',\n",
       " '2019-07-01',\n",
       " '2020-07-01']"
      ]
     },
     "execution_count": 9,
     "metadata": {},
     "output_type": "execute_result"
    }
   ],
   "source": [
    "report_sim_dates = pd.read_csv(\"./reportsimdates.txt\", sep='\\n', header=None)[0].to_list()\n",
    "report_sim_dates"
   ]
  },
  {
   "cell_type": "code",
   "execution_count": 10,
   "id": "mechanical-party",
   "metadata": {
    "executionInfo": {
     "elapsed": 6,
     "status": "ok",
     "timestamp": 1634576186292,
     "user": {
      "displayName": "Ethan Jackson",
      "photoUrl": "https://lh3.googleusercontent.com/a-/AOh14Gj0sN-qIkLWaD3gNaMMx-oLuegd5o3MGlU94qG9IQ=s64",
      "userId": "16234263294244605206"
     },
     "user_tz": 240
    },
    "id": "392debaa-e8b0-4eb8-ad2a-b5e35dd700ec"
   },
   "outputs": [],
   "source": [
    "sim_train_dates = {}\n",
    "sim_valid_dates = {}\n",
    "\n",
    "for date in report_sim_dates:\n",
    "    sim_train_dates[date] = foodprice_df.index[foodprice_df.index <= date]\n",
    "    sim_valid_dates[date] = foodprice_df.index[(foodprice_df.index > date) & (foodprice_df.index <= (pd.to_datetime(date) + pd.DateOffset(months=18)))]"
   ]
  },
  {
   "cell_type": "code",
   "execution_count": 13,
   "id": "cognitive-skiing",
   "metadata": {
    "colab": {
     "base_uri": "https://localhost:8080/",
     "height": 763
    },
    "executionInfo": {
     "elapsed": 235,
     "status": "ok",
     "timestamp": 1634582516688,
     "user": {
      "displayName": "Ethan Jackson",
      "photoUrl": "https://lh3.googleusercontent.com/a-/AOh14Gj0sN-qIkLWaD3gNaMMx-oLuegd5o3MGlU94qG9IQ=s64",
      "userId": "16234263294244605206"
     },
     "user_tz": 240
    },
    "id": "rnXtQCgEs2H3",
    "outputId": "1feeb6df-76e5-4c1d-ff6f-da615ab3a158"
   },
   "outputs": [
    {
     "data": {
      "text/html": [
       "<div>\n",
       "<style scoped>\n",
       "    .dataframe tbody tr th:only-of-type {\n",
       "        vertical-align: middle;\n",
       "    }\n",
       "\n",
       "    .dataframe tbody tr th {\n",
       "        vertical-align: top;\n",
       "    }\n",
       "\n",
       "    .dataframe thead th {\n",
       "        text-align: right;\n",
       "    }\n",
       "</style>\n",
       "<table border=\"1\" class=\"dataframe\">\n",
       "  <thead>\n",
       "    <tr style=\"text-align: right;\">\n",
       "      <th></th>\n",
       "      <th>1986-01-01</th>\n",
       "      <th>1986-02-01</th>\n",
       "      <th>1986-03-01</th>\n",
       "      <th>1986-04-01</th>\n",
       "      <th>1986-05-01</th>\n",
       "      <th>1986-06-01</th>\n",
       "      <th>1986-07-01</th>\n",
       "      <th>1986-08-01</th>\n",
       "      <th>1986-09-01</th>\n",
       "      <th>1986-10-01</th>\n",
       "      <th>...</th>\n",
       "      <th>2021-01-01</th>\n",
       "      <th>2021-02-01</th>\n",
       "      <th>2021-03-01</th>\n",
       "      <th>2021-04-01</th>\n",
       "      <th>2021-05-01</th>\n",
       "      <th>2021-06-01</th>\n",
       "      <th>2021-07-01</th>\n",
       "      <th>2021-08-01</th>\n",
       "      <th>2021-09-01</th>\n",
       "      <th>2021-10-01</th>\n",
       "    </tr>\n",
       "  </thead>\n",
       "  <tbody>\n",
       "    <tr>\n",
       "      <th>Bakery and cereal products (excluding baby food)</th>\n",
       "      <td>69.3</td>\n",
       "      <td>70.3</td>\n",
       "      <td>70.6</td>\n",
       "      <td>71.3</td>\n",
       "      <td>71.2</td>\n",
       "      <td>71.1</td>\n",
       "      <td>71.7</td>\n",
       "      <td>71.9</td>\n",
       "      <td>71.7</td>\n",
       "      <td>71.1</td>\n",
       "      <td>...</td>\n",
       "      <td>154.2</td>\n",
       "      <td>157.1</td>\n",
       "      <td>156.8</td>\n",
       "      <td>156.2</td>\n",
       "      <td>157.8</td>\n",
       "      <td>157.7</td>\n",
       "      <td>157.9</td>\n",
       "      <td>158.5</td>\n",
       "      <td>158.1</td>\n",
       "      <td>159.3</td>\n",
       "    </tr>\n",
       "    <tr>\n",
       "      <th>Dairy products and eggs</th>\n",
       "      <td>70.9</td>\n",
       "      <td>70.8</td>\n",
       "      <td>71.1</td>\n",
       "      <td>71.0</td>\n",
       "      <td>71.4</td>\n",
       "      <td>71.1</td>\n",
       "      <td>71.3</td>\n",
       "      <td>71.5</td>\n",
       "      <td>71.8</td>\n",
       "      <td>71.8</td>\n",
       "      <td>...</td>\n",
       "      <td>141.6</td>\n",
       "      <td>143.1</td>\n",
       "      <td>144.9</td>\n",
       "      <td>146.1</td>\n",
       "      <td>146.6</td>\n",
       "      <td>145.3</td>\n",
       "      <td>146.4</td>\n",
       "      <td>148.3</td>\n",
       "      <td>148.0</td>\n",
       "      <td>146.6</td>\n",
       "    </tr>\n",
       "    <tr>\n",
       "      <th>Fish, seafood and other marine products</th>\n",
       "      <td>60.6</td>\n",
       "      <td>61.3</td>\n",
       "      <td>61.3</td>\n",
       "      <td>61.4</td>\n",
       "      <td>61.9</td>\n",
       "      <td>62.0</td>\n",
       "      <td>62.2</td>\n",
       "      <td>62.7</td>\n",
       "      <td>63.1</td>\n",
       "      <td>63.6</td>\n",
       "      <td>...</td>\n",
       "      <td>143.4</td>\n",
       "      <td>143.9</td>\n",
       "      <td>144.9</td>\n",
       "      <td>145.1</td>\n",
       "      <td>147.6</td>\n",
       "      <td>146.2</td>\n",
       "      <td>146.6</td>\n",
       "      <td>146.8</td>\n",
       "      <td>147.1</td>\n",
       "      <td>149.3</td>\n",
       "    </tr>\n",
       "    <tr>\n",
       "      <th>Food purchased from restaurants</th>\n",
       "      <td>59.1</td>\n",
       "      <td>59.1</td>\n",
       "      <td>59.3</td>\n",
       "      <td>59.7</td>\n",
       "      <td>59.9</td>\n",
       "      <td>60.0</td>\n",
       "      <td>60.6</td>\n",
       "      <td>60.9</td>\n",
       "      <td>60.9</td>\n",
       "      <td>61.3</td>\n",
       "      <td>...</td>\n",
       "      <td>162.6</td>\n",
       "      <td>162.9</td>\n",
       "      <td>162.6</td>\n",
       "      <td>163.2</td>\n",
       "      <td>163.5</td>\n",
       "      <td>163.9</td>\n",
       "      <td>165.2</td>\n",
       "      <td>165.9</td>\n",
       "      <td>165.9</td>\n",
       "      <td>167.1</td>\n",
       "    </tr>\n",
       "    <tr>\n",
       "      <th>Food</th>\n",
       "      <td>67.3</td>\n",
       "      <td>66.9</td>\n",
       "      <td>67.0</td>\n",
       "      <td>67.7</td>\n",
       "      <td>68.2</td>\n",
       "      <td>68.4</td>\n",
       "      <td>69.2</td>\n",
       "      <td>69.5</td>\n",
       "      <td>69.9</td>\n",
       "      <td>70.2</td>\n",
       "      <td>...</td>\n",
       "      <td>155.0</td>\n",
       "      <td>155.6</td>\n",
       "      <td>155.5</td>\n",
       "      <td>155.4</td>\n",
       "      <td>156.6</td>\n",
       "      <td>156.8</td>\n",
       "      <td>157.6</td>\n",
       "      <td>158.0</td>\n",
       "      <td>158.5</td>\n",
       "      <td>159.2</td>\n",
       "    </tr>\n",
       "    <tr>\n",
       "      <th>Fruit, fruit preparations and nuts</th>\n",
       "      <td>76.0</td>\n",
       "      <td>77.6</td>\n",
       "      <td>79.2</td>\n",
       "      <td>82.2</td>\n",
       "      <td>83.5</td>\n",
       "      <td>83.1</td>\n",
       "      <td>84.8</td>\n",
       "      <td>86.7</td>\n",
       "      <td>83.8</td>\n",
       "      <td>82.9</td>\n",
       "      <td>...</td>\n",
       "      <td>140.9</td>\n",
       "      <td>143.4</td>\n",
       "      <td>142.4</td>\n",
       "      <td>141.9</td>\n",
       "      <td>143.9</td>\n",
       "      <td>144.5</td>\n",
       "      <td>141.7</td>\n",
       "      <td>142.5</td>\n",
       "      <td>141.5</td>\n",
       "      <td>141.7</td>\n",
       "    </tr>\n",
       "    <tr>\n",
       "      <th>Meat</th>\n",
       "      <td>65.1</td>\n",
       "      <td>64.2</td>\n",
       "      <td>64.2</td>\n",
       "      <td>63.6</td>\n",
       "      <td>64.0</td>\n",
       "      <td>64.9</td>\n",
       "      <td>66.5</td>\n",
       "      <td>67.8</td>\n",
       "      <td>71.3</td>\n",
       "      <td>71.5</td>\n",
       "      <td>...</td>\n",
       "      <td>171.9</td>\n",
       "      <td>169.5</td>\n",
       "      <td>170.2</td>\n",
       "      <td>173.5</td>\n",
       "      <td>175.4</td>\n",
       "      <td>176.7</td>\n",
       "      <td>180.9</td>\n",
       "      <td>182.1</td>\n",
       "      <td>184.8</td>\n",
       "      <td>187.1</td>\n",
       "    </tr>\n",
       "    <tr>\n",
       "      <th>Other food products and non-alcoholic beverages</th>\n",
       "      <td>77.5</td>\n",
       "      <td>78.1</td>\n",
       "      <td>78.6</td>\n",
       "      <td>79.5</td>\n",
       "      <td>79.8</td>\n",
       "      <td>79.9</td>\n",
       "      <td>80.2</td>\n",
       "      <td>80.2</td>\n",
       "      <td>80.8</td>\n",
       "      <td>81.0</td>\n",
       "      <td>...</td>\n",
       "      <td>139.0</td>\n",
       "      <td>139.5</td>\n",
       "      <td>141.5</td>\n",
       "      <td>140.5</td>\n",
       "      <td>141.6</td>\n",
       "      <td>142.2</td>\n",
       "      <td>141.9</td>\n",
       "      <td>141.7</td>\n",
       "      <td>144.3</td>\n",
       "      <td>144.4</td>\n",
       "    </tr>\n",
       "    <tr>\n",
       "      <th>Vegetables and vegetable preparations</th>\n",
       "      <td>76.0</td>\n",
       "      <td>68.4</td>\n",
       "      <td>66.2</td>\n",
       "      <td>71.1</td>\n",
       "      <td>75.3</td>\n",
       "      <td>74.1</td>\n",
       "      <td>75.7</td>\n",
       "      <td>71.9</td>\n",
       "      <td>66.6</td>\n",
       "      <td>70.7</td>\n",
       "      <td>...</td>\n",
       "      <td>162.5</td>\n",
       "      <td>163.8</td>\n",
       "      <td>157.4</td>\n",
       "      <td>151.1</td>\n",
       "      <td>153.8</td>\n",
       "      <td>153.4</td>\n",
       "      <td>154.8</td>\n",
       "      <td>152.2</td>\n",
       "      <td>150.0</td>\n",
       "      <td>149.4</td>\n",
       "    </tr>\n",
       "  </tbody>\n",
       "</table>\n",
       "<p>9 rows × 430 columns</p>\n",
       "</div>"
      ],
      "text/plain": [
       "                                                  1986-01-01  1986-02-01  \\\n",
       "Bakery and cereal products (excluding baby food)        69.3        70.3   \n",
       "Dairy products and eggs                                 70.9        70.8   \n",
       "Fish, seafood and other marine products                 60.6        61.3   \n",
       "Food purchased from restaurants                         59.1        59.1   \n",
       "Food                                                    67.3        66.9   \n",
       "Fruit, fruit preparations and nuts                      76.0        77.6   \n",
       "Meat                                                    65.1        64.2   \n",
       "Other food products and non-alcoholic beverages         77.5        78.1   \n",
       "Vegetables and vegetable preparations                   76.0        68.4   \n",
       "\n",
       "                                                  1986-03-01  1986-04-01  \\\n",
       "Bakery and cereal products (excluding baby food)        70.6        71.3   \n",
       "Dairy products and eggs                                 71.1        71.0   \n",
       "Fish, seafood and other marine products                 61.3        61.4   \n",
       "Food purchased from restaurants                         59.3        59.7   \n",
       "Food                                                    67.0        67.7   \n",
       "Fruit, fruit preparations and nuts                      79.2        82.2   \n",
       "Meat                                                    64.2        63.6   \n",
       "Other food products and non-alcoholic beverages         78.6        79.5   \n",
       "Vegetables and vegetable preparations                   66.2        71.1   \n",
       "\n",
       "                                                  1986-05-01  1986-06-01  \\\n",
       "Bakery and cereal products (excluding baby food)        71.2        71.1   \n",
       "Dairy products and eggs                                 71.4        71.1   \n",
       "Fish, seafood and other marine products                 61.9        62.0   \n",
       "Food purchased from restaurants                         59.9        60.0   \n",
       "Food                                                    68.2        68.4   \n",
       "Fruit, fruit preparations and nuts                      83.5        83.1   \n",
       "Meat                                                    64.0        64.9   \n",
       "Other food products and non-alcoholic beverages         79.8        79.9   \n",
       "Vegetables and vegetable preparations                   75.3        74.1   \n",
       "\n",
       "                                                  1986-07-01  1986-08-01  \\\n",
       "Bakery and cereal products (excluding baby food)        71.7        71.9   \n",
       "Dairy products and eggs                                 71.3        71.5   \n",
       "Fish, seafood and other marine products                 62.2        62.7   \n",
       "Food purchased from restaurants                         60.6        60.9   \n",
       "Food                                                    69.2        69.5   \n",
       "Fruit, fruit preparations and nuts                      84.8        86.7   \n",
       "Meat                                                    66.5        67.8   \n",
       "Other food products and non-alcoholic beverages         80.2        80.2   \n",
       "Vegetables and vegetable preparations                   75.7        71.9   \n",
       "\n",
       "                                                  1986-09-01  1986-10-01  ...  \\\n",
       "Bakery and cereal products (excluding baby food)        71.7        71.1  ...   \n",
       "Dairy products and eggs                                 71.8        71.8  ...   \n",
       "Fish, seafood and other marine products                 63.1        63.6  ...   \n",
       "Food purchased from restaurants                         60.9        61.3  ...   \n",
       "Food                                                    69.9        70.2  ...   \n",
       "Fruit, fruit preparations and nuts                      83.8        82.9  ...   \n",
       "Meat                                                    71.3        71.5  ...   \n",
       "Other food products and non-alcoholic beverages         80.8        81.0  ...   \n",
       "Vegetables and vegetable preparations                   66.6        70.7  ...   \n",
       "\n",
       "                                                  2021-01-01  2021-02-01  \\\n",
       "Bakery and cereal products (excluding baby food)       154.2       157.1   \n",
       "Dairy products and eggs                                141.6       143.1   \n",
       "Fish, seafood and other marine products                143.4       143.9   \n",
       "Food purchased from restaurants                        162.6       162.9   \n",
       "Food                                                   155.0       155.6   \n",
       "Fruit, fruit preparations and nuts                     140.9       143.4   \n",
       "Meat                                                   171.9       169.5   \n",
       "Other food products and non-alcoholic beverages        139.0       139.5   \n",
       "Vegetables and vegetable preparations                  162.5       163.8   \n",
       "\n",
       "                                                  2021-03-01  2021-04-01  \\\n",
       "Bakery and cereal products (excluding baby food)       156.8       156.2   \n",
       "Dairy products and eggs                                144.9       146.1   \n",
       "Fish, seafood and other marine products                144.9       145.1   \n",
       "Food purchased from restaurants                        162.6       163.2   \n",
       "Food                                                   155.5       155.4   \n",
       "Fruit, fruit preparations and nuts                     142.4       141.9   \n",
       "Meat                                                   170.2       173.5   \n",
       "Other food products and non-alcoholic beverages        141.5       140.5   \n",
       "Vegetables and vegetable preparations                  157.4       151.1   \n",
       "\n",
       "                                                  2021-05-01  2021-06-01  \\\n",
       "Bakery and cereal products (excluding baby food)       157.8       157.7   \n",
       "Dairy products and eggs                                146.6       145.3   \n",
       "Fish, seafood and other marine products                147.6       146.2   \n",
       "Food purchased from restaurants                        163.5       163.9   \n",
       "Food                                                   156.6       156.8   \n",
       "Fruit, fruit preparations and nuts                     143.9       144.5   \n",
       "Meat                                                   175.4       176.7   \n",
       "Other food products and non-alcoholic beverages        141.6       142.2   \n",
       "Vegetables and vegetable preparations                  153.8       153.4   \n",
       "\n",
       "                                                  2021-07-01  2021-08-01  \\\n",
       "Bakery and cereal products (excluding baby food)       157.9       158.5   \n",
       "Dairy products and eggs                                146.4       148.3   \n",
       "Fish, seafood and other marine products                146.6       146.8   \n",
       "Food purchased from restaurants                        165.2       165.9   \n",
       "Food                                                   157.6       158.0   \n",
       "Fruit, fruit preparations and nuts                     141.7       142.5   \n",
       "Meat                                                   180.9       182.1   \n",
       "Other food products and non-alcoholic beverages        141.9       141.7   \n",
       "Vegetables and vegetable preparations                  154.8       152.2   \n",
       "\n",
       "                                                  2021-09-01  2021-10-01  \n",
       "Bakery and cereal products (excluding baby food)       158.1       159.3  \n",
       "Dairy products and eggs                                148.0       146.6  \n",
       "Fish, seafood and other marine products                147.1       149.3  \n",
       "Food purchased from restaurants                        165.9       167.1  \n",
       "Food                                                   158.5       159.2  \n",
       "Fruit, fruit preparations and nuts                     141.5       141.7  \n",
       "Meat                                                   184.8       187.1  \n",
       "Other food products and non-alcoholic beverages        144.3       144.4  \n",
       "Vegetables and vegetable preparations                  150.0       149.4  \n",
       "\n",
       "[9 rows x 430 columns]"
      ]
     },
     "execution_count": 13,
     "metadata": {},
     "output_type": "execute_result"
    }
   ],
   "source": [
    "dataset_df = foodprice_df[foodprice_categories].T\n",
    "dataset_df"
   ]
  },
  {
   "cell_type": "code",
   "execution_count": 33,
   "id": "d7cd1411-351f-4a77-b669-3c12527820cd",
   "metadata": {},
   "outputs": [],
   "source": [
    "data_sources = [\"DEXCAUS\",\n",
    "                \"DCOILWTICO\",\n",
    "                \"WILL5000IND\",\n",
    "                \"VXOCLS\",\n",
    "                \"CUSR0000SAF112\",\n",
    "                \"CUSR0000SAF113\",\n",
    "                \"CPIFABSL\",\n",
    "                \"UNRATE\",\n",
    "                \"FEDFUNDS\",\n",
    "                \"IRLTLT01CAM156N\",\n",
    "                \"LRUNTTTTCAM156S\",\n",
    "                \"CPALCY01CAM661N\",\n",
    "                \"CPGRLE01CAM657N\",\n",
    "                \"QCAR368BIS\"\n",
    "               ]"
   ]
  },
  {
   "cell_type": "code",
   "execution_count": 32,
   "id": "409712c4-e156-42e3-813d-f0aa4fdfe056",
   "metadata": {
    "collapsed": true,
    "jupyter": {
     "outputs_hidden": true
    },
    "tags": []
   },
   "outputs": [
    {
     "name": "stdout",
     "output_type": "stream",
     "text": [
      "            Bakery and cereal products (excluding baby food)  \\\n",
      "1986-01-01                                              69.3   \n",
      "1986-02-01                                              70.3   \n",
      "1986-03-01                                              70.6   \n",
      "1986-04-01                                              71.3   \n",
      "1986-05-01                                              71.2   \n",
      "...                                                      ...   \n",
      "2021-06-01                                             157.7   \n",
      "2021-07-01                                             157.9   \n",
      "2021-08-01                                             158.5   \n",
      "2021-09-01                                             158.1   \n",
      "2021-10-01                                             159.3   \n",
      "\n",
      "            Dairy products and eggs  Fish, seafood and other marine products  \\\n",
      "1986-01-01                     70.9                                     60.6   \n",
      "1986-02-01                     70.8                                     61.3   \n",
      "1986-03-01                     71.1                                     61.3   \n",
      "1986-04-01                     71.0                                     61.4   \n",
      "1986-05-01                     71.4                                     61.9   \n",
      "...                             ...                                      ...   \n",
      "2021-06-01                    145.3                                    146.2   \n",
      "2021-07-01                    146.4                                    146.6   \n",
      "2021-08-01                    148.3                                    146.8   \n",
      "2021-09-01                    148.0                                    147.1   \n",
      "2021-10-01                    146.6                                    149.3   \n",
      "\n",
      "            Food purchased from restaurants   Food  \\\n",
      "1986-01-01                             59.1   67.3   \n",
      "1986-02-01                             59.1   66.9   \n",
      "1986-03-01                             59.3   67.0   \n",
      "1986-04-01                             59.7   67.7   \n",
      "1986-05-01                             59.9   68.2   \n",
      "...                                     ...    ...   \n",
      "2021-06-01                            163.9  156.8   \n",
      "2021-07-01                            165.2  157.6   \n",
      "2021-08-01                            165.9  158.0   \n",
      "2021-09-01                            165.9  158.5   \n",
      "2021-10-01                            167.1  159.2   \n",
      "\n",
      "            Fruit, fruit preparations and nuts   Meat  \\\n",
      "1986-01-01                                76.0   65.1   \n",
      "1986-02-01                                77.6   64.2   \n",
      "1986-03-01                                79.2   64.2   \n",
      "1986-04-01                                82.2   63.6   \n",
      "1986-05-01                                83.5   64.0   \n",
      "...                                        ...    ...   \n",
      "2021-06-01                               144.5  176.7   \n",
      "2021-07-01                               141.7  180.9   \n",
      "2021-08-01                               142.5  182.1   \n",
      "2021-09-01                               141.5  184.8   \n",
      "2021-10-01                               141.7  187.1   \n",
      "\n",
      "            Other food products and non-alcoholic beverages  \\\n",
      "1986-01-01                                             77.5   \n",
      "1986-02-01                                             78.1   \n",
      "1986-03-01                                             78.6   \n",
      "1986-04-01                                             79.5   \n",
      "1986-05-01                                             79.8   \n",
      "...                                                     ...   \n",
      "2021-06-01                                            142.2   \n",
      "2021-07-01                                            141.9   \n",
      "2021-08-01                                            141.7   \n",
      "2021-09-01                                            144.3   \n",
      "2021-10-01                                            144.4   \n",
      "\n",
      "            Vegetables and vegetable preparations  DEXCAUS  ...  \\\n",
      "1986-01-01                                   76.0    1.392  ...   \n",
      "1986-02-01                                   68.4    1.392  ...   \n",
      "1986-03-01                                   66.2    1.392  ...   \n",
      "1986-04-01                                   71.1    1.392  ...   \n",
      "1986-05-01                                   75.3    1.377  ...   \n",
      "...                                           ...      ...  ...   \n",
      "2021-06-01                                  153.4    1.203  ...   \n",
      "2021-07-01                                  154.8    1.240  ...   \n",
      "2021-08-01                                  152.2    1.251  ...   \n",
      "2021-09-01                                  150.0    1.262  ...   \n",
      "2021-10-01                                  149.4    1.266  ...   \n",
      "\n",
      "            XTIMVA01CAM657S  XTIMVA01CAM659S  XTIMVA01CAM664N  \\\n",
      "1986-01-01            3.644           12.051        9.368e+09   \n",
      "1986-02-01            1.965           16.745        9.495e+09   \n",
      "1986-03-01          -11.565            1.655        8.803e+09   \n",
      "1986-04-01           13.334           10.821        1.034e+10   \n",
      "1986-05-01           -4.236            6.160        9.598e+09   \n",
      "...                     ...              ...              ...   \n",
      "2021-06-01           -1.087           31.561        5.159e+10   \n",
      "2021-07-01            1.990           18.580        5.106e+10   \n",
      "2021-08-01           -2.312           14.723        5.245e+10   \n",
      "2021-09-01           -3.461            8.557        5.080e+10   \n",
      "2021-10-01           -3.461            8.557        5.080e+10   \n",
      "\n",
      "            XTIMVA01CAM664S  XTIMVA01CAM667S  XTNTVA01CAM664N  \\\n",
      "1986-01-01        9.496e+09        6.749e+09        6.906e+08   \n",
      "1986-02-01        9.632e+09        6.881e+09       -9.880e+07   \n",
      "1986-03-01        8.529e+09        6.085e+09        9.138e+08   \n",
      "1986-04-01        9.569e+09        6.897e+09        3.470e+08   \n",
      "1986-05-01        9.091e+09        6.605e+09        7.013e+08   \n",
      "...                     ...              ...              ...   \n",
      "2021-06-01        4.979e+10        4.075e+10        3.661e+09   \n",
      "2021-07-01        5.205e+10        4.156e+10        3.780e+08   \n",
      "2021-08-01        5.115e+10        4.060e+10        1.300e+09   \n",
      "2021-09-01        4.965e+10        3.920e+10        1.561e+09   \n",
      "2021-10-01        4.965e+10        3.920e+10        1.561e+09   \n",
      "\n",
      "            XTNTVA01CAM664S  XTNTVA01CAM667S   TOTALNS   TOTALSL  \n",
      "1986-01-01        1.052e+09        7.479e+08   607.369   605.703  \n",
      "1986-02-01        1.539e+08        1.099e+08   605.807   610.678  \n",
      "1986-03-01        9.079e+08        6.478e+08   606.799   613.377  \n",
      "1986-04-01        6.563e+08        4.730e+08   614.367   619.658  \n",
      "1986-05-01        6.893e+08        5.008e+08   621.915   625.820  \n",
      "...                     ...              ...       ...       ...  \n",
      "2021-06-01        3.111e+09        2.546e+09  4259.604  4307.137  \n",
      "2021-07-01        1.129e+09        9.018e+08  4276.202  4323.730  \n",
      "2021-08-01        2.674e+09        2.123e+09  4316.303  4337.489  \n",
      "2021-09-01        2.277e+09        1.798e+09  4346.662  4367.402  \n",
      "2021-10-01        2.277e+09        1.798e+09  4346.662  4367.402  \n",
      "\n",
      "[430 rows x 332 columns]\n"
     ]
    }
   ],
   "source": [
    "print(foodprice_df)"
   ]
  },
  {
   "cell_type": "code",
   "execution_count": 34,
   "id": "ordinary-pipeline",
   "metadata": {
    "executionInfo": {
     "elapsed": 143,
     "status": "ok",
     "timestamp": 1634584340558,
     "user": {
      "displayName": "Ethan Jackson",
      "photoUrl": "https://lh3.googleusercontent.com/a-/AOh14Gj0sN-qIkLWaD3gNaMMx-oLuegd5o3MGlU94qG9IQ=s64",
      "userId": "16234263294244605206"
     },
     "user_tz": 240
    },
    "id": "AVVQph3qP-d7"
   },
   "outputs": [],
   "source": [
    "def rmse(y_true, y_pred):\n",
    "    return np.sqrt(mean_squared_error(y_true, y_pred))\n",
    "\n",
    "metrics = {\n",
    "    'r2_score': r2_score,\n",
    "    'mae': mean_absolute_error,\n",
    "    'mape': mean_absolute_percentage_error,\n",
    "    'mse': mean_squared_error,\n",
    "    'rmse': rmse\n",
    "}\n",
    "def get_prophet_df(foodprice_df, food_category, dates):\n",
    "    df = foodprice_df[food_category][dates]\n",
    "    df = df.reset_index()\n",
    "    df = df.rename({'REF_DATE':'ds', 'index':'ds', food_category:'y'}, axis=1)\n",
    "    return df\n",
    "\n",
    "def get_neuralprophet_df(foodprice_df, food_category, dates, lagged_regressor):\n",
    "    prophet_df = pd.DataFrame({'ds': foodprice_df[food_category][dates].index, \n",
    "                           'y':foodprice_df[food_category].loc[foodprice_df.index][dates], \n",
    "                           lagged_regressor: foodprice_df[lagged_regressor].loc[foodprice_df.index][dates],\n",
    "                          })\n",
    "    prophet_df.reset_index(drop=True, inplace=True)\n",
    "\n",
    "    return prophet_df\n",
    "    "
   ]
  },
  {
   "cell_type": "markdown",
   "id": "69c8211f-9aa5-4a46-a9eb-4bfea4862db3",
   "metadata": {},
   "source": [
    "# Hyperparameter tuning using ParameterGrid"
   ]
  },
  {
   "cell_type": "code",
   "execution_count": 39,
   "id": "9dcd9a70-f33e-4d95-ab5c-dc3b21ac6661",
   "metadata": {},
   "outputs": [
    {
     "name": "stdout",
     "output_type": "stream",
     "text": [
      "Total Possible Models 1\n"
     ]
    }
   ],
   "source": [
    "from sklearn.model_selection import ParameterGrid\n",
    "params_grid = {'n_forecasts':[18],\n",
    "              'n_lags':[36]}\n",
    "\n",
    "grid = ParameterGrid(params_grid)\n",
    "cnt = 0\n",
    "for p in grid:\n",
    "    cnt = cnt+1\n",
    "print('Total Possible Models',cnt)\n",
    "#               'n_lags':[24, 36, 48, 60]}"
   ]
  },
  {
   "cell_type": "markdown",
   "id": "hidden-spouse",
   "metadata": {},
   "source": [
    "## Fit Models and Save Forecasts\n",
    "\n",
    "Fit a model using data up to the `report_sim_date` and use it to produce forecasts for the following 18 months. Collect evaluation metrics for comparion and save the forecasts for use in the ensembling experiments."
   ]
  },
  {
   "cell_type": "code",
   "execution_count": 54,
   "id": "d9c92e91-bed4-4dd6-af66-ea5fe9fff4a3",
   "metadata": {},
   "outputs": [
    {
     "name": "stdout",
     "output_type": "stream",
     "text": [
      "Index(['Bakery and cereal products (excluding baby food)',\n",
      "       'Dairy products and eggs', 'Fish, seafood and other marine products',\n",
      "       'Food purchased from restaurants', 'Food',\n",
      "       'Fruit, fruit preparations and nuts', 'Meat',\n",
      "       'Other food products and non-alcoholic beverages',\n",
      "       'Vegetables and vegetable preparations'],\n",
      "      dtype='object')\n"
     ]
    }
   ],
   "source": [
    "# all_foodprice_columns \n",
    "print(foodprice_df.columns[:9])\n"
   ]
  },
  {
   "cell_type": "code",
   "execution_count": 46,
   "id": "international-latex",
   "metadata": {
    "colab": {
     "base_uri": "https://localhost:8080/",
     "height": 1000
    },
    "executionInfo": {
     "elapsed": 9960613,
     "status": "ok",
     "timestamp": 1634600449715,
     "user": {
      "displayName": "Ethan Jackson",
      "photoUrl": "https://lh3.googleusercontent.com/a-/AOh14Gj0sN-qIkLWaD3gNaMMx-oLuegd5o3MGlU94qG9IQ=s64",
      "userId": "16234263294244605206"
     },
     "user_tz": 240
    },
    "id": "HPi4At6gT26Q",
    "outputId": "3d99832f-f9e2-4b1f-d6c0-1499c8468464",
    "tags": []
   },
   "outputs": [
    {
     "name": "stderr",
     "output_type": "stream",
     "text": [
      "INFO - (NP.utils.set_auto_seasonalities) - Disabling weekly seasonality. Run NeuralProphet with weekly_seasonality=True to override this.\n",
      "INFO - (NP.utils.set_auto_seasonalities) - Disabling daily seasonality. Run NeuralProphet with daily_seasonality=True to override this.\n",
      "INFO - (NP.config.set_auto_batch_epoch) - Auto-set batch_size to 16\n",
      "INFO - (NP.config.set_auto_batch_epoch) - Auto-set epochs to 233\n"
     ]
    },
    {
     "data": {
      "application/vnd.jupyter.widget-view+json": {
       "model_id": "e0040c67384b43c88d063740b8a30e79",
       "version_major": 2,
       "version_minor": 0
      },
      "text/plain": [
       "  0%|          | 0/224 [00:00<?, ?it/s]"
      ]
     },
     "metadata": {},
     "output_type": "display_data"
    },
    {
     "name": "stdout",
     "output_type": "stream",
     "text": [
      "making new directory for:  ./output/neuralprophet_202110_DEXCAUS_nlags_36\n"
     ]
    },
    {
     "name": "stderr",
     "output_type": "stream",
     "text": [
      "INFO - (NP.utils_torch.lr_range_test) - lr-range-test results: steep: 5.38E-02, min: 3.45E-01\n"
     ]
    },
    {
     "data": {
      "application/vnd.jupyter.widget-view+json": {
       "model_id": "92561a6d44344a45a4eeabd4ddd0292d",
       "version_major": 2,
       "version_minor": 0
      },
      "text/plain": [
       "  0%|          | 0/224 [00:00<?, ?it/s]"
      ]
     },
     "metadata": {},
     "output_type": "display_data"
    },
    {
     "name": "stderr",
     "output_type": "stream",
     "text": [
      "INFO - (NP.utils_torch.lr_range_test) - lr-range-test results: steep: 4.47E-02, min: 3.45E-01\n"
     ]
    },
    {
     "data": {
      "application/vnd.jupyter.widget-view+json": {
       "model_id": "70149b110acc49cf9cf5ef027afdf4be",
       "version_major": 2,
       "version_minor": 0
      },
      "text/plain": [
       "  0%|          | 0/224 [00:00<?, ?it/s]"
      ]
     },
     "metadata": {},
     "output_type": "display_data"
    },
    {
     "name": "stderr",
     "output_type": "stream",
     "text": [
      "INFO - (NP.utils_torch.lr_range_test) - lr-range-test results: steep: 5.38E-02, min: 2.61E-01\n",
      "INFO - (NP.forecaster._init_train_loader) - lr-range-test selected learning rate: 5.06E-02\n",
      "Epoch[233/233]: 100%|██████████| 233/233 [00:11<00:00, 20.16it/s, SmoothL1Loss=0.00022, MAE=1.27, RMSE=1.71, RegLoss=0]\n",
      "INFO - (NP.utils.set_auto_seasonalities) - Disabling weekly seasonality. Run NeuralProphet with weekly_seasonality=True to override this.\n",
      "INFO - (NP.utils.set_auto_seasonalities) - Disabling daily seasonality. Run NeuralProphet with daily_seasonality=True to override this.\n",
      "INFO - (NP.config.set_auto_batch_epoch) - Auto-set batch_size to 16\n",
      "INFO - (NP.config.set_auto_batch_epoch) - Auto-set epochs to 233\n"
     ]
    },
    {
     "data": {
      "application/vnd.jupyter.widget-view+json": {
       "model_id": "145b0e6e834a4dea8d8930511b725428",
       "version_major": 2,
       "version_minor": 0
      },
      "text/plain": [
       "  0%|          | 0/224 [00:00<?, ?it/s]"
      ]
     },
     "metadata": {},
     "output_type": "display_data"
    },
    {
     "name": "stdout",
     "output_type": "stream",
     "text": [
      "this is all yhats  [152.5330810546875, 153.87905883789062, 154.92413330078125, 155.87887573242188, 156.0107421875, 156.11451721191406, 157.647216796875, 156.9358367919922, 156.8046875, 157.46527099609375, 155.50518798828125, 156.07199096679688, 156.0282745361328, 155.5194854736328, 157.36807250976562, 156.93849182128906, 157.04421997070312, 158.30902099609375]\n",
      "this is all_valid_metrics {('./output/neuralprophet_202110_DEXCAUS_nlags_36', 'Bakery and cereal products (excluding baby food)'): {'2015-07-01': r2_score    -1.293\n",
      "mae          2.431\n",
      "mape         0.016\n",
      "mse         13.253\n",
      "rmse         3.640\n",
      "dtype: float64}}\n"
     ]
    },
    {
     "name": "stderr",
     "output_type": "stream",
     "text": [
      "INFO - (NP.utils_torch.lr_range_test) - lr-range-test results: steep: 3.08E-02, min: 2.61E-01\n"
     ]
    },
    {
     "data": {
      "application/vnd.jupyter.widget-view+json": {
       "model_id": "4f1a98c092b84ffc83b312729b298574",
       "version_major": 2,
       "version_minor": 0
      },
      "text/plain": [
       "  0%|          | 0/224 [00:00<?, ?it/s]"
      ]
     },
     "metadata": {},
     "output_type": "display_data"
    },
    {
     "name": "stderr",
     "output_type": "stream",
     "text": [
      "INFO - (NP.utils_torch.lr_range_test) - lr-range-test results: steep: 3.08E-02, min: 3.15E-01\n"
     ]
    },
    {
     "data": {
      "application/vnd.jupyter.widget-view+json": {
       "model_id": "6d4583379ac74bbf8114b5b122fa4baf",
       "version_major": 2,
       "version_minor": 0
      },
      "text/plain": [
       "  0%|          | 0/224 [00:00<?, ?it/s]"
      ]
     },
     "metadata": {},
     "output_type": "display_data"
    },
    {
     "name": "stderr",
     "output_type": "stream",
     "text": [
      "INFO - (NP.utils_torch.lr_range_test) - lr-range-test results: steep: 2.56E-02, min: 2.38E-01\n",
      "INFO - (NP.forecaster._init_train_loader) - lr-range-test selected learning rate: 2.90E-02\n",
      "Epoch[233/233]: 100%|█████████| 233/233 [00:12<00:00, 18.26it/s, SmoothL1Loss=0.00016, MAE=0.915, RMSE=1.17, RegLoss=0]\n",
      "INFO - (NP.utils.set_auto_seasonalities) - Disabling weekly seasonality. Run NeuralProphet with weekly_seasonality=True to override this.\n",
      "INFO - (NP.utils.set_auto_seasonalities) - Disabling daily seasonality. Run NeuralProphet with daily_seasonality=True to override this.\n",
      "INFO - (NP.config.set_auto_batch_epoch) - Auto-set batch_size to 16\n",
      "INFO - (NP.config.set_auto_batch_epoch) - Auto-set epochs to 233\n"
     ]
    },
    {
     "data": {
      "application/vnd.jupyter.widget-view+json": {
       "model_id": "1f262fec55ca438daa5aa3308f71ed8a",
       "version_major": 2,
       "version_minor": 0
      },
      "text/plain": [
       "  0%|          | 0/224 [00:00<?, ?it/s]"
      ]
     },
     "metadata": {},
     "output_type": "display_data"
    },
    {
     "name": "stdout",
     "output_type": "stream",
     "text": [
      "this is all yhats  [132.27462768554688, 130.18722534179688, 132.91848754882812, 130.6138916015625, 130.4344024658203, 130.27456665039062, 131.8454132080078, 133.3212127685547, 132.0300750732422, 132.94015502929688, 130.92662048339844, 130.09786987304688, 131.16766357421875, 130.1653289794922, 131.70928955078125, 128.8719024658203, 130.00070190429688, 128.9905242919922]\n",
      "this is all_valid_metrics {('./output/neuralprophet_202110_DEXCAUS_nlags_36', 'Bakery and cereal products (excluding baby food)'): {'2015-07-01': r2_score    -1.293\n",
      "mae          2.431\n",
      "mape         0.016\n",
      "mse         13.253\n",
      "rmse         3.640\n",
      "dtype: float64}, ('./output/neuralprophet_202110_DEXCAUS_nlags_36', 'Dairy products and eggs'): {'2015-07-01': r2_score   -13.605\n",
      "mae          4.824\n",
      "mape         0.035\n",
      "mse         24.585\n",
      "rmse         4.958\n",
      "dtype: float64}}\n"
     ]
    },
    {
     "name": "stderr",
     "output_type": "stream",
     "text": [
      "INFO - (NP.utils_torch.lr_range_test) - lr-range-test results: steep: 5.79E-03, min: 1.36E-01\n"
     ]
    },
    {
     "data": {
      "application/vnd.jupyter.widget-view+json": {
       "model_id": "1ad2b63835204ae497d55bd83c135232",
       "version_major": 2,
       "version_minor": 0
      },
      "text/plain": [
       "  0%|          | 0/224 [00:00<?, ?it/s]"
      ]
     },
     "metadata": {},
     "output_type": "display_data"
    },
    {
     "name": "stderr",
     "output_type": "stream",
     "text": [
      "INFO - (NP.utils_torch.lr_range_test) - lr-range-test results: steep: 5.79E-03, min: 2.87E-01\n"
     ]
    },
    {
     "data": {
      "application/vnd.jupyter.widget-view+json": {
       "model_id": "8e14172c59b3464cab0ffc2954deaf69",
       "version_major": 2,
       "version_minor": 0
      },
      "text/plain": [
       "  0%|          | 0/224 [00:00<?, ?it/s]"
      ]
     },
     "metadata": {},
     "output_type": "display_data"
    },
    {
     "name": "stderr",
     "output_type": "stream",
     "text": [
      "INFO - (NP.utils_torch.lr_range_test) - lr-range-test results: steep: 5.79E-03, min: 2.87E-01\n",
      "INFO - (NP.forecaster._init_train_loader) - lr-range-test selected learning rate: 5.79E-03\n",
      "Epoch[233/233]: 100%|█████████| 233/233 [00:13<00:00, 17.37it/s, SmoothL1Loss=0.000933, MAE=2.06, RMSE=2.58, RegLoss=0]\n",
      "INFO - (NP.utils.set_auto_seasonalities) - Disabling weekly seasonality. Run NeuralProphet with weekly_seasonality=True to override this.\n",
      "INFO - (NP.utils.set_auto_seasonalities) - Disabling daily seasonality. Run NeuralProphet with daily_seasonality=True to override this.\n",
      "INFO - (NP.config.set_auto_batch_epoch) - Auto-set batch_size to 16\n",
      "INFO - (NP.config.set_auto_batch_epoch) - Auto-set epochs to 233\n"
     ]
    },
    {
     "data": {
      "application/vnd.jupyter.widget-view+json": {
       "model_id": "3fdb9e7f45f34af28025c89d3ee5e7da",
       "version_major": 2,
       "version_minor": 0
      },
      "text/plain": [
       "  0%|          | 0/224 [00:00<?, ?it/s]"
      ]
     },
     "metadata": {},
     "output_type": "display_data"
    },
    {
     "name": "stdout",
     "output_type": "stream",
     "text": [
      "this is all yhats  [116.83749389648438, 120.72085571289062, 120.3536605834961, 121.09964752197266, 119.65664672851562, 124.44449615478516, 120.26052856445312, 118.30534362792969, 124.62671661376953, 122.21719360351562, 120.29156494140625, 123.26692199707031, 124.43325805664062, 122.60936737060547, 123.96267700195312, 119.52532958984375, 122.96498107910156, 120.6427993774414]\n",
      "this is all_valid_metrics {('./output/neuralprophet_202110_DEXCAUS_nlags_36', 'Bakery and cereal products (excluding baby food)'): {'2015-07-01': r2_score    -1.293\n",
      "mae          2.431\n",
      "mape         0.016\n",
      "mse         13.253\n",
      "rmse         3.640\n",
      "dtype: float64}, ('./output/neuralprophet_202110_DEXCAUS_nlags_36', 'Dairy products and eggs'): {'2015-07-01': r2_score   -13.605\n",
      "mae          4.824\n",
      "mape         0.035\n",
      "mse         24.585\n",
      "rmse         4.958\n",
      "dtype: float64}, ('./output/neuralprophet_202110_DEXCAUS_nlags_36', 'Fish, seafood and other marine products'): {'2015-07-01': r2_score    -8.306\n",
      "mae          7.749\n",
      "mape         0.060\n",
      "mse         66.916\n",
      "rmse         8.180\n",
      "dtype: float64}}\n"
     ]
    },
    {
     "name": "stderr",
     "output_type": "stream",
     "text": [
      "INFO - (NP.utils_torch.lr_range_test) - lr-range-test results: steep: 3.08E-02, min: 2.38E-01\n"
     ]
    },
    {
     "data": {
      "application/vnd.jupyter.widget-view+json": {
       "model_id": "f6e2773464284b66b459e77c4dd7bedf",
       "version_major": 2,
       "version_minor": 0
      },
      "text/plain": [
       "  0%|          | 0/224 [00:00<?, ?it/s]"
      ]
     },
     "metadata": {},
     "output_type": "display_data"
    },
    {
     "name": "stderr",
     "output_type": "stream",
     "text": [
      "INFO - (NP.utils_torch.lr_range_test) - lr-range-test results: steep: 3.38E-02, min: 1.80E-01\n"
     ]
    },
    {
     "data": {
      "application/vnd.jupyter.widget-view+json": {
       "model_id": "c013a91f84e54672904148afaa6902df",
       "version_major": 2,
       "version_minor": 0
      },
      "text/plain": [
       "  0%|          | 0/224 [00:00<?, ?it/s]"
      ]
     },
     "metadata": {},
     "output_type": "display_data"
    },
    {
     "name": "stderr",
     "output_type": "stream",
     "text": [
      "INFO - (NP.utils_torch.lr_range_test) - lr-range-test results: steep: 2.81E-02, min: 1.80E-01\n",
      "INFO - (NP.forecaster._init_train_loader) - lr-range-test selected learning rate: 3.08E-02\n",
      "Epoch[233/233]: 100%|█████████| 233/233 [00:13<00:00, 17.42it/s, SmoothL1Loss=9.68e-5, MAE=0.785, RMSE=1.03, RegLoss=0]\n",
      "INFO - (NP.utils.set_auto_seasonalities) - Disabling weekly seasonality. Run NeuralProphet with weekly_seasonality=True to override this.\n",
      "INFO - (NP.utils.set_auto_seasonalities) - Disabling daily seasonality. Run NeuralProphet with daily_seasonality=True to override this.\n",
      "INFO - (NP.config.set_auto_batch_epoch) - Auto-set batch_size to 16\n",
      "INFO - (NP.config.set_auto_batch_epoch) - Auto-set epochs to 233\n"
     ]
    },
    {
     "data": {
      "application/vnd.jupyter.widget-view+json": {
       "model_id": "3601e37a1afb4487890440f2d334787e",
       "version_major": 2,
       "version_minor": 0
      },
      "text/plain": [
       "  0%|          | 0/224 [00:00<?, ?it/s]"
      ]
     },
     "metadata": {},
     "output_type": "display_data"
    },
    {
     "name": "stdout",
     "output_type": "stream",
     "text": [
      "this is all yhats  [137.73724365234375, 138.04843139648438, 138.84423828125, 139.72657775878906, 139.15383911132812, 140.362060546875, 140.82351684570312, 138.672119140625, 138.48580932617188, 140.41995239257812, 140.5891571044922, 140.67857360839844, 140.74716186523438, 140.76113891601562, 141.4778594970703, 141.73638916015625, 140.34634399414062, 141.08677673339844]\n",
      "this is all_valid_metrics {('./output/neuralprophet_202110_DEXCAUS_nlags_36', 'Bakery and cereal products (excluding baby food)'): {'2015-07-01': r2_score    -1.293\n",
      "mae          2.431\n",
      "mape         0.016\n",
      "mse         13.253\n",
      "rmse         3.640\n",
      "dtype: float64}, ('./output/neuralprophet_202110_DEXCAUS_nlags_36', 'Dairy products and eggs'): {'2015-07-01': r2_score   -13.605\n",
      "mae          4.824\n",
      "mape         0.035\n",
      "mse         24.585\n",
      "rmse         4.958\n",
      "dtype: float64}, ('./output/neuralprophet_202110_DEXCAUS_nlags_36', 'Fish, seafood and other marine products'): {'2015-07-01': r2_score    -8.306\n",
      "mae          7.749\n",
      "mape         0.060\n",
      "mse         66.916\n",
      "rmse         8.180\n",
      "dtype: float64}, ('./output/neuralprophet_202110_DEXCAUS_nlags_36', 'Food purchased from restaurants'): {'2015-07-01': r2_score   -0.955\n",
      "mae         1.911\n",
      "mape        0.013\n",
      "mse         4.441\n",
      "rmse        2.107\n",
      "dtype: float64}}\n"
     ]
    },
    {
     "name": "stderr",
     "output_type": "stream",
     "text": [
      "INFO - (NP.utils_torch.lr_range_test) - lr-range-test results: steep: 2.81E-02, min: 2.17E-01\n"
     ]
    },
    {
     "data": {
      "application/vnd.jupyter.widget-view+json": {
       "model_id": "9cea3c61291c46f59e6aad275f12f92a",
       "version_major": 2,
       "version_minor": 0
      },
      "text/plain": [
       "  0%|          | 0/224 [00:00<?, ?it/s]"
      ]
     },
     "metadata": {},
     "output_type": "display_data"
    },
    {
     "name": "stderr",
     "output_type": "stream",
     "text": [
      "INFO - (NP.utils_torch.lr_range_test) - lr-range-test results: steep: 4.47E-02, min: 2.61E-01\n"
     ]
    },
    {
     "data": {
      "application/vnd.jupyter.widget-view+json": {
       "model_id": "459c69c399c54ea1b5f775b44e02c563",
       "version_major": 2,
       "version_minor": 0
      },
      "text/plain": [
       "  0%|          | 0/224 [00:00<?, ?it/s]"
      ]
     },
     "metadata": {},
     "output_type": "display_data"
    },
    {
     "name": "stderr",
     "output_type": "stream",
     "text": [
      "INFO - (NP.utils_torch.lr_range_test) - lr-range-test results: steep: 2.81E-02, min: 2.87E-01\n",
      "INFO - (NP.forecaster._init_train_loader) - lr-range-test selected learning rate: 3.28E-02\n",
      "Epoch[233/233]: 100%|█████████| 233/233 [00:14<00:00, 16.25it/s, SmoothL1Loss=0.000102, MAE=0.75, RMSE=0.96, RegLoss=0]\n",
      "INFO - (NP.utils.set_auto_seasonalities) - Disabling weekly seasonality. Run NeuralProphet with weekly_seasonality=True to override this.\n",
      "INFO - (NP.utils.set_auto_seasonalities) - Disabling daily seasonality. Run NeuralProphet with daily_seasonality=True to override this.\n",
      "INFO - (NP.config.set_auto_batch_epoch) - Auto-set batch_size to 16\n",
      "INFO - (NP.config.set_auto_batch_epoch) - Auto-set epochs to 233\n"
     ]
    },
    {
     "data": {
      "application/vnd.jupyter.widget-view+json": {
       "model_id": "f6105a589221416b903ea080c9205507",
       "version_major": 2,
       "version_minor": 0
      },
      "text/plain": [
       "  0%|          | 0/224 [00:00<?, ?it/s]"
      ]
     },
     "metadata": {},
     "output_type": "display_data"
    },
    {
     "name": "stdout",
     "output_type": "stream",
     "text": [
      "this is all yhats  [136.63265991210938, 135.65853881835938, 134.84674072265625, 135.09141540527344, 136.35903930664062, 136.4735107421875, 136.610107421875, 137.50836181640625, 136.52059936523438, 136.33401489257812, 138.1645050048828, 137.73300170898438, 135.1728515625, 137.2165069580078, 137.3812255859375, 136.65118408203125, 136.40780639648438, 136.83798217773438]\n",
      "this is all_valid_metrics {('./output/neuralprophet_202110_DEXCAUS_nlags_36', 'Bakery and cereal products (excluding baby food)'): {'2015-07-01': r2_score    -1.293\n",
      "mae          2.431\n",
      "mape         0.016\n",
      "mse         13.253\n",
      "rmse         3.640\n",
      "dtype: float64}, ('./output/neuralprophet_202110_DEXCAUS_nlags_36', 'Dairy products and eggs'): {'2015-07-01': r2_score   -13.605\n",
      "mae          4.824\n",
      "mape         0.035\n",
      "mse         24.585\n",
      "rmse         4.958\n",
      "dtype: float64}, ('./output/neuralprophet_202110_DEXCAUS_nlags_36', 'Fish, seafood and other marine products'): {'2015-07-01': r2_score    -8.306\n",
      "mae          7.749\n",
      "mape         0.060\n",
      "mse         66.916\n",
      "rmse         8.180\n",
      "dtype: float64}, ('./output/neuralprophet_202110_DEXCAUS_nlags_36', 'Food purchased from restaurants'): {'2015-07-01': r2_score   -0.955\n",
      "mae         1.911\n",
      "mape        0.013\n",
      "mse         4.441\n",
      "rmse        2.107\n",
      "dtype: float64}, ('./output/neuralprophet_202110_DEXCAUS_nlags_36', 'Food'): {'2015-07-01': r2_score   -12.443\n",
      "mae          5.611\n",
      "mape         0.039\n",
      "mse         34.223\n",
      "rmse         5.850\n",
      "dtype: float64}}\n"
     ]
    },
    {
     "name": "stderr",
     "output_type": "stream",
     "text": [
      "INFO - (NP.utils_torch.lr_range_test) - lr-range-test results: steep: 5.27E-03, min: 3.45E-01\n"
     ]
    },
    {
     "data": {
      "application/vnd.jupyter.widget-view+json": {
       "model_id": "4708129f6ffe42e2b03fae859966f0a5",
       "version_major": 2,
       "version_minor": 0
      },
      "text/plain": [
       "  0%|          | 0/224 [00:00<?, ?it/s]"
      ]
     },
     "metadata": {},
     "output_type": "display_data"
    },
    {
     "name": "stderr",
     "output_type": "stream",
     "text": [
      "INFO - (NP.utils_torch.lr_range_test) - lr-range-test results: steep: 5.27E-03, min: 7.26E-01\n"
     ]
    },
    {
     "data": {
      "application/vnd.jupyter.widget-view+json": {
       "model_id": "de70a0dcad294562877b0cf9fe562aba",
       "version_major": 2,
       "version_minor": 0
      },
      "text/plain": [
       "  0%|          | 0/224 [00:00<?, ?it/s]"
      ]
     },
     "metadata": {},
     "output_type": "display_data"
    },
    {
     "name": "stderr",
     "output_type": "stream",
     "text": [
      "INFO - (NP.utils_torch.lr_range_test) - lr-range-test results: steep: 5.27E-03, min: 7.26E-01\n",
      "INFO - (NP.forecaster._init_train_loader) - lr-range-test selected learning rate: 5.27E-03\n",
      "Epoch[233/233]: 100%|██████████| 233/233 [00:13<00:00, 16.80it/s, SmoothL1Loss=0.00314, MAE=2.99, RMSE=3.76, RegLoss=0]\n",
      "INFO - (NP.utils.set_auto_seasonalities) - Disabling weekly seasonality. Run NeuralProphet with weekly_seasonality=True to override this.\n",
      "INFO - (NP.utils.set_auto_seasonalities) - Disabling daily seasonality. Run NeuralProphet with daily_seasonality=True to override this.\n",
      "INFO - (NP.config.set_auto_batch_epoch) - Auto-set batch_size to 16\n",
      "INFO - (NP.config.set_auto_batch_epoch) - Auto-set epochs to 233\n"
     ]
    },
    {
     "data": {
      "application/vnd.jupyter.widget-view+json": {
       "model_id": "b37f1342158b4fccb482f7c3996fad61",
       "version_major": 2,
       "version_minor": 0
      },
      "text/plain": [
       "  0%|          | 0/224 [00:00<?, ?it/s]"
      ]
     },
     "metadata": {},
     "output_type": "display_data"
    },
    {
     "name": "stdout",
     "output_type": "stream",
     "text": [
      "this is all yhats  [124.53614807128906, 124.4234619140625, 120.5285873413086, 122.88105773925781, 121.83218383789062, 122.19880676269531, 124.21907043457031, 121.03451538085938, 118.25120544433594, 120.13128662109375, 122.3388442993164, 123.61749267578125, 121.24974060058594, 123.11903381347656, 117.83305358886719, 122.04444122314453, 118.99899291992188, 121.29125213623047]\n",
      "this is all_valid_metrics {('./output/neuralprophet_202110_DEXCAUS_nlags_36', 'Bakery and cereal products (excluding baby food)'): {'2015-07-01': r2_score    -1.293\n",
      "mae          2.431\n",
      "mape         0.016\n",
      "mse         13.253\n",
      "rmse         3.640\n",
      "dtype: float64}, ('./output/neuralprophet_202110_DEXCAUS_nlags_36', 'Dairy products and eggs'): {'2015-07-01': r2_score   -13.605\n",
      "mae          4.824\n",
      "mape         0.035\n",
      "mse         24.585\n",
      "rmse         4.958\n",
      "dtype: float64}, ('./output/neuralprophet_202110_DEXCAUS_nlags_36', 'Fish, seafood and other marine products'): {'2015-07-01': r2_score    -8.306\n",
      "mae          7.749\n",
      "mape         0.060\n",
      "mse         66.916\n",
      "rmse         8.180\n",
      "dtype: float64}, ('./output/neuralprophet_202110_DEXCAUS_nlags_36', 'Food purchased from restaurants'): {'2015-07-01': r2_score   -0.955\n",
      "mae         1.911\n",
      "mape        0.013\n",
      "mse         4.441\n",
      "rmse        2.107\n",
      "dtype: float64}, ('./output/neuralprophet_202110_DEXCAUS_nlags_36', 'Food'): {'2015-07-01': r2_score   -12.443\n",
      "mae          5.611\n",
      "mape         0.039\n",
      "mse         34.223\n",
      "rmse         5.850\n",
      "dtype: float64}, ('./output/neuralprophet_202110_DEXCAUS_nlags_36', 'Fruit, fruit preparations and nuts'): {'2015-07-01': r2_score     -7.234\n",
      "mae          13.582\n",
      "mape          0.099\n",
      "mse         210.081\n",
      "rmse         14.494\n",
      "dtype: float64}}\n"
     ]
    },
    {
     "name": "stderr",
     "output_type": "stream",
     "text": [
      "INFO - (NP.utils_torch.lr_range_test) - lr-range-test results: steep: 5.27E-03, min: 5.01E-01\n"
     ]
    },
    {
     "data": {
      "application/vnd.jupyter.widget-view+json": {
       "model_id": "d06609295e634e198a97c4ca024b4dde",
       "version_major": 2,
       "version_minor": 0
      },
      "text/plain": [
       "  0%|          | 0/224 [00:00<?, ?it/s]"
      ]
     },
     "metadata": {},
     "output_type": "display_data"
    },
    {
     "name": "stderr",
     "output_type": "stream",
     "text": [
      "INFO - (NP.utils_torch.lr_range_test) - lr-range-test results: steep: 5.27E-03, min: 3.45E-01\n"
     ]
    },
    {
     "data": {
      "application/vnd.jupyter.widget-view+json": {
       "model_id": "8648b8e4444842f5a351f88b20a4411d",
       "version_major": 2,
       "version_minor": 0
      },
      "text/plain": [
       "  0%|          | 0/224 [00:00<?, ?it/s]"
      ]
     },
     "metadata": {},
     "output_type": "display_data"
    },
    {
     "name": "stderr",
     "output_type": "stream",
     "text": [
      "INFO - (NP.utils_torch.lr_range_test) - lr-range-test results: steep: 5.79E-03, min: 1.98E-01\n",
      "INFO - (NP.forecaster._init_train_loader) - lr-range-test selected learning rate: 5.44E-03\n",
      "Epoch[233/233]: 100%|██████████| 233/233 [00:13<00:00, 16.79it/s, SmoothL1Loss=0.00129, MAE=2.96, RMSE=3.73, RegLoss=0]\n",
      "INFO - (NP.utils.set_auto_seasonalities) - Disabling weekly seasonality. Run NeuralProphet with weekly_seasonality=True to override this.\n",
      "INFO - (NP.utils.set_auto_seasonalities) - Disabling daily seasonality. Run NeuralProphet with daily_seasonality=True to override this.\n",
      "INFO - (NP.config.set_auto_batch_epoch) - Auto-set batch_size to 16\n",
      "INFO - (NP.config.set_auto_batch_epoch) - Auto-set epochs to 233\n"
     ]
    },
    {
     "data": {
      "application/vnd.jupyter.widget-view+json": {
       "model_id": "aebda7461de94cd583ec5ee3ef91abd5",
       "version_major": 2,
       "version_minor": 0
      },
      "text/plain": [
       "  0%|          | 0/224 [00:00<?, ?it/s]"
      ]
     },
     "metadata": {},
     "output_type": "display_data"
    },
    {
     "name": "stdout",
     "output_type": "stream",
     "text": [
      "this is all yhats  [147.96304321289062, 145.61880493164062, 138.45411682128906, 139.8690185546875, 139.343017578125, 146.19873046875, 140.2843017578125, 140.45640563964844, 142.3249053955078, 145.51254272460938, 143.21189880371094, 145.96710205078125, 142.9695587158203, 144.69155883789062, 138.90420532226562, 143.0535888671875, 140.39479064941406, 145.4046630859375]\n",
      "this is all_valid_metrics {('./output/neuralprophet_202110_DEXCAUS_nlags_36', 'Bakery and cereal products (excluding baby food)'): {'2015-07-01': r2_score    -1.293\n",
      "mae          2.431\n",
      "mape         0.016\n",
      "mse         13.253\n",
      "rmse         3.640\n",
      "dtype: float64}, ('./output/neuralprophet_202110_DEXCAUS_nlags_36', 'Dairy products and eggs'): {'2015-07-01': r2_score   -13.605\n",
      "mae          4.824\n",
      "mape         0.035\n",
      "mse         24.585\n",
      "rmse         4.958\n",
      "dtype: float64}, ('./output/neuralprophet_202110_DEXCAUS_nlags_36', 'Fish, seafood and other marine products'): {'2015-07-01': r2_score    -8.306\n",
      "mae          7.749\n",
      "mape         0.060\n",
      "mse         66.916\n",
      "rmse         8.180\n",
      "dtype: float64}, ('./output/neuralprophet_202110_DEXCAUS_nlags_36', 'Food purchased from restaurants'): {'2015-07-01': r2_score   -0.955\n",
      "mae         1.911\n",
      "mape        0.013\n",
      "mse         4.441\n",
      "rmse        2.107\n",
      "dtype: float64}, ('./output/neuralprophet_202110_DEXCAUS_nlags_36', 'Food'): {'2015-07-01': r2_score   -12.443\n",
      "mae          5.611\n",
      "mape         0.039\n",
      "mse         34.223\n",
      "rmse         5.850\n",
      "dtype: float64}, ('./output/neuralprophet_202110_DEXCAUS_nlags_36', 'Fruit, fruit preparations and nuts'): {'2015-07-01': r2_score     -7.234\n",
      "mae          13.582\n",
      "mape          0.099\n",
      "mse         210.081\n",
      "rmse         14.494\n",
      "dtype: float64}, ('./output/neuralprophet_202110_DEXCAUS_nlags_36', 'Meat'): {'2015-07-01': r2_score    -95.052\n",
      "mae          14.399\n",
      "mape          0.091\n",
      "mse         218.026\n",
      "rmse         14.766\n",
      "dtype: float64}}\n"
     ]
    },
    {
     "name": "stderr",
     "output_type": "stream",
     "text": [
      "INFO - (NP.utils_torch.lr_range_test) - lr-range-test results: steep: 6.35E-03, min: 7.97E-01\n"
     ]
    },
    {
     "data": {
      "application/vnd.jupyter.widget-view+json": {
       "model_id": "3c52768b83a340fba39776645a985de3",
       "version_major": 2,
       "version_minor": 0
      },
      "text/plain": [
       "  0%|          | 0/224 [00:00<?, ?it/s]"
      ]
     },
     "metadata": {},
     "output_type": "display_data"
    },
    {
     "name": "stderr",
     "output_type": "stream",
     "text": [
      "INFO - (NP.utils_torch.lr_range_test) - lr-range-test results: steep: 6.35E-03, min: 1.98E-01\n"
     ]
    },
    {
     "data": {
      "application/vnd.jupyter.widget-view+json": {
       "model_id": "3109efeb45af481fa03812fc006b3c42",
       "version_major": 2,
       "version_minor": 0
      },
      "text/plain": [
       "  0%|          | 0/224 [00:00<?, ?it/s]"
      ]
     },
     "metadata": {},
     "output_type": "display_data"
    },
    {
     "name": "stderr",
     "output_type": "stream",
     "text": [
      "INFO - (NP.utils_torch.lr_range_test) - lr-range-test results: steep: 6.35E-03, min: 3.79E-01\n",
      "INFO - (NP.forecaster._init_train_loader) - lr-range-test selected learning rate: 6.35E-03\n",
      "Epoch[233/233]: 100%|██████████| 233/233 [00:12<00:00, 17.93it/s, SmoothL1Loss=0.00142, MAE=2.23, RMSE=2.81, RegLoss=0]\n",
      "INFO - (NP.utils.set_auto_seasonalities) - Disabling weekly seasonality. Run NeuralProphet with weekly_seasonality=True to override this.\n",
      "INFO - (NP.utils.set_auto_seasonalities) - Disabling daily seasonality. Run NeuralProphet with daily_seasonality=True to override this.\n",
      "INFO - (NP.config.set_auto_batch_epoch) - Auto-set batch_size to 16\n",
      "INFO - (NP.config.set_auto_batch_epoch) - Auto-set epochs to 233\n"
     ]
    },
    {
     "data": {
      "application/vnd.jupyter.widget-view+json": {
       "model_id": "e8b57c3e4f194fb18db6279f748f3a37",
       "version_major": 2,
       "version_minor": 0
      },
      "text/plain": [
       "  0%|          | 0/224 [00:00<?, ?it/s]"
      ]
     },
     "metadata": {},
     "output_type": "display_data"
    },
    {
     "name": "stdout",
     "output_type": "stream",
     "text": [
      "this is all yhats  [135.02993774414062, 136.33250427246094, 137.5579833984375, 133.27032470703125, 135.5319366455078, 141.5890350341797, 138.68771362304688, 138.444580078125, 137.497802734375, 137.81353759765625, 138.26840209960938, 140.53858947753906, 139.99591064453125, 135.25839233398438, 138.4810791015625, 141.59402465820312, 137.1453094482422, 141.70834350585938]\n",
      "this is all_valid_metrics {('./output/neuralprophet_202110_DEXCAUS_nlags_36', 'Bakery and cereal products (excluding baby food)'): {'2015-07-01': r2_score    -1.293\n",
      "mae          2.431\n",
      "mape         0.016\n",
      "mse         13.253\n",
      "rmse         3.640\n",
      "dtype: float64}, ('./output/neuralprophet_202110_DEXCAUS_nlags_36', 'Dairy products and eggs'): {'2015-07-01': r2_score   -13.605\n",
      "mae          4.824\n",
      "mape         0.035\n",
      "mse         24.585\n",
      "rmse         4.958\n",
      "dtype: float64}, ('./output/neuralprophet_202110_DEXCAUS_nlags_36', 'Fish, seafood and other marine products'): {'2015-07-01': r2_score    -8.306\n",
      "mae          7.749\n",
      "mape         0.060\n",
      "mse         66.916\n",
      "rmse         8.180\n",
      "dtype: float64}, ('./output/neuralprophet_202110_DEXCAUS_nlags_36', 'Food purchased from restaurants'): {'2015-07-01': r2_score   -0.955\n",
      "mae         1.911\n",
      "mape        0.013\n",
      "mse         4.441\n",
      "rmse        2.107\n",
      "dtype: float64}, ('./output/neuralprophet_202110_DEXCAUS_nlags_36', 'Food'): {'2015-07-01': r2_score   -12.443\n",
      "mae          5.611\n",
      "mape         0.039\n",
      "mse         34.223\n",
      "rmse         5.850\n",
      "dtype: float64}, ('./output/neuralprophet_202110_DEXCAUS_nlags_36', 'Fruit, fruit preparations and nuts'): {'2015-07-01': r2_score     -7.234\n",
      "mae          13.582\n",
      "mape          0.099\n",
      "mse         210.081\n",
      "rmse         14.494\n",
      "dtype: float64}, ('./output/neuralprophet_202110_DEXCAUS_nlags_36', 'Meat'): {'2015-07-01': r2_score    -95.052\n",
      "mae          14.399\n",
      "mape          0.091\n",
      "mse         218.026\n",
      "rmse         14.766\n",
      "dtype: float64}, ('./output/neuralprophet_202110_DEXCAUS_nlags_36', 'Other food products and non-alcoholic beverages'): {'2015-07-01': r2_score   -11.517\n",
      "mae          3.484\n",
      "mape         0.026\n",
      "mse         17.934\n",
      "rmse         4.235\n",
      "dtype: float64}}\n"
     ]
    },
    {
     "name": "stderr",
     "output_type": "stream",
     "text": [
      "INFO - (NP.utils_torch.lr_range_test) - lr-range-test results: steep: 5.38E-02, min: 2.87E-01\n"
     ]
    },
    {
     "data": {
      "application/vnd.jupyter.widget-view+json": {
       "model_id": "4283370b3589404da8acd5b5e85dd50e",
       "version_major": 2,
       "version_minor": 0
      },
      "text/plain": [
       "  0%|          | 0/224 [00:00<?, ?it/s]"
      ]
     },
     "metadata": {},
     "output_type": "display_data"
    },
    {
     "name": "stderr",
     "output_type": "stream",
     "text": [
      "INFO - (NP.utils_torch.lr_range_test) - lr-range-test results: steep: 5.91E-02, min: 2.87E-01\n"
     ]
    },
    {
     "data": {
      "application/vnd.jupyter.widget-view+json": {
       "model_id": "903b00ac7d1144128419b2d3e82287ae",
       "version_major": 2,
       "version_minor": 0
      },
      "text/plain": [
       "  0%|          | 0/224 [00:00<?, ?it/s]"
      ]
     },
     "metadata": {},
     "output_type": "display_data"
    },
    {
     "name": "stderr",
     "output_type": "stream",
     "text": [
      "INFO - (NP.utils_torch.lr_range_test) - lr-range-test results: steep: 5.38E-02, min: 2.61E-01\n",
      "INFO - (NP.forecaster._init_train_loader) - lr-range-test selected learning rate: 5.55E-02\n",
      "Epoch[233/233]: 100%|██████████| 233/233 [00:13<00:00, 17.54it/s, SmoothL1Loss=0.00233, MAE=2.96, RMSE=3.78, RegLoss=0]\n",
      "INFO - (NP.utils.set_auto_seasonalities) - Disabling weekly seasonality. Run NeuralProphet with weekly_seasonality=True to override this.\n",
      "INFO - (NP.utils.set_auto_seasonalities) - Disabling daily seasonality. Run NeuralProphet with daily_seasonality=True to override this.\n",
      "INFO - (NP.config.set_auto_batch_epoch) - Auto-set batch_size to 16\n",
      "INFO - (NP.config.set_auto_batch_epoch) - Auto-set epochs to 233\n"
     ]
    },
    {
     "data": {
      "application/vnd.jupyter.widget-view+json": {
       "model_id": "db33c689680f47f48f92fb814c3ce01b",
       "version_major": 2,
       "version_minor": 0
      },
      "text/plain": [
       "  0%|          | 0/224 [00:00<?, ?it/s]"
      ]
     },
     "metadata": {},
     "output_type": "display_data"
    },
    {
     "name": "stdout",
     "output_type": "stream",
     "text": [
      "this is all yhats  [121.30667877197266, 114.87483978271484, 114.94349670410156, 120.0221176147461, 121.68511199951172, 124.51539611816406, 123.74459075927734, 126.22999572753906, 126.55364990234375, 127.05852508544922, 129.63040161132812, 125.37809753417969, 117.85630798339844, 108.88874053955078, 110.86082458496094, 117.43826293945312, 121.71311950683594, 125.40737915039062]\n",
      "this is all_valid_metrics {('./output/neuralprophet_202110_DEXCAUS_nlags_36', 'Bakery and cereal products (excluding baby food)'): {'2015-07-01': r2_score    -1.293\n",
      "mae          2.431\n",
      "mape         0.016\n",
      "mse         13.253\n",
      "rmse         3.640\n",
      "dtype: float64}, ('./output/neuralprophet_202110_DEXCAUS_nlags_36', 'Dairy products and eggs'): {'2015-07-01': r2_score   -13.605\n",
      "mae          4.824\n",
      "mape         0.035\n",
      "mse         24.585\n",
      "rmse         4.958\n",
      "dtype: float64}, ('./output/neuralprophet_202110_DEXCAUS_nlags_36', 'Fish, seafood and other marine products'): {'2015-07-01': r2_score    -8.306\n",
      "mae          7.749\n",
      "mape         0.060\n",
      "mse         66.916\n",
      "rmse         8.180\n",
      "dtype: float64}, ('./output/neuralprophet_202110_DEXCAUS_nlags_36', 'Food purchased from restaurants'): {'2015-07-01': r2_score   -0.955\n",
      "mae         1.911\n",
      "mape        0.013\n",
      "mse         4.441\n",
      "rmse        2.107\n",
      "dtype: float64}, ('./output/neuralprophet_202110_DEXCAUS_nlags_36', 'Food'): {'2015-07-01': r2_score   -12.443\n",
      "mae          5.611\n",
      "mape         0.039\n",
      "mse         34.223\n",
      "rmse         5.850\n",
      "dtype: float64}, ('./output/neuralprophet_202110_DEXCAUS_nlags_36', 'Fruit, fruit preparations and nuts'): {'2015-07-01': r2_score     -7.234\n",
      "mae          13.582\n",
      "mape          0.099\n",
      "mse         210.081\n",
      "rmse         14.494\n",
      "dtype: float64}, ('./output/neuralprophet_202110_DEXCAUS_nlags_36', 'Meat'): {'2015-07-01': r2_score    -95.052\n",
      "mae          14.399\n",
      "mape          0.091\n",
      "mse         218.026\n",
      "rmse         14.766\n",
      "dtype: float64}, ('./output/neuralprophet_202110_DEXCAUS_nlags_36', 'Other food products and non-alcoholic beverages'): {'2015-07-01': r2_score   -11.517\n",
      "mae          3.484\n",
      "mape         0.026\n",
      "mse         17.934\n",
      "rmse         4.235\n",
      "dtype: float64}, ('./output/neuralprophet_202110_DEXCAUS_nlags_36', 'Vegetables and vegetable preparations'): {'2015-07-01': r2_score     -1.521\n",
      "mae          12.588\n",
      "mape          0.092\n",
      "mse         198.463\n",
      "rmse         14.088\n",
      "dtype: float64}}\n"
     ]
    },
    {
     "name": "stderr",
     "output_type": "stream",
     "text": [
      "INFO - (NP.utils_torch.lr_range_test) - lr-range-test results: steep: 2.87E-01, min: 5.01E-01\n"
     ]
    },
    {
     "data": {
      "application/vnd.jupyter.widget-view+json": {
       "model_id": "0950a8b1639d4c28a6103df2f68bdef0",
       "version_major": 2,
       "version_minor": 0
      },
      "text/plain": [
       "  0%|          | 0/224 [00:00<?, ?it/s]"
      ]
     },
     "metadata": {},
     "output_type": "display_data"
    },
    {
     "name": "stderr",
     "output_type": "stream",
     "text": [
      "INFO - (NP.utils_torch.lr_range_test) - lr-range-test results: steep: 3.79E-01, min: 5.49E-01\n"
     ]
    },
    {
     "data": {
      "application/vnd.jupyter.widget-view+json": {
       "model_id": "dd7845839d8c4e17b2ed6e561b591bab",
       "version_major": 2,
       "version_minor": 0
      },
      "text/plain": [
       "  0%|          | 0/224 [00:00<?, ?it/s]"
      ]
     },
     "metadata": {},
     "output_type": "display_data"
    },
    {
     "name": "stderr",
     "output_type": "stream",
     "text": [
      "INFO - (NP.utils_torch.lr_range_test) - lr-range-test results: steep: 3.45E-01, min: 6.03E-01\n",
      "INFO - (NP.forecaster._init_train_loader) - lr-range-test selected learning rate: 3.35E-01\n",
      "Epoch[233/233]: 100%|██████| 233/233 [00:12<00:00, 18.00it/s, SmoothL1Loss=0.00282, MAE=0.0328, RMSE=0.0439, RegLoss=0]\n",
      "INFO - (NP.utils.set_auto_seasonalities) - Disabling weekly seasonality. Run NeuralProphet with weekly_seasonality=True to override this.\n",
      "INFO - (NP.utils.set_auto_seasonalities) - Disabling daily seasonality. Run NeuralProphet with daily_seasonality=True to override this.\n",
      "INFO - (NP.config.set_auto_batch_epoch) - Auto-set batch_size to 16\n",
      "INFO - (NP.config.set_auto_batch_epoch) - Auto-set epochs to 233\n"
     ]
    },
    {
     "data": {
      "application/vnd.jupyter.widget-view+json": {
       "model_id": "e045998426eb48f29dca16c00a98d9f0",
       "version_major": 2,
       "version_minor": 0
      },
      "text/plain": [
       "  0%|          | 0/224 [00:00<?, ?it/s]"
      ]
     },
     "metadata": {},
     "output_type": "display_data"
    },
    {
     "name": "stdout",
     "output_type": "stream",
     "text": [
      "this is all yhats  [1.089798927307129, 1.0816043615341187, 1.0677988529205322, 1.0709614753723145, 1.0648504495620728, 1.0621976852416992, 1.0539441108703613, 1.0436605215072632, 1.0248016119003296, 1.014041781425476, 1.0146387815475464, 1.0062540769577026, 1.009363055229187, 1.0030794143676758, 1.006140947341919, 1.0077818632125854, 1.0094077587127686, 1.015145182609558]\n",
      "this is all_valid_metrics {('./output/neuralprophet_202110_DEXCAUS_nlags_36', 'Bakery and cereal products (excluding baby food)'): {'2015-07-01': r2_score    -1.293\n",
      "mae          2.431\n",
      "mape         0.016\n",
      "mse         13.253\n",
      "rmse         3.640\n",
      "dtype: float64}, ('./output/neuralprophet_202110_DEXCAUS_nlags_36', 'Dairy products and eggs'): {'2015-07-01': r2_score   -13.605\n",
      "mae          4.824\n",
      "mape         0.035\n",
      "mse         24.585\n",
      "rmse         4.958\n",
      "dtype: float64}, ('./output/neuralprophet_202110_DEXCAUS_nlags_36', 'Fish, seafood and other marine products'): {'2015-07-01': r2_score    -8.306\n",
      "mae          7.749\n",
      "mape         0.060\n",
      "mse         66.916\n",
      "rmse         8.180\n",
      "dtype: float64}, ('./output/neuralprophet_202110_DEXCAUS_nlags_36', 'Food purchased from restaurants'): {'2015-07-01': r2_score   -0.955\n",
      "mae         1.911\n",
      "mape        0.013\n",
      "mse         4.441\n",
      "rmse        2.107\n",
      "dtype: float64}, ('./output/neuralprophet_202110_DEXCAUS_nlags_36', 'Food'): {'2015-07-01': r2_score   -12.443\n",
      "mae          5.611\n",
      "mape         0.039\n",
      "mse         34.223\n",
      "rmse         5.850\n",
      "dtype: float64}, ('./output/neuralprophet_202110_DEXCAUS_nlags_36', 'Fruit, fruit preparations and nuts'): {'2015-07-01': r2_score     -7.234\n",
      "mae          13.582\n",
      "mape          0.099\n",
      "mse         210.081\n",
      "rmse         14.494\n",
      "dtype: float64}, ('./output/neuralprophet_202110_DEXCAUS_nlags_36', 'Meat'): {'2015-07-01': r2_score    -95.052\n",
      "mae          14.399\n",
      "mape          0.091\n",
      "mse         218.026\n",
      "rmse         14.766\n",
      "dtype: float64}, ('./output/neuralprophet_202110_DEXCAUS_nlags_36', 'Other food products and non-alcoholic beverages'): {'2015-07-01': r2_score   -11.517\n",
      "mae          3.484\n",
      "mape         0.026\n",
      "mse         17.934\n",
      "rmse         4.235\n",
      "dtype: float64}, ('./output/neuralprophet_202110_DEXCAUS_nlags_36', 'Vegetables and vegetable preparations'): {'2015-07-01': r2_score     -1.521\n",
      "mae          12.588\n",
      "mape          0.092\n",
      "mse         198.463\n",
      "rmse         14.088\n",
      "dtype: float64}, ('./output/neuralprophet_202110_DEXCAUS_nlags_36', 'DEXCAUS'): {'2015-07-01': r2_score   -121.536\n",
      "mae           0.289\n",
      "mape          0.218\n",
      "mse           0.085\n",
      "rmse          0.291\n",
      "dtype: float64}}\n"
     ]
    },
    {
     "name": "stderr",
     "output_type": "stream",
     "text": [
      "INFO - (NP.utils_torch.lr_range_test) - lr-range-test results: steep: 3.38E-02, min: 2.87E-01\n"
     ]
    },
    {
     "data": {
      "application/vnd.jupyter.widget-view+json": {
       "model_id": "532f86b50a1c432f855c5d63a7ceeac6",
       "version_major": 2,
       "version_minor": 0
      },
      "text/plain": [
       "  0%|          | 0/224 [00:00<?, ?it/s]"
      ]
     },
     "metadata": {},
     "output_type": "display_data"
    },
    {
     "name": "stderr",
     "output_type": "stream",
     "text": [
      "INFO - (NP.utils_torch.lr_range_test) - lr-range-test results: steep: 3.08E-02, min: 2.87E-01\n"
     ]
    },
    {
     "data": {
      "application/vnd.jupyter.widget-view+json": {
       "model_id": "74994b87ca5c4c0d881b253a8db9267a",
       "version_major": 2,
       "version_minor": 0
      },
      "text/plain": [
       "  0%|          | 0/224 [00:00<?, ?it/s]"
      ]
     },
     "metadata": {},
     "output_type": "display_data"
    },
    {
     "name": "stderr",
     "output_type": "stream",
     "text": [
      "INFO - (NP.utils_torch.lr_range_test) - lr-range-test results: steep: 3.38E-02, min: 1.98E-01\n",
      "INFO - (NP.forecaster._init_train_loader) - lr-range-test selected learning rate: 3.28E-02\n",
      "Epoch[233/233]: 100%|██████████| 233/233 [00:13<00:00, 17.79it/s, SmoothL1Loss=0.00379, MAE=5.33, RMSE=7.57, RegLoss=0]\n",
      "INFO - (NP.utils.set_auto_seasonalities) - Disabling weekly seasonality. Run NeuralProphet with weekly_seasonality=True to override this.\n",
      "INFO - (NP.utils.set_auto_seasonalities) - Disabling daily seasonality. Run NeuralProphet with daily_seasonality=True to override this.\n",
      "INFO - (NP.config.set_auto_batch_epoch) - Auto-set batch_size to 16\n",
      "INFO - (NP.config.set_auto_batch_epoch) - Auto-set epochs to 233\n"
     ]
    },
    {
     "data": {
      "application/vnd.jupyter.widget-view+json": {
       "model_id": "2da7c64c449d4a4ca85d81641957ba96",
       "version_major": 2,
       "version_minor": 0
      },
      "text/plain": [
       "  0%|          | 0/224 [00:00<?, ?it/s]"
      ]
     },
     "metadata": {},
     "output_type": "display_data"
    },
    {
     "name": "stdout",
     "output_type": "stream",
     "text": [
      "this is all yhats  [82.90169525146484, 85.73820495605469, 94.73594665527344, 92.41537475585938, 96.36551666259766, 99.09251403808594, 102.91201782226562, 106.30429077148438, 111.95245361328125, 115.65782928466797, 120.3553237915039, 124.00480651855469, 118.31278991699219, 120.43253326416016, 118.2161636352539, 120.08826446533203, 115.45804595947266, 112.37605285644531]\n",
      "this is all_valid_metrics {('./output/neuralprophet_202110_DEXCAUS_nlags_36', 'Bakery and cereal products (excluding baby food)'): {'2015-07-01': r2_score    -1.293\n",
      "mae          2.431\n",
      "mape         0.016\n",
      "mse         13.253\n",
      "rmse         3.640\n",
      "dtype: float64}, ('./output/neuralprophet_202110_DEXCAUS_nlags_36', 'Dairy products and eggs'): {'2015-07-01': r2_score   -13.605\n",
      "mae          4.824\n",
      "mape         0.035\n",
      "mse         24.585\n",
      "rmse         4.958\n",
      "dtype: float64}, ('./output/neuralprophet_202110_DEXCAUS_nlags_36', 'Fish, seafood and other marine products'): {'2015-07-01': r2_score    -8.306\n",
      "mae          7.749\n",
      "mape         0.060\n",
      "mse         66.916\n",
      "rmse         8.180\n",
      "dtype: float64}, ('./output/neuralprophet_202110_DEXCAUS_nlags_36', 'Food purchased from restaurants'): {'2015-07-01': r2_score   -0.955\n",
      "mae         1.911\n",
      "mape        0.013\n",
      "mse         4.441\n",
      "rmse        2.107\n",
      "dtype: float64}, ('./output/neuralprophet_202110_DEXCAUS_nlags_36', 'Food'): {'2015-07-01': r2_score   -12.443\n",
      "mae          5.611\n",
      "mape         0.039\n",
      "mse         34.223\n",
      "rmse         5.850\n",
      "dtype: float64}, ('./output/neuralprophet_202110_DEXCAUS_nlags_36', 'Fruit, fruit preparations and nuts'): {'2015-07-01': r2_score     -7.234\n",
      "mae          13.582\n",
      "mape          0.099\n",
      "mse         210.081\n",
      "rmse         14.494\n",
      "dtype: float64}, ('./output/neuralprophet_202110_DEXCAUS_nlags_36', 'Meat'): {'2015-07-01': r2_score    -95.052\n",
      "mae          14.399\n",
      "mape          0.091\n",
      "mse         218.026\n",
      "rmse         14.766\n",
      "dtype: float64}, ('./output/neuralprophet_202110_DEXCAUS_nlags_36', 'Other food products and non-alcoholic beverages'): {'2015-07-01': r2_score   -11.517\n",
      "mae          3.484\n",
      "mape         0.026\n",
      "mse         17.934\n",
      "rmse         4.235\n",
      "dtype: float64}, ('./output/neuralprophet_202110_DEXCAUS_nlags_36', 'Vegetables and vegetable preparations'): {'2015-07-01': r2_score     -1.521\n",
      "mae          12.588\n",
      "mape          0.092\n",
      "mse         198.463\n",
      "rmse         14.088\n",
      "dtype: float64}, ('./output/neuralprophet_202110_DEXCAUS_nlags_36', 'DEXCAUS'): {'2015-07-01': r2_score   -121.536\n",
      "mae           0.289\n",
      "mape          0.218\n",
      "mse           0.085\n",
      "rmse          0.291\n",
      "dtype: float64}, ('./output/neuralprophet_202110_DEXCAUS_nlags_36', 'DCOILWTICO'): {'2015-07-01': r2_score    -119.478\n",
      "mae           64.258\n",
      "mape           1.528\n",
      "mse         4305.505\n",
      "rmse          65.616\n",
      "dtype: float64}}\n"
     ]
    },
    {
     "name": "stderr",
     "output_type": "stream",
     "text": [
      "INFO - (NP.utils_torch.lr_range_test) - lr-range-test results: steep: 3.71E-02, min: 3.15E-01\n"
     ]
    },
    {
     "data": {
      "application/vnd.jupyter.widget-view+json": {
       "model_id": "cd5a15d1e90f43e587b397c062eda96c",
       "version_major": 2,
       "version_minor": 0
      },
      "text/plain": [
       "  0%|          | 0/224 [00:00<?, ?it/s]"
      ]
     },
     "metadata": {},
     "output_type": "display_data"
    },
    {
     "name": "stderr",
     "output_type": "stream",
     "text": [
      "INFO - (NP.utils_torch.lr_range_test) - lr-range-test results: steep: 5.91E-02, min: 3.15E-01\n"
     ]
    },
    {
     "data": {
      "application/vnd.jupyter.widget-view+json": {
       "model_id": "8b977ca0bfbb477b977b7c5402571d4a",
       "version_major": 2,
       "version_minor": 0
      },
      "text/plain": [
       "  0%|          | 0/224 [00:00<?, ?it/s]"
      ]
     },
     "metadata": {},
     "output_type": "display_data"
    },
    {
     "name": "stderr",
     "output_type": "stream",
     "text": [
      "INFO - (NP.utils_torch.lr_range_test) - lr-range-test results: steep: 4.47E-02, min: 2.38E-01\n",
      "INFO - (NP.forecaster._init_train_loader) - lr-range-test selected learning rate: 4.61E-02\n",
      "Epoch[233/233]: 100%|██████████| 233/233 [00:12<00:00, 17.94it/s, SmoothL1Loss=0.000421, MAE=1.6, RMSE=2.12, RegLoss=0]\n",
      "INFO - (NP.utils.set_auto_seasonalities) - Disabling weekly seasonality. Run NeuralProphet with weekly_seasonality=True to override this.\n",
      "INFO - (NP.utils.set_auto_seasonalities) - Disabling daily seasonality. Run NeuralProphet with daily_seasonality=True to override this.\n",
      "INFO - (NP.config.set_auto_batch_epoch) - Auto-set batch_size to 16\n",
      "INFO - (NP.config.set_auto_batch_epoch) - Auto-set epochs to 233\n"
     ]
    },
    {
     "data": {
      "application/vnd.jupyter.widget-view+json": {
       "model_id": "2160230432da4cb69e3a2a814a780441",
       "version_major": 2,
       "version_minor": 0
      },
      "text/plain": [
       "  0%|          | 0/224 [00:00<?, ?it/s]"
      ]
     },
     "metadata": {},
     "output_type": "display_data"
    },
    {
     "name": "stdout",
     "output_type": "stream",
     "text": [
      "this is all yhats  [91.28790283203125, 90.11619567871094, 91.66990661621094, 94.00679016113281, 93.18858337402344, 95.1796875, 97.06707763671875, 98.61622619628906, 99.45948028564453, 100.90813446044922, 101.48035430908203, 103.43179321289062, 104.88996887207031, 104.71499633789062, 107.08335876464844, 108.9302749633789, 108.70855712890625, 110.96067810058594]\n",
      "this is all_valid_metrics {('./output/neuralprophet_202110_DEXCAUS_nlags_36', 'Bakery and cereal products (excluding baby food)'): {'2015-07-01': r2_score    -1.293\n",
      "mae          2.431\n",
      "mape         0.016\n",
      "mse         13.253\n",
      "rmse         3.640\n",
      "dtype: float64}, ('./output/neuralprophet_202110_DEXCAUS_nlags_36', 'Dairy products and eggs'): {'2015-07-01': r2_score   -13.605\n",
      "mae          4.824\n",
      "mape         0.035\n",
      "mse         24.585\n",
      "rmse         4.958\n",
      "dtype: float64}, ('./output/neuralprophet_202110_DEXCAUS_nlags_36', 'Fish, seafood and other marine products'): {'2015-07-01': r2_score    -8.306\n",
      "mae          7.749\n",
      "mape         0.060\n",
      "mse         66.916\n",
      "rmse         8.180\n",
      "dtype: float64}, ('./output/neuralprophet_202110_DEXCAUS_nlags_36', 'Food purchased from restaurants'): {'2015-07-01': r2_score   -0.955\n",
      "mae         1.911\n",
      "mape        0.013\n",
      "mse         4.441\n",
      "rmse        2.107\n",
      "dtype: float64}, ('./output/neuralprophet_202110_DEXCAUS_nlags_36', 'Food'): {'2015-07-01': r2_score   -12.443\n",
      "mae          5.611\n",
      "mape         0.039\n",
      "mse         34.223\n",
      "rmse         5.850\n",
      "dtype: float64}, ('./output/neuralprophet_202110_DEXCAUS_nlags_36', 'Fruit, fruit preparations and nuts'): {'2015-07-01': r2_score     -7.234\n",
      "mae          13.582\n",
      "mape          0.099\n",
      "mse         210.081\n",
      "rmse         14.494\n",
      "dtype: float64}, ('./output/neuralprophet_202110_DEXCAUS_nlags_36', 'Meat'): {'2015-07-01': r2_score    -95.052\n",
      "mae          14.399\n",
      "mape          0.091\n",
      "mse         218.026\n",
      "rmse         14.766\n",
      "dtype: float64}, ('./output/neuralprophet_202110_DEXCAUS_nlags_36', 'Other food products and non-alcoholic beverages'): {'2015-07-01': r2_score   -11.517\n",
      "mae          3.484\n",
      "mape         0.026\n",
      "mse         17.934\n",
      "rmse         4.235\n",
      "dtype: float64}, ('./output/neuralprophet_202110_DEXCAUS_nlags_36', 'Vegetables and vegetable preparations'): {'2015-07-01': r2_score     -1.521\n",
      "mae          12.588\n",
      "mape          0.092\n",
      "mse         198.463\n",
      "rmse         14.088\n",
      "dtype: float64}, ('./output/neuralprophet_202110_DEXCAUS_nlags_36', 'DEXCAUS'): {'2015-07-01': r2_score   -121.536\n",
      "mae           0.289\n",
      "mape          0.218\n",
      "mse           0.085\n",
      "rmse          0.291\n",
      "dtype: float64}, ('./output/neuralprophet_202110_DEXCAUS_nlags_36', 'DCOILWTICO'): {'2015-07-01': r2_score    -119.478\n",
      "mae           64.258\n",
      "mape           1.528\n",
      "mse         4305.505\n",
      "rmse          65.616\n",
      "dtype: float64}, ('./output/neuralprophet_202110_DEXCAUS_nlags_36', 'WILL5000IND'): {'2015-07-01': r2_score    -1.753\n",
      "mae          7.811\n",
      "mape         0.085\n",
      "mse         70.746\n",
      "rmse         8.411\n",
      "dtype: float64}}\n"
     ]
    },
    {
     "name": "stderr",
     "output_type": "stream",
     "text": [
      "INFO - (NP.utils_torch.lr_range_test) - lr-range-test results: steep: 4.38E-03, min: 2.87E-01\n"
     ]
    },
    {
     "data": {
      "application/vnd.jupyter.widget-view+json": {
       "model_id": "f4657afac1d04d3d9312e0bf5a0a4128",
       "version_major": 2,
       "version_minor": 0
      },
      "text/plain": [
       "  0%|          | 0/224 [00:00<?, ?it/s]"
      ]
     },
     "metadata": {},
     "output_type": "display_data"
    },
    {
     "name": "stderr",
     "output_type": "stream",
     "text": [
      "INFO - (NP.utils_torch.lr_range_test) - lr-range-test results: steep: 5.27E-03, min: 4.16E-01\n"
     ]
    },
    {
     "data": {
      "application/vnd.jupyter.widget-view+json": {
       "model_id": "2d8e1ee39c90464abbd8ae988686cd77",
       "version_major": 2,
       "version_minor": 0
      },
      "text/plain": [
       "  0%|          | 0/224 [00:00<?, ?it/s]"
      ]
     },
     "metadata": {},
     "output_type": "display_data"
    },
    {
     "name": "stderr",
     "output_type": "stream",
     "text": [
      "INFO - (NP.utils_torch.lr_range_test) - lr-range-test results: steep: 5.27E-03, min: 3.45E-01\n",
      "INFO - (NP.forecaster._init_train_loader) - lr-range-test selected learning rate: 4.96E-03\n",
      "Epoch[233/233]: 100%|███████████| 233/233 [00:12<00:00, 17.98it/s, SmoothL1Loss=0.0274, MAE=4.11, RMSE=6.01, RegLoss=0]\n",
      "INFO - (NP.utils.set_auto_seasonalities) - Disabling weekly seasonality. Run NeuralProphet with weekly_seasonality=True to override this.\n",
      "INFO - (NP.utils.set_auto_seasonalities) - Disabling daily seasonality. Run NeuralProphet with daily_seasonality=True to override this.\n",
      "INFO - (NP.config.set_auto_batch_epoch) - Auto-set batch_size to 16\n",
      "INFO - (NP.config.set_auto_batch_epoch) - Auto-set epochs to 233\n"
     ]
    },
    {
     "data": {
      "application/vnd.jupyter.widget-view+json": {
       "model_id": "5fd480d751854cf2b7f66723f2a3596d",
       "version_major": 2,
       "version_minor": 0
      },
      "text/plain": [
       "  0%|          | 0/224 [00:00<?, ?it/s]"
      ]
     },
     "metadata": {},
     "output_type": "display_data"
    },
    {
     "name": "stdout",
     "output_type": "stream",
     "text": [
      "this is all yhats  [21.049888610839844, 20.595481872558594, 19.58713150024414, 22.0106201171875, 18.73462677001953, 17.599063873291016, 15.177650451660156, 14.454362869262695, 12.7806978225708, 10.702974319458008, 11.654026985168457, 8.179683685302734, 9.073309898376465, 12.529733657836914, 14.315852165222168, 17.183975219726562, 12.896453857421875, 13.703950881958008]\n",
      "this is all_valid_metrics {('./output/neuralprophet_202110_DEXCAUS_nlags_36', 'Bakery and cereal products (excluding baby food)'): {'2015-07-01': r2_score    -1.293\n",
      "mae          2.431\n",
      "mape         0.016\n",
      "mse         13.253\n",
      "rmse         3.640\n",
      "dtype: float64}, ('./output/neuralprophet_202110_DEXCAUS_nlags_36', 'Dairy products and eggs'): {'2015-07-01': r2_score   -13.605\n",
      "mae          4.824\n",
      "mape         0.035\n",
      "mse         24.585\n",
      "rmse         4.958\n",
      "dtype: float64}, ('./output/neuralprophet_202110_DEXCAUS_nlags_36', 'Fish, seafood and other marine products'): {'2015-07-01': r2_score    -8.306\n",
      "mae          7.749\n",
      "mape         0.060\n",
      "mse         66.916\n",
      "rmse         8.180\n",
      "dtype: float64}, ('./output/neuralprophet_202110_DEXCAUS_nlags_36', 'Food purchased from restaurants'): {'2015-07-01': r2_score   -0.955\n",
      "mae         1.911\n",
      "mape        0.013\n",
      "mse         4.441\n",
      "rmse        2.107\n",
      "dtype: float64}, ('./output/neuralprophet_202110_DEXCAUS_nlags_36', 'Food'): {'2015-07-01': r2_score   -12.443\n",
      "mae          5.611\n",
      "mape         0.039\n",
      "mse         34.223\n",
      "rmse         5.850\n",
      "dtype: float64}, ('./output/neuralprophet_202110_DEXCAUS_nlags_36', 'Fruit, fruit preparations and nuts'): {'2015-07-01': r2_score     -7.234\n",
      "mae          13.582\n",
      "mape          0.099\n",
      "mse         210.081\n",
      "rmse         14.494\n",
      "dtype: float64}, ('./output/neuralprophet_202110_DEXCAUS_nlags_36', 'Meat'): {'2015-07-01': r2_score    -95.052\n",
      "mae          14.399\n",
      "mape          0.091\n",
      "mse         218.026\n",
      "rmse         14.766\n",
      "dtype: float64}, ('./output/neuralprophet_202110_DEXCAUS_nlags_36', 'Other food products and non-alcoholic beverages'): {'2015-07-01': r2_score   -11.517\n",
      "mae          3.484\n",
      "mape         0.026\n",
      "mse         17.934\n",
      "rmse         4.235\n",
      "dtype: float64}, ('./output/neuralprophet_202110_DEXCAUS_nlags_36', 'Vegetables and vegetable preparations'): {'2015-07-01': r2_score     -1.521\n",
      "mae          12.588\n",
      "mape          0.092\n",
      "mse         198.463\n",
      "rmse         14.088\n",
      "dtype: float64}, ('./output/neuralprophet_202110_DEXCAUS_nlags_36', 'DEXCAUS'): {'2015-07-01': r2_score   -121.536\n",
      "mae           0.289\n",
      "mape          0.218\n",
      "mse           0.085\n",
      "rmse          0.291\n",
      "dtype: float64}, ('./output/neuralprophet_202110_DEXCAUS_nlags_36', 'DCOILWTICO'): {'2015-07-01': r2_score    -119.478\n",
      "mae           64.258\n",
      "mape           1.528\n",
      "mse         4305.505\n",
      "rmse          65.616\n",
      "dtype: float64}, ('./output/neuralprophet_202110_DEXCAUS_nlags_36', 'WILL5000IND'): {'2015-07-01': r2_score    -1.753\n",
      "mae          7.811\n",
      "mape         0.085\n",
      "mse         70.746\n",
      "rmse         8.411\n",
      "dtype: float64}, ('./output/neuralprophet_202110_DEXCAUS_nlags_36', 'VXOCLS'): {'2015-07-01': r2_score     0.436\n",
      "mae          2.897\n",
      "mape         0.160\n",
      "mse         14.134\n",
      "rmse         3.760\n",
      "dtype: float64}}\n"
     ]
    },
    {
     "name": "stderr",
     "output_type": "stream",
     "text": [
      "INFO - (NP.utils_torch.lr_range_test) - lr-range-test results: steep: 3.08E-02, min: 2.87E-01\n"
     ]
    },
    {
     "data": {
      "application/vnd.jupyter.widget-view+json": {
       "model_id": "904c74fc347040ef803d6d9b161debde",
       "version_major": 2,
       "version_minor": 0
      },
      "text/plain": [
       "  0%|          | 0/224 [00:00<?, ?it/s]"
      ]
     },
     "metadata": {},
     "output_type": "display_data"
    },
    {
     "name": "stderr",
     "output_type": "stream",
     "text": [
      "INFO - (NP.utils_torch.lr_range_test) - lr-range-test results: steep: 2.56E-02, min: 2.61E-01\n"
     ]
    },
    {
     "data": {
      "application/vnd.jupyter.widget-view+json": {
       "model_id": "2a8995b40edc4b7aa2704e8f5dc4180b",
       "version_major": 2,
       "version_minor": 0
      },
      "text/plain": [
       "  0%|          | 0/224 [00:00<?, ?it/s]"
      ]
     },
     "metadata": {},
     "output_type": "display_data"
    },
    {
     "name": "stderr",
     "output_type": "stream",
     "text": [
      "INFO - (NP.utils_torch.lr_range_test) - lr-range-test results: steep: 3.08E-02, min: 2.87E-01\n",
      "INFO - (NP.forecaster._init_train_loader) - lr-range-test selected learning rate: 2.90E-02\n",
      "Epoch[233/233]: 100%|█████████| 233/233 [00:13<00:00, 17.86it/s, SmoothL1Loss=0.000172, MAE=2.08, RMSE=2.63, RegLoss=0]\n",
      "INFO - (NP.utils.set_auto_seasonalities) - Disabling weekly seasonality. Run NeuralProphet with weekly_seasonality=True to override this.\n",
      "INFO - (NP.utils.set_auto_seasonalities) - Disabling daily seasonality. Run NeuralProphet with daily_seasonality=True to override this.\n",
      "INFO - (NP.config.set_auto_batch_epoch) - Auto-set batch_size to 16\n",
      "INFO - (NP.config.set_auto_batch_epoch) - Auto-set epochs to 233\n"
     ]
    },
    {
     "data": {
      "application/vnd.jupyter.widget-view+json": {
       "model_id": "195d5251e8e942729d78b156577ecaae",
       "version_major": 2,
       "version_minor": 0
      },
      "text/plain": [
       "  0%|          | 0/224 [00:00<?, ?it/s]"
      ]
     },
     "metadata": {},
     "output_type": "display_data"
    },
    {
     "name": "stdout",
     "output_type": "stream",
     "text": [
      "this is all yhats  [273.8664855957031, 271.1329040527344, 277.3106689453125, 273.45245361328125, 274.262451171875, 269.9505310058594, 277.3866271972656, 279.218994140625, 278.4553527832031, 275.0094909667969, 273.516845703125, 279.6044616699219, 274.8822326660156, 279.15869140625, 281.01654052734375, 282.82476806640625, 283.7527770996094, 284.9599609375]\n",
      "this is all_valid_metrics {('./output/neuralprophet_202110_DEXCAUS_nlags_36', 'Bakery and cereal products (excluding baby food)'): {'2015-07-01': r2_score    -1.293\n",
      "mae          2.431\n",
      "mape         0.016\n",
      "mse         13.253\n",
      "rmse         3.640\n",
      "dtype: float64}, ('./output/neuralprophet_202110_DEXCAUS_nlags_36', 'Dairy products and eggs'): {'2015-07-01': r2_score   -13.605\n",
      "mae          4.824\n",
      "mape         0.035\n",
      "mse         24.585\n",
      "rmse         4.958\n",
      "dtype: float64}, ('./output/neuralprophet_202110_DEXCAUS_nlags_36', 'Fish, seafood and other marine products'): {'2015-07-01': r2_score    -8.306\n",
      "mae          7.749\n",
      "mape         0.060\n",
      "mse         66.916\n",
      "rmse         8.180\n",
      "dtype: float64}, ('./output/neuralprophet_202110_DEXCAUS_nlags_36', 'Food purchased from restaurants'): {'2015-07-01': r2_score   -0.955\n",
      "mae         1.911\n",
      "mape        0.013\n",
      "mse         4.441\n",
      "rmse        2.107\n",
      "dtype: float64}, ('./output/neuralprophet_202110_DEXCAUS_nlags_36', 'Food'): {'2015-07-01': r2_score   -12.443\n",
      "mae          5.611\n",
      "mape         0.039\n",
      "mse         34.223\n",
      "rmse         5.850\n",
      "dtype: float64}, ('./output/neuralprophet_202110_DEXCAUS_nlags_36', 'Fruit, fruit preparations and nuts'): {'2015-07-01': r2_score     -7.234\n",
      "mae          13.582\n",
      "mape          0.099\n",
      "mse         210.081\n",
      "rmse         14.494\n",
      "dtype: float64}, ('./output/neuralprophet_202110_DEXCAUS_nlags_36', 'Meat'): {'2015-07-01': r2_score    -95.052\n",
      "mae          14.399\n",
      "mape          0.091\n",
      "mse         218.026\n",
      "rmse         14.766\n",
      "dtype: float64}, ('./output/neuralprophet_202110_DEXCAUS_nlags_36', 'Other food products and non-alcoholic beverages'): {'2015-07-01': r2_score   -11.517\n",
      "mae          3.484\n",
      "mape         0.026\n",
      "mse         17.934\n",
      "rmse         4.235\n",
      "dtype: float64}, ('./output/neuralprophet_202110_DEXCAUS_nlags_36', 'Vegetables and vegetable preparations'): {'2015-07-01': r2_score     -1.521\n",
      "mae          12.588\n",
      "mape          0.092\n",
      "mse         198.463\n",
      "rmse         14.088\n",
      "dtype: float64}, ('./output/neuralprophet_202110_DEXCAUS_nlags_36', 'DEXCAUS'): {'2015-07-01': r2_score   -121.536\n",
      "mae           0.289\n",
      "mape          0.218\n",
      "mse           0.085\n",
      "rmse          0.291\n",
      "dtype: float64}, ('./output/neuralprophet_202110_DEXCAUS_nlags_36', 'DCOILWTICO'): {'2015-07-01': r2_score    -119.478\n",
      "mae           64.258\n",
      "mape           1.528\n",
      "mse         4305.505\n",
      "rmse          65.616\n",
      "dtype: float64}, ('./output/neuralprophet_202110_DEXCAUS_nlags_36', 'WILL5000IND'): {'2015-07-01': r2_score    -1.753\n",
      "mae          7.811\n",
      "mape         0.085\n",
      "mse         70.746\n",
      "rmse         8.411\n",
      "dtype: float64}, ('./output/neuralprophet_202110_DEXCAUS_nlags_36', 'VXOCLS'): {'2015-07-01': r2_score     0.436\n",
      "mae          2.897\n",
      "mape         0.160\n",
      "mse         14.134\n",
      "rmse         3.760\n",
      "dtype: float64}, ('./output/neuralprophet_202110_DEXCAUS_nlags_36', 'CUSR0000SAF112'): {'2015-07-01': r2_score    -17.715\n",
      "mae          26.344\n",
      "mape          0.106\n",
      "mse         790.781\n",
      "rmse         28.121\n",
      "dtype: float64}}\n"
     ]
    },
    {
     "name": "stderr",
     "output_type": "stream",
     "text": [
      "INFO - (NP.utils_torch.lr_range_test) - lr-range-test results: steep: 1.01E-02, min: 8.74E-01\n"
     ]
    },
    {
     "data": {
      "application/vnd.jupyter.widget-view+json": {
       "model_id": "917ec4a66b1b4d54b62785a3c6bcde7f",
       "version_major": 2,
       "version_minor": 0
      },
      "text/plain": [
       "  0%|          | 0/224 [00:00<?, ?it/s]"
      ]
     },
     "metadata": {},
     "output_type": "display_data"
    },
    {
     "name": "stderr",
     "output_type": "stream",
     "text": [
      "INFO - (NP.utils_torch.lr_range_test) - lr-range-test results: steep: 1.01E-02, min: 8.74E-01\n"
     ]
    },
    {
     "data": {
      "application/vnd.jupyter.widget-view+json": {
       "model_id": "2e70b2bfd5354328b7573490e5cfe3da",
       "version_major": 2,
       "version_minor": 0
      },
      "text/plain": [
       "  0%|          | 0/224 [00:00<?, ?it/s]"
      ]
     },
     "metadata": {},
     "output_type": "display_data"
    },
    {
     "name": "stderr",
     "output_type": "stream",
     "text": [
      "INFO - (NP.utils_torch.lr_range_test) - lr-range-test results: steep: 1.01E-02, min: 1.16E+00\n",
      "INFO - (NP.forecaster._init_train_loader) - lr-range-test selected learning rate: 1.01E-02\n",
      "Epoch[233/233]: 100%|██████████| 233/233 [00:13<00:00, 17.78it/s, SmoothL1Loss=0.00163, MAE=8.38, RMSE=10.5, RegLoss=0]\n",
      "INFO - (NP.utils.set_auto_seasonalities) - Disabling weekly seasonality. Run NeuralProphet with weekly_seasonality=True to override this.\n",
      "INFO - (NP.utils.set_auto_seasonalities) - Disabling daily seasonality. Run NeuralProphet with daily_seasonality=True to override this.\n",
      "INFO - (NP.config.set_auto_batch_epoch) - Auto-set batch_size to 16\n",
      "INFO - (NP.config.set_auto_batch_epoch) - Auto-set epochs to 233\n"
     ]
    },
    {
     "data": {
      "application/vnd.jupyter.widget-view+json": {
       "model_id": "32d5ecdd844e4a9da382d10d1e9197bf",
       "version_major": 2,
       "version_minor": 0
      },
      "text/plain": [
       "  0%|          | 0/224 [00:00<?, ?it/s]"
      ]
     },
     "metadata": {},
     "output_type": "display_data"
    },
    {
     "name": "stdout",
     "output_type": "stream",
     "text": [
      "this is all yhats  [298.58404541015625, 288.6665954589844, 306.4602355957031, 302.0651550292969, 312.468994140625, 296.14666748046875, 307.439453125, 309.8572082519531, 318.11474609375, 321.66796875, 312.4366455078125, 320.0805358886719, 320.5518798828125, 311.1656188964844, 313.0761413574219, 323.4097900390625, 329.0830993652344, 322.8802490234375]\n",
      "this is all_valid_metrics {('./output/neuralprophet_202110_DEXCAUS_nlags_36', 'Bakery and cereal products (excluding baby food)'): {'2015-07-01': r2_score    -1.293\n",
      "mae          2.431\n",
      "mape         0.016\n",
      "mse         13.253\n",
      "rmse         3.640\n",
      "dtype: float64}, ('./output/neuralprophet_202110_DEXCAUS_nlags_36', 'Dairy products and eggs'): {'2015-07-01': r2_score   -13.605\n",
      "mae          4.824\n",
      "mape         0.035\n",
      "mse         24.585\n",
      "rmse         4.958\n",
      "dtype: float64}, ('./output/neuralprophet_202110_DEXCAUS_nlags_36', 'Fish, seafood and other marine products'): {'2015-07-01': r2_score    -8.306\n",
      "mae          7.749\n",
      "mape         0.060\n",
      "mse         66.916\n",
      "rmse         8.180\n",
      "dtype: float64}, ('./output/neuralprophet_202110_DEXCAUS_nlags_36', 'Food purchased from restaurants'): {'2015-07-01': r2_score   -0.955\n",
      "mae         1.911\n",
      "mape        0.013\n",
      "mse         4.441\n",
      "rmse        2.107\n",
      "dtype: float64}, ('./output/neuralprophet_202110_DEXCAUS_nlags_36', 'Food'): {'2015-07-01': r2_score   -12.443\n",
      "mae          5.611\n",
      "mape         0.039\n",
      "mse         34.223\n",
      "rmse         5.850\n",
      "dtype: float64}, ('./output/neuralprophet_202110_DEXCAUS_nlags_36', 'Fruit, fruit preparations and nuts'): {'2015-07-01': r2_score     -7.234\n",
      "mae          13.582\n",
      "mape          0.099\n",
      "mse         210.081\n",
      "rmse         14.494\n",
      "dtype: float64}, ('./output/neuralprophet_202110_DEXCAUS_nlags_36', 'Meat'): {'2015-07-01': r2_score    -95.052\n",
      "mae          14.399\n",
      "mape          0.091\n",
      "mse         218.026\n",
      "rmse         14.766\n",
      "dtype: float64}, ('./output/neuralprophet_202110_DEXCAUS_nlags_36', 'Other food products and non-alcoholic beverages'): {'2015-07-01': r2_score   -11.517\n",
      "mae          3.484\n",
      "mape         0.026\n",
      "mse         17.934\n",
      "rmse         4.235\n",
      "dtype: float64}, ('./output/neuralprophet_202110_DEXCAUS_nlags_36', 'Vegetables and vegetable preparations'): {'2015-07-01': r2_score     -1.521\n",
      "mae          12.588\n",
      "mape          0.092\n",
      "mse         198.463\n",
      "rmse         14.088\n",
      "dtype: float64}, ('./output/neuralprophet_202110_DEXCAUS_nlags_36', 'DEXCAUS'): {'2015-07-01': r2_score   -121.536\n",
      "mae           0.289\n",
      "mape          0.218\n",
      "mse           0.085\n",
      "rmse          0.291\n",
      "dtype: float64}, ('./output/neuralprophet_202110_DEXCAUS_nlags_36', 'DCOILWTICO'): {'2015-07-01': r2_score    -119.478\n",
      "mae           64.258\n",
      "mape           1.528\n",
      "mse         4305.505\n",
      "rmse          65.616\n",
      "dtype: float64}, ('./output/neuralprophet_202110_DEXCAUS_nlags_36', 'WILL5000IND'): {'2015-07-01': r2_score    -1.753\n",
      "mae          7.811\n",
      "mape         0.085\n",
      "mse         70.746\n",
      "rmse         8.411\n",
      "dtype: float64}, ('./output/neuralprophet_202110_DEXCAUS_nlags_36', 'VXOCLS'): {'2015-07-01': r2_score     0.436\n",
      "mae          2.897\n",
      "mape         0.160\n",
      "mse         14.134\n",
      "rmse         3.760\n",
      "dtype: float64}, ('./output/neuralprophet_202110_DEXCAUS_nlags_36', 'CUSR0000SAF112'): {'2015-07-01': r2_score    -17.715\n",
      "mae          26.344\n",
      "mape          0.106\n",
      "mse         790.781\n",
      "rmse         28.121\n",
      "dtype: float64}, ('./output/neuralprophet_202110_DEXCAUS_nlags_36', 'CUSR0000SAF113'): {'2015-07-01': r2_score    -29.210\n",
      "mae          17.501\n",
      "mape          0.059\n",
      "mse         416.210\n",
      "rmse         20.401\n",
      "dtype: float64}}\n"
     ]
    },
    {
     "name": "stderr",
     "output_type": "stream",
     "text": [
      "INFO - (NP.utils_torch.lr_range_test) - lr-range-test results: steep: 3.71E-02, min: 2.61E-01\n"
     ]
    },
    {
     "data": {
      "application/vnd.jupyter.widget-view+json": {
       "model_id": "78c2d28be88d4ba9b9f8483d26a5d54e",
       "version_major": 2,
       "version_minor": 0
      },
      "text/plain": [
       "  0%|          | 0/224 [00:00<?, ?it/s]"
      ]
     },
     "metadata": {},
     "output_type": "display_data"
    },
    {
     "name": "stderr",
     "output_type": "stream",
     "text": [
      "INFO - (NP.utils_torch.lr_range_test) - lr-range-test results: steep: 5.38E-02, min: 2.38E-01\n"
     ]
    },
    {
     "data": {
      "application/vnd.jupyter.widget-view+json": {
       "model_id": "9c0a5507950c4698a39c836384d7ec9b",
       "version_major": 2,
       "version_minor": 0
      },
      "text/plain": [
       "  0%|          | 0/224 [00:00<?, ?it/s]"
      ]
     },
     "metadata": {},
     "output_type": "display_data"
    },
    {
     "name": "stderr",
     "output_type": "stream",
     "text": [
      "INFO - (NP.utils_torch.lr_range_test) - lr-range-test results: steep: 3.38E-02, min: 2.38E-01\n",
      "INFO - (NP.forecaster._init_train_loader) - lr-range-test selected learning rate: 4.07E-02\n",
      "Epoch[233/233]: 100%|██████████| 233/233 [00:13<00:00, 16.79it/s, SmoothL1Loss=8.49e-5, MAE=1.28, RMSE=1.71, RegLoss=0]\n",
      "INFO - (NP.utils.set_auto_seasonalities) - Disabling weekly seasonality. Run NeuralProphet with weekly_seasonality=True to override this.\n",
      "INFO - (NP.utils.set_auto_seasonalities) - Disabling daily seasonality. Run NeuralProphet with daily_seasonality=True to override this.\n",
      "INFO - (NP.config.set_auto_batch_epoch) - Auto-set batch_size to 16\n",
      "INFO - (NP.config.set_auto_batch_epoch) - Auto-set epochs to 233\n"
     ]
    },
    {
     "data": {
      "application/vnd.jupyter.widget-view+json": {
       "model_id": "1700f7bd8f3942998fd228b4700d0ef2",
       "version_major": 2,
       "version_minor": 0
      },
      "text/plain": [
       "  0%|          | 0/224 [00:00<?, ?it/s]"
      ]
     },
     "metadata": {},
     "output_type": "display_data"
    },
    {
     "name": "stdout",
     "output_type": "stream",
     "text": [
      "this is all yhats  [246.57138061523438, 246.43154907226562, 244.03421020507812, 247.10671997070312, 245.83013916015625, 245.39913940429688, 245.73187255859375, 246.46627807617188, 247.82406616210938, 248.319091796875, 247.54031372070312, 249.04055786132812, 248.6063232421875, 249.4813232421875, 248.35357666015625, 249.53948974609375, 248.17660522460938, 249.1263427734375]\n",
      "this is all_valid_metrics {('./output/neuralprophet_202110_DEXCAUS_nlags_36', 'Bakery and cereal products (excluding baby food)'): {'2015-07-01': r2_score    -1.293\n",
      "mae          2.431\n",
      "mape         0.016\n",
      "mse         13.253\n",
      "rmse         3.640\n",
      "dtype: float64}, ('./output/neuralprophet_202110_DEXCAUS_nlags_36', 'Dairy products and eggs'): {'2015-07-01': r2_score   -13.605\n",
      "mae          4.824\n",
      "mape         0.035\n",
      "mse         24.585\n",
      "rmse         4.958\n",
      "dtype: float64}, ('./output/neuralprophet_202110_DEXCAUS_nlags_36', 'Fish, seafood and other marine products'): {'2015-07-01': r2_score    -8.306\n",
      "mae          7.749\n",
      "mape         0.060\n",
      "mse         66.916\n",
      "rmse         8.180\n",
      "dtype: float64}, ('./output/neuralprophet_202110_DEXCAUS_nlags_36', 'Food purchased from restaurants'): {'2015-07-01': r2_score   -0.955\n",
      "mae         1.911\n",
      "mape        0.013\n",
      "mse         4.441\n",
      "rmse        2.107\n",
      "dtype: float64}, ('./output/neuralprophet_202110_DEXCAUS_nlags_36', 'Food'): {'2015-07-01': r2_score   -12.443\n",
      "mae          5.611\n",
      "mape         0.039\n",
      "mse         34.223\n",
      "rmse         5.850\n",
      "dtype: float64}, ('./output/neuralprophet_202110_DEXCAUS_nlags_36', 'Fruit, fruit preparations and nuts'): {'2015-07-01': r2_score     -7.234\n",
      "mae          13.582\n",
      "mape          0.099\n",
      "mse         210.081\n",
      "rmse         14.494\n",
      "dtype: float64}, ('./output/neuralprophet_202110_DEXCAUS_nlags_36', 'Meat'): {'2015-07-01': r2_score    -95.052\n",
      "mae          14.399\n",
      "mape          0.091\n",
      "mse         218.026\n",
      "rmse         14.766\n",
      "dtype: float64}, ('./output/neuralprophet_202110_DEXCAUS_nlags_36', 'Other food products and non-alcoholic beverages'): {'2015-07-01': r2_score   -11.517\n",
      "mae          3.484\n",
      "mape         0.026\n",
      "mse         17.934\n",
      "rmse         4.235\n",
      "dtype: float64}, ('./output/neuralprophet_202110_DEXCAUS_nlags_36', 'Vegetables and vegetable preparations'): {'2015-07-01': r2_score     -1.521\n",
      "mae          12.588\n",
      "mape          0.092\n",
      "mse         198.463\n",
      "rmse         14.088\n",
      "dtype: float64}, ('./output/neuralprophet_202110_DEXCAUS_nlags_36', 'DEXCAUS'): {'2015-07-01': r2_score   -121.536\n",
      "mae           0.289\n",
      "mape          0.218\n",
      "mse           0.085\n",
      "rmse          0.291\n",
      "dtype: float64}, ('./output/neuralprophet_202110_DEXCAUS_nlags_36', 'DCOILWTICO'): {'2015-07-01': r2_score    -119.478\n",
      "mae           64.258\n",
      "mape           1.528\n",
      "mse         4305.505\n",
      "rmse          65.616\n",
      "dtype: float64}, ('./output/neuralprophet_202110_DEXCAUS_nlags_36', 'WILL5000IND'): {'2015-07-01': r2_score    -1.753\n",
      "mae          7.811\n",
      "mape         0.085\n",
      "mse         70.746\n",
      "rmse         8.411\n",
      "dtype: float64}, ('./output/neuralprophet_202110_DEXCAUS_nlags_36', 'VXOCLS'): {'2015-07-01': r2_score     0.436\n",
      "mae          2.897\n",
      "mape         0.160\n",
      "mse         14.134\n",
      "rmse         3.760\n",
      "dtype: float64}, ('./output/neuralprophet_202110_DEXCAUS_nlags_36', 'CUSR0000SAF112'): {'2015-07-01': r2_score    -17.715\n",
      "mae          26.344\n",
      "mape          0.106\n",
      "mse         790.781\n",
      "rmse         28.121\n",
      "dtype: float64}, ('./output/neuralprophet_202110_DEXCAUS_nlags_36', 'CUSR0000SAF113'): {'2015-07-01': r2_score    -29.210\n",
      "mae          17.501\n",
      "mape          0.059\n",
      "mse         416.210\n",
      "rmse         20.401\n",
      "dtype: float64}, ('./output/neuralprophet_202110_DEXCAUS_nlags_36', 'CPIFABSL'): {'2015-07-01': r2_score   -38.069\n",
      "mae          1.444\n",
      "mape         0.006\n",
      "mse          3.040\n",
      "rmse         1.744\n",
      "dtype: float64}}\n"
     ]
    },
    {
     "name": "stderr",
     "output_type": "stream",
     "text": [
      "INFO - (NP.utils_torch.lr_range_test) - lr-range-test results: steep: 9.21E-03, min: 4.56E-01\n"
     ]
    },
    {
     "data": {
      "application/vnd.jupyter.widget-view+json": {
       "model_id": "8816b471039d49f68d9d2ca3cd9f1e54",
       "version_major": 2,
       "version_minor": 0
      },
      "text/plain": [
       "  0%|          | 0/224 [00:00<?, ?it/s]"
      ]
     },
     "metadata": {},
     "output_type": "display_data"
    },
    {
     "name": "stderr",
     "output_type": "stream",
     "text": [
      "INFO - (NP.utils_torch.lr_range_test) - lr-range-test results: steep: 1.34E-02, min: 4.56E-01\n"
     ]
    },
    {
     "data": {
      "application/vnd.jupyter.widget-view+json": {
       "model_id": "47d3acf6822e48d0b01ca08841c0fe0c",
       "version_major": 2,
       "version_minor": 0
      },
      "text/plain": [
       "  0%|          | 0/224 [00:00<?, ?it/s]"
      ]
     },
     "metadata": {},
     "output_type": "display_data"
    },
    {
     "name": "stderr",
     "output_type": "stream",
     "text": [
      "INFO - (NP.utils_torch.lr_range_test) - lr-range-test results: steep: 4.90E-02, min: 5.01E-01\n",
      "INFO - (NP.forecaster._init_train_loader) - lr-range-test selected learning rate: 1.82E-02\n",
      "Epoch[233/233]: 100%|████████| 233/233 [00:11<00:00, 20.88it/s, SmoothL1Loss=0.00268, MAE=0.318, RMSE=0.406, RegLoss=0]\n",
      "INFO - (NP.utils.set_auto_seasonalities) - Disabling weekly seasonality. Run NeuralProphet with weekly_seasonality=True to override this.\n",
      "INFO - (NP.utils.set_auto_seasonalities) - Disabling daily seasonality. Run NeuralProphet with daily_seasonality=True to override this.\n",
      "INFO - (NP.config.set_auto_batch_epoch) - Auto-set batch_size to 16\n",
      "INFO - (NP.config.set_auto_batch_epoch) - Auto-set epochs to 233\n"
     ]
    },
    {
     "data": {
      "application/vnd.jupyter.widget-view+json": {
       "model_id": "2b1d2ca782114b2a9969fb47bc61e908",
       "version_major": 2,
       "version_minor": 0
      },
      "text/plain": [
       "  0%|          | 0/224 [00:00<?, ?it/s]"
      ]
     },
     "metadata": {},
     "output_type": "display_data"
    },
    {
     "name": "stdout",
     "output_type": "stream",
     "text": [
      "this is all yhats  [6.089420318603516, 6.149868965148926, 5.880225658416748, 5.7917399406433105, 5.962824821472168, 5.592323303222656, 5.350498676300049, 5.689286231994629, 5.407853603363037, 5.135086536407471, 5.153766632080078, 5.539028167724609, 5.452091217041016, 4.9671173095703125, 4.8538103103637695, 4.853787422180176, 4.773804664611816, 4.7372026443481445]\n",
      "this is all_valid_metrics {('./output/neuralprophet_202110_DEXCAUS_nlags_36', 'Bakery and cereal products (excluding baby food)'): {'2015-07-01': r2_score    -1.293\n",
      "mae          2.431\n",
      "mape         0.016\n",
      "mse         13.253\n",
      "rmse         3.640\n",
      "dtype: float64}, ('./output/neuralprophet_202110_DEXCAUS_nlags_36', 'Dairy products and eggs'): {'2015-07-01': r2_score   -13.605\n",
      "mae          4.824\n",
      "mape         0.035\n",
      "mse         24.585\n",
      "rmse         4.958\n",
      "dtype: float64}, ('./output/neuralprophet_202110_DEXCAUS_nlags_36', 'Fish, seafood and other marine products'): {'2015-07-01': r2_score    -8.306\n",
      "mae          7.749\n",
      "mape         0.060\n",
      "mse         66.916\n",
      "rmse         8.180\n",
      "dtype: float64}, ('./output/neuralprophet_202110_DEXCAUS_nlags_36', 'Food purchased from restaurants'): {'2015-07-01': r2_score   -0.955\n",
      "mae         1.911\n",
      "mape        0.013\n",
      "mse         4.441\n",
      "rmse        2.107\n",
      "dtype: float64}, ('./output/neuralprophet_202110_DEXCAUS_nlags_36', 'Food'): {'2015-07-01': r2_score   -12.443\n",
      "mae          5.611\n",
      "mape         0.039\n",
      "mse         34.223\n",
      "rmse         5.850\n",
      "dtype: float64}, ('./output/neuralprophet_202110_DEXCAUS_nlags_36', 'Fruit, fruit preparations and nuts'): {'2015-07-01': r2_score     -7.234\n",
      "mae          13.582\n",
      "mape          0.099\n",
      "mse         210.081\n",
      "rmse         14.494\n",
      "dtype: float64}, ('./output/neuralprophet_202110_DEXCAUS_nlags_36', 'Meat'): {'2015-07-01': r2_score    -95.052\n",
      "mae          14.399\n",
      "mape          0.091\n",
      "mse         218.026\n",
      "rmse         14.766\n",
      "dtype: float64}, ('./output/neuralprophet_202110_DEXCAUS_nlags_36', 'Other food products and non-alcoholic beverages'): {'2015-07-01': r2_score   -11.517\n",
      "mae          3.484\n",
      "mape         0.026\n",
      "mse         17.934\n",
      "rmse         4.235\n",
      "dtype: float64}, ('./output/neuralprophet_202110_DEXCAUS_nlags_36', 'Vegetables and vegetable preparations'): {'2015-07-01': r2_score     -1.521\n",
      "mae          12.588\n",
      "mape          0.092\n",
      "mse         198.463\n",
      "rmse         14.088\n",
      "dtype: float64}, ('./output/neuralprophet_202110_DEXCAUS_nlags_36', 'DEXCAUS'): {'2015-07-01': r2_score   -121.536\n",
      "mae           0.289\n",
      "mape          0.218\n",
      "mse           0.085\n",
      "rmse          0.291\n",
      "dtype: float64}, ('./output/neuralprophet_202110_DEXCAUS_nlags_36', 'DCOILWTICO'): {'2015-07-01': r2_score    -119.478\n",
      "mae           64.258\n",
      "mape           1.528\n",
      "mse         4305.505\n",
      "rmse          65.616\n",
      "dtype: float64}, ('./output/neuralprophet_202110_DEXCAUS_nlags_36', 'WILL5000IND'): {'2015-07-01': r2_score    -1.753\n",
      "mae          7.811\n",
      "mape         0.085\n",
      "mse         70.746\n",
      "rmse         8.411\n",
      "dtype: float64}, ('./output/neuralprophet_202110_DEXCAUS_nlags_36', 'VXOCLS'): {'2015-07-01': r2_score     0.436\n",
      "mae          2.897\n",
      "mape         0.160\n",
      "mse         14.134\n",
      "rmse         3.760\n",
      "dtype: float64}, ('./output/neuralprophet_202110_DEXCAUS_nlags_36', 'CUSR0000SAF112'): {'2015-07-01': r2_score    -17.715\n",
      "mae          26.344\n",
      "mape          0.106\n",
      "mse         790.781\n",
      "rmse         28.121\n",
      "dtype: float64}, ('./output/neuralprophet_202110_DEXCAUS_nlags_36', 'CUSR0000SAF113'): {'2015-07-01': r2_score    -29.210\n",
      "mae          17.501\n",
      "mape          0.059\n",
      "mse         416.210\n",
      "rmse         20.401\n",
      "dtype: float64}, ('./output/neuralprophet_202110_DEXCAUS_nlags_36', 'CPIFABSL'): {'2015-07-01': r2_score   -38.069\n",
      "mae          1.444\n",
      "mape         0.006\n",
      "mse          3.040\n",
      "rmse         1.744\n",
      "dtype: float64}, ('./output/neuralprophet_202110_DEXCAUS_nlags_36', 'UNRATE'): {'2015-07-01': r2_score   -23.720\n",
      "mae          0.508\n",
      "mape         0.102\n",
      "mse          0.381\n",
      "rmse         0.618\n",
      "dtype: float64}}\n"
     ]
    },
    {
     "name": "stderr",
     "output_type": "stream",
     "text": [
      "INFO - (NP.utils_torch.lr_range_test) - lr-range-test results: steep: 4.07E-02, min: 4.16E-01\n"
     ]
    },
    {
     "data": {
      "application/vnd.jupyter.widget-view+json": {
       "model_id": "da4dfb33029f400ba363add0e7ad14ad",
       "version_major": 2,
       "version_minor": 0
      },
      "text/plain": [
       "  0%|          | 0/224 [00:00<?, ?it/s]"
      ]
     },
     "metadata": {},
     "output_type": "display_data"
    },
    {
     "name": "stderr",
     "output_type": "stream",
     "text": [
      "INFO - (NP.utils_torch.lr_range_test) - lr-range-test results: steep: 4.47E-02, min: 4.16E-01\n"
     ]
    },
    {
     "data": {
      "application/vnd.jupyter.widget-view+json": {
       "model_id": "9a9a4110f4ba4aebb8ee2067fa408eca",
       "version_major": 2,
       "version_minor": 0
      },
      "text/plain": [
       "  0%|          | 0/224 [00:00<?, ?it/s]"
      ]
     },
     "metadata": {},
     "output_type": "display_data"
    },
    {
     "name": "stderr",
     "output_type": "stream",
     "text": [
      "INFO - (NP.utils_torch.lr_range_test) - lr-range-test results: steep: 4.90E-02, min: 4.56E-01\n",
      "INFO - (NP.forecaster._init_train_loader) - lr-range-test selected learning rate: 4.47E-02\n",
      "Epoch[233/233]: 100%|████████| 233/233 [00:11<00:00, 20.80it/s, SmoothL1Loss=0.00176, MAE=0.382, RMSE=0.482, RegLoss=0]\n",
      "INFO - (NP.utils.set_auto_seasonalities) - Disabling weekly seasonality. Run NeuralProphet with weekly_seasonality=True to override this.\n",
      "INFO - (NP.utils.set_auto_seasonalities) - Disabling daily seasonality. Run NeuralProphet with daily_seasonality=True to override this.\n",
      "INFO - (NP.config.set_auto_batch_epoch) - Auto-set batch_size to 16\n",
      "INFO - (NP.config.set_auto_batch_epoch) - Auto-set epochs to 233\n"
     ]
    },
    {
     "data": {
      "application/vnd.jupyter.widget-view+json": {
       "model_id": "b355d0ccee184e87a2f75b419cb10c55",
       "version_major": 2,
       "version_minor": 0
      },
      "text/plain": [
       "  0%|          | 0/224 [00:00<?, ?it/s]"
      ]
     },
     "metadata": {},
     "output_type": "display_data"
    },
    {
     "name": "stdout",
     "output_type": "stream",
     "text": [
      "this is all yhats  [-1.0763624906539917, -0.9853180050849915, -1.1938782930374146, -0.8484535217285156, -1.09642493724823, -1.092315435409546, -1.1993272304534912, -0.8585715293884277, -1.1425455808639526, -0.949192464351654, -1.010652780532837, -0.7753408551216125, -0.760094940662384, -1.0573550462722778, -1.042717456817627, -1.1939774751663208, -1.3246558904647827, -1.2086416482925415]\n",
      "this is all_valid_metrics {('./output/neuralprophet_202110_DEXCAUS_nlags_36', 'Bakery and cereal products (excluding baby food)'): {'2015-07-01': r2_score    -1.293\n",
      "mae          2.431\n",
      "mape         0.016\n",
      "mse         13.253\n",
      "rmse         3.640\n",
      "dtype: float64}, ('./output/neuralprophet_202110_DEXCAUS_nlags_36', 'Dairy products and eggs'): {'2015-07-01': r2_score   -13.605\n",
      "mae          4.824\n",
      "mape         0.035\n",
      "mse         24.585\n",
      "rmse         4.958\n",
      "dtype: float64}, ('./output/neuralprophet_202110_DEXCAUS_nlags_36', 'Fish, seafood and other marine products'): {'2015-07-01': r2_score    -8.306\n",
      "mae          7.749\n",
      "mape         0.060\n",
      "mse         66.916\n",
      "rmse         8.180\n",
      "dtype: float64}, ('./output/neuralprophet_202110_DEXCAUS_nlags_36', 'Food purchased from restaurants'): {'2015-07-01': r2_score   -0.955\n",
      "mae         1.911\n",
      "mape        0.013\n",
      "mse         4.441\n",
      "rmse        2.107\n",
      "dtype: float64}, ('./output/neuralprophet_202110_DEXCAUS_nlags_36', 'Food'): {'2015-07-01': r2_score   -12.443\n",
      "mae          5.611\n",
      "mape         0.039\n",
      "mse         34.223\n",
      "rmse         5.850\n",
      "dtype: float64}, ('./output/neuralprophet_202110_DEXCAUS_nlags_36', 'Fruit, fruit preparations and nuts'): {'2015-07-01': r2_score     -7.234\n",
      "mae          13.582\n",
      "mape          0.099\n",
      "mse         210.081\n",
      "rmse         14.494\n",
      "dtype: float64}, ('./output/neuralprophet_202110_DEXCAUS_nlags_36', 'Meat'): {'2015-07-01': r2_score    -95.052\n",
      "mae          14.399\n",
      "mape          0.091\n",
      "mse         218.026\n",
      "rmse         14.766\n",
      "dtype: float64}, ('./output/neuralprophet_202110_DEXCAUS_nlags_36', 'Other food products and non-alcoholic beverages'): {'2015-07-01': r2_score   -11.517\n",
      "mae          3.484\n",
      "mape         0.026\n",
      "mse         17.934\n",
      "rmse         4.235\n",
      "dtype: float64}, ('./output/neuralprophet_202110_DEXCAUS_nlags_36', 'Vegetables and vegetable preparations'): {'2015-07-01': r2_score     -1.521\n",
      "mae          12.588\n",
      "mape          0.092\n",
      "mse         198.463\n",
      "rmse         14.088\n",
      "dtype: float64}, ('./output/neuralprophet_202110_DEXCAUS_nlags_36', 'DEXCAUS'): {'2015-07-01': r2_score   -121.536\n",
      "mae           0.289\n",
      "mape          0.218\n",
      "mse           0.085\n",
      "rmse          0.291\n",
      "dtype: float64}, ('./output/neuralprophet_202110_DEXCAUS_nlags_36', 'DCOILWTICO'): {'2015-07-01': r2_score    -119.478\n",
      "mae           64.258\n",
      "mape           1.528\n",
      "mse         4305.505\n",
      "rmse          65.616\n",
      "dtype: float64}, ('./output/neuralprophet_202110_DEXCAUS_nlags_36', 'WILL5000IND'): {'2015-07-01': r2_score    -1.753\n",
      "mae          7.811\n",
      "mape         0.085\n",
      "mse         70.746\n",
      "rmse         8.411\n",
      "dtype: float64}, ('./output/neuralprophet_202110_DEXCAUS_nlags_36', 'VXOCLS'): {'2015-07-01': r2_score     0.436\n",
      "mae          2.897\n",
      "mape         0.160\n",
      "mse         14.134\n",
      "rmse         3.760\n",
      "dtype: float64}, ('./output/neuralprophet_202110_DEXCAUS_nlags_36', 'CUSR0000SAF112'): {'2015-07-01': r2_score    -17.715\n",
      "mae          26.344\n",
      "mape          0.106\n",
      "mse         790.781\n",
      "rmse         28.121\n",
      "dtype: float64}, ('./output/neuralprophet_202110_DEXCAUS_nlags_36', 'CUSR0000SAF113'): {'2015-07-01': r2_score    -29.210\n",
      "mae          17.501\n",
      "mape          0.059\n",
      "mse         416.210\n",
      "rmse         20.401\n",
      "dtype: float64}, ('./output/neuralprophet_202110_DEXCAUS_nlags_36', 'CPIFABSL'): {'2015-07-01': r2_score   -38.069\n",
      "mae          1.444\n",
      "mape         0.006\n",
      "mse          3.040\n",
      "rmse         1.744\n",
      "dtype: float64}, ('./output/neuralprophet_202110_DEXCAUS_nlags_36', 'UNRATE'): {'2015-07-01': r2_score   -23.720\n",
      "mae          0.508\n",
      "mape         0.102\n",
      "mse          0.381\n",
      "rmse         0.618\n",
      "dtype: float64}, ('./output/neuralprophet_202110_DEXCAUS_nlags_36', 'FEDFUNDS'): {'2015-07-01': r2_score   -101.763\n",
      "mae           1.387\n",
      "mape          4.875\n",
      "mse           1.978\n",
      "rmse          1.406\n",
      "dtype: float64}}\n"
     ]
    },
    {
     "name": "stderr",
     "output_type": "stream",
     "text": [
      "INFO - (NP.utils_torch.lr_range_test) - lr-range-test results: steep: 1.98E-01, min: 5.49E-01\n"
     ]
    },
    {
     "data": {
      "application/vnd.jupyter.widget-view+json": {
       "model_id": "69f180b23dda48aab71825cd8eaf60ed",
       "version_major": 2,
       "version_minor": 0
      },
      "text/plain": [
       "  0%|          | 0/224 [00:00<?, ?it/s]"
      ]
     },
     "metadata": {},
     "output_type": "display_data"
    },
    {
     "name": "stderr",
     "output_type": "stream",
     "text": [
      "INFO - (NP.utils_torch.lr_range_test) - lr-range-test results: steep: 2.61E-01, min: 5.49E-01\n"
     ]
    },
    {
     "data": {
      "application/vnd.jupyter.widget-view+json": {
       "model_id": "61a082a810d94d82a9a797b69f89522d",
       "version_major": 2,
       "version_minor": 0
      },
      "text/plain": [
       "  0%|          | 0/224 [00:00<?, ?it/s]"
      ]
     },
     "metadata": {},
     "output_type": "display_data"
    },
    {
     "name": "stderr",
     "output_type": "stream",
     "text": [
      "INFO - (NP.utils_torch.lr_range_test) - lr-range-test results: steep: 2.87E-01, min: 6.03E-01\n",
      "INFO - (NP.forecaster._init_train_loader) - lr-range-test selected learning rate: 2.46E-01\n",
      "Epoch[233/233]: 100%|███████| 233/233 [00:11<00:00, 19.53it/s, SmoothL1Loss=0.000803, MAE=0.273, RMSE=0.352, RegLoss=0]\n",
      "INFO - (NP.utils.set_auto_seasonalities) - Disabling weekly seasonality. Run NeuralProphet with weekly_seasonality=True to override this.\n",
      "INFO - (NP.utils.set_auto_seasonalities) - Disabling daily seasonality. Run NeuralProphet with daily_seasonality=True to override this.\n",
      "INFO - (NP.config.set_auto_batch_epoch) - Auto-set batch_size to 16\n",
      "INFO - (NP.config.set_auto_batch_epoch) - Auto-set epochs to 233\n"
     ]
    },
    {
     "data": {
      "application/vnd.jupyter.widget-view+json": {
       "model_id": "f99e6f8237a249fe93d641690504bc44",
       "version_major": 2,
       "version_minor": 0
      },
      "text/plain": [
       "  0%|          | 0/224 [00:00<?, ?it/s]"
      ]
     },
     "metadata": {},
     "output_type": "display_data"
    },
    {
     "name": "stdout",
     "output_type": "stream",
     "text": [
      "this is all yhats  [2.128580093383789, 1.934227705001831, 2.041378974914551, 1.7888216972351074, 1.9196845293045044, 1.9327934980392456, 2.3344106674194336, 2.310969829559326, 2.553529739379883, 2.581897497177124, 2.5067384243011475, 2.324789524078369, 2.406304359436035, 2.129624128341675, 1.9617576599121094, 2.016514301300049, 2.045651435852051, 1.981860637664795]\n",
      "this is all_valid_metrics {('./output/neuralprophet_202110_DEXCAUS_nlags_36', 'Bakery and cereal products (excluding baby food)'): {'2015-07-01': r2_score    -1.293\n",
      "mae          2.431\n",
      "mape         0.016\n",
      "mse         13.253\n",
      "rmse         3.640\n",
      "dtype: float64}, ('./output/neuralprophet_202110_DEXCAUS_nlags_36', 'Dairy products and eggs'): {'2015-07-01': r2_score   -13.605\n",
      "mae          4.824\n",
      "mape         0.035\n",
      "mse         24.585\n",
      "rmse         4.958\n",
      "dtype: float64}, ('./output/neuralprophet_202110_DEXCAUS_nlags_36', 'Fish, seafood and other marine products'): {'2015-07-01': r2_score    -8.306\n",
      "mae          7.749\n",
      "mape         0.060\n",
      "mse         66.916\n",
      "rmse         8.180\n",
      "dtype: float64}, ('./output/neuralprophet_202110_DEXCAUS_nlags_36', 'Food purchased from restaurants'): {'2015-07-01': r2_score   -0.955\n",
      "mae         1.911\n",
      "mape        0.013\n",
      "mse         4.441\n",
      "rmse        2.107\n",
      "dtype: float64}, ('./output/neuralprophet_202110_DEXCAUS_nlags_36', 'Food'): {'2015-07-01': r2_score   -12.443\n",
      "mae          5.611\n",
      "mape         0.039\n",
      "mse         34.223\n",
      "rmse         5.850\n",
      "dtype: float64}, ('./output/neuralprophet_202110_DEXCAUS_nlags_36', 'Fruit, fruit preparations and nuts'): {'2015-07-01': r2_score     -7.234\n",
      "mae          13.582\n",
      "mape          0.099\n",
      "mse         210.081\n",
      "rmse         14.494\n",
      "dtype: float64}, ('./output/neuralprophet_202110_DEXCAUS_nlags_36', 'Meat'): {'2015-07-01': r2_score    -95.052\n",
      "mae          14.399\n",
      "mape          0.091\n",
      "mse         218.026\n",
      "rmse         14.766\n",
      "dtype: float64}, ('./output/neuralprophet_202110_DEXCAUS_nlags_36', 'Other food products and non-alcoholic beverages'): {'2015-07-01': r2_score   -11.517\n",
      "mae          3.484\n",
      "mape         0.026\n",
      "mse         17.934\n",
      "rmse         4.235\n",
      "dtype: float64}, ('./output/neuralprophet_202110_DEXCAUS_nlags_36', 'Vegetables and vegetable preparations'): {'2015-07-01': r2_score     -1.521\n",
      "mae          12.588\n",
      "mape          0.092\n",
      "mse         198.463\n",
      "rmse         14.088\n",
      "dtype: float64}, ('./output/neuralprophet_202110_DEXCAUS_nlags_36', 'DEXCAUS'): {'2015-07-01': r2_score   -121.536\n",
      "mae           0.289\n",
      "mape          0.218\n",
      "mse           0.085\n",
      "rmse          0.291\n",
      "dtype: float64}, ('./output/neuralprophet_202110_DEXCAUS_nlags_36', 'DCOILWTICO'): {'2015-07-01': r2_score    -119.478\n",
      "mae           64.258\n",
      "mape           1.528\n",
      "mse         4305.505\n",
      "rmse          65.616\n",
      "dtype: float64}, ('./output/neuralprophet_202110_DEXCAUS_nlags_36', 'WILL5000IND'): {'2015-07-01': r2_score    -1.753\n",
      "mae          7.811\n",
      "mape         0.085\n",
      "mse         70.746\n",
      "rmse         8.411\n",
      "dtype: float64}, ('./output/neuralprophet_202110_DEXCAUS_nlags_36', 'VXOCLS'): {'2015-07-01': r2_score     0.436\n",
      "mae          2.897\n",
      "mape         0.160\n",
      "mse         14.134\n",
      "rmse         3.760\n",
      "dtype: float64}, ('./output/neuralprophet_202110_DEXCAUS_nlags_36', 'CUSR0000SAF112'): {'2015-07-01': r2_score    -17.715\n",
      "mae          26.344\n",
      "mape          0.106\n",
      "mse         790.781\n",
      "rmse         28.121\n",
      "dtype: float64}, ('./output/neuralprophet_202110_DEXCAUS_nlags_36', 'CUSR0000SAF113'): {'2015-07-01': r2_score    -29.210\n",
      "mae          17.501\n",
      "mape          0.059\n",
      "mse         416.210\n",
      "rmse         20.401\n",
      "dtype: float64}, ('./output/neuralprophet_202110_DEXCAUS_nlags_36', 'CPIFABSL'): {'2015-07-01': r2_score   -38.069\n",
      "mae          1.444\n",
      "mape         0.006\n",
      "mse          3.040\n",
      "rmse         1.744\n",
      "dtype: float64}, ('./output/neuralprophet_202110_DEXCAUS_nlags_36', 'UNRATE'): {'2015-07-01': r2_score   -23.720\n",
      "mae          0.508\n",
      "mape         0.102\n",
      "mse          0.381\n",
      "rmse         0.618\n",
      "dtype: float64}, ('./output/neuralprophet_202110_DEXCAUS_nlags_36', 'FEDFUNDS'): {'2015-07-01': r2_score   -101.763\n",
      "mae           1.387\n",
      "mape          4.875\n",
      "mse           1.978\n",
      "rmse          1.406\n",
      "dtype: float64}, ('./output/neuralprophet_202110_DEXCAUS_nlags_36', 'IRLTLT01CAM156N'): {'2015-07-01': r2_score   -17.481\n",
      "mae          0.818\n",
      "mape         0.663\n",
      "mse          0.823\n",
      "rmse         0.907\n",
      "dtype: float64}}\n"
     ]
    },
    {
     "name": "stderr",
     "output_type": "stream",
     "text": [
      "INFO - (NP.utils_torch.lr_range_test) - lr-range-test results: steep: 7.11E-02, min: 5.01E-01\n"
     ]
    },
    {
     "data": {
      "application/vnd.jupyter.widget-view+json": {
       "model_id": "d86df5ae915442d38ebaa6e0c745b8fe",
       "version_major": 2,
       "version_minor": 0
      },
      "text/plain": [
       "  0%|          | 0/224 [00:00<?, ?it/s]"
      ]
     },
     "metadata": {},
     "output_type": "display_data"
    },
    {
     "name": "stderr",
     "output_type": "stream",
     "text": [
      "INFO - (NP.utils_torch.lr_range_test) - lr-range-test results: steep: 7.11E-02, min: 4.16E-01\n"
     ]
    },
    {
     "data": {
      "application/vnd.jupyter.widget-view+json": {
       "model_id": "c82450f92869450993cb21bbc9ffc987",
       "version_major": 2,
       "version_minor": 0
      },
      "text/plain": [
       "  0%|          | 0/224 [00:00<?, ?it/s]"
      ]
     },
     "metadata": {},
     "output_type": "display_data"
    },
    {
     "name": "stderr",
     "output_type": "stream",
     "text": [
      "INFO - (NP.utils_torch.lr_range_test) - lr-range-test results: steep: 1.03E-01, min: 5.01E-01\n",
      "INFO - (NP.forecaster._init_train_loader) - lr-range-test selected learning rate: 8.05E-02\n",
      "Epoch[233/233]: 100%|████████| 233/233 [00:11<00:00, 19.99it/s, SmoothL1Loss=0.00142, MAE=0.221, RMSE=0.285, RegLoss=0]\n",
      "INFO - (NP.utils.set_auto_seasonalities) - Disabling weekly seasonality. Run NeuralProphet with weekly_seasonality=True to override this.\n",
      "INFO - (NP.utils.set_auto_seasonalities) - Disabling daily seasonality. Run NeuralProphet with daily_seasonality=True to override this.\n",
      "INFO - (NP.config.set_auto_batch_epoch) - Auto-set batch_size to 16\n",
      "INFO - (NP.config.set_auto_batch_epoch) - Auto-set epochs to 233\n"
     ]
    },
    {
     "data": {
      "application/vnd.jupyter.widget-view+json": {
       "model_id": "6deb7cd29cf44347bf47aa37f62d2f22",
       "version_major": 2,
       "version_minor": 0
      },
      "text/plain": [
       "  0%|          | 0/224 [00:00<?, ?it/s]"
      ]
     },
     "metadata": {},
     "output_type": "display_data"
    },
    {
     "name": "stdout",
     "output_type": "stream",
     "text": [
      "this is all yhats  [6.45266056060791, 6.5383524894714355, 6.358785152435303, 6.332327365875244, 6.216287612915039, 6.235713481903076, 6.223850727081299, 6.162542819976807, 6.097642421722412, 6.007157325744629, 5.82424259185791, 5.692849636077881, 5.576961994171143, 5.564276218414307, 5.470572471618652, 5.4120683670043945, 5.260895252227783, 5.336763858795166]\n",
      "this is all_valid_metrics {('./output/neuralprophet_202110_DEXCAUS_nlags_36', 'Bakery and cereal products (excluding baby food)'): {'2015-07-01': r2_score    -1.293\n",
      "mae          2.431\n",
      "mape         0.016\n",
      "mse         13.253\n",
      "rmse         3.640\n",
      "dtype: float64}, ('./output/neuralprophet_202110_DEXCAUS_nlags_36', 'Dairy products and eggs'): {'2015-07-01': r2_score   -13.605\n",
      "mae          4.824\n",
      "mape         0.035\n",
      "mse         24.585\n",
      "rmse         4.958\n",
      "dtype: float64}, ('./output/neuralprophet_202110_DEXCAUS_nlags_36', 'Fish, seafood and other marine products'): {'2015-07-01': r2_score    -8.306\n",
      "mae          7.749\n",
      "mape         0.060\n",
      "mse         66.916\n",
      "rmse         8.180\n",
      "dtype: float64}, ('./output/neuralprophet_202110_DEXCAUS_nlags_36', 'Food purchased from restaurants'): {'2015-07-01': r2_score   -0.955\n",
      "mae         1.911\n",
      "mape        0.013\n",
      "mse         4.441\n",
      "rmse        2.107\n",
      "dtype: float64}, ('./output/neuralprophet_202110_DEXCAUS_nlags_36', 'Food'): {'2015-07-01': r2_score   -12.443\n",
      "mae          5.611\n",
      "mape         0.039\n",
      "mse         34.223\n",
      "rmse         5.850\n",
      "dtype: float64}, ('./output/neuralprophet_202110_DEXCAUS_nlags_36', 'Fruit, fruit preparations and nuts'): {'2015-07-01': r2_score     -7.234\n",
      "mae          13.582\n",
      "mape          0.099\n",
      "mse         210.081\n",
      "rmse         14.494\n",
      "dtype: float64}, ('./output/neuralprophet_202110_DEXCAUS_nlags_36', 'Meat'): {'2015-07-01': r2_score    -95.052\n",
      "mae          14.399\n",
      "mape          0.091\n",
      "mse         218.026\n",
      "rmse         14.766\n",
      "dtype: float64}, ('./output/neuralprophet_202110_DEXCAUS_nlags_36', 'Other food products and non-alcoholic beverages'): {'2015-07-01': r2_score   -11.517\n",
      "mae          3.484\n",
      "mape         0.026\n",
      "mse         17.934\n",
      "rmse         4.235\n",
      "dtype: float64}, ('./output/neuralprophet_202110_DEXCAUS_nlags_36', 'Vegetables and vegetable preparations'): {'2015-07-01': r2_score     -1.521\n",
      "mae          12.588\n",
      "mape          0.092\n",
      "mse         198.463\n",
      "rmse         14.088\n",
      "dtype: float64}, ('./output/neuralprophet_202110_DEXCAUS_nlags_36', 'DEXCAUS'): {'2015-07-01': r2_score   -121.536\n",
      "mae           0.289\n",
      "mape          0.218\n",
      "mse           0.085\n",
      "rmse          0.291\n",
      "dtype: float64}, ('./output/neuralprophet_202110_DEXCAUS_nlags_36', 'DCOILWTICO'): {'2015-07-01': r2_score    -119.478\n",
      "mae           64.258\n",
      "mape           1.528\n",
      "mse         4305.505\n",
      "rmse          65.616\n",
      "dtype: float64}, ('./output/neuralprophet_202110_DEXCAUS_nlags_36', 'WILL5000IND'): {'2015-07-01': r2_score    -1.753\n",
      "mae          7.811\n",
      "mape         0.085\n",
      "mse         70.746\n",
      "rmse         8.411\n",
      "dtype: float64}, ('./output/neuralprophet_202110_DEXCAUS_nlags_36', 'VXOCLS'): {'2015-07-01': r2_score     0.436\n",
      "mae          2.897\n",
      "mape         0.160\n",
      "mse         14.134\n",
      "rmse         3.760\n",
      "dtype: float64}, ('./output/neuralprophet_202110_DEXCAUS_nlags_36', 'CUSR0000SAF112'): {'2015-07-01': r2_score    -17.715\n",
      "mae          26.344\n",
      "mape          0.106\n",
      "mse         790.781\n",
      "rmse         28.121\n",
      "dtype: float64}, ('./output/neuralprophet_202110_DEXCAUS_nlags_36', 'CUSR0000SAF113'): {'2015-07-01': r2_score    -29.210\n",
      "mae          17.501\n",
      "mape          0.059\n",
      "mse         416.210\n",
      "rmse         20.401\n",
      "dtype: float64}, ('./output/neuralprophet_202110_DEXCAUS_nlags_36', 'CPIFABSL'): {'2015-07-01': r2_score   -38.069\n",
      "mae          1.444\n",
      "mape         0.006\n",
      "mse          3.040\n",
      "rmse         1.744\n",
      "dtype: float64}, ('./output/neuralprophet_202110_DEXCAUS_nlags_36', 'UNRATE'): {'2015-07-01': r2_score   -23.720\n",
      "mae          0.508\n",
      "mape         0.102\n",
      "mse          0.381\n",
      "rmse         0.618\n",
      "dtype: float64}, ('./output/neuralprophet_202110_DEXCAUS_nlags_36', 'FEDFUNDS'): {'2015-07-01': r2_score   -101.763\n",
      "mae           1.387\n",
      "mape          4.875\n",
      "mse           1.978\n",
      "rmse          1.406\n",
      "dtype: float64}, ('./output/neuralprophet_202110_DEXCAUS_nlags_36', 'IRLTLT01CAM156N'): {'2015-07-01': r2_score   -17.481\n",
      "mae          0.818\n",
      "mape         0.663\n",
      "mse          0.823\n",
      "rmse         0.907\n",
      "dtype: float64}, ('./output/neuralprophet_202110_DEXCAUS_nlags_36', 'LRUNTTTTCAM156S'): {'2015-07-01': r2_score   -58.989\n",
      "mae          1.063\n",
      "mape         0.152\n",
      "mse          1.231\n",
      "rmse         1.110\n",
      "dtype: float64}}\n"
     ]
    },
    {
     "name": "stderr",
     "output_type": "stream",
     "text": [
      "INFO - (NP.utils_torch.lr_range_test) - lr-range-test results: steep: 3.38E-02, min: 2.38E-01\n"
     ]
    },
    {
     "data": {
      "application/vnd.jupyter.widget-view+json": {
       "model_id": "bc5559b4fad24b149bf070ea3469c816",
       "version_major": 2,
       "version_minor": 0
      },
      "text/plain": [
       "  0%|          | 0/224 [00:00<?, ?it/s]"
      ]
     },
     "metadata": {},
     "output_type": "display_data"
    },
    {
     "name": "stderr",
     "output_type": "stream",
     "text": [
      "INFO - (NP.utils_torch.lr_range_test) - lr-range-test results: steep: 2.81E-02, min: 2.38E-01\n"
     ]
    },
    {
     "data": {
      "application/vnd.jupyter.widget-view+json": {
       "model_id": "e7b0b6a2d06b45768bfd41402f7a2fad",
       "version_major": 2,
       "version_minor": 0
      },
      "text/plain": [
       "  0%|          | 0/224 [00:00<?, ?it/s]"
      ]
     },
     "metadata": {},
     "output_type": "display_data"
    },
    {
     "name": "stderr",
     "output_type": "stream",
     "text": [
      "INFO - (NP.utils_torch.lr_range_test) - lr-range-test results: steep: 3.38E-02, min: 2.38E-01\n",
      "INFO - (NP.forecaster._init_train_loader) - lr-range-test selected learning rate: 3.18E-02\n",
      "Epoch[233/233]: 100%|███████| 233/233 [00:11<00:00, 20.89it/s, SmoothL1Loss=0.000191, MAE=0.699, RMSE=0.887, RegLoss=0]\n",
      "INFO - (NP.utils.set_auto_seasonalities) - Disabling weekly seasonality. Run NeuralProphet with weekly_seasonality=True to override this.\n",
      "INFO - (NP.utils.set_auto_seasonalities) - Disabling daily seasonality. Run NeuralProphet with daily_seasonality=True to override this.\n",
      "INFO - (NP.config.set_auto_batch_epoch) - Auto-set batch_size to 16\n",
      "INFO - (NP.config.set_auto_batch_epoch) - Auto-set epochs to 233\n"
     ]
    },
    {
     "data": {
      "application/vnd.jupyter.widget-view+json": {
       "model_id": "7dd7fae2d6594acea724629ed12a32c6",
       "version_major": 2,
       "version_minor": 0
      },
      "text/plain": [
       "  0%|          | 0/224 [00:00<?, ?it/s]"
      ]
     },
     "metadata": {},
     "output_type": "display_data"
    },
    {
     "name": "stdout",
     "output_type": "stream",
     "text": [
      "this is all yhats  [101.35720825195312, 100.00163269042969, 100.27809143066406, 100.77210235595703, 100.38401794433594, 98.72657775878906, 100.11485290527344, 101.31282043457031, 100.28092193603516, 101.73365783691406, 100.88233947753906, 101.26121520996094, 100.82490539550781, 100.97813415527344, 101.29291534423828, 101.0426025390625, 99.67350006103516, 101.19141387939453]\n",
      "this is all_valid_metrics {('./output/neuralprophet_202110_DEXCAUS_nlags_36', 'Bakery and cereal products (excluding baby food)'): {'2015-07-01': r2_score    -1.293\n",
      "mae          2.431\n",
      "mape         0.016\n",
      "mse         13.253\n",
      "rmse         3.640\n",
      "dtype: float64}, ('./output/neuralprophet_202110_DEXCAUS_nlags_36', 'Dairy products and eggs'): {'2015-07-01': r2_score   -13.605\n",
      "mae          4.824\n",
      "mape         0.035\n",
      "mse         24.585\n",
      "rmse         4.958\n",
      "dtype: float64}, ('./output/neuralprophet_202110_DEXCAUS_nlags_36', 'Fish, seafood and other marine products'): {'2015-07-01': r2_score    -8.306\n",
      "mae          7.749\n",
      "mape         0.060\n",
      "mse         66.916\n",
      "rmse         8.180\n",
      "dtype: float64}, ('./output/neuralprophet_202110_DEXCAUS_nlags_36', 'Food purchased from restaurants'): {'2015-07-01': r2_score   -0.955\n",
      "mae         1.911\n",
      "mape        0.013\n",
      "mse         4.441\n",
      "rmse        2.107\n",
      "dtype: float64}, ('./output/neuralprophet_202110_DEXCAUS_nlags_36', 'Food'): {'2015-07-01': r2_score   -12.443\n",
      "mae          5.611\n",
      "mape         0.039\n",
      "mse         34.223\n",
      "rmse         5.850\n",
      "dtype: float64}, ('./output/neuralprophet_202110_DEXCAUS_nlags_36', 'Fruit, fruit preparations and nuts'): {'2015-07-01': r2_score     -7.234\n",
      "mae          13.582\n",
      "mape          0.099\n",
      "mse         210.081\n",
      "rmse         14.494\n",
      "dtype: float64}, ('./output/neuralprophet_202110_DEXCAUS_nlags_36', 'Meat'): {'2015-07-01': r2_score    -95.052\n",
      "mae          14.399\n",
      "mape          0.091\n",
      "mse         218.026\n",
      "rmse         14.766\n",
      "dtype: float64}, ('./output/neuralprophet_202110_DEXCAUS_nlags_36', 'Other food products and non-alcoholic beverages'): {'2015-07-01': r2_score   -11.517\n",
      "mae          3.484\n",
      "mape         0.026\n",
      "mse         17.934\n",
      "rmse         4.235\n",
      "dtype: float64}, ('./output/neuralprophet_202110_DEXCAUS_nlags_36', 'Vegetables and vegetable preparations'): {'2015-07-01': r2_score     -1.521\n",
      "mae          12.588\n",
      "mape          0.092\n",
      "mse         198.463\n",
      "rmse         14.088\n",
      "dtype: float64}, ('./output/neuralprophet_202110_DEXCAUS_nlags_36', 'DEXCAUS'): {'2015-07-01': r2_score   -121.536\n",
      "mae           0.289\n",
      "mape          0.218\n",
      "mse           0.085\n",
      "rmse          0.291\n",
      "dtype: float64}, ('./output/neuralprophet_202110_DEXCAUS_nlags_36', 'DCOILWTICO'): {'2015-07-01': r2_score    -119.478\n",
      "mae           64.258\n",
      "mape           1.528\n",
      "mse         4305.505\n",
      "rmse          65.616\n",
      "dtype: float64}, ('./output/neuralprophet_202110_DEXCAUS_nlags_36', 'WILL5000IND'): {'2015-07-01': r2_score    -1.753\n",
      "mae          7.811\n",
      "mape         0.085\n",
      "mse         70.746\n",
      "rmse         8.411\n",
      "dtype: float64}, ('./output/neuralprophet_202110_DEXCAUS_nlags_36', 'VXOCLS'): {'2015-07-01': r2_score     0.436\n",
      "mae          2.897\n",
      "mape         0.160\n",
      "mse         14.134\n",
      "rmse         3.760\n",
      "dtype: float64}, ('./output/neuralprophet_202110_DEXCAUS_nlags_36', 'CUSR0000SAF112'): {'2015-07-01': r2_score    -17.715\n",
      "mae          26.344\n",
      "mape          0.106\n",
      "mse         790.781\n",
      "rmse         28.121\n",
      "dtype: float64}, ('./output/neuralprophet_202110_DEXCAUS_nlags_36', 'CUSR0000SAF113'): {'2015-07-01': r2_score    -29.210\n",
      "mae          17.501\n",
      "mape          0.059\n",
      "mse         416.210\n",
      "rmse         20.401\n",
      "dtype: float64}, ('./output/neuralprophet_202110_DEXCAUS_nlags_36', 'CPIFABSL'): {'2015-07-01': r2_score   -38.069\n",
      "mae          1.444\n",
      "mape         0.006\n",
      "mse          3.040\n",
      "rmse         1.744\n",
      "dtype: float64}, ('./output/neuralprophet_202110_DEXCAUS_nlags_36', 'UNRATE'): {'2015-07-01': r2_score   -23.720\n",
      "mae          0.508\n",
      "mape         0.102\n",
      "mse          0.381\n",
      "rmse         0.618\n",
      "dtype: float64}, ('./output/neuralprophet_202110_DEXCAUS_nlags_36', 'FEDFUNDS'): {'2015-07-01': r2_score   -101.763\n",
      "mae           1.387\n",
      "mape          4.875\n",
      "mse           1.978\n",
      "rmse          1.406\n",
      "dtype: float64}, ('./output/neuralprophet_202110_DEXCAUS_nlags_36', 'IRLTLT01CAM156N'): {'2015-07-01': r2_score   -17.481\n",
      "mae          0.818\n",
      "mape         0.663\n",
      "mse          0.823\n",
      "rmse         0.907\n",
      "dtype: float64}, ('./output/neuralprophet_202110_DEXCAUS_nlags_36', 'LRUNTTTTCAM156S'): {'2015-07-01': r2_score   -58.989\n",
      "mae          1.063\n",
      "mape         0.152\n",
      "mse          1.231\n",
      "rmse         1.110\n",
      "dtype: float64}, ('./output/neuralprophet_202110_DEXCAUS_nlags_36', 'CPALCY01CAM661N'): {'2015-07-01': r2_score   -0.689\n",
      "mae         0.461\n",
      "mape        0.005\n",
      "mse         0.309\n",
      "rmse        0.556\n",
      "dtype: float64}}\n"
     ]
    },
    {
     "name": "stderr",
     "output_type": "stream",
     "text": [
      "INFO - (NP.utils_torch.lr_range_test) - lr-range-test results: steep: 5.79E-03, min: 4.16E-01\n"
     ]
    },
    {
     "data": {
      "application/vnd.jupyter.widget-view+json": {
       "model_id": "a05b4dea731d4eef9e634ec70a28648d",
       "version_major": 2,
       "version_minor": 0
      },
      "text/plain": [
       "  0%|          | 0/224 [00:00<?, ?it/s]"
      ]
     },
     "metadata": {},
     "output_type": "display_data"
    },
    {
     "name": "stderr",
     "output_type": "stream",
     "text": [
      "INFO - (NP.utils_torch.lr_range_test) - lr-range-test results: steep: 5.79E-03, min: 5.01E-01\n"
     ]
    },
    {
     "data": {
      "application/vnd.jupyter.widget-view+json": {
       "model_id": "3901ca2f69b24578b9278e6633c686af",
       "version_major": 2,
       "version_minor": 0
      },
      "text/plain": [
       "  0%|          | 0/224 [00:00<?, ?it/s]"
      ]
     },
     "metadata": {},
     "output_type": "display_data"
    },
    {
     "name": "stderr",
     "output_type": "stream",
     "text": [
      "INFO - (NP.utils_torch.lr_range_test) - lr-range-test results: steep: 5.79E-03, min: 4.56E-01\n",
      "INFO - (NP.forecaster._init_train_loader) - lr-range-test selected learning rate: 5.79E-03\n",
      "Epoch[233/233]: 100%|█████████| 233/233 [00:11<00:00, 20.63it/s, SmoothL1Loss=0.0101, MAE=0.168, RMSE=0.237, RegLoss=0]\n",
      "INFO - (NP.utils.set_auto_seasonalities) - Disabling weekly seasonality. Run NeuralProphet with weekly_seasonality=True to override this.\n",
      "INFO - (NP.utils.set_auto_seasonalities) - Disabling daily seasonality. Run NeuralProphet with daily_seasonality=True to override this.\n",
      "INFO - (NP.config.set_auto_batch_epoch) - Auto-set batch_size to 16\n",
      "INFO - (NP.config.set_auto_batch_epoch) - Auto-set epochs to 233\n"
     ]
    },
    {
     "data": {
      "application/vnd.jupyter.widget-view+json": {
       "model_id": "a04610d0d79943558202071afbd6e42a",
       "version_major": 2,
       "version_minor": 0
      },
      "text/plain": [
       "  0%|          | 0/224 [00:00<?, ?it/s]"
      ]
     },
     "metadata": {},
     "output_type": "display_data"
    },
    {
     "name": "stdout",
     "output_type": "stream",
     "text": [
      "this is all yhats  [0.3912312984466553, 0.4700355529785156, 0.22775697708129883, 0.27579188346862793, -0.07181477546691895, 0.4335801601409912, 0.6378052234649658, 0.4616173505783081, 0.21247291564941406, 0.1265321969985962, 0.1313495635986328, 0.4150693416595459, 0.5237189531326294, 0.44606149196624756, 0.2684164047241211, 0.3404632806777954, 0.08129847049713135, 0.36738622188568115]\n",
      "this is all_valid_metrics {('./output/neuralprophet_202110_DEXCAUS_nlags_36', 'Bakery and cereal products (excluding baby food)'): {'2015-07-01': r2_score    -1.293\n",
      "mae          2.431\n",
      "mape         0.016\n",
      "mse         13.253\n",
      "rmse         3.640\n",
      "dtype: float64}, ('./output/neuralprophet_202110_DEXCAUS_nlags_36', 'Dairy products and eggs'): {'2015-07-01': r2_score   -13.605\n",
      "mae          4.824\n",
      "mape         0.035\n",
      "mse         24.585\n",
      "rmse         4.958\n",
      "dtype: float64}, ('./output/neuralprophet_202110_DEXCAUS_nlags_36', 'Fish, seafood and other marine products'): {'2015-07-01': r2_score    -8.306\n",
      "mae          7.749\n",
      "mape         0.060\n",
      "mse         66.916\n",
      "rmse         8.180\n",
      "dtype: float64}, ('./output/neuralprophet_202110_DEXCAUS_nlags_36', 'Food purchased from restaurants'): {'2015-07-01': r2_score   -0.955\n",
      "mae         1.911\n",
      "mape        0.013\n",
      "mse         4.441\n",
      "rmse        2.107\n",
      "dtype: float64}, ('./output/neuralprophet_202110_DEXCAUS_nlags_36', 'Food'): {'2015-07-01': r2_score   -12.443\n",
      "mae          5.611\n",
      "mape         0.039\n",
      "mse         34.223\n",
      "rmse         5.850\n",
      "dtype: float64}, ('./output/neuralprophet_202110_DEXCAUS_nlags_36', 'Fruit, fruit preparations and nuts'): {'2015-07-01': r2_score     -7.234\n",
      "mae          13.582\n",
      "mape          0.099\n",
      "mse         210.081\n",
      "rmse         14.494\n",
      "dtype: float64}, ('./output/neuralprophet_202110_DEXCAUS_nlags_36', 'Meat'): {'2015-07-01': r2_score    -95.052\n",
      "mae          14.399\n",
      "mape          0.091\n",
      "mse         218.026\n",
      "rmse         14.766\n",
      "dtype: float64}, ('./output/neuralprophet_202110_DEXCAUS_nlags_36', 'Other food products and non-alcoholic beverages'): {'2015-07-01': r2_score   -11.517\n",
      "mae          3.484\n",
      "mape         0.026\n",
      "mse         17.934\n",
      "rmse         4.235\n",
      "dtype: float64}, ('./output/neuralprophet_202110_DEXCAUS_nlags_36', 'Vegetables and vegetable preparations'): {'2015-07-01': r2_score     -1.521\n",
      "mae          12.588\n",
      "mape          0.092\n",
      "mse         198.463\n",
      "rmse         14.088\n",
      "dtype: float64}, ('./output/neuralprophet_202110_DEXCAUS_nlags_36', 'DEXCAUS'): {'2015-07-01': r2_score   -121.536\n",
      "mae           0.289\n",
      "mape          0.218\n",
      "mse           0.085\n",
      "rmse          0.291\n",
      "dtype: float64}, ('./output/neuralprophet_202110_DEXCAUS_nlags_36', 'DCOILWTICO'): {'2015-07-01': r2_score    -119.478\n",
      "mae           64.258\n",
      "mape           1.528\n",
      "mse         4305.505\n",
      "rmse          65.616\n",
      "dtype: float64}, ('./output/neuralprophet_202110_DEXCAUS_nlags_36', 'WILL5000IND'): {'2015-07-01': r2_score    -1.753\n",
      "mae          7.811\n",
      "mape         0.085\n",
      "mse         70.746\n",
      "rmse         8.411\n",
      "dtype: float64}, ('./output/neuralprophet_202110_DEXCAUS_nlags_36', 'VXOCLS'): {'2015-07-01': r2_score     0.436\n",
      "mae          2.897\n",
      "mape         0.160\n",
      "mse         14.134\n",
      "rmse         3.760\n",
      "dtype: float64}, ('./output/neuralprophet_202110_DEXCAUS_nlags_36', 'CUSR0000SAF112'): {'2015-07-01': r2_score    -17.715\n",
      "mae          26.344\n",
      "mape          0.106\n",
      "mse         790.781\n",
      "rmse         28.121\n",
      "dtype: float64}, ('./output/neuralprophet_202110_DEXCAUS_nlags_36', 'CUSR0000SAF113'): {'2015-07-01': r2_score    -29.210\n",
      "mae          17.501\n",
      "mape          0.059\n",
      "mse         416.210\n",
      "rmse         20.401\n",
      "dtype: float64}, ('./output/neuralprophet_202110_DEXCAUS_nlags_36', 'CPIFABSL'): {'2015-07-01': r2_score   -38.069\n",
      "mae          1.444\n",
      "mape         0.006\n",
      "mse          3.040\n",
      "rmse         1.744\n",
      "dtype: float64}, ('./output/neuralprophet_202110_DEXCAUS_nlags_36', 'UNRATE'): {'2015-07-01': r2_score   -23.720\n",
      "mae          0.508\n",
      "mape         0.102\n",
      "mse          0.381\n",
      "rmse         0.618\n",
      "dtype: float64}, ('./output/neuralprophet_202110_DEXCAUS_nlags_36', 'FEDFUNDS'): {'2015-07-01': r2_score   -101.763\n",
      "mae           1.387\n",
      "mape          4.875\n",
      "mse           1.978\n",
      "rmse          1.406\n",
      "dtype: float64}, ('./output/neuralprophet_202110_DEXCAUS_nlags_36', 'IRLTLT01CAM156N'): {'2015-07-01': r2_score   -17.481\n",
      "mae          0.818\n",
      "mape         0.663\n",
      "mse          0.823\n",
      "rmse         0.907\n",
      "dtype: float64}, ('./output/neuralprophet_202110_DEXCAUS_nlags_36', 'LRUNTTTTCAM156S'): {'2015-07-01': r2_score   -58.989\n",
      "mae          1.063\n",
      "mape         0.152\n",
      "mse          1.231\n",
      "rmse         1.110\n",
      "dtype: float64}, ('./output/neuralprophet_202110_DEXCAUS_nlags_36', 'CPALCY01CAM661N'): {'2015-07-01': r2_score   -0.689\n",
      "mae         0.461\n",
      "mape        0.005\n",
      "mse         0.309\n",
      "rmse        0.556\n",
      "dtype: float64}, ('./output/neuralprophet_202110_DEXCAUS_nlags_36', 'CPGRLE01CAM657N'): {'2015-07-01': r2_score    0.142\n",
      "mae         0.227\n",
      "mape        6.965\n",
      "mse         0.093\n",
      "rmse        0.304\n",
      "dtype: float64}}\n"
     ]
    },
    {
     "name": "stderr",
     "output_type": "stream",
     "text": [
      "INFO - (NP.utils_torch.lr_range_test) - lr-range-test results: steep: 2.81E-02, min: 2.17E-01\n"
     ]
    },
    {
     "data": {
      "application/vnd.jupyter.widget-view+json": {
       "model_id": "97ff3b5c825b4c59b753f73d9b49d60c",
       "version_major": 2,
       "version_minor": 0
      },
      "text/plain": [
       "  0%|          | 0/224 [00:00<?, ?it/s]"
      ]
     },
     "metadata": {},
     "output_type": "display_data"
    },
    {
     "name": "stderr",
     "output_type": "stream",
     "text": [
      "INFO - (NP.utils_torch.lr_range_test) - lr-range-test results: steep: 1.94E-02, min: 2.38E-01\n"
     ]
    },
    {
     "data": {
      "application/vnd.jupyter.widget-view+json": {
       "model_id": "12e831476e8e47e1b74acc915c8cc173",
       "version_major": 2,
       "version_minor": 0
      },
      "text/plain": [
       "  0%|          | 0/224 [00:00<?, ?it/s]"
      ]
     },
     "metadata": {},
     "output_type": "display_data"
    },
    {
     "name": "stderr",
     "output_type": "stream",
     "text": [
      "INFO - (NP.utils_torch.lr_range_test) - lr-range-test results: steep: 2.56E-02, min: 2.17E-01\n",
      "INFO - (NP.forecaster._init_train_loader) - lr-range-test selected learning rate: 2.41E-02\n",
      "Epoch[233/233]: 100%|██████████| 233/233 [00:11<00:00, 20.67it/s, SmoothL1Loss=0.00358, MAE=1.64, RMSE=2.13, RegLoss=0]\n",
      "INFO - (NP.utils.set_auto_seasonalities) - Disabling weekly seasonality. Run NeuralProphet with weekly_seasonality=True to override this.\n",
      "INFO - (NP.utils.set_auto_seasonalities) - Disabling daily seasonality. Run NeuralProphet with daily_seasonality=True to override this.\n",
      "INFO - (NP.config.set_auto_batch_epoch) - Auto-set batch_size to 16\n",
      "INFO - (NP.config.set_auto_batch_epoch) - Auto-set epochs to 233\n"
     ]
    },
    {
     "data": {
      "application/vnd.jupyter.widget-view+json": {
       "model_id": "a799798481f84170b4d61e2b06dd4dee",
       "version_major": 2,
       "version_minor": 0
      },
      "text/plain": [
       "  0%|          | 0/224 [00:00<?, ?it/s]"
      ]
     },
     "metadata": {},
     "output_type": "display_data"
    },
    {
     "name": "stdout",
     "output_type": "stream",
     "text": [
      "this is all yhats  [7.798233985900879, 7.698641777038574, 6.866362571716309, 7.17301082611084, 6.817749977111816, 6.481873512268066, 8.217707633972168, 7.805710792541504, 8.491856575012207, 8.634018898010254, 8.33956241607666, 8.659541130065918, 8.757100105285645, 8.43843936920166, 7.998980522155762, 8.311816215515137, 7.1817522048950195, 7.665125846862793]\n",
      "this is all_valid_metrics {('./output/neuralprophet_202110_DEXCAUS_nlags_36', 'Bakery and cereal products (excluding baby food)'): {'2015-07-01': r2_score    -1.293\n",
      "mae          2.431\n",
      "mape         0.016\n",
      "mse         13.253\n",
      "rmse         3.640\n",
      "dtype: float64}, ('./output/neuralprophet_202110_DEXCAUS_nlags_36', 'Dairy products and eggs'): {'2015-07-01': r2_score   -13.605\n",
      "mae          4.824\n",
      "mape         0.035\n",
      "mse         24.585\n",
      "rmse         4.958\n",
      "dtype: float64}, ('./output/neuralprophet_202110_DEXCAUS_nlags_36', 'Fish, seafood and other marine products'): {'2015-07-01': r2_score    -8.306\n",
      "mae          7.749\n",
      "mape         0.060\n",
      "mse         66.916\n",
      "rmse         8.180\n",
      "dtype: float64}, ('./output/neuralprophet_202110_DEXCAUS_nlags_36', 'Food purchased from restaurants'): {'2015-07-01': r2_score   -0.955\n",
      "mae         1.911\n",
      "mape        0.013\n",
      "mse         4.441\n",
      "rmse        2.107\n",
      "dtype: float64}, ('./output/neuralprophet_202110_DEXCAUS_nlags_36', 'Food'): {'2015-07-01': r2_score   -12.443\n",
      "mae          5.611\n",
      "mape         0.039\n",
      "mse         34.223\n",
      "rmse         5.850\n",
      "dtype: float64}, ('./output/neuralprophet_202110_DEXCAUS_nlags_36', 'Fruit, fruit preparations and nuts'): {'2015-07-01': r2_score     -7.234\n",
      "mae          13.582\n",
      "mape          0.099\n",
      "mse         210.081\n",
      "rmse         14.494\n",
      "dtype: float64}, ('./output/neuralprophet_202110_DEXCAUS_nlags_36', 'Meat'): {'2015-07-01': r2_score    -95.052\n",
      "mae          14.399\n",
      "mape          0.091\n",
      "mse         218.026\n",
      "rmse         14.766\n",
      "dtype: float64}, ('./output/neuralprophet_202110_DEXCAUS_nlags_36', 'Other food products and non-alcoholic beverages'): {'2015-07-01': r2_score   -11.517\n",
      "mae          3.484\n",
      "mape         0.026\n",
      "mse         17.934\n",
      "rmse         4.235\n",
      "dtype: float64}, ('./output/neuralprophet_202110_DEXCAUS_nlags_36', 'Vegetables and vegetable preparations'): {'2015-07-01': r2_score     -1.521\n",
      "mae          12.588\n",
      "mape          0.092\n",
      "mse         198.463\n",
      "rmse         14.088\n",
      "dtype: float64}, ('./output/neuralprophet_202110_DEXCAUS_nlags_36', 'DEXCAUS'): {'2015-07-01': r2_score   -121.536\n",
      "mae           0.289\n",
      "mape          0.218\n",
      "mse           0.085\n",
      "rmse          0.291\n",
      "dtype: float64}, ('./output/neuralprophet_202110_DEXCAUS_nlags_36', 'DCOILWTICO'): {'2015-07-01': r2_score    -119.478\n",
      "mae           64.258\n",
      "mape           1.528\n",
      "mse         4305.505\n",
      "rmse          65.616\n",
      "dtype: float64}, ('./output/neuralprophet_202110_DEXCAUS_nlags_36', 'WILL5000IND'): {'2015-07-01': r2_score    -1.753\n",
      "mae          7.811\n",
      "mape         0.085\n",
      "mse         70.746\n",
      "rmse         8.411\n",
      "dtype: float64}, ('./output/neuralprophet_202110_DEXCAUS_nlags_36', 'VXOCLS'): {'2015-07-01': r2_score     0.436\n",
      "mae          2.897\n",
      "mape         0.160\n",
      "mse         14.134\n",
      "rmse         3.760\n",
      "dtype: float64}, ('./output/neuralprophet_202110_DEXCAUS_nlags_36', 'CUSR0000SAF112'): {'2015-07-01': r2_score    -17.715\n",
      "mae          26.344\n",
      "mape          0.106\n",
      "mse         790.781\n",
      "rmse         28.121\n",
      "dtype: float64}, ('./output/neuralprophet_202110_DEXCAUS_nlags_36', 'CUSR0000SAF113'): {'2015-07-01': r2_score    -29.210\n",
      "mae          17.501\n",
      "mape          0.059\n",
      "mse         416.210\n",
      "rmse         20.401\n",
      "dtype: float64}, ('./output/neuralprophet_202110_DEXCAUS_nlags_36', 'CPIFABSL'): {'2015-07-01': r2_score   -38.069\n",
      "mae          1.444\n",
      "mape         0.006\n",
      "mse          3.040\n",
      "rmse         1.744\n",
      "dtype: float64}, ('./output/neuralprophet_202110_DEXCAUS_nlags_36', 'UNRATE'): {'2015-07-01': r2_score   -23.720\n",
      "mae          0.508\n",
      "mape         0.102\n",
      "mse          0.381\n",
      "rmse         0.618\n",
      "dtype: float64}, ('./output/neuralprophet_202110_DEXCAUS_nlags_36', 'FEDFUNDS'): {'2015-07-01': r2_score   -101.763\n",
      "mae           1.387\n",
      "mape          4.875\n",
      "mse           1.978\n",
      "rmse          1.406\n",
      "dtype: float64}, ('./output/neuralprophet_202110_DEXCAUS_nlags_36', 'IRLTLT01CAM156N'): {'2015-07-01': r2_score   -17.481\n",
      "mae          0.818\n",
      "mape         0.663\n",
      "mse          0.823\n",
      "rmse         0.907\n",
      "dtype: float64}, ('./output/neuralprophet_202110_DEXCAUS_nlags_36', 'LRUNTTTTCAM156S'): {'2015-07-01': r2_score   -58.989\n",
      "mae          1.063\n",
      "mape         0.152\n",
      "mse          1.231\n",
      "rmse         1.110\n",
      "dtype: float64}, ('./output/neuralprophet_202110_DEXCAUS_nlags_36', 'CPALCY01CAM661N'): {'2015-07-01': r2_score   -0.689\n",
      "mae         0.461\n",
      "mape        0.005\n",
      "mse         0.309\n",
      "rmse        0.556\n",
      "dtype: float64}, ('./output/neuralprophet_202110_DEXCAUS_nlags_36', 'CPGRLE01CAM657N'): {'2015-07-01': r2_score    0.142\n",
      "mae         0.227\n",
      "mape        6.965\n",
      "mse         0.093\n",
      "rmse        0.304\n",
      "dtype: float64}, ('./output/neuralprophet_202110_DEXCAUS_nlags_36', 'QCAR368BIS'): {'2015-07-01': r2_score     0.022\n",
      "mae          2.727\n",
      "mape         0.307\n",
      "mse         10.358\n",
      "rmse         3.218\n",
      "dtype: float64}}\n"
     ]
    },
    {
     "name": "stderr",
     "output_type": "stream",
     "text": [
      "INFO - (NP.utils_torch.lr_range_test) - lr-range-test results: steep: 4.47E-02, min: 2.87E-01\n"
     ]
    },
    {
     "data": {
      "application/vnd.jupyter.widget-view+json": {
       "model_id": "1e14c1c99aec41fba12fe42c17f8a6be",
       "version_major": 2,
       "version_minor": 0
      },
      "text/plain": [
       "  0%|          | 0/224 [00:00<?, ?it/s]"
      ]
     },
     "metadata": {},
     "output_type": "display_data"
    },
    {
     "name": "stderr",
     "output_type": "stream",
     "text": [
      "INFO - (NP.utils_torch.lr_range_test) - lr-range-test results: steep: 4.07E-02, min: 3.15E-01\n"
     ]
    },
    {
     "data": {
      "application/vnd.jupyter.widget-view+json": {
       "model_id": "3b23401634364efea01c9074dda4d55e",
       "version_major": 2,
       "version_minor": 0
      },
      "text/plain": [
       "  0%|          | 0/224 [00:00<?, ?it/s]"
      ]
     },
     "metadata": {},
     "output_type": "display_data"
    },
    {
     "name": "stderr",
     "output_type": "stream",
     "text": [
      "INFO - (NP.utils_torch.lr_range_test) - lr-range-test results: steep: 4.47E-02, min: 2.61E-01\n",
      "INFO - (NP.forecaster._init_train_loader) - lr-range-test selected learning rate: 4.33E-02\n",
      "Epoch[233/233]: 100%|███████████| 233/233 [00:11<00:00, 19.77it/s, SmoothL1Loss=0.000266, MAE=274, RMSE=352, RegLoss=0]\n",
      "INFO - (NP.utils.set_auto_seasonalities) - Disabling weekly seasonality. Run NeuralProphet with weekly_seasonality=True to override this.\n",
      "INFO - (NP.utils.set_auto_seasonalities) - Disabling daily seasonality. Run NeuralProphet with daily_seasonality=True to override this.\n",
      "INFO - (NP.config.set_auto_batch_epoch) - Auto-set batch_size to 16\n",
      "INFO - (NP.config.set_auto_batch_epoch) - Auto-set epochs to 233\n"
     ]
    },
    {
     "data": {
      "application/vnd.jupyter.widget-view+json": {
       "model_id": "ced697de463a4b0e82043ea0bd8f0ffb",
       "version_major": 2,
       "version_minor": 0
      },
      "text/plain": [
       "  0%|          | 0/224 [00:00<?, ?it/s]"
      ]
     },
     "metadata": {},
     "output_type": "display_data"
    },
    {
     "name": "stdout",
     "output_type": "stream",
     "text": [
      "this is all yhats  [41178.05859375, 42143.34375, 41309.35546875, 41510.3203125, 42000.0703125, 41788.05078125, 41954.5546875, 41521.3828125, 41865.546875, 42901.8359375, 42524.1796875, 41985.5078125, 42396.8828125, 42901.1640625, 42699.734375, 42010.5390625, 42824.2265625, 42878.875]\n",
      "this is all_valid_metrics {('./output/neuralprophet_202110_DEXCAUS_nlags_36', 'Bakery and cereal products (excluding baby food)'): {'2015-07-01': r2_score    -1.293\n",
      "mae          2.431\n",
      "mape         0.016\n",
      "mse         13.253\n",
      "rmse         3.640\n",
      "dtype: float64}, ('./output/neuralprophet_202110_DEXCAUS_nlags_36', 'Dairy products and eggs'): {'2015-07-01': r2_score   -13.605\n",
      "mae          4.824\n",
      "mape         0.035\n",
      "mse         24.585\n",
      "rmse         4.958\n",
      "dtype: float64}, ('./output/neuralprophet_202110_DEXCAUS_nlags_36', 'Fish, seafood and other marine products'): {'2015-07-01': r2_score    -8.306\n",
      "mae          7.749\n",
      "mape         0.060\n",
      "mse         66.916\n",
      "rmse         8.180\n",
      "dtype: float64}, ('./output/neuralprophet_202110_DEXCAUS_nlags_36', 'Food purchased from restaurants'): {'2015-07-01': r2_score   -0.955\n",
      "mae         1.911\n",
      "mape        0.013\n",
      "mse         4.441\n",
      "rmse        2.107\n",
      "dtype: float64}, ('./output/neuralprophet_202110_DEXCAUS_nlags_36', 'Food'): {'2015-07-01': r2_score   -12.443\n",
      "mae          5.611\n",
      "mape         0.039\n",
      "mse         34.223\n",
      "rmse         5.850\n",
      "dtype: float64}, ('./output/neuralprophet_202110_DEXCAUS_nlags_36', 'Fruit, fruit preparations and nuts'): {'2015-07-01': r2_score     -7.234\n",
      "mae          13.582\n",
      "mape          0.099\n",
      "mse         210.081\n",
      "rmse         14.494\n",
      "dtype: float64}, ('./output/neuralprophet_202110_DEXCAUS_nlags_36', 'Meat'): {'2015-07-01': r2_score    -95.052\n",
      "mae          14.399\n",
      "mape          0.091\n",
      "mse         218.026\n",
      "rmse         14.766\n",
      "dtype: float64}, ('./output/neuralprophet_202110_DEXCAUS_nlags_36', 'Other food products and non-alcoholic beverages'): {'2015-07-01': r2_score   -11.517\n",
      "mae          3.484\n",
      "mape         0.026\n",
      "mse         17.934\n",
      "rmse         4.235\n",
      "dtype: float64}, ('./output/neuralprophet_202110_DEXCAUS_nlags_36', 'Vegetables and vegetable preparations'): {'2015-07-01': r2_score     -1.521\n",
      "mae          12.588\n",
      "mape          0.092\n",
      "mse         198.463\n",
      "rmse         14.088\n",
      "dtype: float64}, ('./output/neuralprophet_202110_DEXCAUS_nlags_36', 'DEXCAUS'): {'2015-07-01': r2_score   -121.536\n",
      "mae           0.289\n",
      "mape          0.218\n",
      "mse           0.085\n",
      "rmse          0.291\n",
      "dtype: float64}, ('./output/neuralprophet_202110_DEXCAUS_nlags_36', 'DCOILWTICO'): {'2015-07-01': r2_score    -119.478\n",
      "mae           64.258\n",
      "mape           1.528\n",
      "mse         4305.505\n",
      "rmse          65.616\n",
      "dtype: float64}, ('./output/neuralprophet_202110_DEXCAUS_nlags_36', 'WILL5000IND'): {'2015-07-01': r2_score    -1.753\n",
      "mae          7.811\n",
      "mape         0.085\n",
      "mse         70.746\n",
      "rmse         8.411\n",
      "dtype: float64}, ('./output/neuralprophet_202110_DEXCAUS_nlags_36', 'VXOCLS'): {'2015-07-01': r2_score     0.436\n",
      "mae          2.897\n",
      "mape         0.160\n",
      "mse         14.134\n",
      "rmse         3.760\n",
      "dtype: float64}, ('./output/neuralprophet_202110_DEXCAUS_nlags_36', 'CUSR0000SAF112'): {'2015-07-01': r2_score    -17.715\n",
      "mae          26.344\n",
      "mape          0.106\n",
      "mse         790.781\n",
      "rmse         28.121\n",
      "dtype: float64}, ('./output/neuralprophet_202110_DEXCAUS_nlags_36', 'CUSR0000SAF113'): {'2015-07-01': r2_score    -29.210\n",
      "mae          17.501\n",
      "mape          0.059\n",
      "mse         416.210\n",
      "rmse         20.401\n",
      "dtype: float64}, ('./output/neuralprophet_202110_DEXCAUS_nlags_36', 'CPIFABSL'): {'2015-07-01': r2_score   -38.069\n",
      "mae          1.444\n",
      "mape         0.006\n",
      "mse          3.040\n",
      "rmse         1.744\n",
      "dtype: float64}, ('./output/neuralprophet_202110_DEXCAUS_nlags_36', 'UNRATE'): {'2015-07-01': r2_score   -23.720\n",
      "mae          0.508\n",
      "mape         0.102\n",
      "mse          0.381\n",
      "rmse         0.618\n",
      "dtype: float64}, ('./output/neuralprophet_202110_DEXCAUS_nlags_36', 'FEDFUNDS'): {'2015-07-01': r2_score   -101.763\n",
      "mae           1.387\n",
      "mape          4.875\n",
      "mse           1.978\n",
      "rmse          1.406\n",
      "dtype: float64}, ('./output/neuralprophet_202110_DEXCAUS_nlags_36', 'IRLTLT01CAM156N'): {'2015-07-01': r2_score   -17.481\n",
      "mae          0.818\n",
      "mape         0.663\n",
      "mse          0.823\n",
      "rmse         0.907\n",
      "dtype: float64}, ('./output/neuralprophet_202110_DEXCAUS_nlags_36', 'LRUNTTTTCAM156S'): {'2015-07-01': r2_score   -58.989\n",
      "mae          1.063\n",
      "mape         0.152\n",
      "mse          1.231\n",
      "rmse         1.110\n",
      "dtype: float64}, ('./output/neuralprophet_202110_DEXCAUS_nlags_36', 'CPALCY01CAM661N'): {'2015-07-01': r2_score   -0.689\n",
      "mae         0.461\n",
      "mape        0.005\n",
      "mse         0.309\n",
      "rmse        0.556\n",
      "dtype: float64}, ('./output/neuralprophet_202110_DEXCAUS_nlags_36', 'CPGRLE01CAM657N'): {'2015-07-01': r2_score    0.142\n",
      "mae         0.227\n",
      "mape        6.965\n",
      "mse         0.093\n",
      "rmse        0.304\n",
      "dtype: float64}, ('./output/neuralprophet_202110_DEXCAUS_nlags_36', 'QCAR368BIS'): {'2015-07-01': r2_score     0.022\n",
      "mae          2.727\n",
      "mape         0.307\n",
      "mse         10.358\n",
      "rmse         3.218\n",
      "dtype: float64}, ('./output/neuralprophet_202110_DEXCAUS_nlags_36', 'A229RX0'): {'2015-07-01': r2_score        -5.448\n",
      "mae            405.501\n",
      "mape             0.010\n",
      "mse         243817.674\n",
      "rmse           493.779\n",
      "dtype: float64}}\n"
     ]
    },
    {
     "name": "stderr",
     "output_type": "stream",
     "text": [
      "INFO - (NP.utils_torch.lr_range_test) - lr-range-test results: steep: 4.90E-02, min: 3.79E-01\n"
     ]
    },
    {
     "data": {
      "application/vnd.jupyter.widget-view+json": {
       "model_id": "323cd68c8cd64495b33d29303c3eab3f",
       "version_major": 2,
       "version_minor": 0
      },
      "text/plain": [
       "  0%|          | 0/224 [00:00<?, ?it/s]"
      ]
     },
     "metadata": {},
     "output_type": "display_data"
    },
    {
     "name": "stderr",
     "output_type": "stream",
     "text": [
      "INFO - (NP.utils_torch.lr_range_test) - lr-range-test results: steep: 5.38E-02, min: 3.45E-01\n"
     ]
    },
    {
     "data": {
      "application/vnd.jupyter.widget-view+json": {
       "model_id": "062158fc1830488db30e46681691a85c",
       "version_major": 2,
       "version_minor": 0
      },
      "text/plain": [
       "  0%|          | 0/224 [00:00<?, ?it/s]"
      ]
     },
     "metadata": {},
     "output_type": "display_data"
    },
    {
     "name": "stderr",
     "output_type": "stream",
     "text": [
      "INFO - (NP.utils_torch.lr_range_test) - lr-range-test results: steep: 5.38E-02, min: 3.79E-01\n",
      "INFO - (NP.forecaster._init_train_loader) - lr-range-test selected learning rate: 5.22E-02\n",
      "Epoch[233/233]: 100%|████████| 233/233 [00:11<00:00, 20.44it/s, SmoothL1Loss=0.00123, MAE=0.242, RMSE=0.307, RegLoss=0]\n",
      "INFO - (NP.utils.set_auto_seasonalities) - Disabling weekly seasonality. Run NeuralProphet with weekly_seasonality=True to override this.\n",
      "INFO - (NP.utils.set_auto_seasonalities) - Disabling daily seasonality. Run NeuralProphet with daily_seasonality=True to override this.\n",
      "INFO - (NP.config.set_auto_batch_epoch) - Auto-set batch_size to 16\n",
      "INFO - (NP.config.set_auto_batch_epoch) - Auto-set epochs to 233\n"
     ]
    },
    {
     "data": {
      "application/vnd.jupyter.widget-view+json": {
       "model_id": "f9a74574e09e45e0bc1c2167fb625563",
       "version_major": 2,
       "version_minor": 0
      },
      "text/plain": [
       "  0%|          | 0/224 [00:00<?, ?it/s]"
      ]
     },
     "metadata": {},
     "output_type": "display_data"
    },
    {
     "name": "stdout",
     "output_type": "stream",
     "text": [
      "this is all yhats  [4.155292510986328, 4.182884693145752, 4.224949836730957, 4.020102500915527, 4.226265907287598, 4.246566295623779, 4.364901542663574, 4.47917366027832, 4.473513603210449, 4.447566986083984, 4.172107696533203, 4.077431678771973, 4.073001384735107, 3.637517213821411, 3.7817680835723877, 3.648895740509033, 3.7259979248046875, 3.5570662021636963]\n",
      "this is all_valid_metrics {('./output/neuralprophet_202110_DEXCAUS_nlags_36', 'Bakery and cereal products (excluding baby food)'): {'2015-07-01': r2_score    -1.293\n",
      "mae          2.431\n",
      "mape         0.016\n",
      "mse         13.253\n",
      "rmse         3.640\n",
      "dtype: float64}, ('./output/neuralprophet_202110_DEXCAUS_nlags_36', 'Dairy products and eggs'): {'2015-07-01': r2_score   -13.605\n",
      "mae          4.824\n",
      "mape         0.035\n",
      "mse         24.585\n",
      "rmse         4.958\n",
      "dtype: float64}, ('./output/neuralprophet_202110_DEXCAUS_nlags_36', 'Fish, seafood and other marine products'): {'2015-07-01': r2_score    -8.306\n",
      "mae          7.749\n",
      "mape         0.060\n",
      "mse         66.916\n",
      "rmse         8.180\n",
      "dtype: float64}, ('./output/neuralprophet_202110_DEXCAUS_nlags_36', 'Food purchased from restaurants'): {'2015-07-01': r2_score   -0.955\n",
      "mae         1.911\n",
      "mape        0.013\n",
      "mse         4.441\n",
      "rmse        2.107\n",
      "dtype: float64}, ('./output/neuralprophet_202110_DEXCAUS_nlags_36', 'Food'): {'2015-07-01': r2_score   -12.443\n",
      "mae          5.611\n",
      "mape         0.039\n",
      "mse         34.223\n",
      "rmse         5.850\n",
      "dtype: float64}, ('./output/neuralprophet_202110_DEXCAUS_nlags_36', 'Fruit, fruit preparations and nuts'): {'2015-07-01': r2_score     -7.234\n",
      "mae          13.582\n",
      "mape          0.099\n",
      "mse         210.081\n",
      "rmse         14.494\n",
      "dtype: float64}, ('./output/neuralprophet_202110_DEXCAUS_nlags_36', 'Meat'): {'2015-07-01': r2_score    -95.052\n",
      "mae          14.399\n",
      "mape          0.091\n",
      "mse         218.026\n",
      "rmse         14.766\n",
      "dtype: float64}, ('./output/neuralprophet_202110_DEXCAUS_nlags_36', 'Other food products and non-alcoholic beverages'): {'2015-07-01': r2_score   -11.517\n",
      "mae          3.484\n",
      "mape         0.026\n",
      "mse         17.934\n",
      "rmse         4.235\n",
      "dtype: float64}, ('./output/neuralprophet_202110_DEXCAUS_nlags_36', 'Vegetables and vegetable preparations'): {'2015-07-01': r2_score     -1.521\n",
      "mae          12.588\n",
      "mape          0.092\n",
      "mse         198.463\n",
      "rmse         14.088\n",
      "dtype: float64}, ('./output/neuralprophet_202110_DEXCAUS_nlags_36', 'DEXCAUS'): {'2015-07-01': r2_score   -121.536\n",
      "mae           0.289\n",
      "mape          0.218\n",
      "mse           0.085\n",
      "rmse          0.291\n",
      "dtype: float64}, ('./output/neuralprophet_202110_DEXCAUS_nlags_36', 'DCOILWTICO'): {'2015-07-01': r2_score    -119.478\n",
      "mae           64.258\n",
      "mape           1.528\n",
      "mse         4305.505\n",
      "rmse          65.616\n",
      "dtype: float64}, ('./output/neuralprophet_202110_DEXCAUS_nlags_36', 'WILL5000IND'): {'2015-07-01': r2_score    -1.753\n",
      "mae          7.811\n",
      "mape         0.085\n",
      "mse         70.746\n",
      "rmse         8.411\n",
      "dtype: float64}, ('./output/neuralprophet_202110_DEXCAUS_nlags_36', 'VXOCLS'): {'2015-07-01': r2_score     0.436\n",
      "mae          2.897\n",
      "mape         0.160\n",
      "mse         14.134\n",
      "rmse         3.760\n",
      "dtype: float64}, ('./output/neuralprophet_202110_DEXCAUS_nlags_36', 'CUSR0000SAF112'): {'2015-07-01': r2_score    -17.715\n",
      "mae          26.344\n",
      "mape          0.106\n",
      "mse         790.781\n",
      "rmse         28.121\n",
      "dtype: float64}, ('./output/neuralprophet_202110_DEXCAUS_nlags_36', 'CUSR0000SAF113'): {'2015-07-01': r2_score    -29.210\n",
      "mae          17.501\n",
      "mape          0.059\n",
      "mse         416.210\n",
      "rmse         20.401\n",
      "dtype: float64}, ('./output/neuralprophet_202110_DEXCAUS_nlags_36', 'CPIFABSL'): {'2015-07-01': r2_score   -38.069\n",
      "mae          1.444\n",
      "mape         0.006\n",
      "mse          3.040\n",
      "rmse         1.744\n",
      "dtype: float64}, ('./output/neuralprophet_202110_DEXCAUS_nlags_36', 'UNRATE'): {'2015-07-01': r2_score   -23.720\n",
      "mae          0.508\n",
      "mape         0.102\n",
      "mse          0.381\n",
      "rmse         0.618\n",
      "dtype: float64}, ('./output/neuralprophet_202110_DEXCAUS_nlags_36', 'FEDFUNDS'): {'2015-07-01': r2_score   -101.763\n",
      "mae           1.387\n",
      "mape          4.875\n",
      "mse           1.978\n",
      "rmse          1.406\n",
      "dtype: float64}, ('./output/neuralprophet_202110_DEXCAUS_nlags_36', 'IRLTLT01CAM156N'): {'2015-07-01': r2_score   -17.481\n",
      "mae          0.818\n",
      "mape         0.663\n",
      "mse          0.823\n",
      "rmse         0.907\n",
      "dtype: float64}, ('./output/neuralprophet_202110_DEXCAUS_nlags_36', 'LRUNTTTTCAM156S'): {'2015-07-01': r2_score   -58.989\n",
      "mae          1.063\n",
      "mape         0.152\n",
      "mse          1.231\n",
      "rmse         1.110\n",
      "dtype: float64}, ('./output/neuralprophet_202110_DEXCAUS_nlags_36', 'CPALCY01CAM661N'): {'2015-07-01': r2_score   -0.689\n",
      "mae         0.461\n",
      "mape        0.005\n",
      "mse         0.309\n",
      "rmse        0.556\n",
      "dtype: float64}, ('./output/neuralprophet_202110_DEXCAUS_nlags_36', 'CPGRLE01CAM657N'): {'2015-07-01': r2_score    0.142\n",
      "mae         0.227\n",
      "mape        6.965\n",
      "mse         0.093\n",
      "rmse        0.304\n",
      "dtype: float64}, ('./output/neuralprophet_202110_DEXCAUS_nlags_36', 'QCAR368BIS'): {'2015-07-01': r2_score     0.022\n",
      "mae          2.727\n",
      "mape         0.307\n",
      "mse         10.358\n",
      "rmse         3.218\n",
      "dtype: float64}, ('./output/neuralprophet_202110_DEXCAUS_nlags_36', 'A229RX0'): {'2015-07-01': r2_score        -5.448\n",
      "mae            405.501\n",
      "mape             0.010\n",
      "mse         243817.674\n",
      "rmse           493.779\n",
      "dtype: float64}, ('./output/neuralprophet_202110_DEXCAUS_nlags_36', 'AAA'): {'2015-07-01': r2_score   -2.344\n",
      "mae         0.411\n",
      "mape        0.113\n",
      "mse         0.237\n",
      "rmse        0.487\n",
      "dtype: float64}}\n"
     ]
    },
    {
     "name": "stderr",
     "output_type": "stream",
     "text": [
      "INFO - (NP.utils_torch.lr_range_test) - lr-range-test results: steep: 4.07E-02, min: 2.87E-01\n"
     ]
    },
    {
     "data": {
      "application/vnd.jupyter.widget-view+json": {
       "model_id": "d237c00db3514b82935745dc61dd5422",
       "version_major": 2,
       "version_minor": 0
      },
      "text/plain": [
       "  0%|          | 0/224 [00:00<?, ?it/s]"
      ]
     },
     "metadata": {},
     "output_type": "display_data"
    },
    {
     "name": "stderr",
     "output_type": "stream",
     "text": [
      "INFO - (NP.utils_torch.lr_range_test) - lr-range-test results: steep: 4.47E-02, min: 2.38E-01\n"
     ]
    },
    {
     "data": {
      "application/vnd.jupyter.widget-view+json": {
       "model_id": "289ef36cbadb485f940a1972065e84c9",
       "version_major": 2,
       "version_minor": 0
      },
      "text/plain": [
       "  0%|          | 0/224 [00:00<?, ?it/s]"
      ]
     },
     "metadata": {},
     "output_type": "display_data"
    },
    {
     "name": "stderr",
     "output_type": "stream",
     "text": [
      "INFO - (NP.utils_torch.lr_range_test) - lr-range-test results: steep: 2.17E-01, min: 2.38E-01\n",
      "INFO - (NP.forecaster._init_train_loader) - lr-range-test selected learning rate: 7.34E-02\n",
      "Epoch[233/233]: 100%|████████| 233/233 [00:11<00:00, 20.64it/s, SmoothL1Loss=0.00656, MAE=0.148, RMSE=0.191, RegLoss=0]\n",
      "INFO - (NP.utils.set_auto_seasonalities) - Disabling weekly seasonality. Run NeuralProphet with weekly_seasonality=True to override this.\n",
      "INFO - (NP.utils.set_auto_seasonalities) - Disabling daily seasonality. Run NeuralProphet with daily_seasonality=True to override this.\n",
      "INFO - (NP.config.set_auto_batch_epoch) - Auto-set batch_size to 16\n",
      "INFO - (NP.config.set_auto_batch_epoch) - Auto-set epochs to 233\n"
     ]
    },
    {
     "data": {
      "application/vnd.jupyter.widget-view+json": {
       "model_id": "8bfa515e41aa407db0ad86b6c8b2f379",
       "version_major": 2,
       "version_minor": 0
      },
      "text/plain": [
       "  0%|          | 0/224 [00:00<?, ?it/s]"
      ]
     },
     "metadata": {},
     "output_type": "display_data"
    },
    {
     "name": "stdout",
     "output_type": "stream",
     "text": [
      "this is all yhats  [1.9602456092834473, 2.025317907333374, 2.010326862335205, 1.9742522239685059, 1.954078197479248, 1.9744915962219238, 1.9191663265228271, 1.8285672664642334, 1.6845271587371826, 1.6035397052764893, 1.4956490993499756, 1.5776405334472656, 1.6105992794036865, 1.6878364086151123, 1.774780035018921, 1.7779030799865723, 1.8077244758605957, 1.857485294342041]\n",
      "this is all_valid_metrics {('./output/neuralprophet_202110_DEXCAUS_nlags_36', 'Bakery and cereal products (excluding baby food)'): {'2015-07-01': r2_score    -1.293\n",
      "mae          2.431\n",
      "mape         0.016\n",
      "mse         13.253\n",
      "rmse         3.640\n",
      "dtype: float64}, ('./output/neuralprophet_202110_DEXCAUS_nlags_36', 'Dairy products and eggs'): {'2015-07-01': r2_score   -13.605\n",
      "mae          4.824\n",
      "mape         0.035\n",
      "mse         24.585\n",
      "rmse         4.958\n",
      "dtype: float64}, ('./output/neuralprophet_202110_DEXCAUS_nlags_36', 'Fish, seafood and other marine products'): {'2015-07-01': r2_score    -8.306\n",
      "mae          7.749\n",
      "mape         0.060\n",
      "mse         66.916\n",
      "rmse         8.180\n",
      "dtype: float64}, ('./output/neuralprophet_202110_DEXCAUS_nlags_36', 'Food purchased from restaurants'): {'2015-07-01': r2_score   -0.955\n",
      "mae         1.911\n",
      "mape        0.013\n",
      "mse         4.441\n",
      "rmse        2.107\n",
      "dtype: float64}, ('./output/neuralprophet_202110_DEXCAUS_nlags_36', 'Food'): {'2015-07-01': r2_score   -12.443\n",
      "mae          5.611\n",
      "mape         0.039\n",
      "mse         34.223\n",
      "rmse         5.850\n",
      "dtype: float64}, ('./output/neuralprophet_202110_DEXCAUS_nlags_36', 'Fruit, fruit preparations and nuts'): {'2015-07-01': r2_score     -7.234\n",
      "mae          13.582\n",
      "mape          0.099\n",
      "mse         210.081\n",
      "rmse         14.494\n",
      "dtype: float64}, ('./output/neuralprophet_202110_DEXCAUS_nlags_36', 'Meat'): {'2015-07-01': r2_score    -95.052\n",
      "mae          14.399\n",
      "mape          0.091\n",
      "mse         218.026\n",
      "rmse         14.766\n",
      "dtype: float64}, ('./output/neuralprophet_202110_DEXCAUS_nlags_36', 'Other food products and non-alcoholic beverages'): {'2015-07-01': r2_score   -11.517\n",
      "mae          3.484\n",
      "mape         0.026\n",
      "mse         17.934\n",
      "rmse         4.235\n",
      "dtype: float64}, ('./output/neuralprophet_202110_DEXCAUS_nlags_36', 'Vegetables and vegetable preparations'): {'2015-07-01': r2_score     -1.521\n",
      "mae          12.588\n",
      "mape          0.092\n",
      "mse         198.463\n",
      "rmse         14.088\n",
      "dtype: float64}, ('./output/neuralprophet_202110_DEXCAUS_nlags_36', 'DEXCAUS'): {'2015-07-01': r2_score   -121.536\n",
      "mae           0.289\n",
      "mape          0.218\n",
      "mse           0.085\n",
      "rmse          0.291\n",
      "dtype: float64}, ('./output/neuralprophet_202110_DEXCAUS_nlags_36', 'DCOILWTICO'): {'2015-07-01': r2_score    -119.478\n",
      "mae           64.258\n",
      "mape           1.528\n",
      "mse         4305.505\n",
      "rmse          65.616\n",
      "dtype: float64}, ('./output/neuralprophet_202110_DEXCAUS_nlags_36', 'WILL5000IND'): {'2015-07-01': r2_score    -1.753\n",
      "mae          7.811\n",
      "mape         0.085\n",
      "mse         70.746\n",
      "rmse         8.411\n",
      "dtype: float64}, ('./output/neuralprophet_202110_DEXCAUS_nlags_36', 'VXOCLS'): {'2015-07-01': r2_score     0.436\n",
      "mae          2.897\n",
      "mape         0.160\n",
      "mse         14.134\n",
      "rmse         3.760\n",
      "dtype: float64}, ('./output/neuralprophet_202110_DEXCAUS_nlags_36', 'CUSR0000SAF112'): {'2015-07-01': r2_score    -17.715\n",
      "mae          26.344\n",
      "mape          0.106\n",
      "mse         790.781\n",
      "rmse         28.121\n",
      "dtype: float64}, ('./output/neuralprophet_202110_DEXCAUS_nlags_36', 'CUSR0000SAF113'): {'2015-07-01': r2_score    -29.210\n",
      "mae          17.501\n",
      "mape          0.059\n",
      "mse         416.210\n",
      "rmse         20.401\n",
      "dtype: float64}, ('./output/neuralprophet_202110_DEXCAUS_nlags_36', 'CPIFABSL'): {'2015-07-01': r2_score   -38.069\n",
      "mae          1.444\n",
      "mape         0.006\n",
      "mse          3.040\n",
      "rmse         1.744\n",
      "dtype: float64}, ('./output/neuralprophet_202110_DEXCAUS_nlags_36', 'UNRATE'): {'2015-07-01': r2_score   -23.720\n",
      "mae          0.508\n",
      "mape         0.102\n",
      "mse          0.381\n",
      "rmse         0.618\n",
      "dtype: float64}, ('./output/neuralprophet_202110_DEXCAUS_nlags_36', 'FEDFUNDS'): {'2015-07-01': r2_score   -101.763\n",
      "mae           1.387\n",
      "mape          4.875\n",
      "mse           1.978\n",
      "rmse          1.406\n",
      "dtype: float64}, ('./output/neuralprophet_202110_DEXCAUS_nlags_36', 'IRLTLT01CAM156N'): {'2015-07-01': r2_score   -17.481\n",
      "mae          0.818\n",
      "mape         0.663\n",
      "mse          0.823\n",
      "rmse         0.907\n",
      "dtype: float64}, ('./output/neuralprophet_202110_DEXCAUS_nlags_36', 'LRUNTTTTCAM156S'): {'2015-07-01': r2_score   -58.989\n",
      "mae          1.063\n",
      "mape         0.152\n",
      "mse          1.231\n",
      "rmse         1.110\n",
      "dtype: float64}, ('./output/neuralprophet_202110_DEXCAUS_nlags_36', 'CPALCY01CAM661N'): {'2015-07-01': r2_score   -0.689\n",
      "mae         0.461\n",
      "mape        0.005\n",
      "mse         0.309\n",
      "rmse        0.556\n",
      "dtype: float64}, ('./output/neuralprophet_202110_DEXCAUS_nlags_36', 'CPGRLE01CAM657N'): {'2015-07-01': r2_score    0.142\n",
      "mae         0.227\n",
      "mape        6.965\n",
      "mse         0.093\n",
      "rmse        0.304\n",
      "dtype: float64}, ('./output/neuralprophet_202110_DEXCAUS_nlags_36', 'QCAR368BIS'): {'2015-07-01': r2_score     0.022\n",
      "mae          2.727\n",
      "mape         0.307\n",
      "mse         10.358\n",
      "rmse         3.218\n",
      "dtype: float64}, ('./output/neuralprophet_202110_DEXCAUS_nlags_36', 'A229RX0'): {'2015-07-01': r2_score        -5.448\n",
      "mae            405.501\n",
      "mape             0.010\n",
      "mse         243817.674\n",
      "rmse           493.779\n",
      "dtype: float64}, ('./output/neuralprophet_202110_DEXCAUS_nlags_36', 'AAA'): {'2015-07-01': r2_score   -2.344\n",
      "mae         0.411\n",
      "mape        0.113\n",
      "mse         0.237\n",
      "rmse        0.487\n",
      "dtype: float64}, ('./output/neuralprophet_202110_DEXCAUS_nlags_36', 'AAA10YM'): {'2015-07-01': r2_score   -0.857\n",
      "mae         0.168\n",
      "mape        0.095\n",
      "mse         0.038\n",
      "rmse        0.194\n",
      "dtype: float64}}\n"
     ]
    },
    {
     "name": "stderr",
     "output_type": "stream",
     "text": [
      "INFO - (NP.utils_torch.lr_range_test) - lr-range-test results: steep: 3.15E-01, min: 5.38E-02\n"
     ]
    },
    {
     "data": {
      "application/vnd.jupyter.widget-view+json": {
       "model_id": "502bc7a058b64a5683e72419b6abbdda",
       "version_major": 2,
       "version_minor": 0
      },
      "text/plain": [
       "  0%|          | 0/224 [00:00<?, ?it/s]"
      ]
     },
     "metadata": {},
     "output_type": "display_data"
    },
    {
     "name": "stderr",
     "output_type": "stream",
     "text": [
      "INFO - (NP.utils_torch.lr_range_test) - lr-range-test results: steep: 3.45E-01, min: 5.38E-02\n"
     ]
    },
    {
     "data": {
      "application/vnd.jupyter.widget-view+json": {
       "model_id": "99a85ce77cf94c8ba7b0efa58ab73fc0",
       "version_major": 2,
       "version_minor": 0
      },
      "text/plain": [
       "  0%|          | 0/224 [00:00<?, ?it/s]"
      ]
     },
     "metadata": {},
     "output_type": "display_data"
    },
    {
     "name": "stderr",
     "output_type": "stream",
     "text": [
      "INFO - (NP.utils_torch.lr_range_test) - lr-range-test results: steep: 3.45E-01, min: 4.56E-01\n",
      "INFO - (NP.forecaster._init_train_loader) - lr-range-test selected learning rate: 3.35E-01\n",
      "Epoch[233/233]: 100%|██████| 233/233 [00:11<00:00, 20.35it/s, SmoothL1Loss=2.34e-5, MAE=0.0618, RMSE=0.0792, RegLoss=0]\n",
      "INFO - (NP.utils.set_auto_seasonalities) - Disabling weekly seasonality. Run NeuralProphet with weekly_seasonality=True to override this.\n",
      "INFO - (NP.utils.set_auto_seasonalities) - Disabling daily seasonality. Run NeuralProphet with daily_seasonality=True to override this.\n",
      "INFO - (NP.config.set_auto_batch_epoch) - Auto-set batch_size to 16\n",
      "INFO - (NP.config.set_auto_batch_epoch) - Auto-set epochs to 233\n"
     ]
    },
    {
     "data": {
      "application/vnd.jupyter.widget-view+json": {
       "model_id": "370d76d7314f4daf85563c203c875f39",
       "version_major": 2,
       "version_minor": 0
      },
      "text/plain": [
       "  0%|          | 0/224 [00:00<?, ?it/s]"
      ]
     },
     "metadata": {},
     "output_type": "display_data"
    },
    {
     "name": "stdout",
     "output_type": "stream",
     "text": [
      "this is all yhats  [20.63783073425293, 20.656593322753906, 20.742435455322266, 20.714487075805664, 20.654582977294922, 20.775943756103516, 20.820247650146484, 20.802722930908203, 20.767841339111328, 20.864904403686523, 20.8391170501709, 20.7713623046875, 20.881797790527344, 20.821773529052734, 20.961755752563477, 21.036914825439453, 20.950092315673828, 20.87274932861328]\n",
      "this is all_valid_metrics {('./output/neuralprophet_202110_DEXCAUS_nlags_36', 'Bakery and cereal products (excluding baby food)'): {'2015-07-01': r2_score    -1.293\n",
      "mae          2.431\n",
      "mape         0.016\n",
      "mse         13.253\n",
      "rmse         3.640\n",
      "dtype: float64}, ('./output/neuralprophet_202110_DEXCAUS_nlags_36', 'Dairy products and eggs'): {'2015-07-01': r2_score   -13.605\n",
      "mae          4.824\n",
      "mape         0.035\n",
      "mse         24.585\n",
      "rmse         4.958\n",
      "dtype: float64}, ('./output/neuralprophet_202110_DEXCAUS_nlags_36', 'Fish, seafood and other marine products'): {'2015-07-01': r2_score    -8.306\n",
      "mae          7.749\n",
      "mape         0.060\n",
      "mse         66.916\n",
      "rmse         8.180\n",
      "dtype: float64}, ('./output/neuralprophet_202110_DEXCAUS_nlags_36', 'Food purchased from restaurants'): {'2015-07-01': r2_score   -0.955\n",
      "mae         1.911\n",
      "mape        0.013\n",
      "mse         4.441\n",
      "rmse        2.107\n",
      "dtype: float64}, ('./output/neuralprophet_202110_DEXCAUS_nlags_36', 'Food'): {'2015-07-01': r2_score   -12.443\n",
      "mae          5.611\n",
      "mape         0.039\n",
      "mse         34.223\n",
      "rmse         5.850\n",
      "dtype: float64}, ('./output/neuralprophet_202110_DEXCAUS_nlags_36', 'Fruit, fruit preparations and nuts'): {'2015-07-01': r2_score     -7.234\n",
      "mae          13.582\n",
      "mape          0.099\n",
      "mse         210.081\n",
      "rmse         14.494\n",
      "dtype: float64}, ('./output/neuralprophet_202110_DEXCAUS_nlags_36', 'Meat'): {'2015-07-01': r2_score    -95.052\n",
      "mae          14.399\n",
      "mape          0.091\n",
      "mse         218.026\n",
      "rmse         14.766\n",
      "dtype: float64}, ('./output/neuralprophet_202110_DEXCAUS_nlags_36', 'Other food products and non-alcoholic beverages'): {'2015-07-01': r2_score   -11.517\n",
      "mae          3.484\n",
      "mape         0.026\n",
      "mse         17.934\n",
      "rmse         4.235\n",
      "dtype: float64}, ('./output/neuralprophet_202110_DEXCAUS_nlags_36', 'Vegetables and vegetable preparations'): {'2015-07-01': r2_score     -1.521\n",
      "mae          12.588\n",
      "mape          0.092\n",
      "mse         198.463\n",
      "rmse         14.088\n",
      "dtype: float64}, ('./output/neuralprophet_202110_DEXCAUS_nlags_36', 'DEXCAUS'): {'2015-07-01': r2_score   -121.536\n",
      "mae           0.289\n",
      "mape          0.218\n",
      "mse           0.085\n",
      "rmse          0.291\n",
      "dtype: float64}, ('./output/neuralprophet_202110_DEXCAUS_nlags_36', 'DCOILWTICO'): {'2015-07-01': r2_score    -119.478\n",
      "mae           64.258\n",
      "mape           1.528\n",
      "mse         4305.505\n",
      "rmse          65.616\n",
      "dtype: float64}, ('./output/neuralprophet_202110_DEXCAUS_nlags_36', 'WILL5000IND'): {'2015-07-01': r2_score    -1.753\n",
      "mae          7.811\n",
      "mape         0.085\n",
      "mse         70.746\n",
      "rmse         8.411\n",
      "dtype: float64}, ('./output/neuralprophet_202110_DEXCAUS_nlags_36', 'VXOCLS'): {'2015-07-01': r2_score     0.436\n",
      "mae          2.897\n",
      "mape         0.160\n",
      "mse         14.134\n",
      "rmse         3.760\n",
      "dtype: float64}, ('./output/neuralprophet_202110_DEXCAUS_nlags_36', 'CUSR0000SAF112'): {'2015-07-01': r2_score    -17.715\n",
      "mae          26.344\n",
      "mape          0.106\n",
      "mse         790.781\n",
      "rmse         28.121\n",
      "dtype: float64}, ('./output/neuralprophet_202110_DEXCAUS_nlags_36', 'CUSR0000SAF113'): {'2015-07-01': r2_score    -29.210\n",
      "mae          17.501\n",
      "mape          0.059\n",
      "mse         416.210\n",
      "rmse         20.401\n",
      "dtype: float64}, ('./output/neuralprophet_202110_DEXCAUS_nlags_36', 'CPIFABSL'): {'2015-07-01': r2_score   -38.069\n",
      "mae          1.444\n",
      "mape         0.006\n",
      "mse          3.040\n",
      "rmse         1.744\n",
      "dtype: float64}, ('./output/neuralprophet_202110_DEXCAUS_nlags_36', 'UNRATE'): {'2015-07-01': r2_score   -23.720\n",
      "mae          0.508\n",
      "mape         0.102\n",
      "mse          0.381\n",
      "rmse         0.618\n",
      "dtype: float64}, ('./output/neuralprophet_202110_DEXCAUS_nlags_36', 'FEDFUNDS'): {'2015-07-01': r2_score   -101.763\n",
      "mae           1.387\n",
      "mape          4.875\n",
      "mse           1.978\n",
      "rmse          1.406\n",
      "dtype: float64}, ('./output/neuralprophet_202110_DEXCAUS_nlags_36', 'IRLTLT01CAM156N'): {'2015-07-01': r2_score   -17.481\n",
      "mae          0.818\n",
      "mape         0.663\n",
      "mse          0.823\n",
      "rmse         0.907\n",
      "dtype: float64}, ('./output/neuralprophet_202110_DEXCAUS_nlags_36', 'LRUNTTTTCAM156S'): {'2015-07-01': r2_score   -58.989\n",
      "mae          1.063\n",
      "mape         0.152\n",
      "mse          1.231\n",
      "rmse         1.110\n",
      "dtype: float64}, ('./output/neuralprophet_202110_DEXCAUS_nlags_36', 'CPALCY01CAM661N'): {'2015-07-01': r2_score   -0.689\n",
      "mae         0.461\n",
      "mape        0.005\n",
      "mse         0.309\n",
      "rmse        0.556\n",
      "dtype: float64}, ('./output/neuralprophet_202110_DEXCAUS_nlags_36', 'CPGRLE01CAM657N'): {'2015-07-01': r2_score    0.142\n",
      "mae         0.227\n",
      "mape        6.965\n",
      "mse         0.093\n",
      "rmse        0.304\n",
      "dtype: float64}, ('./output/neuralprophet_202110_DEXCAUS_nlags_36', 'QCAR368BIS'): {'2015-07-01': r2_score     0.022\n",
      "mae          2.727\n",
      "mape         0.307\n",
      "mse         10.358\n",
      "rmse         3.218\n",
      "dtype: float64}, ('./output/neuralprophet_202110_DEXCAUS_nlags_36', 'A229RX0'): {'2015-07-01': r2_score        -5.448\n",
      "mae            405.501\n",
      "mape             0.010\n",
      "mse         243817.674\n",
      "rmse           493.779\n",
      "dtype: float64}, ('./output/neuralprophet_202110_DEXCAUS_nlags_36', 'AAA'): {'2015-07-01': r2_score   -2.344\n",
      "mae         0.411\n",
      "mape        0.113\n",
      "mse         0.237\n",
      "rmse        0.487\n",
      "dtype: float64}, ('./output/neuralprophet_202110_DEXCAUS_nlags_36', 'AAA10YM'): {'2015-07-01': r2_score   -0.857\n",
      "mae         0.168\n",
      "mape        0.095\n",
      "mse         0.038\n",
      "rmse        0.194\n",
      "dtype: float64}, ('./output/neuralprophet_202110_DEXCAUS_nlags_36', 'AHETPI'): {'2015-07-01': r2_score   -7.459\n",
      "mae         0.645\n",
      "mape        0.030\n",
      "mse         0.437\n",
      "rmse        0.661\n",
      "dtype: float64}}\n"
     ]
    },
    {
     "name": "stderr",
     "output_type": "stream",
     "text": [
      "INFO - (NP.utils_torch.lr_range_test) - lr-range-test results: steep: 4.47E-02, min: 3.15E-01\n"
     ]
    },
    {
     "data": {
      "application/vnd.jupyter.widget-view+json": {
       "model_id": "409af4df5782465bbf18acce08e29092",
       "version_major": 2,
       "version_minor": 0
      },
      "text/plain": [
       "  0%|          | 0/224 [00:00<?, ?it/s]"
      ]
     },
     "metadata": {},
     "output_type": "display_data"
    },
    {
     "name": "stderr",
     "output_type": "stream",
     "text": [
      "INFO - (NP.utils_torch.lr_range_test) - lr-range-test results: steep: 4.90E-02, min: 3.45E-01\n"
     ]
    },
    {
     "data": {
      "application/vnd.jupyter.widget-view+json": {
       "model_id": "d62ed59bd9934090a4048e0487518438",
       "version_major": 2,
       "version_minor": 0
      },
      "text/plain": [
       "  0%|          | 0/224 [00:00<?, ?it/s]"
      ]
     },
     "metadata": {},
     "output_type": "display_data"
    },
    {
     "name": "stderr",
     "output_type": "stream",
     "text": [
      "INFO - (NP.utils_torch.lr_range_test) - lr-range-test results: steep: 5.91E-02, min: 2.87E-01\n",
      "INFO - (NP.forecaster._init_train_loader) - lr-range-test selected learning rate: 5.06E-02\n",
      "Epoch[233/233]: 100%|████████| 233/233 [00:11<00:00, 20.75it/s, SmoothL1Loss=0.00338, MAE=0.509, RMSE=0.702, RegLoss=0]\n",
      "INFO - (NP.utils.set_auto_seasonalities) - Disabling weekly seasonality. Run NeuralProphet with weekly_seasonality=True to override this.\n",
      "INFO - (NP.utils.set_auto_seasonalities) - Disabling daily seasonality. Run NeuralProphet with daily_seasonality=True to override this.\n",
      "INFO - (NP.config.set_auto_batch_epoch) - Auto-set batch_size to 16\n",
      "INFO - (NP.config.set_auto_batch_epoch) - Auto-set epochs to 233\n"
     ]
    },
    {
     "data": {
      "application/vnd.jupyter.widget-view+json": {
       "model_id": "074e2628850c4e1ea367b12419700095",
       "version_major": 2,
       "version_minor": 0
      },
      "text/plain": [
       "  0%|          | 0/224 [00:00<?, ?it/s]"
      ]
     },
     "metadata": {},
     "output_type": "display_data"
    },
    {
     "name": "stdout",
     "output_type": "stream",
     "text": [
      "this is all yhats  [19.072513580322266, 18.583160400390625, 18.995471954345703, 19.038921356201172, 19.587322235107422, 19.54915428161621, 19.684680938720703, 20.00232696533203, 19.73397445678711, 20.04849624633789, 19.86837387084961, 20.319000244140625, 20.601184844970703, 20.531593322753906, 20.87438201904297, 20.794837951660156, 21.42919158935547, 21.41493797302246]\n",
      "this is all_valid_metrics {('./output/neuralprophet_202110_DEXCAUS_nlags_36', 'Bakery and cereal products (excluding baby food)'): {'2015-07-01': r2_score    -1.293\n",
      "mae          2.431\n",
      "mape         0.016\n",
      "mse         13.253\n",
      "rmse         3.640\n",
      "dtype: float64}, ('./output/neuralprophet_202110_DEXCAUS_nlags_36', 'Dairy products and eggs'): {'2015-07-01': r2_score   -13.605\n",
      "mae          4.824\n",
      "mape         0.035\n",
      "mse         24.585\n",
      "rmse         4.958\n",
      "dtype: float64}, ('./output/neuralprophet_202110_DEXCAUS_nlags_36', 'Fish, seafood and other marine products'): {'2015-07-01': r2_score    -8.306\n",
      "mae          7.749\n",
      "mape         0.060\n",
      "mse         66.916\n",
      "rmse         8.180\n",
      "dtype: float64}, ('./output/neuralprophet_202110_DEXCAUS_nlags_36', 'Food purchased from restaurants'): {'2015-07-01': r2_score   -0.955\n",
      "mae         1.911\n",
      "mape        0.013\n",
      "mse         4.441\n",
      "rmse        2.107\n",
      "dtype: float64}, ('./output/neuralprophet_202110_DEXCAUS_nlags_36', 'Food'): {'2015-07-01': r2_score   -12.443\n",
      "mae          5.611\n",
      "mape         0.039\n",
      "mse         34.223\n",
      "rmse         5.850\n",
      "dtype: float64}, ('./output/neuralprophet_202110_DEXCAUS_nlags_36', 'Fruit, fruit preparations and nuts'): {'2015-07-01': r2_score     -7.234\n",
      "mae          13.582\n",
      "mape          0.099\n",
      "mse         210.081\n",
      "rmse         14.494\n",
      "dtype: float64}, ('./output/neuralprophet_202110_DEXCAUS_nlags_36', 'Meat'): {'2015-07-01': r2_score    -95.052\n",
      "mae          14.399\n",
      "mape          0.091\n",
      "mse         218.026\n",
      "rmse         14.766\n",
      "dtype: float64}, ('./output/neuralprophet_202110_DEXCAUS_nlags_36', 'Other food products and non-alcoholic beverages'): {'2015-07-01': r2_score   -11.517\n",
      "mae          3.484\n",
      "mape         0.026\n",
      "mse         17.934\n",
      "rmse         4.235\n",
      "dtype: float64}, ('./output/neuralprophet_202110_DEXCAUS_nlags_36', 'Vegetables and vegetable preparations'): {'2015-07-01': r2_score     -1.521\n",
      "mae          12.588\n",
      "mape          0.092\n",
      "mse         198.463\n",
      "rmse         14.088\n",
      "dtype: float64}, ('./output/neuralprophet_202110_DEXCAUS_nlags_36', 'DEXCAUS'): {'2015-07-01': r2_score   -121.536\n",
      "mae           0.289\n",
      "mape          0.218\n",
      "mse           0.085\n",
      "rmse          0.291\n",
      "dtype: float64}, ('./output/neuralprophet_202110_DEXCAUS_nlags_36', 'DCOILWTICO'): {'2015-07-01': r2_score    -119.478\n",
      "mae           64.258\n",
      "mape           1.528\n",
      "mse         4305.505\n",
      "rmse          65.616\n",
      "dtype: float64}, ('./output/neuralprophet_202110_DEXCAUS_nlags_36', 'WILL5000IND'): {'2015-07-01': r2_score    -1.753\n",
      "mae          7.811\n",
      "mape         0.085\n",
      "mse         70.746\n",
      "rmse         8.411\n",
      "dtype: float64}, ('./output/neuralprophet_202110_DEXCAUS_nlags_36', 'VXOCLS'): {'2015-07-01': r2_score     0.436\n",
      "mae          2.897\n",
      "mape         0.160\n",
      "mse         14.134\n",
      "rmse         3.760\n",
      "dtype: float64}, ('./output/neuralprophet_202110_DEXCAUS_nlags_36', 'CUSR0000SAF112'): {'2015-07-01': r2_score    -17.715\n",
      "mae          26.344\n",
      "mape          0.106\n",
      "mse         790.781\n",
      "rmse         28.121\n",
      "dtype: float64}, ('./output/neuralprophet_202110_DEXCAUS_nlags_36', 'CUSR0000SAF113'): {'2015-07-01': r2_score    -29.210\n",
      "mae          17.501\n",
      "mape          0.059\n",
      "mse         416.210\n",
      "rmse         20.401\n",
      "dtype: float64}, ('./output/neuralprophet_202110_DEXCAUS_nlags_36', 'CPIFABSL'): {'2015-07-01': r2_score   -38.069\n",
      "mae          1.444\n",
      "mape         0.006\n",
      "mse          3.040\n",
      "rmse         1.744\n",
      "dtype: float64}, ('./output/neuralprophet_202110_DEXCAUS_nlags_36', 'UNRATE'): {'2015-07-01': r2_score   -23.720\n",
      "mae          0.508\n",
      "mape         0.102\n",
      "mse          0.381\n",
      "rmse         0.618\n",
      "dtype: float64}, ('./output/neuralprophet_202110_DEXCAUS_nlags_36', 'FEDFUNDS'): {'2015-07-01': r2_score   -101.763\n",
      "mae           1.387\n",
      "mape          4.875\n",
      "mse           1.978\n",
      "rmse          1.406\n",
      "dtype: float64}, ('./output/neuralprophet_202110_DEXCAUS_nlags_36', 'IRLTLT01CAM156N'): {'2015-07-01': r2_score   -17.481\n",
      "mae          0.818\n",
      "mape         0.663\n",
      "mse          0.823\n",
      "rmse         0.907\n",
      "dtype: float64}, ('./output/neuralprophet_202110_DEXCAUS_nlags_36', 'LRUNTTTTCAM156S'): {'2015-07-01': r2_score   -58.989\n",
      "mae          1.063\n",
      "mape         0.152\n",
      "mse          1.231\n",
      "rmse         1.110\n",
      "dtype: float64}, ('./output/neuralprophet_202110_DEXCAUS_nlags_36', 'CPALCY01CAM661N'): {'2015-07-01': r2_score   -0.689\n",
      "mae         0.461\n",
      "mape        0.005\n",
      "mse         0.309\n",
      "rmse        0.556\n",
      "dtype: float64}, ('./output/neuralprophet_202110_DEXCAUS_nlags_36', 'CPGRLE01CAM657N'): {'2015-07-01': r2_score    0.142\n",
      "mae         0.227\n",
      "mape        6.965\n",
      "mse         0.093\n",
      "rmse        0.304\n",
      "dtype: float64}, ('./output/neuralprophet_202110_DEXCAUS_nlags_36', 'QCAR368BIS'): {'2015-07-01': r2_score     0.022\n",
      "mae          2.727\n",
      "mape         0.307\n",
      "mse         10.358\n",
      "rmse         3.218\n",
      "dtype: float64}, ('./output/neuralprophet_202110_DEXCAUS_nlags_36', 'A229RX0'): {'2015-07-01': r2_score        -5.448\n",
      "mae            405.501\n",
      "mape             0.010\n",
      "mse         243817.674\n",
      "rmse           493.779\n",
      "dtype: float64}, ('./output/neuralprophet_202110_DEXCAUS_nlags_36', 'AAA'): {'2015-07-01': r2_score   -2.344\n",
      "mae         0.411\n",
      "mape        0.113\n",
      "mse         0.237\n",
      "rmse        0.487\n",
      "dtype: float64}, ('./output/neuralprophet_202110_DEXCAUS_nlags_36', 'AAA10YM'): {'2015-07-01': r2_score   -0.857\n",
      "mae         0.168\n",
      "mape        0.095\n",
      "mse         0.038\n",
      "rmse        0.194\n",
      "dtype: float64}, ('./output/neuralprophet_202110_DEXCAUS_nlags_36', 'AHETPI'): {'2015-07-01': r2_score   -7.459\n",
      "mae         0.645\n",
      "mape        0.030\n",
      "mse         0.437\n",
      "rmse        0.661\n",
      "dtype: float64}, ('./output/neuralprophet_202110_DEXCAUS_nlags_36', 'ALTSALES'): {'2015-07-01': r2_score   -76.388\n",
      "mae          2.478\n",
      "mape         0.142\n",
      "mse          6.979\n",
      "rmse         2.642\n",
      "dtype: float64}}\n"
     ]
    },
    {
     "name": "stderr",
     "output_type": "stream",
     "text": [
      "INFO - (NP.utils_torch.lr_range_test) - lr-range-test results: steep: 5.27E-03, min: 3.71E-02\n"
     ]
    },
    {
     "data": {
      "application/vnd.jupyter.widget-view+json": {
       "model_id": "b0e862090b7d4b29ac9f3a743aa15a84",
       "version_major": 2,
       "version_minor": 0
      },
      "text/plain": [
       "  0%|          | 0/224 [00:00<?, ?it/s]"
      ]
     },
     "metadata": {},
     "output_type": "display_data"
    },
    {
     "name": "stderr",
     "output_type": "stream",
     "text": [
      "INFO - (NP.utils_torch.lr_range_test) - lr-range-test results: steep: 5.79E-03, min: 3.38E-02\n"
     ]
    },
    {
     "data": {
      "application/vnd.jupyter.widget-view+json": {
       "model_id": "ce9fc279048a4306af20381a74327460",
       "version_major": 2,
       "version_minor": 0
      },
      "text/plain": [
       "  0%|          | 0/224 [00:00<?, ?it/s]"
      ]
     },
     "metadata": {},
     "output_type": "display_data"
    },
    {
     "name": "stderr",
     "output_type": "stream",
     "text": [
      "INFO - (NP.utils_torch.lr_range_test) - lr-range-test results: steep: 7.26E-01, min: 3.38E-02\n",
      "INFO - (NP.forecaster._init_train_loader) - lr-range-test selected learning rate: 2.81E-02\n",
      "Epoch[233/233]: 100%|█████████| 233/233 [00:11<00:00, 20.25it/s, SmoothL1Loss=0.000292, MAE=59.9, RMSE=85.6, RegLoss=0]\n",
      "INFO - (NP.utils.set_auto_seasonalities) - Disabling weekly seasonality. Run NeuralProphet with weekly_seasonality=True to override this.\n",
      "INFO - (NP.utils.set_auto_seasonalities) - Disabling daily seasonality. Run NeuralProphet with daily_seasonality=True to override this.\n",
      "INFO - (NP.config.set_auto_batch_epoch) - Auto-set batch_size to 16\n",
      "INFO - (NP.config.set_auto_batch_epoch) - Auto-set epochs to 233\n"
     ]
    },
    {
     "data": {
      "application/vnd.jupyter.widget-view+json": {
       "model_id": "cc75c9904e594455bad4fd85c05a8ce3",
       "version_major": 2,
       "version_minor": 0
      },
      "text/plain": [
       "  0%|          | 0/224 [00:00<?, ?it/s]"
      ]
     },
     "metadata": {},
     "output_type": "display_data"
    },
    {
     "name": "stdout",
     "output_type": "stream",
     "text": [
      "this is all yhats  [3786.954833984375, 3802.89111328125, 3852.730224609375, 4079.44482421875, 4147.9990234375, 4296.892578125, 4449.83935546875, 4498.83056640625, 4574.9365234375, 4692.6435546875, 4832.66015625, 4774.69775390625, 5013.857421875, 5027.0771484375, 5042.9150390625, 5082.71484375, 5228.7724609375, 5237.94921875]\n",
      "this is all_valid_metrics {('./output/neuralprophet_202110_DEXCAUS_nlags_36', 'Bakery and cereal products (excluding baby food)'): {'2015-07-01': r2_score    -1.293\n",
      "mae          2.431\n",
      "mape         0.016\n",
      "mse         13.253\n",
      "rmse         3.640\n",
      "dtype: float64}, ('./output/neuralprophet_202110_DEXCAUS_nlags_36', 'Dairy products and eggs'): {'2015-07-01': r2_score   -13.605\n",
      "mae          4.824\n",
      "mape         0.035\n",
      "mse         24.585\n",
      "rmse         4.958\n",
      "dtype: float64}, ('./output/neuralprophet_202110_DEXCAUS_nlags_36', 'Fish, seafood and other marine products'): {'2015-07-01': r2_score    -8.306\n",
      "mae          7.749\n",
      "mape         0.060\n",
      "mse         66.916\n",
      "rmse         8.180\n",
      "dtype: float64}, ('./output/neuralprophet_202110_DEXCAUS_nlags_36', 'Food purchased from restaurants'): {'2015-07-01': r2_score   -0.955\n",
      "mae         1.911\n",
      "mape        0.013\n",
      "mse         4.441\n",
      "rmse        2.107\n",
      "dtype: float64}, ('./output/neuralprophet_202110_DEXCAUS_nlags_36', 'Food'): {'2015-07-01': r2_score   -12.443\n",
      "mae          5.611\n",
      "mape         0.039\n",
      "mse         34.223\n",
      "rmse         5.850\n",
      "dtype: float64}, ('./output/neuralprophet_202110_DEXCAUS_nlags_36', 'Fruit, fruit preparations and nuts'): {'2015-07-01': r2_score     -7.234\n",
      "mae          13.582\n",
      "mape          0.099\n",
      "mse         210.081\n",
      "rmse         14.494\n",
      "dtype: float64}, ('./output/neuralprophet_202110_DEXCAUS_nlags_36', 'Meat'): {'2015-07-01': r2_score    -95.052\n",
      "mae          14.399\n",
      "mape          0.091\n",
      "mse         218.026\n",
      "rmse         14.766\n",
      "dtype: float64}, ('./output/neuralprophet_202110_DEXCAUS_nlags_36', 'Other food products and non-alcoholic beverages'): {'2015-07-01': r2_score   -11.517\n",
      "mae          3.484\n",
      "mape         0.026\n",
      "mse         17.934\n",
      "rmse         4.235\n",
      "dtype: float64}, ('./output/neuralprophet_202110_DEXCAUS_nlags_36', 'Vegetables and vegetable preparations'): {'2015-07-01': r2_score     -1.521\n",
      "mae          12.588\n",
      "mape          0.092\n",
      "mse         198.463\n",
      "rmse         14.088\n",
      "dtype: float64}, ('./output/neuralprophet_202110_DEXCAUS_nlags_36', 'DEXCAUS'): {'2015-07-01': r2_score   -121.536\n",
      "mae           0.289\n",
      "mape          0.218\n",
      "mse           0.085\n",
      "rmse          0.291\n",
      "dtype: float64}, ('./output/neuralprophet_202110_DEXCAUS_nlags_36', 'DCOILWTICO'): {'2015-07-01': r2_score    -119.478\n",
      "mae           64.258\n",
      "mape           1.528\n",
      "mse         4305.505\n",
      "rmse          65.616\n",
      "dtype: float64}, ('./output/neuralprophet_202110_DEXCAUS_nlags_36', 'WILL5000IND'): {'2015-07-01': r2_score    -1.753\n",
      "mae          7.811\n",
      "mape         0.085\n",
      "mse         70.746\n",
      "rmse         8.411\n",
      "dtype: float64}, ('./output/neuralprophet_202110_DEXCAUS_nlags_36', 'VXOCLS'): {'2015-07-01': r2_score     0.436\n",
      "mae          2.897\n",
      "mape         0.160\n",
      "mse         14.134\n",
      "rmse         3.760\n",
      "dtype: float64}, ('./output/neuralprophet_202110_DEXCAUS_nlags_36', 'CUSR0000SAF112'): {'2015-07-01': r2_score    -17.715\n",
      "mae          26.344\n",
      "mape          0.106\n",
      "mse         790.781\n",
      "rmse         28.121\n",
      "dtype: float64}, ('./output/neuralprophet_202110_DEXCAUS_nlags_36', 'CUSR0000SAF113'): {'2015-07-01': r2_score    -29.210\n",
      "mae          17.501\n",
      "mape          0.059\n",
      "mse         416.210\n",
      "rmse         20.401\n",
      "dtype: float64}, ('./output/neuralprophet_202110_DEXCAUS_nlags_36', 'CPIFABSL'): {'2015-07-01': r2_score   -38.069\n",
      "mae          1.444\n",
      "mape         0.006\n",
      "mse          3.040\n",
      "rmse         1.744\n",
      "dtype: float64}, ('./output/neuralprophet_202110_DEXCAUS_nlags_36', 'UNRATE'): {'2015-07-01': r2_score   -23.720\n",
      "mae          0.508\n",
      "mape         0.102\n",
      "mse          0.381\n",
      "rmse         0.618\n",
      "dtype: float64}, ('./output/neuralprophet_202110_DEXCAUS_nlags_36', 'FEDFUNDS'): {'2015-07-01': r2_score   -101.763\n",
      "mae           1.387\n",
      "mape          4.875\n",
      "mse           1.978\n",
      "rmse          1.406\n",
      "dtype: float64}, ('./output/neuralprophet_202110_DEXCAUS_nlags_36', 'IRLTLT01CAM156N'): {'2015-07-01': r2_score   -17.481\n",
      "mae          0.818\n",
      "mape         0.663\n",
      "mse          0.823\n",
      "rmse         0.907\n",
      "dtype: float64}, ('./output/neuralprophet_202110_DEXCAUS_nlags_36', 'LRUNTTTTCAM156S'): {'2015-07-01': r2_score   -58.989\n",
      "mae          1.063\n",
      "mape         0.152\n",
      "mse          1.231\n",
      "rmse         1.110\n",
      "dtype: float64}, ('./output/neuralprophet_202110_DEXCAUS_nlags_36', 'CPALCY01CAM661N'): {'2015-07-01': r2_score   -0.689\n",
      "mae         0.461\n",
      "mape        0.005\n",
      "mse         0.309\n",
      "rmse        0.556\n",
      "dtype: float64}, ('./output/neuralprophet_202110_DEXCAUS_nlags_36', 'CPGRLE01CAM657N'): {'2015-07-01': r2_score    0.142\n",
      "mae         0.227\n",
      "mape        6.965\n",
      "mse         0.093\n",
      "rmse        0.304\n",
      "dtype: float64}, ('./output/neuralprophet_202110_DEXCAUS_nlags_36', 'QCAR368BIS'): {'2015-07-01': r2_score     0.022\n",
      "mae          2.727\n",
      "mape         0.307\n",
      "mse         10.358\n",
      "rmse         3.218\n",
      "dtype: float64}, ('./output/neuralprophet_202110_DEXCAUS_nlags_36', 'A229RX0'): {'2015-07-01': r2_score        -5.448\n",
      "mae            405.501\n",
      "mape             0.010\n",
      "mse         243817.674\n",
      "rmse           493.779\n",
      "dtype: float64}, ('./output/neuralprophet_202110_DEXCAUS_nlags_36', 'AAA'): {'2015-07-01': r2_score   -2.344\n",
      "mae         0.411\n",
      "mape        0.113\n",
      "mse         0.237\n",
      "rmse        0.487\n",
      "dtype: float64}, ('./output/neuralprophet_202110_DEXCAUS_nlags_36', 'AAA10YM'): {'2015-07-01': r2_score   -0.857\n",
      "mae         0.168\n",
      "mape        0.095\n",
      "mse         0.038\n",
      "rmse        0.194\n",
      "dtype: float64}, ('./output/neuralprophet_202110_DEXCAUS_nlags_36', 'AHETPI'): {'2015-07-01': r2_score   -7.459\n",
      "mae         0.645\n",
      "mape        0.030\n",
      "mse         0.437\n",
      "rmse        0.661\n",
      "dtype: float64}, ('./output/neuralprophet_202110_DEXCAUS_nlags_36', 'ALTSALES'): {'2015-07-01': r2_score   -76.388\n",
      "mae          2.478\n",
      "mape         0.142\n",
      "mse          6.979\n",
      "rmse         2.642\n",
      "dtype: float64}, ('./output/neuralprophet_202110_DEXCAUS_nlags_36', 'AMBNS'): {'2015-07-01': r2_score       -39.471\n",
      "mae            821.130\n",
      "mape             0.219\n",
      "mse         936569.369\n",
      "rmse           967.765\n",
      "dtype: float64}}\n"
     ]
    },
    {
     "name": "stderr",
     "output_type": "stream",
     "text": [
      "INFO - (NP.utils_torch.lr_range_test) - lr-range-test results: steep: 3.08E-02, min: 5.01E-01\n"
     ]
    },
    {
     "data": {
      "application/vnd.jupyter.widget-view+json": {
       "model_id": "73c5771495fe418bb6ed97ee1ae48dcc",
       "version_major": 2,
       "version_minor": 0
      },
      "text/plain": [
       "  0%|          | 0/224 [00:00<?, ?it/s]"
      ]
     },
     "metadata": {},
     "output_type": "display_data"
    },
    {
     "name": "stderr",
     "output_type": "stream",
     "text": [
      "INFO - (NP.utils_torch.lr_range_test) - lr-range-test results: steep: 3.08E-02, min: 5.01E-01\n"
     ]
    },
    {
     "data": {
      "application/vnd.jupyter.widget-view+json": {
       "model_id": "abfb9524a4184d299095deb4d737edc5",
       "version_major": 2,
       "version_minor": 0
      },
      "text/plain": [
       "  0%|          | 0/224 [00:00<?, ?it/s]"
      ]
     },
     "metadata": {},
     "output_type": "display_data"
    },
    {
     "name": "stderr",
     "output_type": "stream",
     "text": [
      "INFO - (NP.utils_torch.lr_range_test) - lr-range-test results: steep: 2.81E-02, min: 4.56E-01\n",
      "INFO - (NP.forecaster._init_train_loader) - lr-range-test selected learning rate: 2.99E-02\n",
      "Epoch[233/233]: 100%|█████████| 233/233 [00:11<00:00, 20.58it/s, SmoothL1Loss=0.000248, MAE=55.6, RMSE=79.5, RegLoss=0]\n",
      "INFO - (NP.utils.set_auto_seasonalities) - Disabling weekly seasonality. Run NeuralProphet with weekly_seasonality=True to override this.\n",
      "INFO - (NP.utils.set_auto_seasonalities) - Disabling daily seasonality. Run NeuralProphet with daily_seasonality=True to override this.\n",
      "INFO - (NP.config.set_auto_batch_epoch) - Auto-set batch_size to 16\n",
      "INFO - (NP.config.set_auto_batch_epoch) - Auto-set epochs to 233\n"
     ]
    },
    {
     "data": {
      "application/vnd.jupyter.widget-view+json": {
       "model_id": "ce588527571e437ea881e182bf465ec3",
       "version_major": 2,
       "version_minor": 0
      },
      "text/plain": [
       "  0%|          | 0/224 [00:00<?, ?it/s]"
      ]
     },
     "metadata": {},
     "output_type": "display_data"
    },
    {
     "name": "stdout",
     "output_type": "stream",
     "text": [
      "this is all yhats  [3617.693359375, 3774.54052734375, 3848.78759765625, 4125.224609375, 4106.93994140625, 4239.2998046875, 4377.42822265625, 4515.521484375, 4571.89111328125, 4676.904296875, 4707.5439453125, 4767.041015625, 4887.943359375, 4769.2529296875, 4782.08349609375, 4959.19287109375, 5179.38916015625, 5038.05224609375]\n",
      "this is all_valid_metrics {('./output/neuralprophet_202110_DEXCAUS_nlags_36', 'Bakery and cereal products (excluding baby food)'): {'2015-07-01': r2_score    -1.293\n",
      "mae          2.431\n",
      "mape         0.016\n",
      "mse         13.253\n",
      "rmse         3.640\n",
      "dtype: float64}, ('./output/neuralprophet_202110_DEXCAUS_nlags_36', 'Dairy products and eggs'): {'2015-07-01': r2_score   -13.605\n",
      "mae          4.824\n",
      "mape         0.035\n",
      "mse         24.585\n",
      "rmse         4.958\n",
      "dtype: float64}, ('./output/neuralprophet_202110_DEXCAUS_nlags_36', 'Fish, seafood and other marine products'): {'2015-07-01': r2_score    -8.306\n",
      "mae          7.749\n",
      "mape         0.060\n",
      "mse         66.916\n",
      "rmse         8.180\n",
      "dtype: float64}, ('./output/neuralprophet_202110_DEXCAUS_nlags_36', 'Food purchased from restaurants'): {'2015-07-01': r2_score   -0.955\n",
      "mae         1.911\n",
      "mape        0.013\n",
      "mse         4.441\n",
      "rmse        2.107\n",
      "dtype: float64}, ('./output/neuralprophet_202110_DEXCAUS_nlags_36', 'Food'): {'2015-07-01': r2_score   -12.443\n",
      "mae          5.611\n",
      "mape         0.039\n",
      "mse         34.223\n",
      "rmse         5.850\n",
      "dtype: float64}, ('./output/neuralprophet_202110_DEXCAUS_nlags_36', 'Fruit, fruit preparations and nuts'): {'2015-07-01': r2_score     -7.234\n",
      "mae          13.582\n",
      "mape          0.099\n",
      "mse         210.081\n",
      "rmse         14.494\n",
      "dtype: float64}, ('./output/neuralprophet_202110_DEXCAUS_nlags_36', 'Meat'): {'2015-07-01': r2_score    -95.052\n",
      "mae          14.399\n",
      "mape          0.091\n",
      "mse         218.026\n",
      "rmse         14.766\n",
      "dtype: float64}, ('./output/neuralprophet_202110_DEXCAUS_nlags_36', 'Other food products and non-alcoholic beverages'): {'2015-07-01': r2_score   -11.517\n",
      "mae          3.484\n",
      "mape         0.026\n",
      "mse         17.934\n",
      "rmse         4.235\n",
      "dtype: float64}, ('./output/neuralprophet_202110_DEXCAUS_nlags_36', 'Vegetables and vegetable preparations'): {'2015-07-01': r2_score     -1.521\n",
      "mae          12.588\n",
      "mape          0.092\n",
      "mse         198.463\n",
      "rmse         14.088\n",
      "dtype: float64}, ('./output/neuralprophet_202110_DEXCAUS_nlags_36', 'DEXCAUS'): {'2015-07-01': r2_score   -121.536\n",
      "mae           0.289\n",
      "mape          0.218\n",
      "mse           0.085\n",
      "rmse          0.291\n",
      "dtype: float64}, ('./output/neuralprophet_202110_DEXCAUS_nlags_36', 'DCOILWTICO'): {'2015-07-01': r2_score    -119.478\n",
      "mae           64.258\n",
      "mape           1.528\n",
      "mse         4305.505\n",
      "rmse          65.616\n",
      "dtype: float64}, ('./output/neuralprophet_202110_DEXCAUS_nlags_36', 'WILL5000IND'): {'2015-07-01': r2_score    -1.753\n",
      "mae          7.811\n",
      "mape         0.085\n",
      "mse         70.746\n",
      "rmse         8.411\n",
      "dtype: float64}, ('./output/neuralprophet_202110_DEXCAUS_nlags_36', 'VXOCLS'): {'2015-07-01': r2_score     0.436\n",
      "mae          2.897\n",
      "mape         0.160\n",
      "mse         14.134\n",
      "rmse         3.760\n",
      "dtype: float64}, ('./output/neuralprophet_202110_DEXCAUS_nlags_36', 'CUSR0000SAF112'): {'2015-07-01': r2_score    -17.715\n",
      "mae          26.344\n",
      "mape          0.106\n",
      "mse         790.781\n",
      "rmse         28.121\n",
      "dtype: float64}, ('./output/neuralprophet_202110_DEXCAUS_nlags_36', 'CUSR0000SAF113'): {'2015-07-01': r2_score    -29.210\n",
      "mae          17.501\n",
      "mape          0.059\n",
      "mse         416.210\n",
      "rmse         20.401\n",
      "dtype: float64}, ('./output/neuralprophet_202110_DEXCAUS_nlags_36', 'CPIFABSL'): {'2015-07-01': r2_score   -38.069\n",
      "mae          1.444\n",
      "mape         0.006\n",
      "mse          3.040\n",
      "rmse         1.744\n",
      "dtype: float64}, ('./output/neuralprophet_202110_DEXCAUS_nlags_36', 'UNRATE'): {'2015-07-01': r2_score   -23.720\n",
      "mae          0.508\n",
      "mape         0.102\n",
      "mse          0.381\n",
      "rmse         0.618\n",
      "dtype: float64}, ('./output/neuralprophet_202110_DEXCAUS_nlags_36', 'FEDFUNDS'): {'2015-07-01': r2_score   -101.763\n",
      "mae           1.387\n",
      "mape          4.875\n",
      "mse           1.978\n",
      "rmse          1.406\n",
      "dtype: float64}, ('./output/neuralprophet_202110_DEXCAUS_nlags_36', 'IRLTLT01CAM156N'): {'2015-07-01': r2_score   -17.481\n",
      "mae          0.818\n",
      "mape         0.663\n",
      "mse          0.823\n",
      "rmse         0.907\n",
      "dtype: float64}, ('./output/neuralprophet_202110_DEXCAUS_nlags_36', 'LRUNTTTTCAM156S'): {'2015-07-01': r2_score   -58.989\n",
      "mae          1.063\n",
      "mape         0.152\n",
      "mse          1.231\n",
      "rmse         1.110\n",
      "dtype: float64}, ('./output/neuralprophet_202110_DEXCAUS_nlags_36', 'CPALCY01CAM661N'): {'2015-07-01': r2_score   -0.689\n",
      "mae         0.461\n",
      "mape        0.005\n",
      "mse         0.309\n",
      "rmse        0.556\n",
      "dtype: float64}, ('./output/neuralprophet_202110_DEXCAUS_nlags_36', 'CPGRLE01CAM657N'): {'2015-07-01': r2_score    0.142\n",
      "mae         0.227\n",
      "mape        6.965\n",
      "mse         0.093\n",
      "rmse        0.304\n",
      "dtype: float64}, ('./output/neuralprophet_202110_DEXCAUS_nlags_36', 'QCAR368BIS'): {'2015-07-01': r2_score     0.022\n",
      "mae          2.727\n",
      "mape         0.307\n",
      "mse         10.358\n",
      "rmse         3.218\n",
      "dtype: float64}, ('./output/neuralprophet_202110_DEXCAUS_nlags_36', 'A229RX0'): {'2015-07-01': r2_score        -5.448\n",
      "mae            405.501\n",
      "mape             0.010\n",
      "mse         243817.674\n",
      "rmse           493.779\n",
      "dtype: float64}, ('./output/neuralprophet_202110_DEXCAUS_nlags_36', 'AAA'): {'2015-07-01': r2_score   -2.344\n",
      "mae         0.411\n",
      "mape        0.113\n",
      "mse         0.237\n",
      "rmse        0.487\n",
      "dtype: float64}, ('./output/neuralprophet_202110_DEXCAUS_nlags_36', 'AAA10YM'): {'2015-07-01': r2_score   -0.857\n",
      "mae         0.168\n",
      "mape        0.095\n",
      "mse         0.038\n",
      "rmse        0.194\n",
      "dtype: float64}, ('./output/neuralprophet_202110_DEXCAUS_nlags_36', 'AHETPI'): {'2015-07-01': r2_score   -7.459\n",
      "mae         0.645\n",
      "mape        0.030\n",
      "mse         0.437\n",
      "rmse        0.661\n",
      "dtype: float64}, ('./output/neuralprophet_202110_DEXCAUS_nlags_36', 'ALTSALES'): {'2015-07-01': r2_score   -76.388\n",
      "mae          2.478\n",
      "mape         0.142\n",
      "mse          6.979\n",
      "rmse         2.642\n",
      "dtype: float64}, ('./output/neuralprophet_202110_DEXCAUS_nlags_36', 'AMBNS'): {'2015-07-01': r2_score       -39.471\n",
      "mae            821.130\n",
      "mape             0.219\n",
      "mse         936569.369\n",
      "rmse           967.765\n",
      "dtype: float64}, ('./output/neuralprophet_202110_DEXCAUS_nlags_36', 'AMBSL'): {'2015-07-01': r2_score       -29.321\n",
      "mae            766.459\n",
      "mape             0.205\n",
      "mse         781008.993\n",
      "rmse           883.747\n",
      "dtype: float64}}\n"
     ]
    },
    {
     "name": "stderr",
     "output_type": "stream",
     "text": [
      "INFO - (NP.utils_torch.lr_range_test) - lr-range-test results: steep: 7.65E-03, min: 5.01E-01\n"
     ]
    },
    {
     "data": {
      "application/vnd.jupyter.widget-view+json": {
       "model_id": "7dfc498ae6884f7b815d838538778fda",
       "version_major": 2,
       "version_minor": 0
      },
      "text/plain": [
       "  0%|          | 0/224 [00:00<?, ?it/s]"
      ]
     },
     "metadata": {},
     "output_type": "display_data"
    },
    {
     "name": "stderr",
     "output_type": "stream",
     "text": [
      "INFO - (NP.utils_torch.lr_range_test) - lr-range-test results: steep: 6.97E-03, min: 4.16E-01\n"
     ]
    },
    {
     "data": {
      "application/vnd.jupyter.widget-view+json": {
       "model_id": "739813957f2745b39ef85e97ef76e4a4",
       "version_major": 2,
       "version_minor": 0
      },
      "text/plain": [
       "  0%|          | 0/224 [00:00<?, ?it/s]"
      ]
     },
     "metadata": {},
     "output_type": "display_data"
    },
    {
     "name": "stderr",
     "output_type": "stream",
     "text": [
      "INFO - (NP.utils_torch.lr_range_test) - lr-range-test results: steep: 7.65E-03, min: 4.56E-01\n",
      "INFO - (NP.forecaster._init_train_loader) - lr-range-test selected learning rate: 7.41E-03\n",
      "Epoch[233/233]: 100%|████████| 233/233 [00:15<00:00, 15.38it/s, SmoothL1Loss=0.00353, MAE=0.402, RMSE=0.519, RegLoss=0]\n",
      "INFO - (NP.utils.set_auto_seasonalities) - Disabling weekly seasonality. Run NeuralProphet with weekly_seasonality=True to override this.\n",
      "INFO - (NP.utils.set_auto_seasonalities) - Disabling daily seasonality. Run NeuralProphet with daily_seasonality=True to override this.\n",
      "INFO - (NP.config.set_auto_batch_epoch) - Auto-set batch_size to 16\n",
      "INFO - (NP.config.set_auto_batch_epoch) - Auto-set epochs to 233\n"
     ]
    },
    {
     "data": {
      "application/vnd.jupyter.widget-view+json": {
       "model_id": "7b2cb3f1d1fb441b95e18c7a0d095d78",
       "version_major": 2,
       "version_minor": 0
      },
      "text/plain": [
       "  0%|          | 0/224 [00:00<?, ?it/s]"
      ]
     },
     "metadata": {},
     "output_type": "display_data"
    },
    {
     "name": "stdout",
     "output_type": "stream",
     "text": [
      "this is all yhats  [4.7665300369262695, 4.367652416229248, 4.356418609619141, 4.446925163269043, 4.861164569854736, 4.251708507537842, 4.236237525939941, 4.525640964508057, 4.694236755371094, 4.332054138183594, 4.244118690490723, 4.3171281814575195, 4.256430625915527, 3.995091676712036, 4.481678485870361, 4.010538578033447, 4.3005571365356445, 4.363367080688477]\n",
      "this is all_valid_metrics {('./output/neuralprophet_202110_DEXCAUS_nlags_36', 'Bakery and cereal products (excluding baby food)'): {'2015-07-01': r2_score    -1.293\n",
      "mae          2.431\n",
      "mape         0.016\n",
      "mse         13.253\n",
      "rmse         3.640\n",
      "dtype: float64}, ('./output/neuralprophet_202110_DEXCAUS_nlags_36', 'Dairy products and eggs'): {'2015-07-01': r2_score   -13.605\n",
      "mae          4.824\n",
      "mape         0.035\n",
      "mse         24.585\n",
      "rmse         4.958\n",
      "dtype: float64}, ('./output/neuralprophet_202110_DEXCAUS_nlags_36', 'Fish, seafood and other marine products'): {'2015-07-01': r2_score    -8.306\n",
      "mae          7.749\n",
      "mape         0.060\n",
      "mse         66.916\n",
      "rmse         8.180\n",
      "dtype: float64}, ('./output/neuralprophet_202110_DEXCAUS_nlags_36', 'Food purchased from restaurants'): {'2015-07-01': r2_score   -0.955\n",
      "mae         1.911\n",
      "mape        0.013\n",
      "mse         4.441\n",
      "rmse        2.107\n",
      "dtype: float64}, ('./output/neuralprophet_202110_DEXCAUS_nlags_36', 'Food'): {'2015-07-01': r2_score   -12.443\n",
      "mae          5.611\n",
      "mape         0.039\n",
      "mse         34.223\n",
      "rmse         5.850\n",
      "dtype: float64}, ('./output/neuralprophet_202110_DEXCAUS_nlags_36', 'Fruit, fruit preparations and nuts'): {'2015-07-01': r2_score     -7.234\n",
      "mae          13.582\n",
      "mape          0.099\n",
      "mse         210.081\n",
      "rmse         14.494\n",
      "dtype: float64}, ('./output/neuralprophet_202110_DEXCAUS_nlags_36', 'Meat'): {'2015-07-01': r2_score    -95.052\n",
      "mae          14.399\n",
      "mape          0.091\n",
      "mse         218.026\n",
      "rmse         14.766\n",
      "dtype: float64}, ('./output/neuralprophet_202110_DEXCAUS_nlags_36', 'Other food products and non-alcoholic beverages'): {'2015-07-01': r2_score   -11.517\n",
      "mae          3.484\n",
      "mape         0.026\n",
      "mse         17.934\n",
      "rmse         4.235\n",
      "dtype: float64}, ('./output/neuralprophet_202110_DEXCAUS_nlags_36', 'Vegetables and vegetable preparations'): {'2015-07-01': r2_score     -1.521\n",
      "mae          12.588\n",
      "mape          0.092\n",
      "mse         198.463\n",
      "rmse         14.088\n",
      "dtype: float64}, ('./output/neuralprophet_202110_DEXCAUS_nlags_36', 'DEXCAUS'): {'2015-07-01': r2_score   -121.536\n",
      "mae           0.289\n",
      "mape          0.218\n",
      "mse           0.085\n",
      "rmse          0.291\n",
      "dtype: float64}, ('./output/neuralprophet_202110_DEXCAUS_nlags_36', 'DCOILWTICO'): {'2015-07-01': r2_score    -119.478\n",
      "mae           64.258\n",
      "mape           1.528\n",
      "mse         4305.505\n",
      "rmse          65.616\n",
      "dtype: float64}, ('./output/neuralprophet_202110_DEXCAUS_nlags_36', 'WILL5000IND'): {'2015-07-01': r2_score    -1.753\n",
      "mae          7.811\n",
      "mape         0.085\n",
      "mse         70.746\n",
      "rmse         8.411\n",
      "dtype: float64}, ('./output/neuralprophet_202110_DEXCAUS_nlags_36', 'VXOCLS'): {'2015-07-01': r2_score     0.436\n",
      "mae          2.897\n",
      "mape         0.160\n",
      "mse         14.134\n",
      "rmse         3.760\n",
      "dtype: float64}, ('./output/neuralprophet_202110_DEXCAUS_nlags_36', 'CUSR0000SAF112'): {'2015-07-01': r2_score    -17.715\n",
      "mae          26.344\n",
      "mape          0.106\n",
      "mse         790.781\n",
      "rmse         28.121\n",
      "dtype: float64}, ('./output/neuralprophet_202110_DEXCAUS_nlags_36', 'CUSR0000SAF113'): {'2015-07-01': r2_score    -29.210\n",
      "mae          17.501\n",
      "mape          0.059\n",
      "mse         416.210\n",
      "rmse         20.401\n",
      "dtype: float64}, ('./output/neuralprophet_202110_DEXCAUS_nlags_36', 'CPIFABSL'): {'2015-07-01': r2_score   -38.069\n",
      "mae          1.444\n",
      "mape         0.006\n",
      "mse          3.040\n",
      "rmse         1.744\n",
      "dtype: float64}, ('./output/neuralprophet_202110_DEXCAUS_nlags_36', 'UNRATE'): {'2015-07-01': r2_score   -23.720\n",
      "mae          0.508\n",
      "mape         0.102\n",
      "mse          0.381\n",
      "rmse         0.618\n",
      "dtype: float64}, ('./output/neuralprophet_202110_DEXCAUS_nlags_36', 'FEDFUNDS'): {'2015-07-01': r2_score   -101.763\n",
      "mae           1.387\n",
      "mape          4.875\n",
      "mse           1.978\n",
      "rmse          1.406\n",
      "dtype: float64}, ('./output/neuralprophet_202110_DEXCAUS_nlags_36', 'IRLTLT01CAM156N'): {'2015-07-01': r2_score   -17.481\n",
      "mae          0.818\n",
      "mape         0.663\n",
      "mse          0.823\n",
      "rmse         0.907\n",
      "dtype: float64}, ('./output/neuralprophet_202110_DEXCAUS_nlags_36', 'LRUNTTTTCAM156S'): {'2015-07-01': r2_score   -58.989\n",
      "mae          1.063\n",
      "mape         0.152\n",
      "mse          1.231\n",
      "rmse         1.110\n",
      "dtype: float64}, ('./output/neuralprophet_202110_DEXCAUS_nlags_36', 'CPALCY01CAM661N'): {'2015-07-01': r2_score   -0.689\n",
      "mae         0.461\n",
      "mape        0.005\n",
      "mse         0.309\n",
      "rmse        0.556\n",
      "dtype: float64}, ('./output/neuralprophet_202110_DEXCAUS_nlags_36', 'CPGRLE01CAM657N'): {'2015-07-01': r2_score    0.142\n",
      "mae         0.227\n",
      "mape        6.965\n",
      "mse         0.093\n",
      "rmse        0.304\n",
      "dtype: float64}, ('./output/neuralprophet_202110_DEXCAUS_nlags_36', 'QCAR368BIS'): {'2015-07-01': r2_score     0.022\n",
      "mae          2.727\n",
      "mape         0.307\n",
      "mse         10.358\n",
      "rmse         3.218\n",
      "dtype: float64}, ('./output/neuralprophet_202110_DEXCAUS_nlags_36', 'A229RX0'): {'2015-07-01': r2_score        -5.448\n",
      "mae            405.501\n",
      "mape             0.010\n",
      "mse         243817.674\n",
      "rmse           493.779\n",
      "dtype: float64}, ('./output/neuralprophet_202110_DEXCAUS_nlags_36', 'AAA'): {'2015-07-01': r2_score   -2.344\n",
      "mae         0.411\n",
      "mape        0.113\n",
      "mse         0.237\n",
      "rmse        0.487\n",
      "dtype: float64}, ('./output/neuralprophet_202110_DEXCAUS_nlags_36', 'AAA10YM'): {'2015-07-01': r2_score   -0.857\n",
      "mae         0.168\n",
      "mape        0.095\n",
      "mse         0.038\n",
      "rmse        0.194\n",
      "dtype: float64}, ('./output/neuralprophet_202110_DEXCAUS_nlags_36', 'AHETPI'): {'2015-07-01': r2_score   -7.459\n",
      "mae         0.645\n",
      "mape        0.030\n",
      "mse         0.437\n",
      "rmse        0.661\n",
      "dtype: float64}, ('./output/neuralprophet_202110_DEXCAUS_nlags_36', 'ALTSALES'): {'2015-07-01': r2_score   -76.388\n",
      "mae          2.478\n",
      "mape         0.142\n",
      "mse          6.979\n",
      "rmse         2.642\n",
      "dtype: float64}, ('./output/neuralprophet_202110_DEXCAUS_nlags_36', 'AMBNS'): {'2015-07-01': r2_score       -39.471\n",
      "mae            821.130\n",
      "mape             0.219\n",
      "mse         936569.369\n",
      "rmse           967.765\n",
      "dtype: float64}, ('./output/neuralprophet_202110_DEXCAUS_nlags_36', 'AMBSL'): {'2015-07-01': r2_score       -29.321\n",
      "mae            766.459\n",
      "mape             0.205\n",
      "mse         781008.993\n",
      "rmse           883.747\n",
      "dtype: float64}, ('./output/neuralprophet_202110_DEXCAUS_nlags_36', 'BAA'): {'2015-07-01': r2_score   -1.222\n",
      "mae         0.538\n",
      "mape        0.105\n",
      "mse         0.427\n",
      "rmse        0.653\n",
      "dtype: float64}}\n"
     ]
    },
    {
     "name": "stderr",
     "output_type": "stream",
     "text": [
      "INFO - (NP.utils_torch.lr_range_test) - lr-range-test results: steep: 3.71E-02, min: 2.17E-01\n"
     ]
    },
    {
     "data": {
      "application/vnd.jupyter.widget-view+json": {
       "model_id": "3ea02029e53245e09bea962099aaef5c",
       "version_major": 2,
       "version_minor": 0
      },
      "text/plain": [
       "  0%|          | 0/224 [00:00<?, ?it/s]"
      ]
     },
     "metadata": {},
     "output_type": "display_data"
    },
    {
     "name": "stderr",
     "output_type": "stream",
     "text": [
      "INFO - (NP.utils_torch.lr_range_test) - lr-range-test results: steep: 4.47E-02, min: 1.64E-01\n"
     ]
    },
    {
     "data": {
      "application/vnd.jupyter.widget-view+json": {
       "model_id": "670e7432f5cf4426a144a0ffef3c33dd",
       "version_major": 2,
       "version_minor": 0
      },
      "text/plain": [
       "  0%|          | 0/224 [00:00<?, ?it/s]"
      ]
     },
     "metadata": {},
     "output_type": "display_data"
    },
    {
     "name": "stderr",
     "output_type": "stream",
     "text": [
      "INFO - (NP.utils_torch.lr_range_test) - lr-range-test results: steep: 5.38E-02, min: 2.17E-01\n",
      "INFO - (NP.forecaster._init_train_loader) - lr-range-test selected learning rate: 4.47E-02\n",
      "Epoch[233/233]: 100%|█████████| 233/233 [00:14<00:00, 16.36it/s, SmoothL1Loss=0.0125, MAE=0.238, RMSE=0.323, RegLoss=0]\n",
      "INFO - (NP.utils.set_auto_seasonalities) - Disabling weekly seasonality. Run NeuralProphet with weekly_seasonality=True to override this.\n",
      "INFO - (NP.utils.set_auto_seasonalities) - Disabling daily seasonality. Run NeuralProphet with daily_seasonality=True to override this.\n",
      "INFO - (NP.config.set_auto_batch_epoch) - Auto-set batch_size to 16\n",
      "INFO - (NP.config.set_auto_batch_epoch) - Auto-set epochs to 233\n"
     ]
    },
    {
     "data": {
      "application/vnd.jupyter.widget-view+json": {
       "model_id": "93d445fd4815439dbea1f1d1a518b11b",
       "version_major": 2,
       "version_minor": 0
      },
      "text/plain": [
       "  0%|          | 0/224 [00:00<?, ?it/s]"
      ]
     },
     "metadata": {},
     "output_type": "display_data"
    },
    {
     "name": "stdout",
     "output_type": "stream",
     "text": [
      "this is all yhats  [2.8131983280181885, 2.840508222579956, 2.866243362426758, 2.927687644958496, 2.8968589305877686, 2.674461603164673, 2.5293092727661133, 2.4224605560302734, 2.3240036964416504, 2.138607978820801, 2.1157376766204834, 2.003075361251831, 2.019153356552124, 2.0717108249664307, 2.199761390686035, 2.2601723670959473, 2.3272628784179688, 2.25907301902771]\n",
      "this is all_valid_metrics {('./output/neuralprophet_202110_DEXCAUS_nlags_36', 'Bakery and cereal products (excluding baby food)'): {'2015-07-01': r2_score    -1.293\n",
      "mae          2.431\n",
      "mape         0.016\n",
      "mse         13.253\n",
      "rmse         3.640\n",
      "dtype: float64}, ('./output/neuralprophet_202110_DEXCAUS_nlags_36', 'Dairy products and eggs'): {'2015-07-01': r2_score   -13.605\n",
      "mae          4.824\n",
      "mape         0.035\n",
      "mse         24.585\n",
      "rmse         4.958\n",
      "dtype: float64}, ('./output/neuralprophet_202110_DEXCAUS_nlags_36', 'Fish, seafood and other marine products'): {'2015-07-01': r2_score    -8.306\n",
      "mae          7.749\n",
      "mape         0.060\n",
      "mse         66.916\n",
      "rmse         8.180\n",
      "dtype: float64}, ('./output/neuralprophet_202110_DEXCAUS_nlags_36', 'Food purchased from restaurants'): {'2015-07-01': r2_score   -0.955\n",
      "mae         1.911\n",
      "mape        0.013\n",
      "mse         4.441\n",
      "rmse        2.107\n",
      "dtype: float64}, ('./output/neuralprophet_202110_DEXCAUS_nlags_36', 'Food'): {'2015-07-01': r2_score   -12.443\n",
      "mae          5.611\n",
      "mape         0.039\n",
      "mse         34.223\n",
      "rmse         5.850\n",
      "dtype: float64}, ('./output/neuralprophet_202110_DEXCAUS_nlags_36', 'Fruit, fruit preparations and nuts'): {'2015-07-01': r2_score     -7.234\n",
      "mae          13.582\n",
      "mape          0.099\n",
      "mse         210.081\n",
      "rmse         14.494\n",
      "dtype: float64}, ('./output/neuralprophet_202110_DEXCAUS_nlags_36', 'Meat'): {'2015-07-01': r2_score    -95.052\n",
      "mae          14.399\n",
      "mape          0.091\n",
      "mse         218.026\n",
      "rmse         14.766\n",
      "dtype: float64}, ('./output/neuralprophet_202110_DEXCAUS_nlags_36', 'Other food products and non-alcoholic beverages'): {'2015-07-01': r2_score   -11.517\n",
      "mae          3.484\n",
      "mape         0.026\n",
      "mse         17.934\n",
      "rmse         4.235\n",
      "dtype: float64}, ('./output/neuralprophet_202110_DEXCAUS_nlags_36', 'Vegetables and vegetable preparations'): {'2015-07-01': r2_score     -1.521\n",
      "mae          12.588\n",
      "mape          0.092\n",
      "mse         198.463\n",
      "rmse         14.088\n",
      "dtype: float64}, ('./output/neuralprophet_202110_DEXCAUS_nlags_36', 'DEXCAUS'): {'2015-07-01': r2_score   -121.536\n",
      "mae           0.289\n",
      "mape          0.218\n",
      "mse           0.085\n",
      "rmse          0.291\n",
      "dtype: float64}, ('./output/neuralprophet_202110_DEXCAUS_nlags_36', 'DCOILWTICO'): {'2015-07-01': r2_score    -119.478\n",
      "mae           64.258\n",
      "mape           1.528\n",
      "mse         4305.505\n",
      "rmse          65.616\n",
      "dtype: float64}, ('./output/neuralprophet_202110_DEXCAUS_nlags_36', 'WILL5000IND'): {'2015-07-01': r2_score    -1.753\n",
      "mae          7.811\n",
      "mape         0.085\n",
      "mse         70.746\n",
      "rmse         8.411\n",
      "dtype: float64}, ('./output/neuralprophet_202110_DEXCAUS_nlags_36', 'VXOCLS'): {'2015-07-01': r2_score     0.436\n",
      "mae          2.897\n",
      "mape         0.160\n",
      "mse         14.134\n",
      "rmse         3.760\n",
      "dtype: float64}, ('./output/neuralprophet_202110_DEXCAUS_nlags_36', 'CUSR0000SAF112'): {'2015-07-01': r2_score    -17.715\n",
      "mae          26.344\n",
      "mape          0.106\n",
      "mse         790.781\n",
      "rmse         28.121\n",
      "dtype: float64}, ('./output/neuralprophet_202110_DEXCAUS_nlags_36', 'CUSR0000SAF113'): {'2015-07-01': r2_score    -29.210\n",
      "mae          17.501\n",
      "mape          0.059\n",
      "mse         416.210\n",
      "rmse         20.401\n",
      "dtype: float64}, ('./output/neuralprophet_202110_DEXCAUS_nlags_36', 'CPIFABSL'): {'2015-07-01': r2_score   -38.069\n",
      "mae          1.444\n",
      "mape         0.006\n",
      "mse          3.040\n",
      "rmse         1.744\n",
      "dtype: float64}, ('./output/neuralprophet_202110_DEXCAUS_nlags_36', 'UNRATE'): {'2015-07-01': r2_score   -23.720\n",
      "mae          0.508\n",
      "mape         0.102\n",
      "mse          0.381\n",
      "rmse         0.618\n",
      "dtype: float64}, ('./output/neuralprophet_202110_DEXCAUS_nlags_36', 'FEDFUNDS'): {'2015-07-01': r2_score   -101.763\n",
      "mae           1.387\n",
      "mape          4.875\n",
      "mse           1.978\n",
      "rmse          1.406\n",
      "dtype: float64}, ('./output/neuralprophet_202110_DEXCAUS_nlags_36', 'IRLTLT01CAM156N'): {'2015-07-01': r2_score   -17.481\n",
      "mae          0.818\n",
      "mape         0.663\n",
      "mse          0.823\n",
      "rmse         0.907\n",
      "dtype: float64}, ('./output/neuralprophet_202110_DEXCAUS_nlags_36', 'LRUNTTTTCAM156S'): {'2015-07-01': r2_score   -58.989\n",
      "mae          1.063\n",
      "mape         0.152\n",
      "mse          1.231\n",
      "rmse         1.110\n",
      "dtype: float64}, ('./output/neuralprophet_202110_DEXCAUS_nlags_36', 'CPALCY01CAM661N'): {'2015-07-01': r2_score   -0.689\n",
      "mae         0.461\n",
      "mape        0.005\n",
      "mse         0.309\n",
      "rmse        0.556\n",
      "dtype: float64}, ('./output/neuralprophet_202110_DEXCAUS_nlags_36', 'CPGRLE01CAM657N'): {'2015-07-01': r2_score    0.142\n",
      "mae         0.227\n",
      "mape        6.965\n",
      "mse         0.093\n",
      "rmse        0.304\n",
      "dtype: float64}, ('./output/neuralprophet_202110_DEXCAUS_nlags_36', 'QCAR368BIS'): {'2015-07-01': r2_score     0.022\n",
      "mae          2.727\n",
      "mape         0.307\n",
      "mse         10.358\n",
      "rmse         3.218\n",
      "dtype: float64}, ('./output/neuralprophet_202110_DEXCAUS_nlags_36', 'A229RX0'): {'2015-07-01': r2_score        -5.448\n",
      "mae            405.501\n",
      "mape             0.010\n",
      "mse         243817.674\n",
      "rmse           493.779\n",
      "dtype: float64}, ('./output/neuralprophet_202110_DEXCAUS_nlags_36', 'AAA'): {'2015-07-01': r2_score   -2.344\n",
      "mae         0.411\n",
      "mape        0.113\n",
      "mse         0.237\n",
      "rmse        0.487\n",
      "dtype: float64}, ('./output/neuralprophet_202110_DEXCAUS_nlags_36', 'AAA10YM'): {'2015-07-01': r2_score   -0.857\n",
      "mae         0.168\n",
      "mape        0.095\n",
      "mse         0.038\n",
      "rmse        0.194\n",
      "dtype: float64}, ('./output/neuralprophet_202110_DEXCAUS_nlags_36', 'AHETPI'): {'2015-07-01': r2_score   -7.459\n",
      "mae         0.645\n",
      "mape        0.030\n",
      "mse         0.437\n",
      "rmse        0.661\n",
      "dtype: float64}, ('./output/neuralprophet_202110_DEXCAUS_nlags_36', 'ALTSALES'): {'2015-07-01': r2_score   -76.388\n",
      "mae          2.478\n",
      "mape         0.142\n",
      "mse          6.979\n",
      "rmse         2.642\n",
      "dtype: float64}, ('./output/neuralprophet_202110_DEXCAUS_nlags_36', 'AMBNS'): {'2015-07-01': r2_score       -39.471\n",
      "mae            821.130\n",
      "mape             0.219\n",
      "mse         936569.369\n",
      "rmse           967.765\n",
      "dtype: float64}, ('./output/neuralprophet_202110_DEXCAUS_nlags_36', 'AMBSL'): {'2015-07-01': r2_score       -29.321\n",
      "mae            766.459\n",
      "mape             0.205\n",
      "mse         781008.993\n",
      "rmse           883.747\n",
      "dtype: float64}, ('./output/neuralprophet_202110_DEXCAUS_nlags_36', 'BAA'): {'2015-07-01': r2_score   -1.222\n",
      "mae         0.538\n",
      "mape        0.105\n",
      "mse         0.427\n",
      "rmse        0.653\n",
      "dtype: float64}, ('./output/neuralprophet_202110_DEXCAUS_nlags_36', 'BAA10YM'): {'2015-07-01': r2_score   -1.594\n",
      "mae         0.499\n",
      "mape        0.167\n",
      "mse         0.325\n",
      "rmse        0.570\n",
      "dtype: float64}}\n"
     ]
    },
    {
     "name": "stderr",
     "output_type": "stream",
     "text": [
      "INFO - (NP.utils_torch.lr_range_test) - lr-range-test results: steep: 5.79E-03, min: 5.49E-01\n"
     ]
    },
    {
     "data": {
      "application/vnd.jupyter.widget-view+json": {
       "model_id": "2a044ae9389f43468ef55199e50ff392",
       "version_major": 2,
       "version_minor": 0
      },
      "text/plain": [
       "  0%|          | 0/224 [00:00<?, ?it/s]"
      ]
     },
     "metadata": {},
     "output_type": "display_data"
    },
    {
     "name": "stderr",
     "output_type": "stream",
     "text": [
      "INFO - (NP.utils_torch.lr_range_test) - lr-range-test results: steep: 5.79E-03, min: 4.16E-01\n"
     ]
    },
    {
     "data": {
      "application/vnd.jupyter.widget-view+json": {
       "model_id": "c8783a31b8684ad1b4f474788a469406",
       "version_major": 2,
       "version_minor": 0
      },
      "text/plain": [
       "  0%|          | 0/224 [00:00<?, ?it/s]"
      ]
     },
     "metadata": {},
     "output_type": "display_data"
    },
    {
     "name": "stderr",
     "output_type": "stream",
     "text": [
      "INFO - (NP.utils_torch.lr_range_test) - lr-range-test results: steep: 5.79E-03, min: 5.49E-01\n",
      "INFO - (NP.forecaster._init_train_loader) - lr-range-test selected learning rate: 5.79E-03\n",
      "Epoch[110/233]:  47%|█▉  | 110/233 [00:07<00:08, 14.61it/s, SmoothL1Loss=0.00233, MAE=1.88e+5, RMSE=2.45e+5, RegLoss=0]\n"
     ]
    },
    {
     "ename": "KeyboardInterrupt",
     "evalue": "",
     "output_type": "error",
     "traceback": [
      "\u001b[1;31m---------------------------------------------------------------------------\u001b[0m",
      "\u001b[1;31mKeyboardInterrupt\u001b[0m                         Traceback (most recent call last)",
      "\u001b[1;32m<timed exec>\u001b[0m in \u001b[0;36m<module>\u001b[1;34m\u001b[0m\n",
      "\u001b[1;32m~\\anaconda3\\lib\\site-packages\\neuralprophet\\forecaster.py\u001b[0m in \u001b[0;36mfit\u001b[1;34m(self, df, freq, validation_df, epochs, local_modeling, progress_bar, plot_live_loss, progress_print, minimal)\u001b[0m\n\u001b[0;32m    949\u001b[0m                 \u001b[0mmetrics_df\u001b[0m \u001b[1;33m=\u001b[0m \u001b[1;32mNone\u001b[0m\u001b[1;33m\u001b[0m\u001b[1;33m\u001b[0m\u001b[0m\n\u001b[0;32m    950\u001b[0m             \u001b[1;32melse\u001b[0m\u001b[1;33m:\u001b[0m\u001b[1;33m\u001b[0m\u001b[1;33m\u001b[0m\u001b[0m\n\u001b[1;32m--> 951\u001b[1;33m                 \u001b[0mmetrics_df\u001b[0m \u001b[1;33m=\u001b[0m \u001b[0mself\u001b[0m\u001b[1;33m.\u001b[0m\u001b[0m_train\u001b[0m\u001b[1;33m(\u001b[0m\u001b[0mdf\u001b[0m\u001b[1;33m,\u001b[0m \u001b[0mprogress_bar\u001b[0m\u001b[1;33m=\u001b[0m\u001b[0mprogress_bar\u001b[0m\u001b[1;33m,\u001b[0m \u001b[0mplot_live_loss\u001b[0m\u001b[1;33m=\u001b[0m\u001b[0mplot_live_loss\u001b[0m\u001b[1;33m)\u001b[0m\u001b[1;33m\u001b[0m\u001b[1;33m\u001b[0m\u001b[0m\n\u001b[0m\u001b[0;32m    952\u001b[0m \u001b[1;33m\u001b[0m\u001b[0m\n\u001b[0;32m    953\u001b[0m         \u001b[1;32mif\u001b[0m \u001b[0mepochs\u001b[0m \u001b[1;32mis\u001b[0m \u001b[1;32mnot\u001b[0m \u001b[1;32mNone\u001b[0m\u001b[1;33m:\u001b[0m\u001b[1;33m\u001b[0m\u001b[1;33m\u001b[0m\u001b[0m\n",
      "\u001b[1;32m~\\anaconda3\\lib\\site-packages\\neuralprophet\\forecaster.py\u001b[0m in \u001b[0;36m_train\u001b[1;34m(self, df, df_val, progress_bar, plot_live_loss, progress_print)\u001b[0m\n\u001b[0;32m    697\u001b[0m                 \u001b[0mval_metrics\u001b[0m\u001b[1;33m.\u001b[0m\u001b[0mreset\u001b[0m\u001b[1;33m(\u001b[0m\u001b[1;33m)\u001b[0m\u001b[1;33m\u001b[0m\u001b[1;33m\u001b[0m\u001b[0m\n\u001b[0;32m    698\u001b[0m             \u001b[1;31m# run epoch\u001b[0m\u001b[1;33m\u001b[0m\u001b[1;33m\u001b[0m\u001b[0m\n\u001b[1;32m--> 699\u001b[1;33m             \u001b[0mepoch_metrics\u001b[0m \u001b[1;33m=\u001b[0m \u001b[0mself\u001b[0m\u001b[1;33m.\u001b[0m\u001b[0m_train_epoch\u001b[0m\u001b[1;33m(\u001b[0m\u001b[0me\u001b[0m\u001b[1;33m,\u001b[0m \u001b[0mloader\u001b[0m\u001b[1;33m)\u001b[0m\u001b[1;33m\u001b[0m\u001b[1;33m\u001b[0m\u001b[0m\n\u001b[0m\u001b[0;32m    700\u001b[0m             \u001b[1;31m# collect metrics\u001b[0m\u001b[1;33m\u001b[0m\u001b[1;33m\u001b[0m\u001b[0m\n\u001b[0;32m    701\u001b[0m             \u001b[1;32mif\u001b[0m \u001b[0mval\u001b[0m\u001b[1;33m:\u001b[0m\u001b[1;33m\u001b[0m\u001b[1;33m\u001b[0m\u001b[0m\n",
      "\u001b[1;32m~\\anaconda3\\lib\\site-packages\\neuralprophet\\forecaster.py\u001b[0m in \u001b[0;36m_train_epoch\u001b[1;34m(self, e, loader)\u001b[0m\n\u001b[0;32m    552\u001b[0m             \u001b[0mself\u001b[0m\u001b[1;33m.\u001b[0m\u001b[0moptimizer\u001b[0m\u001b[1;33m.\u001b[0m\u001b[0mzero_grad\u001b[0m\u001b[1;33m(\u001b[0m\u001b[1;33m)\u001b[0m\u001b[1;33m\u001b[0m\u001b[1;33m\u001b[0m\u001b[0m\n\u001b[0;32m    553\u001b[0m             \u001b[0mloss\u001b[0m\u001b[1;33m.\u001b[0m\u001b[0mbackward\u001b[0m\u001b[1;33m(\u001b[0m\u001b[1;33m)\u001b[0m\u001b[1;33m\u001b[0m\u001b[1;33m\u001b[0m\u001b[0m\n\u001b[1;32m--> 554\u001b[1;33m             \u001b[0mself\u001b[0m\u001b[1;33m.\u001b[0m\u001b[0moptimizer\u001b[0m\u001b[1;33m.\u001b[0m\u001b[0mstep\u001b[0m\u001b[1;33m(\u001b[0m\u001b[1;33m)\u001b[0m\u001b[1;33m\u001b[0m\u001b[1;33m\u001b[0m\u001b[0m\n\u001b[0m\u001b[0;32m    555\u001b[0m             \u001b[0mself\u001b[0m\u001b[1;33m.\u001b[0m\u001b[0mscheduler\u001b[0m\u001b[1;33m.\u001b[0m\u001b[0mstep\u001b[0m\u001b[1;33m(\u001b[0m\u001b[1;33m)\u001b[0m\u001b[1;33m\u001b[0m\u001b[1;33m\u001b[0m\u001b[0m\n\u001b[0;32m    556\u001b[0m             \u001b[1;32mif\u001b[0m \u001b[0mself\u001b[0m\u001b[1;33m.\u001b[0m\u001b[0mmetrics\u001b[0m \u001b[1;32mis\u001b[0m \u001b[1;32mnot\u001b[0m \u001b[1;32mNone\u001b[0m\u001b[1;33m:\u001b[0m\u001b[1;33m\u001b[0m\u001b[1;33m\u001b[0m\u001b[0m\n",
      "\u001b[1;32m~\\anaconda3\\lib\\site-packages\\torch\\optim\\lr_scheduler.py\u001b[0m in \u001b[0;36mwrapper\u001b[1;34m(*args, **kwargs)\u001b[0m\n\u001b[0;32m     63\u001b[0m                 \u001b[0minstance\u001b[0m\u001b[1;33m.\u001b[0m\u001b[0m_step_count\u001b[0m \u001b[1;33m+=\u001b[0m \u001b[1;36m1\u001b[0m\u001b[1;33m\u001b[0m\u001b[1;33m\u001b[0m\u001b[0m\n\u001b[0;32m     64\u001b[0m                 \u001b[0mwrapped\u001b[0m \u001b[1;33m=\u001b[0m \u001b[0mfunc\u001b[0m\u001b[1;33m.\u001b[0m\u001b[0m__get__\u001b[0m\u001b[1;33m(\u001b[0m\u001b[0minstance\u001b[0m\u001b[1;33m,\u001b[0m \u001b[0mcls\u001b[0m\u001b[1;33m)\u001b[0m\u001b[1;33m\u001b[0m\u001b[1;33m\u001b[0m\u001b[0m\n\u001b[1;32m---> 65\u001b[1;33m                 \u001b[1;32mreturn\u001b[0m \u001b[0mwrapped\u001b[0m\u001b[1;33m(\u001b[0m\u001b[1;33m*\u001b[0m\u001b[0margs\u001b[0m\u001b[1;33m,\u001b[0m \u001b[1;33m**\u001b[0m\u001b[0mkwargs\u001b[0m\u001b[1;33m)\u001b[0m\u001b[1;33m\u001b[0m\u001b[1;33m\u001b[0m\u001b[0m\n\u001b[0m\u001b[0;32m     66\u001b[0m \u001b[1;33m\u001b[0m\u001b[0m\n\u001b[0;32m     67\u001b[0m             \u001b[1;31m# Note that the returned function here is no longer a bound method,\u001b[0m\u001b[1;33m\u001b[0m\u001b[1;33m\u001b[0m\u001b[0m\n",
      "\u001b[1;32m~\\anaconda3\\lib\\site-packages\\torch\\optim\\optimizer.py\u001b[0m in \u001b[0;36mwrapper\u001b[1;34m(*args, **kwargs)\u001b[0m\n\u001b[0;32m     86\u001b[0m                 \u001b[0mprofile_name\u001b[0m \u001b[1;33m=\u001b[0m \u001b[1;34m\"Optimizer.step#{}.step\"\u001b[0m\u001b[1;33m.\u001b[0m\u001b[0mformat\u001b[0m\u001b[1;33m(\u001b[0m\u001b[0mobj\u001b[0m\u001b[1;33m.\u001b[0m\u001b[0m__class__\u001b[0m\u001b[1;33m.\u001b[0m\u001b[0m__name__\u001b[0m\u001b[1;33m)\u001b[0m\u001b[1;33m\u001b[0m\u001b[1;33m\u001b[0m\u001b[0m\n\u001b[0;32m     87\u001b[0m                 \u001b[1;32mwith\u001b[0m \u001b[0mtorch\u001b[0m\u001b[1;33m.\u001b[0m\u001b[0mautograd\u001b[0m\u001b[1;33m.\u001b[0m\u001b[0mprofiler\u001b[0m\u001b[1;33m.\u001b[0m\u001b[0mrecord_function\u001b[0m\u001b[1;33m(\u001b[0m\u001b[0mprofile_name\u001b[0m\u001b[1;33m)\u001b[0m\u001b[1;33m:\u001b[0m\u001b[1;33m\u001b[0m\u001b[1;33m\u001b[0m\u001b[0m\n\u001b[1;32m---> 88\u001b[1;33m                     \u001b[1;32mreturn\u001b[0m \u001b[0mfunc\u001b[0m\u001b[1;33m(\u001b[0m\u001b[1;33m*\u001b[0m\u001b[0margs\u001b[0m\u001b[1;33m,\u001b[0m \u001b[1;33m**\u001b[0m\u001b[0mkwargs\u001b[0m\u001b[1;33m)\u001b[0m\u001b[1;33m\u001b[0m\u001b[1;33m\u001b[0m\u001b[0m\n\u001b[0m\u001b[0;32m     89\u001b[0m             \u001b[1;32mreturn\u001b[0m \u001b[0mwrapper\u001b[0m\u001b[1;33m\u001b[0m\u001b[1;33m\u001b[0m\u001b[0m\n\u001b[0;32m     90\u001b[0m \u001b[1;33m\u001b[0m\u001b[0m\n",
      "\u001b[1;32m~\\anaconda3\\lib\\site-packages\\torch\\autograd\\grad_mode.py\u001b[0m in \u001b[0;36mdecorate_context\u001b[1;34m(*args, **kwargs)\u001b[0m\n\u001b[0;32m     26\u001b[0m         \u001b[1;32mdef\u001b[0m \u001b[0mdecorate_context\u001b[0m\u001b[1;33m(\u001b[0m\u001b[1;33m*\u001b[0m\u001b[0margs\u001b[0m\u001b[1;33m,\u001b[0m \u001b[1;33m**\u001b[0m\u001b[0mkwargs\u001b[0m\u001b[1;33m)\u001b[0m\u001b[1;33m:\u001b[0m\u001b[1;33m\u001b[0m\u001b[1;33m\u001b[0m\u001b[0m\n\u001b[0;32m     27\u001b[0m             \u001b[1;32mwith\u001b[0m \u001b[0mself\u001b[0m\u001b[1;33m.\u001b[0m\u001b[0m__class__\u001b[0m\u001b[1;33m(\u001b[0m\u001b[1;33m)\u001b[0m\u001b[1;33m:\u001b[0m\u001b[1;33m\u001b[0m\u001b[1;33m\u001b[0m\u001b[0m\n\u001b[1;32m---> 28\u001b[1;33m                 \u001b[1;32mreturn\u001b[0m \u001b[0mfunc\u001b[0m\u001b[1;33m(\u001b[0m\u001b[1;33m*\u001b[0m\u001b[0margs\u001b[0m\u001b[1;33m,\u001b[0m \u001b[1;33m**\u001b[0m\u001b[0mkwargs\u001b[0m\u001b[1;33m)\u001b[0m\u001b[1;33m\u001b[0m\u001b[1;33m\u001b[0m\u001b[0m\n\u001b[0m\u001b[0;32m     29\u001b[0m         \u001b[1;32mreturn\u001b[0m \u001b[0mcast\u001b[0m\u001b[1;33m(\u001b[0m\u001b[0mF\u001b[0m\u001b[1;33m,\u001b[0m \u001b[0mdecorate_context\u001b[0m\u001b[1;33m)\u001b[0m\u001b[1;33m\u001b[0m\u001b[1;33m\u001b[0m\u001b[0m\n\u001b[0;32m     30\u001b[0m \u001b[1;33m\u001b[0m\u001b[0m\n",
      "\u001b[1;32m~\\anaconda3\\lib\\site-packages\\torch\\optim\\adamw.py\u001b[0m in \u001b[0;36mstep\u001b[1;34m(self, closure)\u001b[0m\n\u001b[0;32m    135\u001b[0m                 \u001b[0mstate_steps\u001b[0m\u001b[1;33m.\u001b[0m\u001b[0mappend\u001b[0m\u001b[1;33m(\u001b[0m\u001b[0mstate\u001b[0m\u001b[1;33m[\u001b[0m\u001b[1;34m'step'\u001b[0m\u001b[1;33m]\u001b[0m\u001b[1;33m)\u001b[0m\u001b[1;33m\u001b[0m\u001b[1;33m\u001b[0m\u001b[0m\n\u001b[0;32m    136\u001b[0m \u001b[1;33m\u001b[0m\u001b[0m\n\u001b[1;32m--> 137\u001b[1;33m             F.adamw(params_with_grad,\n\u001b[0m\u001b[0;32m    138\u001b[0m                     \u001b[0mgrads\u001b[0m\u001b[1;33m,\u001b[0m\u001b[1;33m\u001b[0m\u001b[1;33m\u001b[0m\u001b[0m\n\u001b[0;32m    139\u001b[0m                     \u001b[0mexp_avgs\u001b[0m\u001b[1;33m,\u001b[0m\u001b[1;33m\u001b[0m\u001b[1;33m\u001b[0m\u001b[0m\n",
      "\u001b[1;32m~\\anaconda3\\lib\\site-packages\\torch\\optim\\_functional.py\u001b[0m in \u001b[0;36madamw\u001b[1;34m(params, grads, exp_avgs, exp_avg_sqs, max_exp_avg_sqs, state_steps, amsgrad, beta1, beta2, lr, weight_decay, eps)\u001b[0m\n\u001b[0;32m    137\u001b[0m             \u001b[0mdenom\u001b[0m \u001b[1;33m=\u001b[0m \u001b[1;33m(\u001b[0m\u001b[0mmax_exp_avg_sqs\u001b[0m\u001b[1;33m[\u001b[0m\u001b[0mi\u001b[0m\u001b[1;33m]\u001b[0m\u001b[1;33m.\u001b[0m\u001b[0msqrt\u001b[0m\u001b[1;33m(\u001b[0m\u001b[1;33m)\u001b[0m \u001b[1;33m/\u001b[0m \u001b[0mmath\u001b[0m\u001b[1;33m.\u001b[0m\u001b[0msqrt\u001b[0m\u001b[1;33m(\u001b[0m\u001b[0mbias_correction2\u001b[0m\u001b[1;33m)\u001b[0m\u001b[1;33m)\u001b[0m\u001b[1;33m.\u001b[0m\u001b[0madd_\u001b[0m\u001b[1;33m(\u001b[0m\u001b[0meps\u001b[0m\u001b[1;33m)\u001b[0m\u001b[1;33m\u001b[0m\u001b[1;33m\u001b[0m\u001b[0m\n\u001b[0;32m    138\u001b[0m         \u001b[1;32melse\u001b[0m\u001b[1;33m:\u001b[0m\u001b[1;33m\u001b[0m\u001b[1;33m\u001b[0m\u001b[0m\n\u001b[1;32m--> 139\u001b[1;33m             \u001b[0mdenom\u001b[0m \u001b[1;33m=\u001b[0m \u001b[1;33m(\u001b[0m\u001b[0mexp_avg_sq\u001b[0m\u001b[1;33m.\u001b[0m\u001b[0msqrt\u001b[0m\u001b[1;33m(\u001b[0m\u001b[1;33m)\u001b[0m \u001b[1;33m/\u001b[0m \u001b[0mmath\u001b[0m\u001b[1;33m.\u001b[0m\u001b[0msqrt\u001b[0m\u001b[1;33m(\u001b[0m\u001b[0mbias_correction2\u001b[0m\u001b[1;33m)\u001b[0m\u001b[1;33m)\u001b[0m\u001b[1;33m.\u001b[0m\u001b[0madd_\u001b[0m\u001b[1;33m(\u001b[0m\u001b[0meps\u001b[0m\u001b[1;33m)\u001b[0m\u001b[1;33m\u001b[0m\u001b[1;33m\u001b[0m\u001b[0m\n\u001b[0m\u001b[0;32m    140\u001b[0m \u001b[1;33m\u001b[0m\u001b[0m\n\u001b[0;32m    141\u001b[0m         \u001b[0mstep_size\u001b[0m \u001b[1;33m=\u001b[0m \u001b[0mlr\u001b[0m \u001b[1;33m/\u001b[0m \u001b[0mbias_correction1\u001b[0m\u001b[1;33m\u001b[0m\u001b[1;33m\u001b[0m\u001b[0m\n",
      "\u001b[1;31mKeyboardInterrupt\u001b[0m: "
     ]
    }
   ],
   "source": [
    "%%time\n",
    "## takes 13 min for one pair of var and p\n",
    "all_output_paths = []\n",
    "\n",
    "## we can have these two outside the loop since the key will be based on the output_path and food_category\n",
    "all_valid_metrics = {}\n",
    "all_forecasts = {}\n",
    "data_sources = [\"DEXCAUS\"]\n",
    "for var in data_sources:\n",
    "    for p in grid:\n",
    "        details = str(var) + '_nlags_' + str(p['n_lags'])\n",
    "        output_path = './output/neuralprophet_202110_' + details\n",
    "        if not os.path.exists(output_path):\n",
    "            print(\"making new directory for: \", output_path)\n",
    "            os.mkdir(output_path)\n",
    "        else:\n",
    "            print(\"already done so skipping\")\n",
    "            continue\n",
    "        all_output_paths.append(output_path)\n",
    "        \n",
    "        \n",
    "        for food_category in foodprice_df.columns[:9]:\n",
    "            \n",
    "            annual_valid_metrics = {}\n",
    "            annual_forecasts = {}\n",
    "                        \n",
    "            for date in report_sim_dates:\n",
    "                \n",
    "                train_dates = sim_train_dates[date]\n",
    "                valid_dates = sim_valid_dates[date]\n",
    "                \n",
    "                \n",
    "                train_model =NeuralProphet(n_forecasts = p['n_forecasts'],                          #initialize model\n",
    "                                           n_lags = p['n_lags'])\n",
    "                train_df = get_neuralprophet_df(foodprice_df, food_category, train_dates, str(var)) #select data\n",
    "                train_model = train_model.add_lagged_regressor(names=[str(var)])                   #lagged regressor to model\n",
    "                train_model.fit(train_df, freq='MS')                                              #fit the model\n",
    "                \n",
    "                \n",
    "                future = train_model.make_future_dataframe(train_df, periods=18)                #create the future period\n",
    "                forecast = train_model.predict(future)                                        #produce the future period forecast\n",
    "                \n",
    "                \n",
    "                all_yhats = []\n",
    "                for yhat in [\"yhat\" + str(i) for i in range(1,19)]:\n",
    "                    all_yhats.append((forecast.loc[forecast[yhat].first_valid_index()][yhat]))  #get all yhats from forecast\n",
    "                print(\"this is all yhats \", all_yhats)\n",
    "\n",
    "                \n",
    "                valid_df = get_neuralprophet_df(foodprice_df, food_category, valid_dates, str(var))\n",
    "                \n",
    "                ##special case for 2020 forecast\n",
    "                if len(valid_df) == 14:\n",
    "                    print(\"case of 2020 forecast\")\n",
    "                    all_yhats = all_yhats[:-4]\n",
    "                    \n",
    "                ##special case for 2020 forecast\n",
    "                if len(valid_df) == 15:\n",
    "                    print(\"IN A NEW SPECIAL CASE\")\n",
    "                    all_yhats = all_yhats[:-3]\n",
    "                \n",
    "                ## compute valid metrics\n",
    "                valid_metrics = {metric_name: metric_fn(y_true=valid_df.y, y_pred=all_yhats) for metric_name, metric_fn in metrics.items()}\n",
    "                valid_metrics_series = pd.Series(valid_metrics)\n",
    "                \n",
    "                annual_valid_metrics[date] = pd.DataFrame(valid_metrics_series).mean(axis=1)\n",
    "                annual_forecasts[date] = pd.Series(all_yhats)\n",
    "                            \n",
    "            \n",
    "                break ### loop for dates \n",
    "                \n",
    "            all_valid_metrics[(output_path, food_category)] = annual_valid_metrics\n",
    "            all_forecasts[(output_path, food_category)] = annual_forecasts\n",
    "                \n",
    "            print(\"this is all_valid_metrics\", all_valid_metrics)\n",
    "            mean_valid_metrics = {}\n",
    "            for (output_path,food_category), valid_scores in all_valid_metrics.items():\n",
    "                mean_valid_metrics[food_category] = pd.DataFrame(valid_scores).mean(axis=1)\n",
    "\n",
    "            mean_valid_metrics_df = pd.DataFrame(mean_valid_metrics).T\n",
    "            mean_valid_metrics_df.to_csv(f\"{output_path}/mean_fc_valid_metrics.csv\")\n",
    "            \n",
    "        \n",
    "            # break ## loop for food category\n",
    "        \n",
    "        break ## loop for n_lags\n",
    "\n",
    "    break ##loop for lagged regressors\n",
    "\n"
   ]
  },
  {
   "cell_type": "markdown",
   "id": "0a460b94-3a45-41ec-b4cd-ac2a955f2466",
   "metadata": {},
   "source": [
    "## Save validation forecasts to file (for ensembling)\n"
   ]
  },
  {
   "cell_type": "code",
   "execution_count": 38,
   "id": "bc691936-111f-47de-abe2-cbb98cd1dee3",
   "metadata": {},
   "outputs": [
    {
     "ename": "KeyError",
     "evalue": "('./output/neuralprophet_202110_DEXCAUS_nlags_36', 'Bakery and cereal products (excluding baby food)')",
     "output_type": "error",
     "traceback": [
      "\u001b[1;31m---------------------------------------------------------------------------\u001b[0m",
      "\u001b[1;31mKeyError\u001b[0m                                  Traceback (most recent call last)",
      "\u001b[1;32m~\\AppData\\Local\\Temp/ipykernel_268/356222531.py\u001b[0m in \u001b[0;36m<module>\u001b[1;34m\u001b[0m\n\u001b[0;32m      5\u001b[0m     \u001b[1;32mfor\u001b[0m \u001b[0mmy_output_path\u001b[0m \u001b[1;32min\u001b[0m \u001b[0mall_output_paths\u001b[0m\u001b[1;33m:\u001b[0m\u001b[1;33m\u001b[0m\u001b[1;33m\u001b[0m\u001b[0m\n\u001b[0;32m      6\u001b[0m         \u001b[1;32mfor\u001b[0m \u001b[0mfood_category\u001b[0m \u001b[1;32min\u001b[0m \u001b[0mfood_categories\u001b[0m\u001b[1;33m:\u001b[0m\u001b[1;33m\u001b[0m\u001b[1;33m\u001b[0m\u001b[0m\n\u001b[1;32m----> 7\u001b[1;33m             \u001b[0mfood_forecasts\u001b[0m\u001b[1;33m[\u001b[0m\u001b[0mfood_category\u001b[0m\u001b[1;33m]\u001b[0m \u001b[1;33m=\u001b[0m \u001b[0mall_forecasts\u001b[0m\u001b[1;33m[\u001b[0m\u001b[1;33m(\u001b[0m\u001b[0mmy_output_path\u001b[0m\u001b[1;33m,\u001b[0m\u001b[0mfood_category\u001b[0m\u001b[1;33m)\u001b[0m\u001b[1;33m]\u001b[0m\u001b[1;33m[\u001b[0m\u001b[0mdate\u001b[0m\u001b[1;33m]\u001b[0m\u001b[1;33m\u001b[0m\u001b[1;33m\u001b[0m\u001b[0m\n\u001b[0m\u001b[0;32m      8\u001b[0m         \u001b[0mdate_forecasts\u001b[0m\u001b[1;33m[\u001b[0m\u001b[0mdate\u001b[0m\u001b[1;33m]\u001b[0m \u001b[1;33m=\u001b[0m \u001b[0mpd\u001b[0m\u001b[1;33m.\u001b[0m\u001b[0mDataFrame\u001b[0m\u001b[1;33m(\u001b[0m\u001b[0mfood_forecasts\u001b[0m\u001b[1;33m)\u001b[0m\u001b[1;33m\u001b[0m\u001b[1;33m\u001b[0m\u001b[0m\n\u001b[0;32m      9\u001b[0m         \u001b[0mdate_forecasts\u001b[0m\u001b[1;33m[\u001b[0m\u001b[0mdate\u001b[0m\u001b[1;33m]\u001b[0m \u001b[1;33m=\u001b[0m \u001b[0mdate_forecasts\u001b[0m\u001b[1;33m[\u001b[0m\u001b[0mdate\u001b[0m\u001b[1;33m]\u001b[0m\u001b[1;33m.\u001b[0m\u001b[0mset_index\u001b[0m\u001b[1;33m(\u001b[0m\u001b[0mpd\u001b[0m\u001b[1;33m.\u001b[0m\u001b[0mDatetimeIndex\u001b[0m\u001b[1;33m(\u001b[0m\u001b[0mvalid_dates\u001b[0m\u001b[1;33m)\u001b[0m\u001b[1;33m)\u001b[0m\u001b[1;33m\u001b[0m\u001b[1;33m\u001b[0m\u001b[0m\n",
      "\u001b[1;31mKeyError\u001b[0m: ('./output/neuralprophet_202110_DEXCAUS_nlags_36', 'Bakery and cereal products (excluding baby food)')"
     ]
    }
   ],
   "source": [
    "date_forecasts = {}\n",
    "for date in report_sim_dates:\n",
    "    valid_dates = sim_valid_dates[date]\n",
    "    food_forecasts = {}\n",
    "    for my_output_path in all_output_paths:\n",
    "        for food_category in food_categories:\n",
    "            food_forecasts[food_category] = all_forecasts[(my_output_path,food_category)][date]\n",
    "        date_forecasts[date] = pd.DataFrame(food_forecasts)\n",
    "        date_forecasts[date] = date_forecasts[date].set_index(pd.DatetimeIndex(valid_dates))\n",
    "        date_forecasts[date].to_csv(f\"{my_output_path}/forecasts_{date}.csv\")"
   ]
  },
  {
   "cell_type": "code",
   "execution_count": null,
   "id": "professional-injury",
   "metadata": {},
   "outputs": [],
   "source": []
  }
 ],
 "metadata": {
  "accelerator": "GPU",
  "colab": {
   "collapsed_sections": [],
   "name": "forecasting-nbeats.ipynb",
   "provenance": [
    {
     "file_id": "13Kkg9losPuncpwDUvLml777Pax3pP2FG",
     "timestamp": 1634321819792
    }
   ]
  },
  "interpreter": {
   "hash": "d7359b97dda1a7a8948a5a4d396848125c7f44b4c1a886dc629ec440a49e68ef"
  },
  "kernelspec": {
   "display_name": "Python 3 (ipykernel)",
   "language": "python",
   "name": "python3"
  },
  "language_info": {
   "codemirror_mode": {
    "name": "ipython",
    "version": 3
   },
   "file_extension": ".py",
   "mimetype": "text/x-python",
   "name": "python",
   "nbconvert_exporter": "python",
   "pygments_lexer": "ipython3",
   "version": "3.9.7"
  }
 },
 "nbformat": 4,
 "nbformat_minor": 5
}
