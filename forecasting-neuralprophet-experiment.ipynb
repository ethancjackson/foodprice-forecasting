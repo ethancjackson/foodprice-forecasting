{
 "cells": [
  {
   "cell_type": "code",
   "execution_count": 3,
   "id": "constant-slope",
   "metadata": {
    "executionInfo": {
     "elapsed": 278,
     "status": "ok",
     "timestamp": 1634587049355,
     "user": {
      "displayName": "Ethan Jackson",
      "photoUrl": "https://lh3.googleusercontent.com/a-/AOh14Gj0sN-qIkLWaD3gNaMMx-oLuegd5o3MGlU94qG9IQ=s64",
      "userId": "16234263294244605206"
     },
     "user_tz": 240
    },
    "id": "be47811d-c45c-4945-94b3-4ce5e981ead4"
   },
   "outputs": [],
   "source": [
    "import pandas as pd\n",
    "pd.set_option('precision', 3)\n",
    "\n",
    "import matplotlib.pyplot as plt\n",
    "import matplotlib.patches as mpatches\n",
    "from matplotlib.lines import Line2D\n",
    "from matplotlib.patches import Patch\n",
    "\n",
    "import numpy as np\n",
    "from sklearn.metrics import r2_score, mean_absolute_error, mean_squared_error, mean_absolute_percentage_error\n",
    "\n",
    "import os\n",
    "\n",
    "from neuralprophet import NeuralProphet"
   ]
  },
  {
   "cell_type": "code",
   "execution_count": 2,
   "id": "7fc966c1-f048-4d3f-9558-dba51c0033fb",
   "metadata": {
    "collapsed": true,
    "jupyter": {
     "outputs_hidden": true
    },
    "tags": []
   },
   "outputs": [
    {
     "name": "stdout",
     "output_type": "stream",
     "text": [
      "Collecting neuralprophet\n",
      "  Downloading neuralprophet-0.3.0-py3-none-any.whl (67 kB)\n",
      "Collecting convertdate>=2.1.2\n",
      "  Using cached convertdate-2.3.2-py3-none-any.whl (47 kB)\n",
      "Requirement already satisfied: matplotlib>=2.0.0 in c:\\users\\selsh\\anaconda3\\lib\\site-packages (from neuralprophet) (3.4.3)\n",
      "Requirement already satisfied: pandas>=1.0.4 in c:\\users\\selsh\\anaconda3\\lib\\site-packages (from neuralprophet) (1.3.4)\n",
      "Requirement already satisfied: numpy>=1.15.4 in c:\\users\\selsh\\anaconda3\\lib\\site-packages (from neuralprophet) (1.20.3)\n",
      "Requirement already satisfied: python-dateutil>=2.8.0 in c:\\users\\selsh\\anaconda3\\lib\\site-packages (from neuralprophet) (2.8.2)\n",
      "Collecting holidays>=0.11.3.1\n",
      "  Using cached holidays-0.11.3.1-py3-none-any.whl (155 kB)\n",
      "Requirement already satisfied: tqdm>=4.50.2 in c:\\users\\selsh\\anaconda3\\lib\\site-packages (from neuralprophet) (4.62.3)\n",
      "Collecting dataclasses>=0.6\n",
      "  Using cached dataclasses-0.6-py3-none-any.whl (14 kB)\n",
      "Collecting torch>=1.4.0\n",
      "  Downloading torch-1.10.0-cp39-cp39-win_amd64.whl (226.5 MB)\n",
      "Collecting LunarCalendar>=0.0.9\n",
      "  Using cached LunarCalendar-0.0.9-py2.py3-none-any.whl (18 kB)\n",
      "Collecting torch-lr-finder>=0.2.1\n",
      "  Using cached torch_lr_finder-0.2.1-py3-none-any.whl (11 kB)\n",
      "Requirement already satisfied: ipywidgets>=7.5.1 in c:\\users\\selsh\\anaconda3\\lib\\site-packages (from neuralprophet) (7.6.5)\n",
      "Requirement already satisfied: pytz>=2014.10 in c:\\users\\selsh\\anaconda3\\lib\\site-packages (from convertdate>=2.1.2->neuralprophet) (2021.3)\n",
      "Collecting pymeeus<=1,>=0.3.13\n",
      "  Using cached PyMeeus-0.5.11.tar.gz (5.4 MB)\n",
      "Collecting hijri-converter\n",
      "  Using cached hijri_converter-2.2.2-py3-none-any.whl (13 kB)\n",
      "Collecting korean-lunar-calendar\n",
      "  Using cached korean_lunar_calendar-0.2.1-py3-none-any.whl (8.0 kB)\n",
      "Requirement already satisfied: ipython-genutils~=0.2.0 in c:\\users\\selsh\\anaconda3\\lib\\site-packages (from ipywidgets>=7.5.1->neuralprophet) (0.2.0)\n",
      "Requirement already satisfied: traitlets>=4.3.1 in c:\\users\\selsh\\anaconda3\\lib\\site-packages (from ipywidgets>=7.5.1->neuralprophet) (5.1.0)\n",
      "Requirement already satisfied: ipykernel>=4.5.1 in c:\\users\\selsh\\anaconda3\\lib\\site-packages (from ipywidgets>=7.5.1->neuralprophet) (6.4.1)\n",
      "Requirement already satisfied: jupyterlab-widgets>=1.0.0 in c:\\users\\selsh\\anaconda3\\lib\\site-packages (from ipywidgets>=7.5.1->neuralprophet) (1.0.0)\n",
      "Requirement already satisfied: widgetsnbextension~=3.5.0 in c:\\users\\selsh\\anaconda3\\lib\\site-packages (from ipywidgets>=7.5.1->neuralprophet) (3.5.1)\n",
      "Requirement already satisfied: ipython>=4.0.0 in c:\\users\\selsh\\anaconda3\\lib\\site-packages (from ipywidgets>=7.5.1->neuralprophet) (7.29.0)\n",
      "Requirement already satisfied: nbformat>=4.2.0 in c:\\users\\selsh\\anaconda3\\lib\\site-packages (from ipywidgets>=7.5.1->neuralprophet) (5.1.3)\n",
      "Requirement already satisfied: tornado<7.0,>=4.2 in c:\\users\\selsh\\anaconda3\\lib\\site-packages (from ipykernel>=4.5.1->ipywidgets>=7.5.1->neuralprophet) (6.1)\n",
      "Requirement already satisfied: matplotlib-inline<0.2.0,>=0.1.0 in c:\\users\\selsh\\anaconda3\\lib\\site-packages (from ipykernel>=4.5.1->ipywidgets>=7.5.1->neuralprophet) (0.1.2)\n",
      "Requirement already satisfied: jupyter-client<8.0 in c:\\users\\selsh\\anaconda3\\lib\\site-packages (from ipykernel>=4.5.1->ipywidgets>=7.5.1->neuralprophet) (6.1.12)\n",
      "Requirement already satisfied: debugpy<2.0,>=1.0.0 in c:\\users\\selsh\\anaconda3\\lib\\site-packages (from ipykernel>=4.5.1->ipywidgets>=7.5.1->neuralprophet) (1.4.1)\n",
      "Requirement already satisfied: colorama in c:\\users\\selsh\\anaconda3\\lib\\site-packages (from ipython>=4.0.0->ipywidgets>=7.5.1->neuralprophet) (0.4.4)\n",
      "Requirement already satisfied: pickleshare in c:\\users\\selsh\\anaconda3\\lib\\site-packages (from ipython>=4.0.0->ipywidgets>=7.5.1->neuralprophet) (0.7.5)\n",
      "Requirement already satisfied: pygments in c:\\users\\selsh\\anaconda3\\lib\\site-packages (from ipython>=4.0.0->ipywidgets>=7.5.1->neuralprophet) (2.10.0)\n",
      "Requirement already satisfied: backcall in c:\\users\\selsh\\anaconda3\\lib\\site-packages (from ipython>=4.0.0->ipywidgets>=7.5.1->neuralprophet) (0.2.0)\n",
      "Requirement already satisfied: jedi>=0.16 in c:\\users\\selsh\\anaconda3\\lib\\site-packages (from ipython>=4.0.0->ipywidgets>=7.5.1->neuralprophet) (0.18.0)\n",
      "Requirement already satisfied: setuptools>=18.5 in c:\\users\\selsh\\anaconda3\\lib\\site-packages (from ipython>=4.0.0->ipywidgets>=7.5.1->neuralprophet) (58.0.4)\n",
      "Requirement already satisfied: decorator in c:\\users\\selsh\\anaconda3\\lib\\site-packages (from ipython>=4.0.0->ipywidgets>=7.5.1->neuralprophet) (5.1.0)\n",
      "Requirement already satisfied: prompt-toolkit!=3.0.0,!=3.0.1,<3.1.0,>=2.0.0 in c:\\users\\selsh\\anaconda3\\lib\\site-packages (from ipython>=4.0.0->ipywidgets>=7.5.1->neuralprophet) (3.0.20)\n",
      "Requirement already satisfied: parso<0.9.0,>=0.8.0 in c:\\users\\selsh\\anaconda3\\lib\\site-packages (from jedi>=0.16->ipython>=4.0.0->ipywidgets>=7.5.1->neuralprophet) (0.8.2)\n",
      "Requirement already satisfied: jupyter-core>=4.6.0 in c:\\users\\selsh\\anaconda3\\lib\\site-packages (from jupyter-client<8.0->ipykernel>=4.5.1->ipywidgets>=7.5.1->neuralprophet) (4.8.1)\n",
      "Requirement already satisfied: pyzmq>=13 in c:\\users\\selsh\\anaconda3\\lib\\site-packages (from jupyter-client<8.0->ipykernel>=4.5.1->ipywidgets>=7.5.1->neuralprophet) (22.2.1)\n",
      "Requirement already satisfied: pywin32>=1.0 in c:\\users\\selsh\\anaconda3\\lib\\site-packages (from jupyter-core>=4.6.0->jupyter-client<8.0->ipykernel>=4.5.1->ipywidgets>=7.5.1->neuralprophet) (228)\n",
      "Collecting ephem>=3.7.5.3\n",
      "  Downloading ephem-4.1.2-cp39-cp39-win_amd64.whl (1.4 MB)\n",
      "Requirement already satisfied: kiwisolver>=1.0.1 in c:\\users\\selsh\\anaconda3\\lib\\site-packages (from matplotlib>=2.0.0->neuralprophet) (1.3.1)\n",
      "Requirement already satisfied: pyparsing>=2.2.1 in c:\\users\\selsh\\anaconda3\\lib\\site-packages (from matplotlib>=2.0.0->neuralprophet) (3.0.4)\n",
      "Requirement already satisfied: cycler>=0.10 in c:\\users\\selsh\\anaconda3\\lib\\site-packages (from matplotlib>=2.0.0->neuralprophet) (0.10.0)\n",
      "Requirement already satisfied: pillow>=6.2.0 in c:\\users\\selsh\\anaconda3\\lib\\site-packages (from matplotlib>=2.0.0->neuralprophet) (8.4.0)\n",
      "Requirement already satisfied: six in c:\\users\\selsh\\anaconda3\\lib\\site-packages (from cycler>=0.10->matplotlib>=2.0.0->neuralprophet) (1.16.0)\n",
      "Requirement already satisfied: jsonschema!=2.5.0,>=2.4 in c:\\users\\selsh\\anaconda3\\lib\\site-packages (from nbformat>=4.2.0->ipywidgets>=7.5.1->neuralprophet) (3.2.0)\n",
      "Requirement already satisfied: attrs>=17.4.0 in c:\\users\\selsh\\anaconda3\\lib\\site-packages (from jsonschema!=2.5.0,>=2.4->nbformat>=4.2.0->ipywidgets>=7.5.1->neuralprophet) (21.2.0)\n",
      "Requirement already satisfied: pyrsistent>=0.14.0 in c:\\users\\selsh\\anaconda3\\lib\\site-packages (from jsonschema!=2.5.0,>=2.4->nbformat>=4.2.0->ipywidgets>=7.5.1->neuralprophet) (0.18.0)\n",
      "Requirement already satisfied: wcwidth in c:\\users\\selsh\\anaconda3\\lib\\site-packages (from prompt-toolkit!=3.0.0,!=3.0.1,<3.1.0,>=2.0.0->ipython>=4.0.0->ipywidgets>=7.5.1->neuralprophet) (0.2.5)\n",
      "Requirement already satisfied: typing-extensions in c:\\users\\selsh\\anaconda3\\lib\\site-packages (from torch>=1.4.0->neuralprophet) (3.10.0.2)\n",
      "Requirement already satisfied: packaging in c:\\users\\selsh\\anaconda3\\lib\\site-packages (from torch-lr-finder>=0.2.1->neuralprophet) (21.0)\n",
      "Requirement already satisfied: notebook>=4.4.1 in c:\\users\\selsh\\anaconda3\\lib\\site-packages (from widgetsnbextension~=3.5.0->ipywidgets>=7.5.1->neuralprophet) (6.4.5)\n",
      "Requirement already satisfied: nbconvert in c:\\users\\selsh\\anaconda3\\lib\\site-packages (from notebook>=4.4.1->widgetsnbextension~=3.5.0->ipywidgets>=7.5.1->neuralprophet) (6.1.0)\n",
      "Requirement already satisfied: Send2Trash>=1.5.0 in c:\\users\\selsh\\anaconda3\\lib\\site-packages (from notebook>=4.4.1->widgetsnbextension~=3.5.0->ipywidgets>=7.5.1->neuralprophet) (1.8.0)\n",
      "Requirement already satisfied: prometheus-client in c:\\users\\selsh\\anaconda3\\lib\\site-packages (from notebook>=4.4.1->widgetsnbextension~=3.5.0->ipywidgets>=7.5.1->neuralprophet) (0.11.0)\n",
      "Requirement already satisfied: jinja2 in c:\\users\\selsh\\anaconda3\\lib\\site-packages (from notebook>=4.4.1->widgetsnbextension~=3.5.0->ipywidgets>=7.5.1->neuralprophet) (2.11.3)\n",
      "Requirement already satisfied: argon2-cffi in c:\\users\\selsh\\anaconda3\\lib\\site-packages (from notebook>=4.4.1->widgetsnbextension~=3.5.0->ipywidgets>=7.5.1->neuralprophet) (20.1.0)\n",
      "Requirement already satisfied: terminado>=0.8.3 in c:\\users\\selsh\\anaconda3\\lib\\site-packages (from notebook>=4.4.1->widgetsnbextension~=3.5.0->ipywidgets>=7.5.1->neuralprophet) (0.9.4)\n",
      "Requirement already satisfied: pywinpty>=0.5 in c:\\users\\selsh\\anaconda3\\lib\\site-packages (from terminado>=0.8.3->notebook>=4.4.1->widgetsnbextension~=3.5.0->ipywidgets>=7.5.1->neuralprophet) (0.5.7)\n",
      "Requirement already satisfied: cffi>=1.0.0 in c:\\users\\selsh\\anaconda3\\lib\\site-packages (from argon2-cffi->notebook>=4.4.1->widgetsnbextension~=3.5.0->ipywidgets>=7.5.1->neuralprophet) (1.14.6)\n",
      "Requirement already satisfied: pycparser in c:\\users\\selsh\\anaconda3\\lib\\site-packages (from cffi>=1.0.0->argon2-cffi->notebook>=4.4.1->widgetsnbextension~=3.5.0->ipywidgets>=7.5.1->neuralprophet) (2.20)\n",
      "Requirement already satisfied: MarkupSafe>=0.23 in c:\\users\\selsh\\anaconda3\\lib\\site-packages (from jinja2->notebook>=4.4.1->widgetsnbextension~=3.5.0->ipywidgets>=7.5.1->neuralprophet) (1.1.1)\n",
      "Requirement already satisfied: testpath in c:\\users\\selsh\\anaconda3\\lib\\site-packages (from nbconvert->notebook>=4.4.1->widgetsnbextension~=3.5.0->ipywidgets>=7.5.1->neuralprophet) (0.5.0)\n",
      "Requirement already satisfied: entrypoints>=0.2.2 in c:\\users\\selsh\\anaconda3\\lib\\site-packages (from nbconvert->notebook>=4.4.1->widgetsnbextension~=3.5.0->ipywidgets>=7.5.1->neuralprophet) (0.3)\n",
      "Requirement already satisfied: pandocfilters>=1.4.1 in c:\\users\\selsh\\anaconda3\\lib\\site-packages (from nbconvert->notebook>=4.4.1->widgetsnbextension~=3.5.0->ipywidgets>=7.5.1->neuralprophet) (1.4.3)\n",
      "Requirement already satisfied: bleach in c:\\users\\selsh\\anaconda3\\lib\\site-packages (from nbconvert->notebook>=4.4.1->widgetsnbextension~=3.5.0->ipywidgets>=7.5.1->neuralprophet) (4.0.0)\n",
      "Requirement already satisfied: mistune<2,>=0.8.1 in c:\\users\\selsh\\anaconda3\\lib\\site-packages (from nbconvert->notebook>=4.4.1->widgetsnbextension~=3.5.0->ipywidgets>=7.5.1->neuralprophet) (0.8.4)\n",
      "Requirement already satisfied: nbclient<0.6.0,>=0.5.0 in c:\\users\\selsh\\anaconda3\\lib\\site-packages (from nbconvert->notebook>=4.4.1->widgetsnbextension~=3.5.0->ipywidgets>=7.5.1->neuralprophet) (0.5.3)\n",
      "Requirement already satisfied: jupyterlab-pygments in c:\\users\\selsh\\anaconda3\\lib\\site-packages (from nbconvert->notebook>=4.4.1->widgetsnbextension~=3.5.0->ipywidgets>=7.5.1->neuralprophet) (0.1.2)\n",
      "Requirement already satisfied: defusedxml in c:\\users\\selsh\\anaconda3\\lib\\site-packages (from nbconvert->notebook>=4.4.1->widgetsnbextension~=3.5.0->ipywidgets>=7.5.1->neuralprophet) (0.7.1)\n",
      "Requirement already satisfied: async-generator in c:\\users\\selsh\\anaconda3\\lib\\site-packages (from nbclient<0.6.0,>=0.5.0->nbconvert->notebook>=4.4.1->widgetsnbextension~=3.5.0->ipywidgets>=7.5.1->neuralprophet) (1.10)\n",
      "Requirement already satisfied: nest-asyncio in c:\\users\\selsh\\anaconda3\\lib\\site-packages (from nbclient<0.6.0,>=0.5.0->nbconvert->notebook>=4.4.1->widgetsnbextension~=3.5.0->ipywidgets>=7.5.1->neuralprophet) (1.5.1)\n",
      "Requirement already satisfied: webencodings in c:\\users\\selsh\\anaconda3\\lib\\site-packages (from bleach->nbconvert->notebook>=4.4.1->widgetsnbextension~=3.5.0->ipywidgets>=7.5.1->neuralprophet) (0.5.1)\n",
      "Building wheels for collected packages: pymeeus\n",
      "  Building wheel for pymeeus (setup.py): started\n",
      "  Building wheel for pymeeus (setup.py): finished with status 'done'\n",
      "  Created wheel for pymeeus: filename=PyMeeus-0.5.11-py3-none-any.whl size=730984 sha256=65fdd029a034d6d80ec0902544cdcf232113b66de9fa00fcdc60717746dde7b7\n",
      "  Stored in directory: c:\\users\\selsh\\appdata\\local\\pip\\cache\\wheels\\33\\3d\\82\\4579e9cca41ff991140b2e050bc6df3a38292f26e4fa06b15d\n",
      "Successfully built pymeeus\n",
      "Installing collected packages: pymeeus, torch, korean-lunar-calendar, hijri-converter, ephem, convertdate, torch-lr-finder, LunarCalendar, holidays, dataclasses, neuralprophet\n",
      "Successfully installed LunarCalendar-0.0.9 convertdate-2.3.2 dataclasses-0.6 ephem-4.1.2 hijri-converter-2.2.2 holidays-0.11.3.1 korean-lunar-calendar-0.2.1 neuralprophet-0.3.0 pymeeus-0.5.11 torch-1.10.0 torch-lr-finder-0.2.1\n"
     ]
    }
   ],
   "source": [
    "# !pip install neuralprophet"
   ]
  },
  {
   "cell_type": "code",
   "execution_count": 4,
   "id": "indie-development",
   "metadata": {
    "executionInfo": {
     "elapsed": 172,
     "status": "ok",
     "timestamp": 1634576168321,
     "user": {
      "displayName": "Ethan Jackson",
      "photoUrl": "https://lh3.googleusercontent.com/a-/AOh14Gj0sN-qIkLWaD3gNaMMx-oLuegd5o3MGlU94qG9IQ=s64",
      "userId": "16234263294244605206"
     },
     "user_tz": 240
    },
    "id": "a3fd51aa-3046-46a9-af80-7d95c28dd3a3"
   },
   "outputs": [],
   "source": [
    "\"\"\"\n",
    "Set sample rate. In this notebook, all data will be resampled at the chosen frequency.\n",
    "'MS' : Monthly (Month Start)\n",
    "'W' : Weekly\n",
    "'D' : Daily\n",
    "\"\"\"\n",
    "\n",
    "year_period = {'MS': 12, 'W': 52, 'D': 365}\n",
    "frequency = 'MS'\n",
    "one_year = year_period[frequency]"
   ]
  },
  {
   "cell_type": "markdown",
   "id": "furnished-spelling",
   "metadata": {
    "id": "1611d765-10f6-42c1-a137-8ff7f3d0fbed"
   },
   "source": [
    "## Load Data From File"
   ]
  },
  {
   "cell_type": "code",
   "execution_count": 8,
   "id": "contained-bhutan",
   "metadata": {},
   "outputs": [
    {
     "data": {
      "text/html": [
       "<div>\n",
       "<style scoped>\n",
       "    .dataframe tbody tr th:only-of-type {\n",
       "        vertical-align: middle;\n",
       "    }\n",
       "\n",
       "    .dataframe tbody tr th {\n",
       "        vertical-align: top;\n",
       "    }\n",
       "\n",
       "    .dataframe thead th {\n",
       "        text-align: right;\n",
       "    }\n",
       "</style>\n",
       "<table border=\"1\" class=\"dataframe\">\n",
       "  <thead>\n",
       "    <tr style=\"text-align: right;\">\n",
       "      <th></th>\n",
       "      <th>Bakery and cereal products (excluding baby food)</th>\n",
       "      <th>Dairy products and eggs</th>\n",
       "      <th>Fish, seafood and other marine products</th>\n",
       "      <th>Food purchased from restaurants</th>\n",
       "      <th>Food</th>\n",
       "      <th>Fruit, fruit preparations and nuts</th>\n",
       "      <th>Meat</th>\n",
       "      <th>Other food products and non-alcoholic beverages</th>\n",
       "      <th>Vegetables and vegetable preparations</th>\n",
       "      <th>DEXCAUS</th>\n",
       "      <th>...</th>\n",
       "      <th>XTIMVA01CAM657S</th>\n",
       "      <th>XTIMVA01CAM659S</th>\n",
       "      <th>XTIMVA01CAM664N</th>\n",
       "      <th>XTIMVA01CAM664S</th>\n",
       "      <th>XTIMVA01CAM667S</th>\n",
       "      <th>XTNTVA01CAM664N</th>\n",
       "      <th>XTNTVA01CAM664S</th>\n",
       "      <th>XTNTVA01CAM667S</th>\n",
       "      <th>TOTALNS</th>\n",
       "      <th>TOTALSL</th>\n",
       "    </tr>\n",
       "  </thead>\n",
       "  <tbody>\n",
       "    <tr>\n",
       "      <th>1986-01-01</th>\n",
       "      <td>69.3</td>\n",
       "      <td>70.9</td>\n",
       "      <td>60.6</td>\n",
       "      <td>59.1</td>\n",
       "      <td>67.3</td>\n",
       "      <td>76.0</td>\n",
       "      <td>65.1</td>\n",
       "      <td>77.5</td>\n",
       "      <td>76.0</td>\n",
       "      <td>1.392</td>\n",
       "      <td>...</td>\n",
       "      <td>3.644</td>\n",
       "      <td>12.051</td>\n",
       "      <td>9.368e+09</td>\n",
       "      <td>9.496e+09</td>\n",
       "      <td>6.749e+09</td>\n",
       "      <td>6.906e+08</td>\n",
       "      <td>1.052e+09</td>\n",
       "      <td>7.479e+08</td>\n",
       "      <td>607.369</td>\n",
       "      <td>605.703</td>\n",
       "    </tr>\n",
       "    <tr>\n",
       "      <th>1986-02-01</th>\n",
       "      <td>70.3</td>\n",
       "      <td>70.8</td>\n",
       "      <td>61.3</td>\n",
       "      <td>59.1</td>\n",
       "      <td>66.9</td>\n",
       "      <td>77.6</td>\n",
       "      <td>64.2</td>\n",
       "      <td>78.1</td>\n",
       "      <td>68.4</td>\n",
       "      <td>1.392</td>\n",
       "      <td>...</td>\n",
       "      <td>1.965</td>\n",
       "      <td>16.745</td>\n",
       "      <td>9.495e+09</td>\n",
       "      <td>9.632e+09</td>\n",
       "      <td>6.881e+09</td>\n",
       "      <td>-9.880e+07</td>\n",
       "      <td>1.539e+08</td>\n",
       "      <td>1.099e+08</td>\n",
       "      <td>605.807</td>\n",
       "      <td>610.678</td>\n",
       "    </tr>\n",
       "    <tr>\n",
       "      <th>1986-03-01</th>\n",
       "      <td>70.6</td>\n",
       "      <td>71.1</td>\n",
       "      <td>61.3</td>\n",
       "      <td>59.3</td>\n",
       "      <td>67.0</td>\n",
       "      <td>79.2</td>\n",
       "      <td>64.2</td>\n",
       "      <td>78.6</td>\n",
       "      <td>66.2</td>\n",
       "      <td>1.392</td>\n",
       "      <td>...</td>\n",
       "      <td>-11.565</td>\n",
       "      <td>1.655</td>\n",
       "      <td>8.803e+09</td>\n",
       "      <td>8.529e+09</td>\n",
       "      <td>6.085e+09</td>\n",
       "      <td>9.138e+08</td>\n",
       "      <td>9.079e+08</td>\n",
       "      <td>6.478e+08</td>\n",
       "      <td>606.799</td>\n",
       "      <td>613.377</td>\n",
       "    </tr>\n",
       "    <tr>\n",
       "      <th>1986-04-01</th>\n",
       "      <td>71.3</td>\n",
       "      <td>71.0</td>\n",
       "      <td>61.4</td>\n",
       "      <td>59.7</td>\n",
       "      <td>67.7</td>\n",
       "      <td>82.2</td>\n",
       "      <td>63.6</td>\n",
       "      <td>79.5</td>\n",
       "      <td>71.1</td>\n",
       "      <td>1.392</td>\n",
       "      <td>...</td>\n",
       "      <td>13.334</td>\n",
       "      <td>10.821</td>\n",
       "      <td>1.034e+10</td>\n",
       "      <td>9.569e+09</td>\n",
       "      <td>6.897e+09</td>\n",
       "      <td>3.470e+08</td>\n",
       "      <td>6.563e+08</td>\n",
       "      <td>4.730e+08</td>\n",
       "      <td>614.367</td>\n",
       "      <td>619.658</td>\n",
       "    </tr>\n",
       "    <tr>\n",
       "      <th>1986-05-01</th>\n",
       "      <td>71.2</td>\n",
       "      <td>71.4</td>\n",
       "      <td>61.9</td>\n",
       "      <td>59.9</td>\n",
       "      <td>68.2</td>\n",
       "      <td>83.5</td>\n",
       "      <td>64.0</td>\n",
       "      <td>79.8</td>\n",
       "      <td>75.3</td>\n",
       "      <td>1.377</td>\n",
       "      <td>...</td>\n",
       "      <td>-4.236</td>\n",
       "      <td>6.160</td>\n",
       "      <td>9.598e+09</td>\n",
       "      <td>9.091e+09</td>\n",
       "      <td>6.605e+09</td>\n",
       "      <td>7.013e+08</td>\n",
       "      <td>6.893e+08</td>\n",
       "      <td>5.008e+08</td>\n",
       "      <td>621.915</td>\n",
       "      <td>625.820</td>\n",
       "    </tr>\n",
       "    <tr>\n",
       "      <th>...</th>\n",
       "      <td>...</td>\n",
       "      <td>...</td>\n",
       "      <td>...</td>\n",
       "      <td>...</td>\n",
       "      <td>...</td>\n",
       "      <td>...</td>\n",
       "      <td>...</td>\n",
       "      <td>...</td>\n",
       "      <td>...</td>\n",
       "      <td>...</td>\n",
       "      <td>...</td>\n",
       "      <td>...</td>\n",
       "      <td>...</td>\n",
       "      <td>...</td>\n",
       "      <td>...</td>\n",
       "      <td>...</td>\n",
       "      <td>...</td>\n",
       "      <td>...</td>\n",
       "      <td>...</td>\n",
       "      <td>...</td>\n",
       "      <td>...</td>\n",
       "    </tr>\n",
       "    <tr>\n",
       "      <th>2021-06-01</th>\n",
       "      <td>157.7</td>\n",
       "      <td>145.3</td>\n",
       "      <td>146.2</td>\n",
       "      <td>163.9</td>\n",
       "      <td>156.8</td>\n",
       "      <td>144.5</td>\n",
       "      <td>176.7</td>\n",
       "      <td>142.2</td>\n",
       "      <td>153.4</td>\n",
       "      <td>1.203</td>\n",
       "      <td>...</td>\n",
       "      <td>-1.087</td>\n",
       "      <td>31.561</td>\n",
       "      <td>5.159e+10</td>\n",
       "      <td>4.979e+10</td>\n",
       "      <td>4.075e+10</td>\n",
       "      <td>3.661e+09</td>\n",
       "      <td>3.111e+09</td>\n",
       "      <td>2.546e+09</td>\n",
       "      <td>4259.604</td>\n",
       "      <td>4307.137</td>\n",
       "    </tr>\n",
       "    <tr>\n",
       "      <th>2021-07-01</th>\n",
       "      <td>157.9</td>\n",
       "      <td>146.4</td>\n",
       "      <td>146.6</td>\n",
       "      <td>165.2</td>\n",
       "      <td>157.6</td>\n",
       "      <td>141.7</td>\n",
       "      <td>180.9</td>\n",
       "      <td>141.9</td>\n",
       "      <td>154.8</td>\n",
       "      <td>1.240</td>\n",
       "      <td>...</td>\n",
       "      <td>1.990</td>\n",
       "      <td>18.580</td>\n",
       "      <td>5.106e+10</td>\n",
       "      <td>5.205e+10</td>\n",
       "      <td>4.156e+10</td>\n",
       "      <td>3.780e+08</td>\n",
       "      <td>1.129e+09</td>\n",
       "      <td>9.018e+08</td>\n",
       "      <td>4276.202</td>\n",
       "      <td>4323.730</td>\n",
       "    </tr>\n",
       "    <tr>\n",
       "      <th>2021-08-01</th>\n",
       "      <td>158.5</td>\n",
       "      <td>148.3</td>\n",
       "      <td>146.8</td>\n",
       "      <td>165.9</td>\n",
       "      <td>158.0</td>\n",
       "      <td>142.5</td>\n",
       "      <td>182.1</td>\n",
       "      <td>141.7</td>\n",
       "      <td>152.2</td>\n",
       "      <td>1.251</td>\n",
       "      <td>...</td>\n",
       "      <td>-2.312</td>\n",
       "      <td>14.723</td>\n",
       "      <td>5.245e+10</td>\n",
       "      <td>5.115e+10</td>\n",
       "      <td>4.060e+10</td>\n",
       "      <td>1.300e+09</td>\n",
       "      <td>2.674e+09</td>\n",
       "      <td>2.123e+09</td>\n",
       "      <td>4316.303</td>\n",
       "      <td>4337.489</td>\n",
       "    </tr>\n",
       "    <tr>\n",
       "      <th>2021-09-01</th>\n",
       "      <td>158.1</td>\n",
       "      <td>148.0</td>\n",
       "      <td>147.1</td>\n",
       "      <td>165.9</td>\n",
       "      <td>158.5</td>\n",
       "      <td>141.5</td>\n",
       "      <td>184.8</td>\n",
       "      <td>144.3</td>\n",
       "      <td>150.0</td>\n",
       "      <td>1.262</td>\n",
       "      <td>...</td>\n",
       "      <td>-3.461</td>\n",
       "      <td>8.557</td>\n",
       "      <td>5.080e+10</td>\n",
       "      <td>4.965e+10</td>\n",
       "      <td>3.920e+10</td>\n",
       "      <td>1.561e+09</td>\n",
       "      <td>2.277e+09</td>\n",
       "      <td>1.798e+09</td>\n",
       "      <td>4346.662</td>\n",
       "      <td>4367.402</td>\n",
       "    </tr>\n",
       "    <tr>\n",
       "      <th>2021-10-01</th>\n",
       "      <td>159.3</td>\n",
       "      <td>146.6</td>\n",
       "      <td>149.3</td>\n",
       "      <td>167.1</td>\n",
       "      <td>159.2</td>\n",
       "      <td>141.7</td>\n",
       "      <td>187.1</td>\n",
       "      <td>144.4</td>\n",
       "      <td>149.4</td>\n",
       "      <td>1.266</td>\n",
       "      <td>...</td>\n",
       "      <td>-3.461</td>\n",
       "      <td>8.557</td>\n",
       "      <td>5.080e+10</td>\n",
       "      <td>4.965e+10</td>\n",
       "      <td>3.920e+10</td>\n",
       "      <td>1.561e+09</td>\n",
       "      <td>2.277e+09</td>\n",
       "      <td>1.798e+09</td>\n",
       "      <td>4346.662</td>\n",
       "      <td>4367.402</td>\n",
       "    </tr>\n",
       "  </tbody>\n",
       "</table>\n",
       "<p>430 rows × 332 columns</p>\n",
       "</div>"
      ],
      "text/plain": [
       "            Bakery and cereal products (excluding baby food)  \\\n",
       "1986-01-01                                              69.3   \n",
       "1986-02-01                                              70.3   \n",
       "1986-03-01                                              70.6   \n",
       "1986-04-01                                              71.3   \n",
       "1986-05-01                                              71.2   \n",
       "...                                                      ...   \n",
       "2021-06-01                                             157.7   \n",
       "2021-07-01                                             157.9   \n",
       "2021-08-01                                             158.5   \n",
       "2021-09-01                                             158.1   \n",
       "2021-10-01                                             159.3   \n",
       "\n",
       "            Dairy products and eggs  Fish, seafood and other marine products  \\\n",
       "1986-01-01                     70.9                                     60.6   \n",
       "1986-02-01                     70.8                                     61.3   \n",
       "1986-03-01                     71.1                                     61.3   \n",
       "1986-04-01                     71.0                                     61.4   \n",
       "1986-05-01                     71.4                                     61.9   \n",
       "...                             ...                                      ...   \n",
       "2021-06-01                    145.3                                    146.2   \n",
       "2021-07-01                    146.4                                    146.6   \n",
       "2021-08-01                    148.3                                    146.8   \n",
       "2021-09-01                    148.0                                    147.1   \n",
       "2021-10-01                    146.6                                    149.3   \n",
       "\n",
       "            Food purchased from restaurants   Food  \\\n",
       "1986-01-01                             59.1   67.3   \n",
       "1986-02-01                             59.1   66.9   \n",
       "1986-03-01                             59.3   67.0   \n",
       "1986-04-01                             59.7   67.7   \n",
       "1986-05-01                             59.9   68.2   \n",
       "...                                     ...    ...   \n",
       "2021-06-01                            163.9  156.8   \n",
       "2021-07-01                            165.2  157.6   \n",
       "2021-08-01                            165.9  158.0   \n",
       "2021-09-01                            165.9  158.5   \n",
       "2021-10-01                            167.1  159.2   \n",
       "\n",
       "            Fruit, fruit preparations and nuts   Meat  \\\n",
       "1986-01-01                                76.0   65.1   \n",
       "1986-02-01                                77.6   64.2   \n",
       "1986-03-01                                79.2   64.2   \n",
       "1986-04-01                                82.2   63.6   \n",
       "1986-05-01                                83.5   64.0   \n",
       "...                                        ...    ...   \n",
       "2021-06-01                               144.5  176.7   \n",
       "2021-07-01                               141.7  180.9   \n",
       "2021-08-01                               142.5  182.1   \n",
       "2021-09-01                               141.5  184.8   \n",
       "2021-10-01                               141.7  187.1   \n",
       "\n",
       "            Other food products and non-alcoholic beverages  \\\n",
       "1986-01-01                                             77.5   \n",
       "1986-02-01                                             78.1   \n",
       "1986-03-01                                             78.6   \n",
       "1986-04-01                                             79.5   \n",
       "1986-05-01                                             79.8   \n",
       "...                                                     ...   \n",
       "2021-06-01                                            142.2   \n",
       "2021-07-01                                            141.9   \n",
       "2021-08-01                                            141.7   \n",
       "2021-09-01                                            144.3   \n",
       "2021-10-01                                            144.4   \n",
       "\n",
       "            Vegetables and vegetable preparations  DEXCAUS  ...  \\\n",
       "1986-01-01                                   76.0    1.392  ...   \n",
       "1986-02-01                                   68.4    1.392  ...   \n",
       "1986-03-01                                   66.2    1.392  ...   \n",
       "1986-04-01                                   71.1    1.392  ...   \n",
       "1986-05-01                                   75.3    1.377  ...   \n",
       "...                                           ...      ...  ...   \n",
       "2021-06-01                                  153.4    1.203  ...   \n",
       "2021-07-01                                  154.8    1.240  ...   \n",
       "2021-08-01                                  152.2    1.251  ...   \n",
       "2021-09-01                                  150.0    1.262  ...   \n",
       "2021-10-01                                  149.4    1.266  ...   \n",
       "\n",
       "            XTIMVA01CAM657S  XTIMVA01CAM659S  XTIMVA01CAM664N  \\\n",
       "1986-01-01            3.644           12.051        9.368e+09   \n",
       "1986-02-01            1.965           16.745        9.495e+09   \n",
       "1986-03-01          -11.565            1.655        8.803e+09   \n",
       "1986-04-01           13.334           10.821        1.034e+10   \n",
       "1986-05-01           -4.236            6.160        9.598e+09   \n",
       "...                     ...              ...              ...   \n",
       "2021-06-01           -1.087           31.561        5.159e+10   \n",
       "2021-07-01            1.990           18.580        5.106e+10   \n",
       "2021-08-01           -2.312           14.723        5.245e+10   \n",
       "2021-09-01           -3.461            8.557        5.080e+10   \n",
       "2021-10-01           -3.461            8.557        5.080e+10   \n",
       "\n",
       "            XTIMVA01CAM664S  XTIMVA01CAM667S  XTNTVA01CAM664N  \\\n",
       "1986-01-01        9.496e+09        6.749e+09        6.906e+08   \n",
       "1986-02-01        9.632e+09        6.881e+09       -9.880e+07   \n",
       "1986-03-01        8.529e+09        6.085e+09        9.138e+08   \n",
       "1986-04-01        9.569e+09        6.897e+09        3.470e+08   \n",
       "1986-05-01        9.091e+09        6.605e+09        7.013e+08   \n",
       "...                     ...              ...              ...   \n",
       "2021-06-01        4.979e+10        4.075e+10        3.661e+09   \n",
       "2021-07-01        5.205e+10        4.156e+10        3.780e+08   \n",
       "2021-08-01        5.115e+10        4.060e+10        1.300e+09   \n",
       "2021-09-01        4.965e+10        3.920e+10        1.561e+09   \n",
       "2021-10-01        4.965e+10        3.920e+10        1.561e+09   \n",
       "\n",
       "            XTNTVA01CAM664S  XTNTVA01CAM667S   TOTALNS   TOTALSL  \n",
       "1986-01-01        1.052e+09        7.479e+08   607.369   605.703  \n",
       "1986-02-01        1.539e+08        1.099e+08   605.807   610.678  \n",
       "1986-03-01        9.079e+08        6.478e+08   606.799   613.377  \n",
       "1986-04-01        6.563e+08        4.730e+08   614.367   619.658  \n",
       "1986-05-01        6.893e+08        5.008e+08   621.915   625.820  \n",
       "...                     ...              ...       ...       ...  \n",
       "2021-06-01        3.111e+09        2.546e+09  4259.604  4307.137  \n",
       "2021-07-01        1.129e+09        9.018e+08  4276.202  4323.730  \n",
       "2021-08-01        2.674e+09        2.123e+09  4316.303  4337.489  \n",
       "2021-09-01        2.277e+09        1.798e+09  4346.662  4367.402  \n",
       "2021-10-01        2.277e+09        1.798e+09  4346.662  4367.402  \n",
       "\n",
       "[430 rows x 332 columns]"
      ]
     },
     "execution_count": 8,
     "metadata": {},
     "output_type": "execute_result"
    }
   ],
   "source": [
    "foodprice_categories = pd.read_csv(\"./foodprice_categories.txt\", sep='\\n', header=None)[0].to_list()\n",
    "foodprice_df = pd.read_csv(\"./all_data.csv.bak\", index_col=0)\n",
    "foodprice_df = foodprice_df.set_index(pd.DatetimeIndex(foodprice_df.index))\n",
    "foodprice_df"
   ]
  },
  {
   "cell_type": "markdown",
   "id": "refined-category",
   "metadata": {
    "id": "a736153c-3cbe-4aa9-a5fd-9128f8e64328"
   },
   "source": [
    "## Experiment And Data Setup"
   ]
  },
  {
   "cell_type": "code",
   "execution_count": 9,
   "id": "impressed-timothy",
   "metadata": {
    "executionInfo": {
     "elapsed": 7,
     "status": "ok",
     "timestamp": 1634576186291,
     "user": {
      "displayName": "Ethan Jackson",
      "photoUrl": "https://lh3.googleusercontent.com/a-/AOh14Gj0sN-qIkLWaD3gNaMMx-oLuegd5o3MGlU94qG9IQ=s64",
      "userId": "16234263294244605206"
     },
     "user_tz": 240
    },
    "id": "2Bhnlqfti1L4"
   },
   "outputs": [
    {
     "data": {
      "text/plain": [
       "['2015-07-01',\n",
       " '2016-07-01',\n",
       " '2017-07-01',\n",
       " '2018-07-01',\n",
       " '2019-07-01',\n",
       " '2020-07-01']"
      ]
     },
     "execution_count": 9,
     "metadata": {},
     "output_type": "execute_result"
    }
   ],
   "source": [
    "report_sim_dates = pd.read_csv(\"./reportsimdates.txt\", sep='\\n', header=None)[0].to_list()\n",
    "report_sim_dates"
   ]
  },
  {
   "cell_type": "code",
   "execution_count": 10,
   "id": "mechanical-party",
   "metadata": {
    "executionInfo": {
     "elapsed": 6,
     "status": "ok",
     "timestamp": 1634576186292,
     "user": {
      "displayName": "Ethan Jackson",
      "photoUrl": "https://lh3.googleusercontent.com/a-/AOh14Gj0sN-qIkLWaD3gNaMMx-oLuegd5o3MGlU94qG9IQ=s64",
      "userId": "16234263294244605206"
     },
     "user_tz": 240
    },
    "id": "392debaa-e8b0-4eb8-ad2a-b5e35dd700ec"
   },
   "outputs": [],
   "source": [
    "sim_train_dates = {}\n",
    "sim_valid_dates = {}\n",
    "\n",
    "for date in report_sim_dates:\n",
    "    sim_train_dates[date] = foodprice_df.index[foodprice_df.index <= date]\n",
    "    sim_valid_dates[date] = foodprice_df.index[(foodprice_df.index > date) & (foodprice_df.index <= (pd.to_datetime(date) + pd.DateOffset(months=18)))]"
   ]
  },
  {
   "cell_type": "code",
   "execution_count": 13,
   "id": "cognitive-skiing",
   "metadata": {
    "colab": {
     "base_uri": "https://localhost:8080/",
     "height": 763
    },
    "executionInfo": {
     "elapsed": 235,
     "status": "ok",
     "timestamp": 1634582516688,
     "user": {
      "displayName": "Ethan Jackson",
      "photoUrl": "https://lh3.googleusercontent.com/a-/AOh14Gj0sN-qIkLWaD3gNaMMx-oLuegd5o3MGlU94qG9IQ=s64",
      "userId": "16234263294244605206"
     },
     "user_tz": 240
    },
    "id": "rnXtQCgEs2H3",
    "outputId": "1feeb6df-76e5-4c1d-ff6f-da615ab3a158"
   },
   "outputs": [
    {
     "data": {
      "text/html": [
       "<div>\n",
       "<style scoped>\n",
       "    .dataframe tbody tr th:only-of-type {\n",
       "        vertical-align: middle;\n",
       "    }\n",
       "\n",
       "    .dataframe tbody tr th {\n",
       "        vertical-align: top;\n",
       "    }\n",
       "\n",
       "    .dataframe thead th {\n",
       "        text-align: right;\n",
       "    }\n",
       "</style>\n",
       "<table border=\"1\" class=\"dataframe\">\n",
       "  <thead>\n",
       "    <tr style=\"text-align: right;\">\n",
       "      <th></th>\n",
       "      <th>1986-01-01</th>\n",
       "      <th>1986-02-01</th>\n",
       "      <th>1986-03-01</th>\n",
       "      <th>1986-04-01</th>\n",
       "      <th>1986-05-01</th>\n",
       "      <th>1986-06-01</th>\n",
       "      <th>1986-07-01</th>\n",
       "      <th>1986-08-01</th>\n",
       "      <th>1986-09-01</th>\n",
       "      <th>1986-10-01</th>\n",
       "      <th>...</th>\n",
       "      <th>2021-01-01</th>\n",
       "      <th>2021-02-01</th>\n",
       "      <th>2021-03-01</th>\n",
       "      <th>2021-04-01</th>\n",
       "      <th>2021-05-01</th>\n",
       "      <th>2021-06-01</th>\n",
       "      <th>2021-07-01</th>\n",
       "      <th>2021-08-01</th>\n",
       "      <th>2021-09-01</th>\n",
       "      <th>2021-10-01</th>\n",
       "    </tr>\n",
       "  </thead>\n",
       "  <tbody>\n",
       "    <tr>\n",
       "      <th>Bakery and cereal products (excluding baby food)</th>\n",
       "      <td>69.3</td>\n",
       "      <td>70.3</td>\n",
       "      <td>70.6</td>\n",
       "      <td>71.3</td>\n",
       "      <td>71.2</td>\n",
       "      <td>71.1</td>\n",
       "      <td>71.7</td>\n",
       "      <td>71.9</td>\n",
       "      <td>71.7</td>\n",
       "      <td>71.1</td>\n",
       "      <td>...</td>\n",
       "      <td>154.2</td>\n",
       "      <td>157.1</td>\n",
       "      <td>156.8</td>\n",
       "      <td>156.2</td>\n",
       "      <td>157.8</td>\n",
       "      <td>157.7</td>\n",
       "      <td>157.9</td>\n",
       "      <td>158.5</td>\n",
       "      <td>158.1</td>\n",
       "      <td>159.3</td>\n",
       "    </tr>\n",
       "    <tr>\n",
       "      <th>Dairy products and eggs</th>\n",
       "      <td>70.9</td>\n",
       "      <td>70.8</td>\n",
       "      <td>71.1</td>\n",
       "      <td>71.0</td>\n",
       "      <td>71.4</td>\n",
       "      <td>71.1</td>\n",
       "      <td>71.3</td>\n",
       "      <td>71.5</td>\n",
       "      <td>71.8</td>\n",
       "      <td>71.8</td>\n",
       "      <td>...</td>\n",
       "      <td>141.6</td>\n",
       "      <td>143.1</td>\n",
       "      <td>144.9</td>\n",
       "      <td>146.1</td>\n",
       "      <td>146.6</td>\n",
       "      <td>145.3</td>\n",
       "      <td>146.4</td>\n",
       "      <td>148.3</td>\n",
       "      <td>148.0</td>\n",
       "      <td>146.6</td>\n",
       "    </tr>\n",
       "    <tr>\n",
       "      <th>Fish, seafood and other marine products</th>\n",
       "      <td>60.6</td>\n",
       "      <td>61.3</td>\n",
       "      <td>61.3</td>\n",
       "      <td>61.4</td>\n",
       "      <td>61.9</td>\n",
       "      <td>62.0</td>\n",
       "      <td>62.2</td>\n",
       "      <td>62.7</td>\n",
       "      <td>63.1</td>\n",
       "      <td>63.6</td>\n",
       "      <td>...</td>\n",
       "      <td>143.4</td>\n",
       "      <td>143.9</td>\n",
       "      <td>144.9</td>\n",
       "      <td>145.1</td>\n",
       "      <td>147.6</td>\n",
       "      <td>146.2</td>\n",
       "      <td>146.6</td>\n",
       "      <td>146.8</td>\n",
       "      <td>147.1</td>\n",
       "      <td>149.3</td>\n",
       "    </tr>\n",
       "    <tr>\n",
       "      <th>Food purchased from restaurants</th>\n",
       "      <td>59.1</td>\n",
       "      <td>59.1</td>\n",
       "      <td>59.3</td>\n",
       "      <td>59.7</td>\n",
       "      <td>59.9</td>\n",
       "      <td>60.0</td>\n",
       "      <td>60.6</td>\n",
       "      <td>60.9</td>\n",
       "      <td>60.9</td>\n",
       "      <td>61.3</td>\n",
       "      <td>...</td>\n",
       "      <td>162.6</td>\n",
       "      <td>162.9</td>\n",
       "      <td>162.6</td>\n",
       "      <td>163.2</td>\n",
       "      <td>163.5</td>\n",
       "      <td>163.9</td>\n",
       "      <td>165.2</td>\n",
       "      <td>165.9</td>\n",
       "      <td>165.9</td>\n",
       "      <td>167.1</td>\n",
       "    </tr>\n",
       "    <tr>\n",
       "      <th>Food</th>\n",
       "      <td>67.3</td>\n",
       "      <td>66.9</td>\n",
       "      <td>67.0</td>\n",
       "      <td>67.7</td>\n",
       "      <td>68.2</td>\n",
       "      <td>68.4</td>\n",
       "      <td>69.2</td>\n",
       "      <td>69.5</td>\n",
       "      <td>69.9</td>\n",
       "      <td>70.2</td>\n",
       "      <td>...</td>\n",
       "      <td>155.0</td>\n",
       "      <td>155.6</td>\n",
       "      <td>155.5</td>\n",
       "      <td>155.4</td>\n",
       "      <td>156.6</td>\n",
       "      <td>156.8</td>\n",
       "      <td>157.6</td>\n",
       "      <td>158.0</td>\n",
       "      <td>158.5</td>\n",
       "      <td>159.2</td>\n",
       "    </tr>\n",
       "    <tr>\n",
       "      <th>Fruit, fruit preparations and nuts</th>\n",
       "      <td>76.0</td>\n",
       "      <td>77.6</td>\n",
       "      <td>79.2</td>\n",
       "      <td>82.2</td>\n",
       "      <td>83.5</td>\n",
       "      <td>83.1</td>\n",
       "      <td>84.8</td>\n",
       "      <td>86.7</td>\n",
       "      <td>83.8</td>\n",
       "      <td>82.9</td>\n",
       "      <td>...</td>\n",
       "      <td>140.9</td>\n",
       "      <td>143.4</td>\n",
       "      <td>142.4</td>\n",
       "      <td>141.9</td>\n",
       "      <td>143.9</td>\n",
       "      <td>144.5</td>\n",
       "      <td>141.7</td>\n",
       "      <td>142.5</td>\n",
       "      <td>141.5</td>\n",
       "      <td>141.7</td>\n",
       "    </tr>\n",
       "    <tr>\n",
       "      <th>Meat</th>\n",
       "      <td>65.1</td>\n",
       "      <td>64.2</td>\n",
       "      <td>64.2</td>\n",
       "      <td>63.6</td>\n",
       "      <td>64.0</td>\n",
       "      <td>64.9</td>\n",
       "      <td>66.5</td>\n",
       "      <td>67.8</td>\n",
       "      <td>71.3</td>\n",
       "      <td>71.5</td>\n",
       "      <td>...</td>\n",
       "      <td>171.9</td>\n",
       "      <td>169.5</td>\n",
       "      <td>170.2</td>\n",
       "      <td>173.5</td>\n",
       "      <td>175.4</td>\n",
       "      <td>176.7</td>\n",
       "      <td>180.9</td>\n",
       "      <td>182.1</td>\n",
       "      <td>184.8</td>\n",
       "      <td>187.1</td>\n",
       "    </tr>\n",
       "    <tr>\n",
       "      <th>Other food products and non-alcoholic beverages</th>\n",
       "      <td>77.5</td>\n",
       "      <td>78.1</td>\n",
       "      <td>78.6</td>\n",
       "      <td>79.5</td>\n",
       "      <td>79.8</td>\n",
       "      <td>79.9</td>\n",
       "      <td>80.2</td>\n",
       "      <td>80.2</td>\n",
       "      <td>80.8</td>\n",
       "      <td>81.0</td>\n",
       "      <td>...</td>\n",
       "      <td>139.0</td>\n",
       "      <td>139.5</td>\n",
       "      <td>141.5</td>\n",
       "      <td>140.5</td>\n",
       "      <td>141.6</td>\n",
       "      <td>142.2</td>\n",
       "      <td>141.9</td>\n",
       "      <td>141.7</td>\n",
       "      <td>144.3</td>\n",
       "      <td>144.4</td>\n",
       "    </tr>\n",
       "    <tr>\n",
       "      <th>Vegetables and vegetable preparations</th>\n",
       "      <td>76.0</td>\n",
       "      <td>68.4</td>\n",
       "      <td>66.2</td>\n",
       "      <td>71.1</td>\n",
       "      <td>75.3</td>\n",
       "      <td>74.1</td>\n",
       "      <td>75.7</td>\n",
       "      <td>71.9</td>\n",
       "      <td>66.6</td>\n",
       "      <td>70.7</td>\n",
       "      <td>...</td>\n",
       "      <td>162.5</td>\n",
       "      <td>163.8</td>\n",
       "      <td>157.4</td>\n",
       "      <td>151.1</td>\n",
       "      <td>153.8</td>\n",
       "      <td>153.4</td>\n",
       "      <td>154.8</td>\n",
       "      <td>152.2</td>\n",
       "      <td>150.0</td>\n",
       "      <td>149.4</td>\n",
       "    </tr>\n",
       "  </tbody>\n",
       "</table>\n",
       "<p>9 rows × 430 columns</p>\n",
       "</div>"
      ],
      "text/plain": [
       "                                                  1986-01-01  1986-02-01  \\\n",
       "Bakery and cereal products (excluding baby food)        69.3        70.3   \n",
       "Dairy products and eggs                                 70.9        70.8   \n",
       "Fish, seafood and other marine products                 60.6        61.3   \n",
       "Food purchased from restaurants                         59.1        59.1   \n",
       "Food                                                    67.3        66.9   \n",
       "Fruit, fruit preparations and nuts                      76.0        77.6   \n",
       "Meat                                                    65.1        64.2   \n",
       "Other food products and non-alcoholic beverages         77.5        78.1   \n",
       "Vegetables and vegetable preparations                   76.0        68.4   \n",
       "\n",
       "                                                  1986-03-01  1986-04-01  \\\n",
       "Bakery and cereal products (excluding baby food)        70.6        71.3   \n",
       "Dairy products and eggs                                 71.1        71.0   \n",
       "Fish, seafood and other marine products                 61.3        61.4   \n",
       "Food purchased from restaurants                         59.3        59.7   \n",
       "Food                                                    67.0        67.7   \n",
       "Fruit, fruit preparations and nuts                      79.2        82.2   \n",
       "Meat                                                    64.2        63.6   \n",
       "Other food products and non-alcoholic beverages         78.6        79.5   \n",
       "Vegetables and vegetable preparations                   66.2        71.1   \n",
       "\n",
       "                                                  1986-05-01  1986-06-01  \\\n",
       "Bakery and cereal products (excluding baby food)        71.2        71.1   \n",
       "Dairy products and eggs                                 71.4        71.1   \n",
       "Fish, seafood and other marine products                 61.9        62.0   \n",
       "Food purchased from restaurants                         59.9        60.0   \n",
       "Food                                                    68.2        68.4   \n",
       "Fruit, fruit preparations and nuts                      83.5        83.1   \n",
       "Meat                                                    64.0        64.9   \n",
       "Other food products and non-alcoholic beverages         79.8        79.9   \n",
       "Vegetables and vegetable preparations                   75.3        74.1   \n",
       "\n",
       "                                                  1986-07-01  1986-08-01  \\\n",
       "Bakery and cereal products (excluding baby food)        71.7        71.9   \n",
       "Dairy products and eggs                                 71.3        71.5   \n",
       "Fish, seafood and other marine products                 62.2        62.7   \n",
       "Food purchased from restaurants                         60.6        60.9   \n",
       "Food                                                    69.2        69.5   \n",
       "Fruit, fruit preparations and nuts                      84.8        86.7   \n",
       "Meat                                                    66.5        67.8   \n",
       "Other food products and non-alcoholic beverages         80.2        80.2   \n",
       "Vegetables and vegetable preparations                   75.7        71.9   \n",
       "\n",
       "                                                  1986-09-01  1986-10-01  ...  \\\n",
       "Bakery and cereal products (excluding baby food)        71.7        71.1  ...   \n",
       "Dairy products and eggs                                 71.8        71.8  ...   \n",
       "Fish, seafood and other marine products                 63.1        63.6  ...   \n",
       "Food purchased from restaurants                         60.9        61.3  ...   \n",
       "Food                                                    69.9        70.2  ...   \n",
       "Fruit, fruit preparations and nuts                      83.8        82.9  ...   \n",
       "Meat                                                    71.3        71.5  ...   \n",
       "Other food products and non-alcoholic beverages         80.8        81.0  ...   \n",
       "Vegetables and vegetable preparations                   66.6        70.7  ...   \n",
       "\n",
       "                                                  2021-01-01  2021-02-01  \\\n",
       "Bakery and cereal products (excluding baby food)       154.2       157.1   \n",
       "Dairy products and eggs                                141.6       143.1   \n",
       "Fish, seafood and other marine products                143.4       143.9   \n",
       "Food purchased from restaurants                        162.6       162.9   \n",
       "Food                                                   155.0       155.6   \n",
       "Fruit, fruit preparations and nuts                     140.9       143.4   \n",
       "Meat                                                   171.9       169.5   \n",
       "Other food products and non-alcoholic beverages        139.0       139.5   \n",
       "Vegetables and vegetable preparations                  162.5       163.8   \n",
       "\n",
       "                                                  2021-03-01  2021-04-01  \\\n",
       "Bakery and cereal products (excluding baby food)       156.8       156.2   \n",
       "Dairy products and eggs                                144.9       146.1   \n",
       "Fish, seafood and other marine products                144.9       145.1   \n",
       "Food purchased from restaurants                        162.6       163.2   \n",
       "Food                                                   155.5       155.4   \n",
       "Fruit, fruit preparations and nuts                     142.4       141.9   \n",
       "Meat                                                   170.2       173.5   \n",
       "Other food products and non-alcoholic beverages        141.5       140.5   \n",
       "Vegetables and vegetable preparations                  157.4       151.1   \n",
       "\n",
       "                                                  2021-05-01  2021-06-01  \\\n",
       "Bakery and cereal products (excluding baby food)       157.8       157.7   \n",
       "Dairy products and eggs                                146.6       145.3   \n",
       "Fish, seafood and other marine products                147.6       146.2   \n",
       "Food purchased from restaurants                        163.5       163.9   \n",
       "Food                                                   156.6       156.8   \n",
       "Fruit, fruit preparations and nuts                     143.9       144.5   \n",
       "Meat                                                   175.4       176.7   \n",
       "Other food products and non-alcoholic beverages        141.6       142.2   \n",
       "Vegetables and vegetable preparations                  153.8       153.4   \n",
       "\n",
       "                                                  2021-07-01  2021-08-01  \\\n",
       "Bakery and cereal products (excluding baby food)       157.9       158.5   \n",
       "Dairy products and eggs                                146.4       148.3   \n",
       "Fish, seafood and other marine products                146.6       146.8   \n",
       "Food purchased from restaurants                        165.2       165.9   \n",
       "Food                                                   157.6       158.0   \n",
       "Fruit, fruit preparations and nuts                     141.7       142.5   \n",
       "Meat                                                   180.9       182.1   \n",
       "Other food products and non-alcoholic beverages        141.9       141.7   \n",
       "Vegetables and vegetable preparations                  154.8       152.2   \n",
       "\n",
       "                                                  2021-09-01  2021-10-01  \n",
       "Bakery and cereal products (excluding baby food)       158.1       159.3  \n",
       "Dairy products and eggs                                148.0       146.6  \n",
       "Fish, seafood and other marine products                147.1       149.3  \n",
       "Food purchased from restaurants                        165.9       167.1  \n",
       "Food                                                   158.5       159.2  \n",
       "Fruit, fruit preparations and nuts                     141.5       141.7  \n",
       "Meat                                                   184.8       187.1  \n",
       "Other food products and non-alcoholic beverages        144.3       144.4  \n",
       "Vegetables and vegetable preparations                  150.0       149.4  \n",
       "\n",
       "[9 rows x 430 columns]"
      ]
     },
     "execution_count": 13,
     "metadata": {},
     "output_type": "execute_result"
    }
   ],
   "source": [
    "dataset_df = foodprice_df[foodprice_categories].T\n",
    "dataset_df"
   ]
  },
  {
   "cell_type": "code",
   "execution_count": 33,
   "id": "d7cd1411-351f-4a77-b669-3c12527820cd",
   "metadata": {},
   "outputs": [],
   "source": [
    "data_sources = [\"DEXCAUS\",\n",
    "                \"DCOILWTICO\",\n",
    "                \"WILL5000IND\",\n",
    "                \"VXOCLS\",\n",
    "                \"CUSR0000SAF112\",\n",
    "                \"CUSR0000SAF113\",\n",
    "                \"CPIFABSL\",\n",
    "                \"UNRATE\",\n",
    "                \"FEDFUNDS\",\n",
    "                \"IRLTLT01CAM156N\",\n",
    "                \"LRUNTTTTCAM156S\",\n",
    "                \"CPALCY01CAM661N\",\n",
    "                \"CPGRLE01CAM657N\",\n",
    "                \"QCAR368BIS\"\n",
    "               ]"
   ]
  },
  {
   "cell_type": "code",
   "execution_count": 32,
   "id": "409712c4-e156-42e3-813d-f0aa4fdfe056",
   "metadata": {
    "collapsed": true,
    "jupyter": {
     "outputs_hidden": true
    },
    "tags": []
   },
   "outputs": [
    {
     "name": "stdout",
     "output_type": "stream",
     "text": [
      "            Bakery and cereal products (excluding baby food)  \\\n",
      "1986-01-01                                              69.3   \n",
      "1986-02-01                                              70.3   \n",
      "1986-03-01                                              70.6   \n",
      "1986-04-01                                              71.3   \n",
      "1986-05-01                                              71.2   \n",
      "...                                                      ...   \n",
      "2021-06-01                                             157.7   \n",
      "2021-07-01                                             157.9   \n",
      "2021-08-01                                             158.5   \n",
      "2021-09-01                                             158.1   \n",
      "2021-10-01                                             159.3   \n",
      "\n",
      "            Dairy products and eggs  Fish, seafood and other marine products  \\\n",
      "1986-01-01                     70.9                                     60.6   \n",
      "1986-02-01                     70.8                                     61.3   \n",
      "1986-03-01                     71.1                                     61.3   \n",
      "1986-04-01                     71.0                                     61.4   \n",
      "1986-05-01                     71.4                                     61.9   \n",
      "...                             ...                                      ...   \n",
      "2021-06-01                    145.3                                    146.2   \n",
      "2021-07-01                    146.4                                    146.6   \n",
      "2021-08-01                    148.3                                    146.8   \n",
      "2021-09-01                    148.0                                    147.1   \n",
      "2021-10-01                    146.6                                    149.3   \n",
      "\n",
      "            Food purchased from restaurants   Food  \\\n",
      "1986-01-01                             59.1   67.3   \n",
      "1986-02-01                             59.1   66.9   \n",
      "1986-03-01                             59.3   67.0   \n",
      "1986-04-01                             59.7   67.7   \n",
      "1986-05-01                             59.9   68.2   \n",
      "...                                     ...    ...   \n",
      "2021-06-01                            163.9  156.8   \n",
      "2021-07-01                            165.2  157.6   \n",
      "2021-08-01                            165.9  158.0   \n",
      "2021-09-01                            165.9  158.5   \n",
      "2021-10-01                            167.1  159.2   \n",
      "\n",
      "            Fruit, fruit preparations and nuts   Meat  \\\n",
      "1986-01-01                                76.0   65.1   \n",
      "1986-02-01                                77.6   64.2   \n",
      "1986-03-01                                79.2   64.2   \n",
      "1986-04-01                                82.2   63.6   \n",
      "1986-05-01                                83.5   64.0   \n",
      "...                                        ...    ...   \n",
      "2021-06-01                               144.5  176.7   \n",
      "2021-07-01                               141.7  180.9   \n",
      "2021-08-01                               142.5  182.1   \n",
      "2021-09-01                               141.5  184.8   \n",
      "2021-10-01                               141.7  187.1   \n",
      "\n",
      "            Other food products and non-alcoholic beverages  \\\n",
      "1986-01-01                                             77.5   \n",
      "1986-02-01                                             78.1   \n",
      "1986-03-01                                             78.6   \n",
      "1986-04-01                                             79.5   \n",
      "1986-05-01                                             79.8   \n",
      "...                                                     ...   \n",
      "2021-06-01                                            142.2   \n",
      "2021-07-01                                            141.9   \n",
      "2021-08-01                                            141.7   \n",
      "2021-09-01                                            144.3   \n",
      "2021-10-01                                            144.4   \n",
      "\n",
      "            Vegetables and vegetable preparations  DEXCAUS  ...  \\\n",
      "1986-01-01                                   76.0    1.392  ...   \n",
      "1986-02-01                                   68.4    1.392  ...   \n",
      "1986-03-01                                   66.2    1.392  ...   \n",
      "1986-04-01                                   71.1    1.392  ...   \n",
      "1986-05-01                                   75.3    1.377  ...   \n",
      "...                                           ...      ...  ...   \n",
      "2021-06-01                                  153.4    1.203  ...   \n",
      "2021-07-01                                  154.8    1.240  ...   \n",
      "2021-08-01                                  152.2    1.251  ...   \n",
      "2021-09-01                                  150.0    1.262  ...   \n",
      "2021-10-01                                  149.4    1.266  ...   \n",
      "\n",
      "            XTIMVA01CAM657S  XTIMVA01CAM659S  XTIMVA01CAM664N  \\\n",
      "1986-01-01            3.644           12.051        9.368e+09   \n",
      "1986-02-01            1.965           16.745        9.495e+09   \n",
      "1986-03-01          -11.565            1.655        8.803e+09   \n",
      "1986-04-01           13.334           10.821        1.034e+10   \n",
      "1986-05-01           -4.236            6.160        9.598e+09   \n",
      "...                     ...              ...              ...   \n",
      "2021-06-01           -1.087           31.561        5.159e+10   \n",
      "2021-07-01            1.990           18.580        5.106e+10   \n",
      "2021-08-01           -2.312           14.723        5.245e+10   \n",
      "2021-09-01           -3.461            8.557        5.080e+10   \n",
      "2021-10-01           -3.461            8.557        5.080e+10   \n",
      "\n",
      "            XTIMVA01CAM664S  XTIMVA01CAM667S  XTNTVA01CAM664N  \\\n",
      "1986-01-01        9.496e+09        6.749e+09        6.906e+08   \n",
      "1986-02-01        9.632e+09        6.881e+09       -9.880e+07   \n",
      "1986-03-01        8.529e+09        6.085e+09        9.138e+08   \n",
      "1986-04-01        9.569e+09        6.897e+09        3.470e+08   \n",
      "1986-05-01        9.091e+09        6.605e+09        7.013e+08   \n",
      "...                     ...              ...              ...   \n",
      "2021-06-01        4.979e+10        4.075e+10        3.661e+09   \n",
      "2021-07-01        5.205e+10        4.156e+10        3.780e+08   \n",
      "2021-08-01        5.115e+10        4.060e+10        1.300e+09   \n",
      "2021-09-01        4.965e+10        3.920e+10        1.561e+09   \n",
      "2021-10-01        4.965e+10        3.920e+10        1.561e+09   \n",
      "\n",
      "            XTNTVA01CAM664S  XTNTVA01CAM667S   TOTALNS   TOTALSL  \n",
      "1986-01-01        1.052e+09        7.479e+08   607.369   605.703  \n",
      "1986-02-01        1.539e+08        1.099e+08   605.807   610.678  \n",
      "1986-03-01        9.079e+08        6.478e+08   606.799   613.377  \n",
      "1986-04-01        6.563e+08        4.730e+08   614.367   619.658  \n",
      "1986-05-01        6.893e+08        5.008e+08   621.915   625.820  \n",
      "...                     ...              ...       ...       ...  \n",
      "2021-06-01        3.111e+09        2.546e+09  4259.604  4307.137  \n",
      "2021-07-01        1.129e+09        9.018e+08  4276.202  4323.730  \n",
      "2021-08-01        2.674e+09        2.123e+09  4316.303  4337.489  \n",
      "2021-09-01        2.277e+09        1.798e+09  4346.662  4367.402  \n",
      "2021-10-01        2.277e+09        1.798e+09  4346.662  4367.402  \n",
      "\n",
      "[430 rows x 332 columns]\n"
     ]
    }
   ],
   "source": [
    "print(foodprice_df)"
   ]
  },
  {
   "cell_type": "code",
   "execution_count": 34,
   "id": "ordinary-pipeline",
   "metadata": {
    "executionInfo": {
     "elapsed": 143,
     "status": "ok",
     "timestamp": 1634584340558,
     "user": {
      "displayName": "Ethan Jackson",
      "photoUrl": "https://lh3.googleusercontent.com/a-/AOh14Gj0sN-qIkLWaD3gNaMMx-oLuegd5o3MGlU94qG9IQ=s64",
      "userId": "16234263294244605206"
     },
     "user_tz": 240
    },
    "id": "AVVQph3qP-d7"
   },
   "outputs": [],
   "source": [
    "def rmse(y_true, y_pred):\n",
    "    return np.sqrt(mean_squared_error(y_true, y_pred))\n",
    "\n",
    "metrics = {\n",
    "    'r2_score': r2_score,\n",
    "    'mae': mean_absolute_error,\n",
    "    'mape': mean_absolute_percentage_error,\n",
    "    'mse': mean_squared_error,\n",
    "    'rmse': rmse\n",
    "}\n",
    "def get_prophet_df(foodprice_df, food_category, dates):\n",
    "    df = foodprice_df[food_category][dates]\n",
    "    df = df.reset_index()\n",
    "    df = df.rename({'REF_DATE':'ds', 'index':'ds', food_category:'y'}, axis=1)\n",
    "    return df\n",
    "\n",
    "def get_neuralprophet_df(foodprice_df, food_category, dates, lagged_regressor):\n",
    "    prophet_df = pd.DataFrame({'ds': foodprice_df[food_category][dates].index, \n",
    "                           'y':foodprice_df[food_category].loc[foodprice_df.index][dates], \n",
    "                           lagged_regressor: foodprice_df[lagged_regressor].loc[foodprice_df.index][dates],\n",
    "                          })\n",
    "    prophet_df.reset_index(drop=True, inplace=True)\n",
    "\n",
    "    return prophet_df\n",
    "    "
   ]
  },
  {
   "cell_type": "markdown",
   "id": "69c8211f-9aa5-4a46-a9eb-4bfea4862db3",
   "metadata": {},
   "source": [
    "# Hyperparameter tuning using ParameterGrid"
   ]
  },
  {
   "cell_type": "code",
   "execution_count": 59,
   "id": "9dcd9a70-f33e-4d95-ab5c-dc3b21ac6661",
   "metadata": {},
   "outputs": [
    {
     "name": "stdout",
     "output_type": "stream",
     "text": [
      "Total Possible Models 4\n"
     ]
    }
   ],
   "source": [
    "from sklearn.model_selection import ParameterGrid\n",
    "params_grid = {'n_forecasts':[18],\n",
    "              'n_lags':[24, 36, 48, 60]}\n",
    "\n",
    "grid = ParameterGrid(params_grid)\n",
    "cnt = 0\n",
    "for p in grid:\n",
    "    cnt = cnt+1\n",
    "print('Total Possible Models',cnt)"
   ]
  },
  {
   "cell_type": "markdown",
   "id": "hidden-spouse",
   "metadata": {},
   "source": [
    "## Fit Models and Save Forecasts\n",
    "\n",
    "Fit a model using data up to the `report_sim_date` and use it to produce forecasts for the following 18 months. Collect evaluation metrics for comparion and save the forecasts for use in the ensembling experiments."
   ]
  },
  {
   "cell_type": "code",
   "execution_count": 56,
   "id": "international-latex",
   "metadata": {
    "colab": {
     "base_uri": "https://localhost:8080/",
     "height": 1000
    },
    "collapsed": true,
    "executionInfo": {
     "elapsed": 9960613,
     "status": "ok",
     "timestamp": 1634600449715,
     "user": {
      "displayName": "Ethan Jackson",
      "photoUrl": "https://lh3.googleusercontent.com/a-/AOh14Gj0sN-qIkLWaD3gNaMMx-oLuegd5o3MGlU94qG9IQ=s64",
      "userId": "16234263294244605206"
     },
     "user_tz": 240
    },
    "id": "HPi4At6gT26Q",
    "jupyter": {
     "outputs_hidden": true
    },
    "outputId": "3d99832f-f9e2-4b1f-d6c0-1499c8468464",
    "tags": []
   },
   "outputs": [
    {
     "name": "stderr",
     "output_type": "stream",
     "text": [
      "INFO - (NP.utils.set_auto_seasonalities) - Disabling weekly seasonality. Run NeuralProphet with weekly_seasonality=True to override this.\n",
      "INFO - (NP.utils.set_auto_seasonalities) - Disabling daily seasonality. Run NeuralProphet with daily_seasonality=True to override this.\n",
      "INFO - (NP.config.set_auto_batch_epoch) - Auto-set batch_size to 16\n",
      "INFO - (NP.config.set_auto_batch_epoch) - Auto-set epochs to 233\n"
     ]
    },
    {
     "data": {
      "application/vnd.jupyter.widget-view+json": {
       "model_id": "42dc5f40cfa94962ac7cb3ad526d82ec",
       "version_major": 2,
       "version_minor": 0
      },
      "text/plain": [
       "  0%|          | 0/224 [00:00<?, ?it/s]"
      ]
     },
     "metadata": {},
     "output_type": "display_data"
    },
    {
     "name": "stdout",
     "output_type": "stream",
     "text": [
      "making new directory for:  ./output/neuralprophet_202110_DEXCAUS_nlags_36\n"
     ]
    },
    {
     "name": "stderr",
     "output_type": "stream",
     "text": [
      "INFO - (NP.utils_torch.lr_range_test) - lr-range-test results: steep: 5.38E-02, min: 2.87E-01\n"
     ]
    },
    {
     "data": {
      "application/vnd.jupyter.widget-view+json": {
       "model_id": "241248bb521c4d6bbc59b73720df3492",
       "version_major": 2,
       "version_minor": 0
      },
      "text/plain": [
       "  0%|          | 0/224 [00:00<?, ?it/s]"
      ]
     },
     "metadata": {},
     "output_type": "display_data"
    },
    {
     "name": "stderr",
     "output_type": "stream",
     "text": [
      "INFO - (NP.utils_torch.lr_range_test) - lr-range-test results: steep: 4.47E-02, min: 1.80E-01\n"
     ]
    },
    {
     "data": {
      "application/vnd.jupyter.widget-view+json": {
       "model_id": "4c74a94c2bdb4b07b6643fcbebb7e915",
       "version_major": 2,
       "version_minor": 0
      },
      "text/plain": [
       "  0%|          | 0/224 [00:00<?, ?it/s]"
      ]
     },
     "metadata": {},
     "output_type": "display_data"
    },
    {
     "name": "stderr",
     "output_type": "stream",
     "text": [
      "INFO - (NP.utils_torch.lr_range_test) - lr-range-test results: steep: 4.90E-02, min: 2.61E-01\n",
      "INFO - (NP.forecaster._init_train_loader) - lr-range-test selected learning rate: 4.90E-02\n",
      "Epoch[233/233]: 100%|██████████| 233/233 [00:10<00:00, 21.42it/s, SmoothL1Loss=0.000216, MAE=1.26, RMSE=1.7, RegLoss=0]\n",
      "INFO - (NP.utils.set_auto_seasonalities) - Disabling weekly seasonality. Run NeuralProphet with weekly_seasonality=True to override this.\n",
      "INFO - (NP.utils.set_auto_seasonalities) - Disabling daily seasonality. Run NeuralProphet with daily_seasonality=True to override this.\n",
      "INFO - (NP.config.set_auto_batch_epoch) - Auto-set batch_size to 16\n",
      "INFO - (NP.config.set_auto_batch_epoch) - Auto-set epochs to 233\n"
     ]
    },
    {
     "data": {
      "application/vnd.jupyter.widget-view+json": {
       "model_id": "a9c873d4bd124da791df5492d29ced40",
       "version_major": 2,
       "version_minor": 0
      },
      "text/plain": [
       "  0%|          | 0/224 [00:00<?, ?it/s]"
      ]
     },
     "metadata": {},
     "output_type": "display_data"
    },
    {
     "name": "stdout",
     "output_type": "stream",
     "text": [
      "this is all yhats  [152.8520965576172, 153.38613891601562, 153.67892456054688, 154.19692993164062, 154.3414306640625, 151.55224609375, 154.04632568359375, 152.59487915039062, 154.25421142578125, 154.1897430419922, 153.48513793945312, 153.9449462890625, 153.67315673828125, 150.9814910888672, 152.97396850585938, 153.36488342285156, 154.19210815429688, 152.37289428710938]\n",
      "this is all_valid_metrics {('./output/neuralprophet_202110_DEXCAUS_nlags_36', 'Bakery and cereal products (excluding baby food)'): {'2015-07-01': r2_score   -0.113\n",
      "mae         2.201\n",
      "mape        0.014\n",
      "mse         6.433\n",
      "rmse        2.536\n",
      "dtype: float64}}\n"
     ]
    },
    {
     "name": "stderr",
     "output_type": "stream",
     "text": [
      "INFO - (NP.utils_torch.lr_range_test) - lr-range-test results: steep: 4.38E-03, min: 2.61E-01\n"
     ]
    },
    {
     "data": {
      "application/vnd.jupyter.widget-view+json": {
       "model_id": "3945d6f8b76c4ad6a16399059a40951d",
       "version_major": 2,
       "version_minor": 0
      },
      "text/plain": [
       "  0%|          | 0/224 [00:00<?, ?it/s]"
      ]
     },
     "metadata": {},
     "output_type": "display_data"
    },
    {
     "name": "stderr",
     "output_type": "stream",
     "text": [
      "INFO - (NP.utils_torch.lr_range_test) - lr-range-test results: steep: 4.07E-02, min: 1.80E-01\n"
     ]
    },
    {
     "data": {
      "application/vnd.jupyter.widget-view+json": {
       "model_id": "7fba2f71075447edbb0b6bc5e5076a69",
       "version_major": 2,
       "version_minor": 0
      },
      "text/plain": [
       "  0%|          | 0/224 [00:00<?, ?it/s]"
      ]
     },
     "metadata": {},
     "output_type": "display_data"
    },
    {
     "name": "stderr",
     "output_type": "stream",
     "text": [
      "INFO - (NP.utils_torch.lr_range_test) - lr-range-test results: steep: 3.08E-02, min: 8.57E-02\n",
      "INFO - (NP.forecaster._init_train_loader) - lr-range-test selected learning rate: 1.76E-02\n",
      "Epoch[233/233]: 100%|█████████| 233/233 [00:12<00:00, 19.25it/s, SmoothL1Loss=0.000253, MAE=1.15, RMSE=1.46, RegLoss=0]\n",
      "INFO - (NP.utils.set_auto_seasonalities) - Disabling weekly seasonality. Run NeuralProphet with weekly_seasonality=True to override this.\n",
      "INFO - (NP.utils.set_auto_seasonalities) - Disabling daily seasonality. Run NeuralProphet with daily_seasonality=True to override this.\n",
      "INFO - (NP.config.set_auto_batch_epoch) - Auto-set batch_size to 16\n",
      "INFO - (NP.config.set_auto_batch_epoch) - Auto-set epochs to 233\n"
     ]
    },
    {
     "data": {
      "application/vnd.jupyter.widget-view+json": {
       "model_id": "dabf3b18d2fb4314ada7372bb8e69c4b",
       "version_major": 2,
       "version_minor": 0
      },
      "text/plain": [
       "  0%|          | 0/224 [00:00<?, ?it/s]"
      ]
     },
     "metadata": {},
     "output_type": "display_data"
    },
    {
     "name": "stdout",
     "output_type": "stream",
     "text": [
      "this is all yhats  [132.718505859375, 131.75790405273438, 131.48069763183594, 132.9052276611328, 133.5733184814453, 132.05419921875, 133.55673217773438, 132.9722137451172, 133.2242889404297, 132.62770080566406, 133.2576141357422, 132.69512939453125, 134.68356323242188, 133.52989196777344, 132.87979125976562, 134.12567138671875, 132.37857055664062, 134.16920471191406]\n",
      "this is all_valid_metrics {('./output/neuralprophet_202110_DEXCAUS_nlags_36', 'Bakery and cereal products (excluding baby food)'): {'2015-07-01': r2_score   -0.113\n",
      "mae         2.201\n",
      "mape        0.014\n",
      "mse         6.433\n",
      "rmse        2.536\n",
      "dtype: float64}, ('./output/neuralprophet_202110_DEXCAUS_nlags_36', 'Dairy products and eggs'): {'2015-07-01': r2_score    -5.406\n",
      "mae          2.903\n",
      "mape         0.021\n",
      "mse         10.783\n",
      "rmse         3.284\n",
      "dtype: float64}}\n"
     ]
    },
    {
     "name": "stderr",
     "output_type": "stream",
     "text": [
      "INFO - (NP.utils_torch.lr_range_test) - lr-range-test results: steep: 3.08E-02, min: 1.98E-01\n"
     ]
    },
    {
     "data": {
      "application/vnd.jupyter.widget-view+json": {
       "model_id": "9e5caa0f98be419f8f4a631a1fcdb6e2",
       "version_major": 2,
       "version_minor": 0
      },
      "text/plain": [
       "  0%|          | 0/224 [00:00<?, ?it/s]"
      ]
     },
     "metadata": {},
     "output_type": "display_data"
    },
    {
     "name": "stderr",
     "output_type": "stream",
     "text": [
      "INFO - (NP.utils_torch.lr_range_test) - lr-range-test results: steep: 2.12E-02, min: 2.61E-01\n"
     ]
    },
    {
     "data": {
      "application/vnd.jupyter.widget-view+json": {
       "model_id": "b4f2f3f932cf4019a78d7d523ff5a372",
       "version_major": 2,
       "version_minor": 0
      },
      "text/plain": [
       "  0%|          | 0/224 [00:00<?, ?it/s]"
      ]
     },
     "metadata": {},
     "output_type": "display_data"
    },
    {
     "name": "stderr",
     "output_type": "stream",
     "text": [
      "INFO - (NP.utils_torch.lr_range_test) - lr-range-test results: steep: 3.08E-02, min: 1.98E-01\n",
      "INFO - (NP.forecaster._init_train_loader) - lr-range-test selected learning rate: 2.72E-02\n",
      "Epoch[233/233]: 100%|█████████| 233/233 [00:11<00:00, 19.60it/s, SmoothL1Loss=0.000271, MAE=1.06, RMSE=1.39, RegLoss=0]\n",
      "INFO - (NP.utils.set_auto_seasonalities) - Disabling weekly seasonality. Run NeuralProphet with weekly_seasonality=True to override this.\n",
      "INFO - (NP.utils.set_auto_seasonalities) - Disabling daily seasonality. Run NeuralProphet with daily_seasonality=True to override this.\n",
      "INFO - (NP.config.set_auto_batch_epoch) - Auto-set batch_size to 16\n",
      "INFO - (NP.config.set_auto_batch_epoch) - Auto-set epochs to 233\n"
     ]
    },
    {
     "data": {
      "application/vnd.jupyter.widget-view+json": {
       "model_id": "2ec42f4b554c49c0aba33b4026942771",
       "version_major": 2,
       "version_minor": 0
      },
      "text/plain": [
       "  0%|          | 0/224 [00:00<?, ?it/s]"
      ]
     },
     "metadata": {},
     "output_type": "display_data"
    },
    {
     "name": "stdout",
     "output_type": "stream",
     "text": [
      "this is all yhats  [119.09233856201172, 119.39118194580078, 120.89630126953125, 121.68272399902344, 121.16845703125, 120.24665832519531, 122.76171875, 123.89271545410156, 122.84673309326172, 125.60950469970703, 125.35374450683594, 126.98567199707031, 125.71819305419922, 122.96749877929688, 124.1906967163086, 122.4289779663086, 124.95600891113281, 120.66468048095703]\n",
      "this is all_valid_metrics {('./output/neuralprophet_202110_DEXCAUS_nlags_36', 'Bakery and cereal products (excluding baby food)'): {'2015-07-01': r2_score   -0.113\n",
      "mae         2.201\n",
      "mape        0.014\n",
      "mse         6.433\n",
      "rmse        2.536\n",
      "dtype: float64}, ('./output/neuralprophet_202110_DEXCAUS_nlags_36', 'Dairy products and eggs'): {'2015-07-01': r2_score    -5.406\n",
      "mae          2.903\n",
      "mape         0.021\n",
      "mse         10.783\n",
      "rmse         3.284\n",
      "dtype: float64}, ('./output/neuralprophet_202110_DEXCAUS_nlags_36', 'Fish, seafood and other marine products'): {'2015-07-01': r2_score    -5.330\n",
      "mae          6.380\n",
      "mape         0.049\n",
      "mse         45.519\n",
      "rmse         6.747\n",
      "dtype: float64}}\n"
     ]
    },
    {
     "name": "stderr",
     "output_type": "stream",
     "text": [
      "INFO - (NP.utils_torch.lr_range_test) - lr-range-test results: steep: 1.94E-02, min: 1.98E-01\n"
     ]
    },
    {
     "data": {
      "application/vnd.jupyter.widget-view+json": {
       "model_id": "68231336854347e58cd86219b628cbb9",
       "version_major": 2,
       "version_minor": 0
      },
      "text/plain": [
       "  0%|          | 0/224 [00:00<?, ?it/s]"
      ]
     },
     "metadata": {},
     "output_type": "display_data"
    },
    {
     "name": "stderr",
     "output_type": "stream",
     "text": [
      "INFO - (NP.utils_torch.lr_range_test) - lr-range-test results: steep: 1.94E-02, min: 1.98E-01\n"
     ]
    },
    {
     "data": {
      "application/vnd.jupyter.widget-view+json": {
       "model_id": "544e30fbace84813aedad20c509fc362",
       "version_major": 2,
       "version_minor": 0
      },
      "text/plain": [
       "  0%|          | 0/224 [00:00<?, ?it/s]"
      ]
     },
     "metadata": {},
     "output_type": "display_data"
    },
    {
     "name": "stderr",
     "output_type": "stream",
     "text": [
      "INFO - (NP.utils_torch.lr_range_test) - lr-range-test results: steep: 2.33E-02, min: 1.98E-01\n",
      "INFO - (NP.forecaster._init_train_loader) - lr-range-test selected learning rate: 2.06E-02\n",
      "Epoch[233/233]: 100%|████████| 233/233 [00:13<00:00, 17.21it/s, SmoothL1Loss=0.000146, MAE=0.971, RMSE=1.27, RegLoss=0]\n",
      "INFO - (NP.utils.set_auto_seasonalities) - Disabling weekly seasonality. Run NeuralProphet with weekly_seasonality=True to override this.\n",
      "INFO - (NP.utils.set_auto_seasonalities) - Disabling daily seasonality. Run NeuralProphet with daily_seasonality=True to override this.\n",
      "INFO - (NP.config.set_auto_batch_epoch) - Auto-set batch_size to 16\n",
      "INFO - (NP.config.set_auto_batch_epoch) - Auto-set epochs to 233\n"
     ]
    },
    {
     "data": {
      "application/vnd.jupyter.widget-view+json": {
       "model_id": "3c231cfd4654438ba45e2dce2d807b73",
       "version_major": 2,
       "version_minor": 0
      },
      "text/plain": [
       "  0%|          | 0/224 [00:00<?, ?it/s]"
      ]
     },
     "metadata": {},
     "output_type": "display_data"
    },
    {
     "name": "stdout",
     "output_type": "stream",
     "text": [
      "this is all yhats  [136.75625610351562, 137.89047241210938, 137.44558715820312, 137.63626098632812, 137.224853515625, 138.29632568359375, 139.72024536132812, 137.01327514648438, 136.81155395507812, 136.72860717773438, 137.47116088867188, 137.24356079101562, 138.23785400390625, 137.00640869140625, 137.86447143554688, 140.7816925048828, 138.39686584472656, 138.474853515625]\n",
      "this is all_valid_metrics {('./output/neuralprophet_202110_DEXCAUS_nlags_36', 'Bakery and cereal products (excluding baby food)'): {'2015-07-01': r2_score   -0.113\n",
      "mae         2.201\n",
      "mape        0.014\n",
      "mse         6.433\n",
      "rmse        2.536\n",
      "dtype: float64}, ('./output/neuralprophet_202110_DEXCAUS_nlags_36', 'Dairy products and eggs'): {'2015-07-01': r2_score    -5.406\n",
      "mae          2.903\n",
      "mape         0.021\n",
      "mse         10.783\n",
      "rmse         3.284\n",
      "dtype: float64}, ('./output/neuralprophet_202110_DEXCAUS_nlags_36', 'Fish, seafood and other marine products'): {'2015-07-01': r2_score    -5.330\n",
      "mae          6.380\n",
      "mape         0.049\n",
      "mse         45.519\n",
      "rmse         6.747\n",
      "dtype: float64}, ('./output/neuralprophet_202110_DEXCAUS_nlags_36', 'Food purchased from restaurants'): {'2015-07-01': r2_score    -7.215\n",
      "mae          4.061\n",
      "mape         0.029\n",
      "mse         18.661\n",
      "rmse         4.320\n",
      "dtype: float64}}\n"
     ]
    },
    {
     "name": "stderr",
     "output_type": "stream",
     "text": [
      "INFO - (NP.utils_torch.lr_range_test) - lr-range-test results: steep: 4.38E-03, min: 3.15E-01\n"
     ]
    },
    {
     "data": {
      "application/vnd.jupyter.widget-view+json": {
       "model_id": "6fa7bb2909d44917aff3c1c18c10fa2b",
       "version_major": 2,
       "version_minor": 0
      },
      "text/plain": [
       "  0%|          | 0/224 [00:00<?, ?it/s]"
      ]
     },
     "metadata": {},
     "output_type": "display_data"
    },
    {
     "name": "stderr",
     "output_type": "stream",
     "text": [
      "INFO - (NP.utils_torch.lr_range_test) - lr-range-test results: steep: 4.38E-03, min: 1.80E-01\n"
     ]
    },
    {
     "data": {
      "application/vnd.jupyter.widget-view+json": {
       "model_id": "71f1099a442a4823b3626a6b2481b071",
       "version_major": 2,
       "version_minor": 0
      },
      "text/plain": [
       "  0%|          | 0/224 [00:00<?, ?it/s]"
      ]
     },
     "metadata": {},
     "output_type": "display_data"
    },
    {
     "name": "stderr",
     "output_type": "stream",
     "text": [
      "INFO - (NP.utils_torch.lr_range_test) - lr-range-test results: steep: 3.99E-03, min: 2.61E-01\n",
      "INFO - (NP.forecaster._init_train_loader) - lr-range-test selected learning rate: 4.24E-03\n",
      "Epoch[233/233]: 100%|███████████| 233/233 [00:13<00:00, 17.20it/s, SmoothL1Loss=0.00106, MAE=2.44, RMSE=3.1, RegLoss=0]\n",
      "INFO - (NP.utils.set_auto_seasonalities) - Disabling weekly seasonality. Run NeuralProphet with weekly_seasonality=True to override this.\n",
      "INFO - (NP.utils.set_auto_seasonalities) - Disabling daily seasonality. Run NeuralProphet with daily_seasonality=True to override this.\n",
      "INFO - (NP.config.set_auto_batch_epoch) - Auto-set batch_size to 16\n",
      "INFO - (NP.config.set_auto_batch_epoch) - Auto-set epochs to 233\n"
     ]
    },
    {
     "data": {
      "application/vnd.jupyter.widget-view+json": {
       "model_id": "cc4bedf1a1784e568c9473fcf16943d4",
       "version_major": 2,
       "version_minor": 0
      },
      "text/plain": [
       "  0%|          | 0/224 [00:00<?, ?it/s]"
      ]
     },
     "metadata": {},
     "output_type": "display_data"
    },
    {
     "name": "stdout",
     "output_type": "stream",
     "text": [
      "this is all yhats  [136.61802673339844, 136.99505615234375, 141.29400634765625, 135.99212646484375, 139.87734985351562, 140.47189331054688, 142.03421020507812, 144.2301025390625, 140.170166015625, 145.91253662109375, 142.6256561279297, 142.652587890625, 140.13671875, 144.48129272460938, 142.72183227539062, 143.77099609375, 140.95375061035156, 148.2900390625]\n",
      "this is all_valid_metrics {('./output/neuralprophet_202110_DEXCAUS_nlags_36', 'Bakery and cereal products (excluding baby food)'): {'2015-07-01': r2_score   -0.113\n",
      "mae         2.201\n",
      "mape        0.014\n",
      "mse         6.433\n",
      "rmse        2.536\n",
      "dtype: float64}, ('./output/neuralprophet_202110_DEXCAUS_nlags_36', 'Dairy products and eggs'): {'2015-07-01': r2_score    -5.406\n",
      "mae          2.903\n",
      "mape         0.021\n",
      "mse         10.783\n",
      "rmse         3.284\n",
      "dtype: float64}, ('./output/neuralprophet_202110_DEXCAUS_nlags_36', 'Fish, seafood and other marine products'): {'2015-07-01': r2_score    -5.330\n",
      "mae          6.380\n",
      "mape         0.049\n",
      "mse         45.519\n",
      "rmse         6.747\n",
      "dtype: float64}, ('./output/neuralprophet_202110_DEXCAUS_nlags_36', 'Food purchased from restaurants'): {'2015-07-01': r2_score    -7.215\n",
      "mae          4.061\n",
      "mape         0.029\n",
      "mse         18.661\n",
      "rmse         4.320\n",
      "dtype: float64}, ('./output/neuralprophet_202110_DEXCAUS_nlags_36', 'Food'): {'2015-07-01': r2_score    -3.337\n",
      "mae          2.768\n",
      "mape         0.019\n",
      "mse         11.040\n",
      "rmse         3.323\n",
      "dtype: float64}}\n"
     ]
    },
    {
     "name": "stderr",
     "output_type": "stream",
     "text": [
      "INFO - (NP.utils_torch.lr_range_test) - lr-range-test results: steep: 3.38E-02, min: 2.38E-01\n"
     ]
    },
    {
     "data": {
      "application/vnd.jupyter.widget-view+json": {
       "model_id": "0e119abb6ab64e448026bae1408331a7",
       "version_major": 2,
       "version_minor": 0
      },
      "text/plain": [
       "  0%|          | 0/224 [00:00<?, ?it/s]"
      ]
     },
     "metadata": {},
     "output_type": "display_data"
    },
    {
     "name": "stderr",
     "output_type": "stream",
     "text": [
      "INFO - (NP.utils_torch.lr_range_test) - lr-range-test results: steep: 3.38E-02, min: 2.38E-01\n"
     ]
    },
    {
     "data": {
      "application/vnd.jupyter.widget-view+json": {
       "model_id": "876e61be953444839ea6a648067ad050",
       "version_major": 2,
       "version_minor": 0
      },
      "text/plain": [
       "  0%|          | 0/224 [00:00<?, ?it/s]"
      ]
     },
     "metadata": {},
     "output_type": "display_data"
    },
    {
     "name": "stderr",
     "output_type": "stream",
     "text": [
      "INFO - (NP.utils_torch.lr_range_test) - lr-range-test results: steep: 4.07E-02, min: 2.61E-01\n",
      "INFO - (NP.forecaster._init_train_loader) - lr-range-test selected learning rate: 3.60E-02\n",
      "Epoch[233/233]: 100%|██████████| 233/233 [00:19<00:00, 12.22it/s, SmoothL1Loss=0.00101, MAE=1.69, RMSE=2.14, RegLoss=0]\n",
      "INFO - (NP.utils.set_auto_seasonalities) - Disabling weekly seasonality. Run NeuralProphet with weekly_seasonality=True to override this.\n",
      "INFO - (NP.utils.set_auto_seasonalities) - Disabling daily seasonality. Run NeuralProphet with daily_seasonality=True to override this.\n",
      "INFO - (NP.config.set_auto_batch_epoch) - Auto-set batch_size to 16\n",
      "INFO - (NP.config.set_auto_batch_epoch) - Auto-set epochs to 233\n"
     ]
    },
    {
     "data": {
      "application/vnd.jupyter.widget-view+json": {
       "model_id": "a9407c6673da45fabace51d312476780",
       "version_major": 2,
       "version_minor": 0
      },
      "text/plain": [
       "  0%|          | 0/224 [00:00<?, ?it/s]"
      ]
     },
     "metadata": {},
     "output_type": "display_data"
    },
    {
     "name": "stdout",
     "output_type": "stream",
     "text": [
      "this is all yhats  [128.03085327148438, 127.34528350830078, 123.94705200195312, 125.40150451660156, 125.22442626953125, 127.83792114257812, 125.44927978515625, 123.28280639648438, 122.15280151367188, 122.85742950439453, 125.42133331298828, 125.66470336914062, 124.1221923828125, 119.6152114868164, 121.21987915039062, 125.16340637207031, 126.20071411132812, 127.4620590209961]\n",
      "this is all_valid_metrics {('./output/neuralprophet_202110_DEXCAUS_nlags_36', 'Bakery and cereal products (excluding baby food)'): {'2015-07-01': r2_score   -0.113\n",
      "mae         2.201\n",
      "mape        0.014\n",
      "mse         6.433\n",
      "rmse        2.536\n",
      "dtype: float64}, ('./output/neuralprophet_202110_DEXCAUS_nlags_36', 'Dairy products and eggs'): {'2015-07-01': r2_score    -5.406\n",
      "mae          2.903\n",
      "mape         0.021\n",
      "mse         10.783\n",
      "rmse         3.284\n",
      "dtype: float64}, ('./output/neuralprophet_202110_DEXCAUS_nlags_36', 'Fish, seafood and other marine products'): {'2015-07-01': r2_score    -5.330\n",
      "mae          6.380\n",
      "mape         0.049\n",
      "mse         45.519\n",
      "rmse         6.747\n",
      "dtype: float64}, ('./output/neuralprophet_202110_DEXCAUS_nlags_36', 'Food purchased from restaurants'): {'2015-07-01': r2_score    -7.215\n",
      "mae          4.061\n",
      "mape         0.029\n",
      "mse         18.661\n",
      "rmse         4.320\n",
      "dtype: float64}, ('./output/neuralprophet_202110_DEXCAUS_nlags_36', 'Food'): {'2015-07-01': r2_score    -3.337\n",
      "mae          2.768\n",
      "mape         0.019\n",
      "mse         11.040\n",
      "rmse         3.323\n",
      "dtype: float64}, ('./output/neuralprophet_202110_DEXCAUS_nlags_36', 'Fruit, fruit preparations and nuts'): {'2015-07-01': r2_score     -4.301\n",
      "mae          10.478\n",
      "mape          0.076\n",
      "mse         135.232\n",
      "rmse         11.629\n",
      "dtype: float64}}\n"
     ]
    },
    {
     "name": "stderr",
     "output_type": "stream",
     "text": [
      "INFO - (NP.utils_torch.lr_range_test) - lr-range-test results: steep: 3.71E-02, min: 3.45E-01\n"
     ]
    },
    {
     "data": {
      "application/vnd.jupyter.widget-view+json": {
       "model_id": "4e3635503a404a3f819cf599eeef9585",
       "version_major": 2,
       "version_minor": 0
      },
      "text/plain": [
       "  0%|          | 0/224 [00:00<?, ?it/s]"
      ]
     },
     "metadata": {},
     "output_type": "display_data"
    },
    {
     "name": "stderr",
     "output_type": "stream",
     "text": [
      "INFO - (NP.utils_torch.lr_range_test) - lr-range-test results: steep: 3.71E-02, min: 2.61E-01\n"
     ]
    },
    {
     "data": {
      "application/vnd.jupyter.widget-view+json": {
       "model_id": "30a40133f81547f8b2872fb1a9ac1394",
       "version_major": 2,
       "version_minor": 0
      },
      "text/plain": [
       "  0%|          | 0/224 [00:00<?, ?it/s]"
      ]
     },
     "metadata": {},
     "output_type": "display_data"
    },
    {
     "name": "stderr",
     "output_type": "stream",
     "text": [
      "INFO - (NP.utils_torch.lr_range_test) - lr-range-test results: steep: 8.57E-02, min: 3.15E-01\n",
      "INFO - (NP.forecaster._init_train_loader) - lr-range-test selected learning rate: 4.90E-02\n",
      "Epoch[233/233]: 100%|█████████| 233/233 [00:17<00:00, 13.52it/s, SmoothL1Loss=0.000268, MAE=1.32, RMSE=1.69, RegLoss=0]\n",
      "INFO - (NP.utils.set_auto_seasonalities) - Disabling weekly seasonality. Run NeuralProphet with weekly_seasonality=True to override this.\n",
      "INFO - (NP.utils.set_auto_seasonalities) - Disabling daily seasonality. Run NeuralProphet with daily_seasonality=True to override this.\n",
      "INFO - (NP.config.set_auto_batch_epoch) - Auto-set batch_size to 16\n",
      "INFO - (NP.config.set_auto_batch_epoch) - Auto-set epochs to 233\n"
     ]
    },
    {
     "data": {
      "application/vnd.jupyter.widget-view+json": {
       "model_id": "946af0a85f7949afb8b0146d618132c4",
       "version_major": 2,
       "version_minor": 0
      },
      "text/plain": [
       "  0%|          | 0/224 [00:00<?, ?it/s]"
      ]
     },
     "metadata": {},
     "output_type": "display_data"
    },
    {
     "name": "stdout",
     "output_type": "stream",
     "text": [
      "this is all yhats  [155.89358520507812, 155.32571411132812, 154.43606567382812, 156.58932495117188, 154.01174926757812, 155.95535278320312, 156.2486572265625, 157.7995147705078, 155.69851684570312, 155.78131103515625, 159.48104858398438, 159.10194396972656, 157.81402587890625, 161.03236389160156, 160.35983276367188, 160.2681884765625, 161.04718017578125, 160.7239990234375]\n",
      "this is all_valid_metrics {('./output/neuralprophet_202110_DEXCAUS_nlags_36', 'Bakery and cereal products (excluding baby food)'): {'2015-07-01': r2_score   -0.113\n",
      "mae         2.201\n",
      "mape        0.014\n",
      "mse         6.433\n",
      "rmse        2.536\n",
      "dtype: float64}, ('./output/neuralprophet_202110_DEXCAUS_nlags_36', 'Dairy products and eggs'): {'2015-07-01': r2_score    -5.406\n",
      "mae          2.903\n",
      "mape         0.021\n",
      "mse         10.783\n",
      "rmse         3.284\n",
      "dtype: float64}, ('./output/neuralprophet_202110_DEXCAUS_nlags_36', 'Fish, seafood and other marine products'): {'2015-07-01': r2_score    -5.330\n",
      "mae          6.380\n",
      "mape         0.049\n",
      "mse         45.519\n",
      "rmse         6.747\n",
      "dtype: float64}, ('./output/neuralprophet_202110_DEXCAUS_nlags_36', 'Food purchased from restaurants'): {'2015-07-01': r2_score    -7.215\n",
      "mae          4.061\n",
      "mape         0.029\n",
      "mse         18.661\n",
      "rmse         4.320\n",
      "dtype: float64}, ('./output/neuralprophet_202110_DEXCAUS_nlags_36', 'Food'): {'2015-07-01': r2_score    -3.337\n",
      "mae          2.768\n",
      "mape         0.019\n",
      "mse         11.040\n",
      "rmse         3.323\n",
      "dtype: float64}, ('./output/neuralprophet_202110_DEXCAUS_nlags_36', 'Fruit, fruit preparations and nuts'): {'2015-07-01': r2_score     -4.301\n",
      "mae          10.478\n",
      "mape          0.076\n",
      "mse         135.232\n",
      "rmse         11.629\n",
      "dtype: float64}, ('./output/neuralprophet_202110_DEXCAUS_nlags_36', 'Meat'): {'2015-07-01': r2_score    -4.239\n",
      "mae          2.916\n",
      "mape         0.019\n",
      "mse         11.891\n",
      "rmse         3.448\n",
      "dtype: float64}}\n"
     ]
    },
    {
     "name": "stderr",
     "output_type": "stream",
     "text": [
      "INFO - (NP.utils_torch.lr_range_test) - lr-range-test results: steep: 4.07E-02, min: 2.38E-01\n"
     ]
    },
    {
     "data": {
      "application/vnd.jupyter.widget-view+json": {
       "model_id": "a42bd2724d9b4cd9bee1614ea71e7d5d",
       "version_major": 2,
       "version_minor": 0
      },
      "text/plain": [
       "  0%|          | 0/224 [00:00<?, ?it/s]"
      ]
     },
     "metadata": {},
     "output_type": "display_data"
    },
    {
     "name": "stderr",
     "output_type": "stream",
     "text": [
      "INFO - (NP.utils_torch.lr_range_test) - lr-range-test results: steep: 2.56E-02, min: 2.17E-01\n"
     ]
    },
    {
     "data": {
      "application/vnd.jupyter.widget-view+json": {
       "model_id": "a6c5c83f7ced462184e595d9686c3010",
       "version_major": 2,
       "version_minor": 0
      },
      "text/plain": [
       "  0%|          | 0/224 [00:00<?, ?it/s]"
      ]
     },
     "metadata": {},
     "output_type": "display_data"
    },
    {
     "name": "stderr",
     "output_type": "stream",
     "text": [
      "INFO - (NP.utils_torch.lr_range_test) - lr-range-test results: steep: 4.47E-02, min: 3.15E-01\n",
      "INFO - (NP.forecaster._init_train_loader) - lr-range-test selected learning rate: 3.60E-02\n",
      "Epoch[233/233]: 100%|█████████| 233/233 [00:15<00:00, 14.66it/s, SmoothL1Loss=0.000258, MAE=0.964, RMSE=1.2, RegLoss=0]\n",
      "INFO - (NP.utils.set_auto_seasonalities) - Disabling weekly seasonality. Run NeuralProphet with weekly_seasonality=True to override this.\n",
      "INFO - (NP.utils.set_auto_seasonalities) - Disabling daily seasonality. Run NeuralProphet with daily_seasonality=True to override this.\n",
      "INFO - (NP.config.set_auto_batch_epoch) - Auto-set batch_size to 16\n",
      "INFO - (NP.config.set_auto_batch_epoch) - Auto-set epochs to 233\n"
     ]
    },
    {
     "data": {
      "application/vnd.jupyter.widget-view+json": {
       "model_id": "1c30bd3c37fb47648b2d36acb06ab70f",
       "version_major": 2,
       "version_minor": 0
      },
      "text/plain": [
       "  0%|          | 0/224 [00:00<?, ?it/s]"
      ]
     },
     "metadata": {},
     "output_type": "display_data"
    },
    {
     "name": "stdout",
     "output_type": "stream",
     "text": [
      "this is all yhats  [131.5183563232422, 132.37159729003906, 131.19729614257812, 130.07061767578125, 128.87710571289062, 131.09910583496094, 130.59349060058594, 131.73947143554688, 131.64157104492188, 131.69329833984375, 130.83041381835938, 130.53440856933594, 131.3682098388672, 131.98683166503906, 129.76605224609375, 132.19435119628906, 130.15159606933594, 132.13314819335938]\n",
      "this is all_valid_metrics {('./output/neuralprophet_202110_DEXCAUS_nlags_36', 'Bakery and cereal products (excluding baby food)'): {'2015-07-01': r2_score   -0.113\n",
      "mae         2.201\n",
      "mape        0.014\n",
      "mse         6.433\n",
      "rmse        2.536\n",
      "dtype: float64}, ('./output/neuralprophet_202110_DEXCAUS_nlags_36', 'Dairy products and eggs'): {'2015-07-01': r2_score    -5.406\n",
      "mae          2.903\n",
      "mape         0.021\n",
      "mse         10.783\n",
      "rmse         3.284\n",
      "dtype: float64}, ('./output/neuralprophet_202110_DEXCAUS_nlags_36', 'Fish, seafood and other marine products'): {'2015-07-01': r2_score    -5.330\n",
      "mae          6.380\n",
      "mape         0.049\n",
      "mse         45.519\n",
      "rmse         6.747\n",
      "dtype: float64}, ('./output/neuralprophet_202110_DEXCAUS_nlags_36', 'Food purchased from restaurants'): {'2015-07-01': r2_score    -7.215\n",
      "mae          4.061\n",
      "mape         0.029\n",
      "mse         18.661\n",
      "rmse         4.320\n",
      "dtype: float64}, ('./output/neuralprophet_202110_DEXCAUS_nlags_36', 'Food'): {'2015-07-01': r2_score    -3.337\n",
      "mae          2.768\n",
      "mape         0.019\n",
      "mse         11.040\n",
      "rmse         3.323\n",
      "dtype: float64}, ('./output/neuralprophet_202110_DEXCAUS_nlags_36', 'Fruit, fruit preparations and nuts'): {'2015-07-01': r2_score     -4.301\n",
      "mae          10.478\n",
      "mape          0.076\n",
      "mse         135.232\n",
      "rmse         11.629\n",
      "dtype: float64}, ('./output/neuralprophet_202110_DEXCAUS_nlags_36', 'Meat'): {'2015-07-01': r2_score    -4.239\n",
      "mae          2.916\n",
      "mape         0.019\n",
      "mse         11.891\n",
      "rmse         3.448\n",
      "dtype: float64}, ('./output/neuralprophet_202110_DEXCAUS_nlags_36', 'Other food products and non-alcoholic beverages'): {'2015-07-01': r2_score    -8.790\n",
      "mae          3.507\n",
      "mape         0.026\n",
      "mse         14.027\n",
      "rmse         3.745\n",
      "dtype: float64}}\n"
     ]
    },
    {
     "name": "stderr",
     "output_type": "stream",
     "text": [
      "INFO - (NP.utils_torch.lr_range_test) - lr-range-test results: steep: 4.80E-03, min: 2.87E-01\n"
     ]
    },
    {
     "data": {
      "application/vnd.jupyter.widget-view+json": {
       "model_id": "8098e2f64472499494ce108039a26720",
       "version_major": 2,
       "version_minor": 0
      },
      "text/plain": [
       "  0%|          | 0/224 [00:00<?, ?it/s]"
      ]
     },
     "metadata": {},
     "output_type": "display_data"
    },
    {
     "name": "stderr",
     "output_type": "stream",
     "text": [
      "INFO - (NP.utils_torch.lr_range_test) - lr-range-test results: steep: 4.80E-03, min: 3.79E-01\n"
     ]
    },
    {
     "data": {
      "application/vnd.jupyter.widget-view+json": {
       "model_id": "550544031a14441f9a5bd94784559c08",
       "version_major": 2,
       "version_minor": 0
      },
      "text/plain": [
       "  0%|          | 0/224 [00:00<?, ?it/s]"
      ]
     },
     "metadata": {},
     "output_type": "display_data"
    },
    {
     "name": "stderr",
     "output_type": "stream",
     "text": [
      "INFO - (NP.utils_torch.lr_range_test) - lr-range-test results: steep: 5.27E-03, min: 2.61E-01\n",
      "INFO - (NP.forecaster._init_train_loader) - lr-range-test selected learning rate: 4.96E-03\n",
      "Epoch[233/233]: 100%|███████████| 233/233 [00:17<00:00, 13.15it/s, SmoothL1Loss=0.0049, MAE=4.32, RMSE=5.48, RegLoss=0]\n"
     ]
    },
    {
     "name": "stdout",
     "output_type": "stream",
     "text": [
      "this is all yhats  [123.7740478515625, 120.2159194946289, 117.46743774414062, 127.09611511230469, 126.68350982666016, 133.19883728027344, 133.45074462890625, 128.57986450195312, 132.6058349609375, 130.89218139648438, 130.3738555908203, 131.77972412109375, 122.21966552734375, 116.90254211425781, 117.00938415527344, 128.35533142089844, 129.89398193359375, 132.3712921142578]\n",
      "this is all_valid_metrics {('./output/neuralprophet_202110_DEXCAUS_nlags_36', 'Bakery and cereal products (excluding baby food)'): {'2015-07-01': r2_score   -0.113\n",
      "mae         2.201\n",
      "mape        0.014\n",
      "mse         6.433\n",
      "rmse        2.536\n",
      "dtype: float64}, ('./output/neuralprophet_202110_DEXCAUS_nlags_36', 'Dairy products and eggs'): {'2015-07-01': r2_score    -5.406\n",
      "mae          2.903\n",
      "mape         0.021\n",
      "mse         10.783\n",
      "rmse         3.284\n",
      "dtype: float64}, ('./output/neuralprophet_202110_DEXCAUS_nlags_36', 'Fish, seafood and other marine products'): {'2015-07-01': r2_score    -5.330\n",
      "mae          6.380\n",
      "mape         0.049\n",
      "mse         45.519\n",
      "rmse         6.747\n",
      "dtype: float64}, ('./output/neuralprophet_202110_DEXCAUS_nlags_36', 'Food purchased from restaurants'): {'2015-07-01': r2_score    -7.215\n",
      "mae          4.061\n",
      "mape         0.029\n",
      "mse         18.661\n",
      "rmse         4.320\n",
      "dtype: float64}, ('./output/neuralprophet_202110_DEXCAUS_nlags_36', 'Food'): {'2015-07-01': r2_score    -3.337\n",
      "mae          2.768\n",
      "mape         0.019\n",
      "mse         11.040\n",
      "rmse         3.323\n",
      "dtype: float64}, ('./output/neuralprophet_202110_DEXCAUS_nlags_36', 'Fruit, fruit preparations and nuts'): {'2015-07-01': r2_score     -4.301\n",
      "mae          10.478\n",
      "mape          0.076\n",
      "mse         135.232\n",
      "rmse         11.629\n",
      "dtype: float64}, ('./output/neuralprophet_202110_DEXCAUS_nlags_36', 'Meat'): {'2015-07-01': r2_score    -4.239\n",
      "mae          2.916\n",
      "mape         0.019\n",
      "mse         11.891\n",
      "rmse         3.448\n",
      "dtype: float64}, ('./output/neuralprophet_202110_DEXCAUS_nlags_36', 'Other food products and non-alcoholic beverages'): {'2015-07-01': r2_score    -8.790\n",
      "mae          3.507\n",
      "mape         0.026\n",
      "mse         14.027\n",
      "rmse         3.745\n",
      "dtype: float64}, ('./output/neuralprophet_202110_DEXCAUS_nlags_36', 'Vegetables and vegetable preparations'): {'2015-07-01': r2_score    -0.018\n",
      "mae          7.026\n",
      "mape         0.051\n",
      "mse         80.114\n",
      "rmse         8.951\n",
      "dtype: float64}}\n",
      "Wall time: 2min 42s\n"
     ]
    }
   ],
   "source": [
    "%%time\n",
    "## takes 13 min for one pair of var and p\n",
    "all_output_paths = []\n",
    "\n",
    "## we can have these two outside the loop since the key will be based on the output_path and food_category\n",
    "all_valid_metrics = {}\n",
    "all_forecasts = {}\n",
    "data_sources = [\"DEXCAUS\"]\n",
    "for var in data_sources:\n",
    "    for p in grid:\n",
    "        details = str(var) + '_nlags_' + str(p['n_lags'])\n",
    "        output_path = './output/neuralprophet_202110_' + details\n",
    "        if not os.path.exists(output_path):\n",
    "            print(\"making new directory for: \", output_path)\n",
    "            os.mkdir(output_path)\n",
    "        else:\n",
    "            print(\"already done so skipping\")\n",
    "            continue\n",
    "        all_output_paths.append(output_path)\n",
    "        \n",
    "        \n",
    "        for food_category in foodprice_df.columns[:9]:\n",
    "            \n",
    "            annual_valid_metrics = {}\n",
    "            annual_forecasts = {}\n",
    "                        \n",
    "            for date in report_sim_dates:\n",
    "                \n",
    "                train_dates = sim_train_dates[date]\n",
    "                valid_dates = sim_valid_dates[date]\n",
    "                \n",
    "                \n",
    "                train_model =NeuralProphet(n_forecasts = p['n_forecasts'],                          #initialize model\n",
    "                                           n_lags = p['n_lags'])\n",
    "                train_df = get_neuralprophet_df(foodprice_df, food_category, train_dates, str(var)) #select data\n",
    "                train_model = train_model.add_lagged_regressor(names=[str(var)])                   #lagged regressor to model\n",
    "                train_model.fit(train_df, freq='MS')                                              #fit the model\n",
    "                \n",
    "                \n",
    "                future = train_model.make_future_dataframe(train_df, periods=18)                #create the future period\n",
    "                forecast = train_model.predict(future)                                        #produce the future period forecast\n",
    "                \n",
    "                \n",
    "                all_yhats = []\n",
    "                for yhat in [\"yhat\" + str(i) for i in range(1,19)]:\n",
    "                    all_yhats.append((forecast.loc[forecast[yhat].first_valid_index()][yhat]))  #get all yhats from forecast\n",
    "                print(\"this is all yhats \", all_yhats)\n",
    "\n",
    "                \n",
    "                valid_df = get_neuralprophet_df(foodprice_df, food_category, valid_dates, str(var))\n",
    "                \n",
    "                ##special case for 2020 forecast\n",
    "                if len(valid_df) == 14:\n",
    "                    print(\"case of 2020 forecast\")\n",
    "                    all_yhats = all_yhats[:-4]\n",
    "                    \n",
    "                ##special case\n",
    "                if len(valid_df) == 15:\n",
    "                    print(\"IN A NEW SPECIAL CASE\")\n",
    "                    all_yhats = all_yhats[:-3]\n",
    "                \n",
    "                ## compute valid metrics\n",
    "                valid_metrics = {metric_name: metric_fn(y_true=valid_df.y, y_pred=all_yhats) for metric_name, metric_fn in metrics.items()}\n",
    "                valid_metrics_series = pd.Series(valid_metrics)\n",
    "                \n",
    "                annual_valid_metrics[date] = pd.DataFrame(valid_metrics_series).mean(axis=1)\n",
    "                annual_forecasts[date] = pd.Series(all_yhats)\n",
    "                            \n",
    "            \n",
    "                break ### loop for dates \n",
    "                \n",
    "            all_valid_metrics[(output_path, food_category)] = annual_valid_metrics\n",
    "            all_forecasts[(output_path, food_category)] = annual_forecasts\n",
    "                \n",
    "            print(\"this is all_valid_metrics\", all_valid_metrics)\n",
    "            mean_valid_metrics = {}\n",
    "            for (output_path,food_category), valid_scores in all_valid_metrics.items():\n",
    "                mean_valid_metrics[food_category] = pd.DataFrame(valid_scores).mean(axis=1)\n",
    "\n",
    "            mean_valid_metrics_df = pd.DataFrame(mean_valid_metrics).T\n",
    "            mean_valid_metrics_df.to_csv(f\"{output_path}/mean_fc_valid_metrics.csv\")\n",
    "            \n",
    "        \n",
    "            # break ## loop for food category\n",
    "        \n",
    "        # break ## loop for n_lags\n",
    "\n",
    "    # break ##loop for lagged regressors\n",
    "\n"
   ]
  },
  {
   "cell_type": "markdown",
   "id": "0a460b94-3a45-41ec-b4cd-ac2a955f2466",
   "metadata": {},
   "source": [
    "## Save validation forecasts to file (for ensembling)\n"
   ]
  },
  {
   "cell_type": "code",
   "execution_count": 58,
   "id": "bc691936-111f-47de-abe2-cbb98cd1dee3",
   "metadata": {},
   "outputs": [],
   "source": [
    "date_forecasts = {}\n",
    "for date in report_sim_dates[:1]:\n",
    "    valid_dates = sim_valid_dates[date]\n",
    "    food_forecasts = {}\n",
    "    for my_output_path in all_output_paths:\n",
    "        for food_category in food_categories:\n",
    "            food_forecasts[food_category] = all_forecasts[(my_output_path,food_category)][date]\n",
    "        date_forecasts[date] = pd.DataFrame(food_forecasts)\n",
    "        date_forecasts[date] = date_forecasts[date].set_index(pd.DatetimeIndex(valid_dates))\n",
    "        date_forecasts[date].to_csv(f\"{my_output_path}/forecasts_{date}.csv\")"
   ]
  }
 ],
 "metadata": {
  "accelerator": "GPU",
  "colab": {
   "collapsed_sections": [],
   "name": "forecasting-nbeats.ipynb",
   "provenance": [
    {
     "file_id": "13Kkg9losPuncpwDUvLml777Pax3pP2FG",
     "timestamp": 1634321819792
    }
   ]
  },
  "interpreter": {
   "hash": "d7359b97dda1a7a8948a5a4d396848125c7f44b4c1a886dc629ec440a49e68ef"
  },
  "kernelspec": {
   "display_name": "Python 3 (ipykernel)",
   "language": "python",
   "name": "python3"
  },
  "language_info": {
   "codemirror_mode": {
    "name": "ipython",
    "version": 3
   },
   "file_extension": ".py",
   "mimetype": "text/x-python",
   "name": "python",
   "nbconvert_exporter": "python",
   "pygments_lexer": "ipython3",
   "version": "3.9.7"
  }
 },
 "nbformat": 4,
 "nbformat_minor": 5
}
