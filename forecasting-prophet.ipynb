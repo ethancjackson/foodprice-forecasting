{
 "cells": [
  {
   "cell_type": "code",
   "execution_count": 22,
   "id": "be47811d-c45c-4945-94b3-4ce5e981ead4",
   "metadata": {},
   "outputs": [],
   "source": [
    "import prophet\n",
    "from prophet import Prophet\n",
    "\n",
    "import pandas as pd\n",
    "pd.set_option('precision', 2)\n",
    "import matplotlib\n",
    "%matplotlib inline\n",
    "import matplotlib.pyplot as plt\n",
    "import numpy as np\n",
    "import pickle\n",
    "import optuna\n",
    "import data\n",
    "\n",
    "import importlib\n",
    "importlib.reload(data)\n",
    "\n",
    "from data import update_expl_data, update_target_data, food_categories, preprocess_expl"
   ]
  },
  {
   "cell_type": "code",
   "execution_count": 3,
   "id": "a3fd51aa-3046-46a9-af80-7d95c28dd3a3",
   "metadata": {},
   "outputs": [],
   "source": [
    "\"\"\"\n",
    "Set sample rate. In this notebook, all data will be resampled at the chosen frequency.\n",
    "'MS' : Monthly (Month Start)\n",
    "'W' : Weekly\n",
    "'D' : Daily\n",
    "\"\"\"\n",
    "\n",
    "year_period = {'MS': 12, 'W': 52, 'D': 365}\n",
    "frequency = 'MS'\n",
    "one_year = year_period[frequency]"
   ]
  },
  {
   "cell_type": "markdown",
   "id": "1611d765-10f6-42c1-a137-8ff7f3d0fbed",
   "metadata": {},
   "source": [
    "## Load Data Using APIs"
   ]
  },
  {
   "cell_type": "code",
   "execution_count": 4,
   "id": "66b5ceb6-0866-4f9b-8b76-d27f58bba508",
   "metadata": {},
   "outputs": [
    {
     "data": {
      "text/html": [
       "<div>\n",
       "<style scoped>\n",
       "    .dataframe tbody tr th:only-of-type {\n",
       "        vertical-align: middle;\n",
       "    }\n",
       "\n",
       "    .dataframe tbody tr th {\n",
       "        vertical-align: top;\n",
       "    }\n",
       "\n",
       "    .dataframe thead th {\n",
       "        text-align: right;\n",
       "    }\n",
       "</style>\n",
       "<table border=\"1\" class=\"dataframe\">\n",
       "  <thead>\n",
       "    <tr style=\"text-align: right;\">\n",
       "      <th></th>\n",
       "      <th>Bakery and cereal products (excluding baby food)</th>\n",
       "      <th>Dairy products and eggs</th>\n",
       "      <th>Fish, seafood and other marine products</th>\n",
       "      <th>Food purchased from restaurants</th>\n",
       "      <th>Food</th>\n",
       "      <th>Fruit, fruit preparations and nuts</th>\n",
       "      <th>Meat</th>\n",
       "      <th>Other food products and non-alcoholic beverages</th>\n",
       "      <th>Vegetables and vegetable preparations</th>\n",
       "    </tr>\n",
       "    <tr>\n",
       "      <th>REF_DATE</th>\n",
       "      <th></th>\n",
       "      <th></th>\n",
       "      <th></th>\n",
       "      <th></th>\n",
       "      <th></th>\n",
       "      <th></th>\n",
       "      <th></th>\n",
       "      <th></th>\n",
       "      <th></th>\n",
       "    </tr>\n",
       "  </thead>\n",
       "  <tbody>\n",
       "    <tr>\n",
       "      <th>1986-01-01</th>\n",
       "      <td>69.3</td>\n",
       "      <td>70.9</td>\n",
       "      <td>60.6</td>\n",
       "      <td>59.1</td>\n",
       "      <td>67.3</td>\n",
       "      <td>76.0</td>\n",
       "      <td>65.1</td>\n",
       "      <td>77.5</td>\n",
       "      <td>76.0</td>\n",
       "    </tr>\n",
       "    <tr>\n",
       "      <th>1986-02-01</th>\n",
       "      <td>70.3</td>\n",
       "      <td>70.8</td>\n",
       "      <td>61.3</td>\n",
       "      <td>59.1</td>\n",
       "      <td>66.9</td>\n",
       "      <td>77.6</td>\n",
       "      <td>64.2</td>\n",
       "      <td>78.1</td>\n",
       "      <td>68.4</td>\n",
       "    </tr>\n",
       "    <tr>\n",
       "      <th>1986-03-01</th>\n",
       "      <td>70.6</td>\n",
       "      <td>71.1</td>\n",
       "      <td>61.3</td>\n",
       "      <td>59.3</td>\n",
       "      <td>67.0</td>\n",
       "      <td>79.2</td>\n",
       "      <td>64.2</td>\n",
       "      <td>78.6</td>\n",
       "      <td>66.2</td>\n",
       "    </tr>\n",
       "    <tr>\n",
       "      <th>1986-04-01</th>\n",
       "      <td>71.3</td>\n",
       "      <td>71.0</td>\n",
       "      <td>61.4</td>\n",
       "      <td>59.7</td>\n",
       "      <td>67.7</td>\n",
       "      <td>82.2</td>\n",
       "      <td>63.6</td>\n",
       "      <td>79.5</td>\n",
       "      <td>71.1</td>\n",
       "    </tr>\n",
       "    <tr>\n",
       "      <th>1986-05-01</th>\n",
       "      <td>71.2</td>\n",
       "      <td>71.4</td>\n",
       "      <td>61.9</td>\n",
       "      <td>59.9</td>\n",
       "      <td>68.2</td>\n",
       "      <td>83.5</td>\n",
       "      <td>64.0</td>\n",
       "      <td>79.8</td>\n",
       "      <td>75.3</td>\n",
       "    </tr>\n",
       "    <tr>\n",
       "      <th>...</th>\n",
       "      <td>...</td>\n",
       "      <td>...</td>\n",
       "      <td>...</td>\n",
       "      <td>...</td>\n",
       "      <td>...</td>\n",
       "      <td>...</td>\n",
       "      <td>...</td>\n",
       "      <td>...</td>\n",
       "      <td>...</td>\n",
       "    </tr>\n",
       "    <tr>\n",
       "      <th>2021-04-01</th>\n",
       "      <td>156.2</td>\n",
       "      <td>146.1</td>\n",
       "      <td>145.1</td>\n",
       "      <td>163.2</td>\n",
       "      <td>155.4</td>\n",
       "      <td>141.9</td>\n",
       "      <td>173.5</td>\n",
       "      <td>140.5</td>\n",
       "      <td>151.1</td>\n",
       "    </tr>\n",
       "    <tr>\n",
       "      <th>2021-05-01</th>\n",
       "      <td>157.8</td>\n",
       "      <td>146.6</td>\n",
       "      <td>147.6</td>\n",
       "      <td>163.5</td>\n",
       "      <td>156.6</td>\n",
       "      <td>143.9</td>\n",
       "      <td>175.4</td>\n",
       "      <td>141.6</td>\n",
       "      <td>153.8</td>\n",
       "    </tr>\n",
       "    <tr>\n",
       "      <th>2021-06-01</th>\n",
       "      <td>157.7</td>\n",
       "      <td>145.3</td>\n",
       "      <td>146.2</td>\n",
       "      <td>163.9</td>\n",
       "      <td>156.8</td>\n",
       "      <td>144.5</td>\n",
       "      <td>176.7</td>\n",
       "      <td>142.2</td>\n",
       "      <td>153.4</td>\n",
       "    </tr>\n",
       "    <tr>\n",
       "      <th>2021-07-01</th>\n",
       "      <td>157.9</td>\n",
       "      <td>146.4</td>\n",
       "      <td>146.6</td>\n",
       "      <td>165.2</td>\n",
       "      <td>157.6</td>\n",
       "      <td>141.7</td>\n",
       "      <td>180.9</td>\n",
       "      <td>141.9</td>\n",
       "      <td>154.8</td>\n",
       "    </tr>\n",
       "    <tr>\n",
       "      <th>2021-08-01</th>\n",
       "      <td>158.5</td>\n",
       "      <td>148.3</td>\n",
       "      <td>146.8</td>\n",
       "      <td>165.9</td>\n",
       "      <td>158.0</td>\n",
       "      <td>142.5</td>\n",
       "      <td>182.1</td>\n",
       "      <td>141.7</td>\n",
       "      <td>152.2</td>\n",
       "    </tr>\n",
       "  </tbody>\n",
       "</table>\n",
       "<p>428 rows × 9 columns</p>\n",
       "</div>"
      ],
      "text/plain": [
       "            Bakery and cereal products (excluding baby food)  \\\n",
       "REF_DATE                                                       \n",
       "1986-01-01                                              69.3   \n",
       "1986-02-01                                              70.3   \n",
       "1986-03-01                                              70.6   \n",
       "1986-04-01                                              71.3   \n",
       "1986-05-01                                              71.2   \n",
       "...                                                      ...   \n",
       "2021-04-01                                             156.2   \n",
       "2021-05-01                                             157.8   \n",
       "2021-06-01                                             157.7   \n",
       "2021-07-01                                             157.9   \n",
       "2021-08-01                                             158.5   \n",
       "\n",
       "            Dairy products and eggs  Fish, seafood and other marine products  \\\n",
       "REF_DATE                                                                       \n",
       "1986-01-01                     70.9                                     60.6   \n",
       "1986-02-01                     70.8                                     61.3   \n",
       "1986-03-01                     71.1                                     61.3   \n",
       "1986-04-01                     71.0                                     61.4   \n",
       "1986-05-01                     71.4                                     61.9   \n",
       "...                             ...                                      ...   \n",
       "2021-04-01                    146.1                                    145.1   \n",
       "2021-05-01                    146.6                                    147.6   \n",
       "2021-06-01                    145.3                                    146.2   \n",
       "2021-07-01                    146.4                                    146.6   \n",
       "2021-08-01                    148.3                                    146.8   \n",
       "\n",
       "            Food purchased from restaurants   Food  \\\n",
       "REF_DATE                                             \n",
       "1986-01-01                             59.1   67.3   \n",
       "1986-02-01                             59.1   66.9   \n",
       "1986-03-01                             59.3   67.0   \n",
       "1986-04-01                             59.7   67.7   \n",
       "1986-05-01                             59.9   68.2   \n",
       "...                                     ...    ...   \n",
       "2021-04-01                            163.2  155.4   \n",
       "2021-05-01                            163.5  156.6   \n",
       "2021-06-01                            163.9  156.8   \n",
       "2021-07-01                            165.2  157.6   \n",
       "2021-08-01                            165.9  158.0   \n",
       "\n",
       "            Fruit, fruit preparations and nuts   Meat  \\\n",
       "REF_DATE                                                \n",
       "1986-01-01                                76.0   65.1   \n",
       "1986-02-01                                77.6   64.2   \n",
       "1986-03-01                                79.2   64.2   \n",
       "1986-04-01                                82.2   63.6   \n",
       "1986-05-01                                83.5   64.0   \n",
       "...                                        ...    ...   \n",
       "2021-04-01                               141.9  173.5   \n",
       "2021-05-01                               143.9  175.4   \n",
       "2021-06-01                               144.5  176.7   \n",
       "2021-07-01                               141.7  180.9   \n",
       "2021-08-01                               142.5  182.1   \n",
       "\n",
       "            Other food products and non-alcoholic beverages  \\\n",
       "REF_DATE                                                      \n",
       "1986-01-01                                             77.5   \n",
       "1986-02-01                                             78.1   \n",
       "1986-03-01                                             78.6   \n",
       "1986-04-01                                             79.5   \n",
       "1986-05-01                                             79.8   \n",
       "...                                                     ...   \n",
       "2021-04-01                                            140.5   \n",
       "2021-05-01                                            141.6   \n",
       "2021-06-01                                            142.2   \n",
       "2021-07-01                                            141.9   \n",
       "2021-08-01                                            141.7   \n",
       "\n",
       "            Vegetables and vegetable preparations  \n",
       "REF_DATE                                           \n",
       "1986-01-01                                   76.0  \n",
       "1986-02-01                                   68.4  \n",
       "1986-03-01                                   66.2  \n",
       "1986-04-01                                   71.1  \n",
       "1986-05-01                                   75.3  \n",
       "...                                           ...  \n",
       "2021-04-01                                  151.1  \n",
       "2021-05-01                                  153.8  \n",
       "2021-06-01                                  153.4  \n",
       "2021-07-01                                  154.8  \n",
       "2021-08-01                                  152.2  \n",
       "\n",
       "[428 rows x 9 columns]"
      ]
     },
     "execution_count": 4,
     "metadata": {},
     "output_type": "execute_result"
    }
   ],
   "source": [
    "\"\"\"\n",
    "Load food CPI data from January 1986 to the most recently available data.\n",
    "\"\"\"\n",
    "\n",
    "foodprice_df = update_target_data(food_categories, './data_files/food_cpi.csv')\n",
    "foodprice_df = foodprice_df.resample(frequency).mean().interpolate()\n",
    "foodprice_df"
   ]
  },
  {
   "cell_type": "markdown",
   "id": "a736153c-3cbe-4aa9-a5fd-9128f8e64328",
   "metadata": {},
   "source": [
    "# Prophet Model and Experiments\n",
    "\n",
    "Though Prophet supports the incorporation of additional regressors, it does not explicitly support *lagged* regressors. That is, in order to produce forecasts that use additional regressors, the future value of those regressors must be known or assumed.\n",
    "\n",
    "For example, if we add CAD-USD exchange rates as a regressor to the model, then we would need to supply future values of that regressor for as far into the future we are forecasting. Obviously we don't know what those future values will be, but perhaps in another experiment, we could assume those values. \n",
    "\n",
    "Another option would be to hack the model by lagging the regressors ourselves. We would do this by creating an additional regressor with a lag period equal to or grather than the forecast period of 18 months, the logic being that in 18 months, we will know what the value of any regressor was 18 months ago, or more than 18 months ago.\n",
    "\n",
    "I don't like this approach as much (for linear models) because it introduces many more variables into the experiment: for any additional regressor, what are the optimal lags to use? And should we even use those variables in the first place? In any case, these are experiments that we could implement, as long as we are extremely consistent about forecast evaluation on our validation set. For now, let's just focus on the baseline autoregressive forecasts using Prophet, in its intended configuration."
   ]
  },
  {
   "cell_type": "markdown",
   "id": "dcad2a81-5035-4abc-a17e-109849d2ce3a",
   "metadata": {},
   "source": [
    "## Data Splitting\n",
    "\n",
    "Let's use an 80/20 split using the following dates. Training data range from January 1986 to June 2014 and validation data range from July 2014 to August 2021. In a sense, this is an extremely hard problem. We are training a model using historical data and evaluating it based on how accurately it generalizes to the COVID years - one of the most economically turbulent times in modern history.\n",
    "\n",
    "I wonder: should we consider an 80/10/10 split instead? This would result in our test set ranging from early 2018 to August 2021. I suppose that when we are doing model selection, this most recent period is where we are most concerned with accuracy. And recall: evaluation on withheld data is for **model selection**. This experiment (to find models that generalize well from training to valid/test) will be used to inform which models/configurations we will use to produce the official forecast. We want to select the model/features/hyperparams that generalized well \"in the past\". Then we will take that model configuration, re-train it using the entire dataset (including the test set), and use it to produce a \"candidate forecast\". \n",
    "\n",
    "For each such candidate forecast, we should record any uncertainty/confidence metrics it provides, and evaluation metrics for that same model configuration over the test set. i.e. When model configuration XYZ was used to forecast Meat prices over the test set (with that data not being used for training or validation!) - what were its evaluation metrics on the withheld data? We should report this consistently for ALL EXPERIMENTS. "
   ]
  },
  {
   "cell_type": "code",
   "execution_count": 88,
   "id": "392debaa-e8b0-4eb8-ad2a-b5e35dd700ec",
   "metadata": {},
   "outputs": [
    {
     "data": {
      "text/plain": [
       "DatetimeIndex(['1986-01-01', '1986-02-01', '1986-03-01', '1986-04-01',\n",
       "               '1986-05-01', '1986-06-01', '1986-07-01', '1986-08-01',\n",
       "               '1986-09-01', '1986-10-01',\n",
       "               ...\n",
       "               '2013-09-01', '2013-10-01', '2013-11-01', '2013-12-01',\n",
       "               '2014-01-01', '2014-02-01', '2014-03-01', '2014-04-01',\n",
       "               '2014-05-01', '2014-06-01'],\n",
       "              dtype='datetime64[ns]', name='REF_DATE', length=342, freq='MS')"
      ]
     },
     "execution_count": 88,
     "metadata": {},
     "output_type": "execute_result"
    }
   ],
   "source": [
    "train_dates = foodprice_df.index[:int(0.8*len(foodprice_df))]\n",
    "train_dates"
   ]
  },
  {
   "cell_type": "code",
   "execution_count": 89,
   "id": "0a176686-f913-4379-914e-18b1bc43c410",
   "metadata": {},
   "outputs": [
    {
     "data": {
      "text/plain": [
       "DatetimeIndex(['2014-07-01', '2014-08-01', '2014-09-01', '2014-10-01',\n",
       "               '2014-11-01', '2014-12-01', '2015-01-01', '2015-02-01',\n",
       "               '2015-03-01', '2015-04-01', '2015-05-01', '2015-06-01',\n",
       "               '2015-07-01', '2015-08-01', '2015-09-01', '2015-10-01',\n",
       "               '2015-11-01', '2015-12-01', '2016-01-01', '2016-02-01',\n",
       "               '2016-03-01', '2016-04-01', '2016-05-01', '2016-06-01',\n",
       "               '2016-07-01', '2016-08-01', '2016-09-01', '2016-10-01',\n",
       "               '2016-11-01', '2016-12-01', '2017-01-01', '2017-02-01',\n",
       "               '2017-03-01', '2017-04-01', '2017-05-01', '2017-06-01',\n",
       "               '2017-07-01', '2017-08-01', '2017-09-01', '2017-10-01',\n",
       "               '2017-11-01', '2017-12-01', '2018-01-01', '2018-02-01',\n",
       "               '2018-03-01', '2018-04-01', '2018-05-01', '2018-06-01',\n",
       "               '2018-07-01', '2018-08-01', '2018-09-01', '2018-10-01',\n",
       "               '2018-11-01', '2018-12-01', '2019-01-01', '2019-02-01',\n",
       "               '2019-03-01', '2019-04-01', '2019-05-01', '2019-06-01',\n",
       "               '2019-07-01', '2019-08-01', '2019-09-01', '2019-10-01',\n",
       "               '2019-11-01', '2019-12-01', '2020-01-01', '2020-02-01',\n",
       "               '2020-03-01', '2020-04-01', '2020-05-01', '2020-06-01',\n",
       "               '2020-07-01', '2020-08-01', '2020-09-01', '2020-10-01',\n",
       "               '2020-11-01', '2020-12-01', '2021-01-01', '2021-02-01',\n",
       "               '2021-03-01', '2021-04-01', '2021-05-01', '2021-06-01',\n",
       "               '2021-07-01', '2021-08-01'],\n",
       "              dtype='datetime64[ns]', name='REF_DATE', freq='MS')"
      ]
     },
     "execution_count": 89,
     "metadata": {},
     "output_type": "execute_result"
    }
   ],
   "source": [
    "valid_dates = foodprice_df.index[int(0.8*len(foodprice_df)):]\n",
    "valid_dates"
   ]
  },
  {
   "cell_type": "code",
   "execution_count": 90,
   "id": "e44f8b99-4e3e-444e-b76c-5a697310de08",
   "metadata": {},
   "outputs": [],
   "source": [
    "def get_prophet_df(foodprice_df, food_category, dates):\n",
    "    df = foodprice_df[food_category][dates]\n",
    "    df = df.reset_index()\n",
    "    df = df.rename({'REF_DATE':'ds', food_category:'y'}, axis=1)\n",
    "    return df"
   ]
  },
  {
   "cell_type": "code",
   "execution_count": 91,
   "id": "2eee9dbf-e26f-4f66-9c20-93b9c616eb98",
   "metadata": {},
   "outputs": [],
   "source": [
    "train_df = get_prophet_df(foodprice_df, 'Meat', train_dates)"
   ]
  },
  {
   "cell_type": "code",
   "execution_count": 92,
   "id": "251fdd1e-14bb-4d6b-8f09-038b98cd71f1",
   "metadata": {},
   "outputs": [
    {
     "name": "stderr",
     "output_type": "stream",
     "text": [
      "INFO:prophet:Disabling weekly seasonality. Run prophet with weekly_seasonality=True to override this.\n",
      "INFO:prophet:Disabling daily seasonality. Run prophet with daily_seasonality=True to override this.\n"
     ]
    },
    {
     "data": {
      "text/plain": [
       "<prophet.forecaster.Prophet at 0x7fe86a193250>"
      ]
     },
     "execution_count": 92,
     "metadata": {},
     "output_type": "execute_result"
    },
    {
     "name": "stdout",
     "output_type": "stream",
     "text": [
      "Initial log joint probability = -3.06106\n",
      "    Iter      log prob        ||dx||      ||grad||       alpha      alpha0  # evals  Notes \n",
      "      99       1291.15    0.00733201       817.776           1           1      123   \n",
      "    Iter      log prob        ||dx||      ||grad||       alpha      alpha0  # evals  Notes \n",
      "     199       1301.02   0.000203958       78.0338           1           1      236   \n",
      "    Iter      log prob        ||dx||      ||grad||       alpha      alpha0  # evals  Notes \n",
      "     299       1304.73    0.00948437        583.53           1           1      358   \n",
      "    Iter      log prob        ||dx||      ||grad||       alpha      alpha0  # evals  Notes \n",
      "     374       1305.76   3.10667e-05       109.554   2.337e-07       0.001      484  LS failed, Hessian reset \n",
      "     399       1305.86   0.000469632       152.282           1           1      511   \n",
      "    Iter      log prob        ||dx||      ||grad||       alpha      alpha0  # evals  Notes \n",
      "     431       1306.77   8.42458e-05       196.489    4.44e-07       0.001      598  LS failed, Hessian reset \n",
      "     499       1307.87   0.000127982       114.321      0.2197      0.2197      676   \n",
      "    Iter      log prob        ||dx||      ||grad||       alpha      alpha0  # evals  Notes \n",
      "     599       1308.22    1.5893e-05       51.1007      0.5883      0.5883      803   \n",
      "    Iter      log prob        ||dx||      ||grad||       alpha      alpha0  # evals  Notes \n",
      "     697       1309.63   2.80437e-05         103.8   1.536e-07       0.001     1001  LS failed, Hessian reset \n",
      "     699       1309.68    0.00138832       239.859          10           1     1005   \n",
      "    Iter      log prob        ||dx||      ||grad||       alpha      alpha0  # evals  Notes \n",
      "     799       1310.22    0.00244567       71.1658      0.8891      0.8891     1122   \n",
      "    Iter      log prob        ||dx||      ||grad||       alpha      alpha0  # evals  Notes \n",
      "     851       1310.38    2.2966e-05       98.2041   2.118e-07       0.001     1233  LS failed, Hessian reset \n",
      "     899       1310.43   6.01649e-07       65.9161       0.682       0.682     1299   \n",
      "    Iter      log prob        ||dx||      ||grad||       alpha      alpha0  # evals  Notes \n",
      "     919       1310.43   7.62506e-08       58.8171   1.145e-09       0.001     1366  LS failed, Hessian reset \n",
      "Optimization terminated normally: \n",
      "  Convergence detected: relative gradient magnitude is below tolerance\n"
     ]
    }
   ],
   "source": [
    "model = Prophet()\n",
    "model.fit(train_df)"
   ]
  },
  {
   "cell_type": "code",
   "execution_count": 93,
   "id": "1a6350a0-74a8-48a0-9d1b-58073d64eb8d",
   "metadata": {},
   "outputs": [],
   "source": [
    "valid_df = get_prophet_df(foodprice_df, 'Meat', valid_dates)  # Actual values.\n",
    "valid_forecast = model.predict(valid_df[['ds']])"
   ]
  },
  {
   "cell_type": "code",
   "execution_count": 94,
   "id": "a916fd44-e1cc-4236-960c-56f80838729d",
   "metadata": {},
   "outputs": [
    {
     "data": {
      "image/png": "[encoded data removed]",
      "text/plain": [
       "<Figure size 720x432 with 1 Axes>"
      ]
     },
     "metadata": {},
     "output_type": "display_data"
    }
   ],
   "source": [
    "# valid_forecast[['ds', 'yhat', 'yhat_lower', 'yhat_upper']]\n",
    "fig = model.plot(valid_forecast)\n",
    "fig.axes[0].scatter(valid_df.ds, valid_df.y, color='green', s=5)\n",
    "pass"
   ]
  },
  {
   "cell_type": "code",
   "execution_count": 95,
   "id": "e8bee102-e183-43a5-ae1e-36352eb7f54c",
   "metadata": {},
   "outputs": [
    {
     "data": {
      "image/png": "[encoded data removed]",
      "text/plain": [
       "<Figure size 648x432 with 2 Axes>"
      ]
     },
     "metadata": {},
     "output_type": "display_data"
    }
   ],
   "source": [
    "model.plot_components(valid_forecast)\n",
    "pass"
   ]
  },
  {
   "cell_type": "code",
   "execution_count": 96,
   "id": "e4f0dc73-7947-42c8-b3f0-75980dbc254a",
   "metadata": {},
   "outputs": [],
   "source": [
    "from sklearn.metrics import r2_score, mean_absolute_error, mean_squared_error, mean_absolute_percentage_error\n",
    "\n",
    "def rmse(y_true, y_pred):\n",
    "    return np.sqrt(mean_squared_error(y_true, y_pred))\n",
    "\n",
    "metrics = {\n",
    "    'r2_score': r2_score,\n",
    "    'mae': mean_absolute_error,\n",
    "    'mape': mean_absolute_percentage_error,\n",
    "    'mse': mean_squared_error,\n",
    "    'rmse': rmse\n",
    "}"
   ]
  },
  {
   "cell_type": "code",
   "execution_count": 97,
   "id": "f9882461-d1c4-4fbc-9d9f-45aaa182727a",
   "metadata": {},
   "outputs": [
    {
     "data": {
      "text/plain": [
       "{'r2_score': 0.19758598629050506,\n",
       " 'mae': 5.285579984374683,\n",
       " 'mape': 0.03312675737294053,\n",
       " 'mse': 45.265486193372325,\n",
       " 'rmse': 6.727963004756516}"
      ]
     },
     "execution_count": 97,
     "metadata": {},
     "output_type": "execute_result"
    }
   ],
   "source": [
    "{metric_name: metric_fn(y_true=valid_df.y, y_pred=valid_forecast.yhat) for metric_name, metric_fn in metrics.items()}"
   ]
  },
  {
   "cell_type": "code",
   "execution_count": null,
   "id": "cd3eb380-f38d-42da-a0a9-e08516e5ce58",
   "metadata": {},
   "outputs": [],
   "source": []
  }
 ],
 "metadata": {
  "kernelspec": {
   "display_name": "Python 3 (ipykernel)",
   "language": "python",
   "name": "python3"
  },
  "language_info": {
   "codemirror_mode": {
    "name": "ipython",
    "version": 3
   },
   "file_extension": ".py",
   "mimetype": "text/x-python",
   "name": "python",
   "nbconvert_exporter": "python",
   "pygments_lexer": "ipython3",
   "version": "3.9.7"
  }
 },
 "nbformat": 4,
 "nbformat_minor": 5
}
